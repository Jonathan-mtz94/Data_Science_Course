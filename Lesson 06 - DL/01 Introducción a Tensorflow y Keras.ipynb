{
 "cells": [
  {
   "cell_type": "markdown",
   "metadata": {
    "application/vnd.databricks.v1+cell": {
     "cellMetadata": {},
     "inputWidgets": {},
     "nuid": "7b158ee2-561b-43af-829c-7d400b5e102d",
     "showTitle": false,
     "tableResultSettingsMap": {},
     "title": ""
    }
   },
   "source": [
    "\n",
    "# <center>Introducción a TensorFlow y Keras</center>\n",
    "**Julio 2020** <br>\n",
    "**Intructor:** Eduardo Marín Nicolalde\n",
    "\n",
    "## 1. TensorFlow en Databricks\n",
    "\n",
    "De forma predeterminada, **Databricks** no instala la última versión de `TensorFlow`. Esto es particularmente importante ya que, desde la versión `2.0.0`, la librería `keras` se incluye como un módulo dentro de la librería en mención.\n",
    "\n",
    "Para instalar la última versión disponible de `TensorFlow`, es necesario ejecutar el código ``tensorflow==2.2.0`` desde la sección `Libraries` dentro del cluster.\n"
   ]
  },
  {
   "cell_type": "code",
   "execution_count": 0,
   "metadata": {
    "application/vnd.databricks.v1+cell": {
     "cellMetadata": {},
     "inputWidgets": {},
     "nuid": "a5c238f1-019e-4293-9b7a-0aa9657d87c5",
     "showTitle": false,
     "tableResultSettingsMap": {},
     "title": ""
    }
   },
   "outputs": [
    {
     "data": {
      "text/html": [
       "<style scoped>\n",
       "  .ansiout {\n",
       "    display: block;\n",
       "    unicode-bidi: embed;\n",
       "    white-space: pre-wrap;\n",
       "    word-wrap: break-word;\n",
       "    word-break: break-all;\n",
       "    font-family: \"Menlo\", \"Monaco\", \"Consolas\", \"Ubuntu Mono\", \"Source Code Pro\", monospace;\n",
       "    font-size: 13px;\n",
       "    color: #555;\n",
       "    margin-left: 4px;\n",
       "    line-height: 19px;\n",
       "  }\n",
       "</style>"
      ]
     },
     "metadata": {
      "application/vnd.databricks.v1+output": {
       "arguments": {},
       "data": "",
       "errorSummary": "",
       "errorTraceType": null,
       "metadata": {},
       "type": "ipynbError"
      }
     },
     "output_type": "display_data"
    }
   ],
   "source": [
    "import numpy as np \n",
    "import tensorflow as tf\n",
    "from tensorflow import keras\n",
    "from tensorflow.keras.models import Sequential\n",
    "from tensorflow.keras import layers\n",
    "from tensorflow.keras.optimizers import SGD\n",
    "import matplotlib.pyplot as plt\n",
    "\n",
    "print(tf.__version__)\n",
    "print(keras.__version__)"
   ]
  },
  {
   "cell_type": "markdown",
   "metadata": {
    "application/vnd.databricks.v1+cell": {
     "cellMetadata": {},
     "inputWidgets": {},
     "nuid": "3ce01569-3006-4a11-bb3c-2b75b2b60e17",
     "showTitle": false,
     "tableResultSettingsMap": {},
     "title": ""
    }
   },
   "source": [
    "### 1.1 ¿Qué es ``TensorFlow``?\n",
    "Tensorflow es una librería de código abierto, diseñada para trabajar con Machine Learning, en particular con Deep Learning. Permite definir redes neuronales complejas y profundas y realizar entrenamiento en ellas. \n",
    "\n",
    "### 1.2 ¿Qué es ``Keras``?\n",
    "Keras es una capa de abstracción que sirve para ocultar la complejidad de trabajar directamente con librerías de bajo nivel. Para ello emplea una interfaz común entre múltiples librería llamadas backend. \n",
    "\n",
    "### 1.3 ``TensorFlow``: Jerarquía de herramientas\n",
    "Desde el nivel más alto:\n",
    "\n",
    "1. **Alto nivel:** API orientadas a objetos (`Estimators`,`tf.keras`) \n",
    "2. **Librerías reusables para modelos:** Librerías como (`tf.layers`,`tf.losses`,`tf.metrics`,...)\n",
    "3. **Bajo nivel:** API de control extensivo\n",
    "4. **Plataformas:** Puede correr en `CPU`, `GPU` o `TPU`\n",
    "\n"
   ]
  },
  {
   "cell_type": "markdown",
   "metadata": {
    "application/vnd.databricks.v1+cell": {
     "cellMetadata": {},
     "inputWidgets": {},
     "nuid": "d92c3eee-1576-4906-8088-74b4796b093c",
     "showTitle": false,
     "tableResultSettingsMap": {},
     "title": ""
    }
   },
   "source": [
    "## 2. Implementación de redes neuronales usando Keras\n",
    "* Utilizaremos el modelo  `Sequential` de Keras, al que iremos añadiendo capas. \n",
    "* Una vez que tenemos un modelo, añadimos capas ```keras.layers```, en el caso de MLPs se llama `Dense`. "
   ]
  },
  {
   "cell_type": "markdown",
   "metadata": {
    "application/vnd.databricks.v1+cell": {
     "cellMetadata": {},
     "inputWidgets": {},
     "nuid": "1f885ce3-8eb2-44a2-9033-404496ab010c",
     "showTitle": false,
     "tableResultSettingsMap": {},
     "title": ""
    }
   },
   "source": [
    "La receta  para crear modelos en Keras es la siguiente:\n",
    "\n",
    "###### 1.Crear Modelo `Sequencial`: Esto crea una instancia ```model```, sobre la cual se pueden ejecutar más operaciones. En particular añadir capas adicionales, compilar el modelo y entrenar el modelo.\n",
    "\n",
    "```python\n",
    "model = Sequential()\n",
    "\n",
    "```\n",
    "\n",
    "###### 2. Añadir capas\n",
    "\n",
    "```python\n",
    "model.add( ... )\n",
    "```\n",
    "\n",
    "**Ejemplo:** añadir 2 capas de tipo `Dense` (MLP), una a continuación de la otra. La primera capa añadida debe indicar el número de inputs que se procesará en la red neuronal.\n",
    "\n",
    "\n",
    "```python\n",
    "input_dimensionality = 10\n",
    "model.add(layers.Dense(units = 3, input_dim=input_dimensionality, activation='relu'))\n",
    "model.add(layers.Dense(units = 4, activation='relu'))\n",
    "```\n",
    "Las líneas anteriores producen un modelo de dos capas ocultas densamente conectadas con 3 y 4 unidades, respectivamente. \n",
    "\n",
    "###### 3. La última capa corresponde a la salida. Por ejemplo para clasificación añadimos una capa `Dense` pero con una unidad/neurona.\n",
    "\n",
    "```python\n",
    "model.add(layers.Dense(units = 1, activation='sigmoid'))\n",
    "```\n",
    "\n",
    "###### 4. Compilación\n",
    "\n",
    "```python\n",
    "model.compile(optimizer='rmsprop', loss='binary_crossentropy', metrics=['accuracy'])\n",
    "```\n",
    "\n",
    "Una vez armada la red, procedemos a compilarla. En este paso especificamos qué optimizador vamos a utilizar, qué tipo de función de pérdida se va a optimizar y qué métricas utilizaremos. Por ejemplo en el código anterior usamos un optimizador RMSProp, con una pérdida llamada ```binary_crossentropy```.\n",
    "\n",
    "\n",
    "###### 5. Entrenamiento\n",
    "\n",
    "``` python\n",
    "history = model.fit(X, y, verbose=2, epochs=10, validation_data=[X_val, y_val])\n",
    "```\n",
    "\n",
    "Finalmente ejecutaremos el entrenamiento. Aquí debemos especificar los datos (X, y), número de épocas, datos de validación y otros parámetros."
   ]
  },
  {
   "cell_type": "markdown",
   "metadata": {
    "application/vnd.databricks.v1+cell": {
     "cellMetadata": {},
     "inputWidgets": {},
     "nuid": "d5693a5b-de7d-4897-90f0-fb752e67860d",
     "showTitle": false,
     "tableResultSettingsMap": {},
     "title": ""
    }
   },
   "source": [
    "### 2.1 Ejemplo de implementación\n",
    "Sin preocuparnos demasiado en validación, testing y generalización, vamos a ver como usar Keras para aprender la función booleana **XOR** de dos variables. Lo importante es ver como se utiliza el framework. En los siguientes laboratorios se verán ejemplos más detallados."
   ]
  },
  {
   "cell_type": "code",
   "execution_count": 0,
   "metadata": {
    "application/vnd.databricks.v1+cell": {
     "cellMetadata": {},
     "inputWidgets": {},
     "nuid": "231df9f6-2bbb-4d90-9b7c-15c2414cf65a",
     "showTitle": false,
     "tableResultSettingsMap": {},
     "title": ""
    }
   },
   "outputs": [
    {
     "data": {
      "text/html": [
       "<style scoped>\n",
       "  .ansiout {\n",
       "    display: block;\n",
       "    unicode-bidi: embed;\n",
       "    white-space: pre-wrap;\n",
       "    word-wrap: break-word;\n",
       "    word-break: break-all;\n",
       "    font-family: \"Menlo\", \"Monaco\", \"Consolas\", \"Ubuntu Mono\", \"Source Code Pro\", monospace;\n",
       "    font-size: 13px;\n",
       "    color: #555;\n",
       "    margin-left: 4px;\n",
       "    line-height: 19px;\n",
       "  }\n",
       "</style>"
      ]
     },
     "metadata": {
      "application/vnd.databricks.v1+output": {
       "arguments": {},
       "data": "",
       "errorSummary": "",
       "errorTraceType": null,
       "metadata": {},
       "type": "ipynbError"
      }
     },
     "output_type": "display_data"
    }
   ],
   "source": [
    "# Data: XOR con MLP sencillo\n",
    "# X_tr y y_tr definen los casos de una funcion XOR de dos variables booleanas\n",
    "X_tr = np.array([[0., 0.], [1., 0.], [0., 1.], [1., 1.]])\n",
    "y_tr = np.array([[0.], [1.], [1.], [0.]])"
   ]
  },
  {
   "cell_type": "code",
   "execution_count": 0,
   "metadata": {
    "application/vnd.databricks.v1+cell": {
     "cellMetadata": {},
     "inputWidgets": {},
     "nuid": "d2568829-ac3d-443f-af24-b9a40676f77a",
     "showTitle": false,
     "tableResultSettingsMap": {},
     "title": ""
    }
   },
   "outputs": [
    {
     "data": {
      "text/html": [
       "<style scoped>\n",
       "  .ansiout {\n",
       "    display: block;\n",
       "    unicode-bidi: embed;\n",
       "    white-space: pre-wrap;\n",
       "    word-wrap: break-word;\n",
       "    word-break: break-all;\n",
       "    font-family: \"Menlo\", \"Monaco\", \"Consolas\", \"Ubuntu Mono\", \"Source Code Pro\", monospace;\n",
       "    font-size: 13px;\n",
       "    color: #555;\n",
       "    margin-left: 4px;\n",
       "    line-height: 19px;\n",
       "  }\n",
       "</style>"
      ]
     },
     "metadata": {
      "application/vnd.databricks.v1+output": {
       "arguments": {},
       "data": "",
       "errorSummary": "",
       "errorTraceType": null,
       "metadata": {},
       "type": "ipynbError"
      }
     },
     "output_type": "display_data"
    }
   ],
   "source": [
    "X_tr\n",
    "y_tr"
   ]
  },
  {
   "cell_type": "markdown",
   "metadata": {
    "application/vnd.databricks.v1+cell": {
     "cellMetadata": {},
     "inputWidgets": {},
     "nuid": "a4f5546c-a7ed-4707-a2e7-8132f0a23ac4",
     "showTitle": false,
     "tableResultSettingsMap": {},
     "title": ""
    }
   },
   "source": [
    "Crea modelo **Sequential**. \n",
    "\n",
    "La variable model es una instancia sobre la que se invocan las operaciones sucesivas"
   ]
  },
  {
   "cell_type": "code",
   "execution_count": 0,
   "metadata": {
    "application/vnd.databricks.v1+cell": {
     "cellMetadata": {},
     "inputWidgets": {},
     "nuid": "73e71bb2-7895-4bb8-ad35-2ab5d62a7d6b",
     "showTitle": false,
     "tableResultSettingsMap": {},
     "title": ""
    }
   },
   "outputs": [
    {
     "data": {
      "text/html": [
       "<style scoped>\n",
       "  .ansiout {\n",
       "    display: block;\n",
       "    unicode-bidi: embed;\n",
       "    white-space: pre-wrap;\n",
       "    word-wrap: break-word;\n",
       "    word-break: break-all;\n",
       "    font-family: \"Menlo\", \"Monaco\", \"Consolas\", \"Ubuntu Mono\", \"Source Code Pro\", monospace;\n",
       "    font-size: 13px;\n",
       "    color: #555;\n",
       "    margin-left: 4px;\n",
       "    line-height: 19px;\n",
       "  }\n",
       "</style>"
      ]
     },
     "metadata": {
      "application/vnd.databricks.v1+output": {
       "arguments": {},
       "data": "",
       "errorSummary": "",
       "errorTraceType": null,
       "metadata": {},
       "type": "ipynbError"
      }
     },
     "output_type": "display_data"
    }
   ],
   "source": [
    "model = Sequential()"
   ]
  },
  {
   "cell_type": "markdown",
   "metadata": {
    "application/vnd.databricks.v1+cell": {
     "cellMetadata": {},
     "inputWidgets": {},
     "nuid": "baaac3a2-8891-4e5a-b4f2-4291028e6ac5",
     "showTitle": false,
     "tableResultSettingsMap": {},
     "title": ""
    }
   },
   "source": [
    "Con `keras.layers.Dense`, se añade una capa oculta de 4 unidades a continuación de las entradas. La primera capa oculta debe especificar el número de inputs `input_dim`.\n",
    "\n",
    "**```keras.layers.Dense```**\n",
    "Crea una capa totalmente/densamente conectada. Opciones más importantes:\n",
    "\n",
    "```python\n",
    "keras.layers.Dense(units, input_shape=shape, activation=activation, kernel_regularizer=regularizer)\n",
    "\n",
    "```\n",
    "* ```units``` **integer**. Número de unidades de esta capa\n",
    "* ```input_shape``` **tuple** o **integer**. Entero o tupla con la dimensionalidad de la entrada. Por ejemplo: si tenemos 5 variables de entrada podemos poner `input_shape=5` o `input_shape=(5,)`\n",
    "* ```activation``` **string** o instancia de tipo **keras.layers.Activation**. Designa el tipo de función de activación. Tipos comunes son: ```'sigmoid', 'tanh', 'relu', 'softmax'```\n",
    "* ```kernel_regularizer``` instancia de tipo **keras.regularizers.Regularizer**. Tipos de regularizadores comunes son l1 y l2. Véase sección: ```Objeto keras.regularizers.Regularizer```\n",
    "\n",
    "---\n",
    "**Regularizadores ```keras.regularizers```**\n",
    "Crea instancia de un regularizador, que se añade como opción en algunos tipos de capas por ejemplo en ```Dense``` o ```Conv2D```. Ejemplos más importantes:\n",
    "* ```keras.regularizers.l1(regularization_constant)``` Regularizador l1.\n",
    "    - ```regularization_constant``` **float**. Parámetro que indica la cantidad de regularizacion. Ejemplo: 0.01\n",
    "* ```keras.regularizers.l2(regularization_constant)``` Regularizador l2.\n",
    "    - ```regularization_constant``` **float**. Parámetro que indica la cantidad de regularizacion. Ejemplo: 0.01\n",
    "* ```keras.regularizers.l1_l2(l1=l1_parameter, l2=l2_parameter)``` Aplica regularización l1 y l2 al mismo tiempo.\n",
    "    - ```l1_parameter``` **float**. Parámetro que indica la cantidad de regularizacion l1. Ejemplo: 0.01\n",
    "    - ```l2_parameter``` **float**. Parámetro que indica la cantidad de regularizacion l2. Ejemplo: 0.01\n",
    "    \n",
    "---"
   ]
  },
  {
   "cell_type": "code",
   "execution_count": 0,
   "metadata": {
    "application/vnd.databricks.v1+cell": {
     "cellMetadata": {},
     "inputWidgets": {},
     "nuid": "b9c8da20-44d9-4a02-8650-c2d8d25e52bb",
     "showTitle": false,
     "tableResultSettingsMap": {},
     "title": ""
    }
   },
   "outputs": [
    {
     "data": {
      "text/html": [
       "<style scoped>\n",
       "  .ansiout {\n",
       "    display: block;\n",
       "    unicode-bidi: embed;\n",
       "    white-space: pre-wrap;\n",
       "    word-wrap: break-word;\n",
       "    word-break: break-all;\n",
       "    font-family: \"Menlo\", \"Monaco\", \"Consolas\", \"Ubuntu Mono\", \"Source Code Pro\", monospace;\n",
       "    font-size: 13px;\n",
       "    color: #555;\n",
       "    margin-left: 4px;\n",
       "    line-height: 19px;\n",
       "  }\n",
       "</style>"
      ]
     },
     "metadata": {
      "application/vnd.databricks.v1+output": {
       "arguments": {},
       "data": "",
       "errorSummary": "",
       "errorTraceType": null,
       "metadata": {},
       "type": "ipynbError"
      }
     },
     "output_type": "display_data"
    }
   ],
   "source": [
    "model.add(layers.Dense(4, input_dim=X_tr.shape[1], activation='relu'))"
   ]
  },
  {
   "cell_type": "markdown",
   "metadata": {
    "application/vnd.databricks.v1+cell": {
     "cellMetadata": {},
     "inputWidgets": {},
     "nuid": "ac7ef6bb-bae1-4d9c-8525-70245390d489",
     "showTitle": false,
     "tableResultSettingsMap": {},
     "title": ""
    }
   },
   "source": [
    "Añade una capa de **salida** de una unidad y de tipo sigmoide"
   ]
  },
  {
   "cell_type": "code",
   "execution_count": 0,
   "metadata": {
    "application/vnd.databricks.v1+cell": {
     "cellMetadata": {},
     "inputWidgets": {},
     "nuid": "e0556642-4f91-4fda-8500-a8ffeb5a2ba8",
     "showTitle": false,
     "tableResultSettingsMap": {},
     "title": ""
    }
   },
   "outputs": [
    {
     "data": {
      "text/html": [
       "<style scoped>\n",
       "  .ansiout {\n",
       "    display: block;\n",
       "    unicode-bidi: embed;\n",
       "    white-space: pre-wrap;\n",
       "    word-wrap: break-word;\n",
       "    word-break: break-all;\n",
       "    font-family: \"Menlo\", \"Monaco\", \"Consolas\", \"Ubuntu Mono\", \"Source Code Pro\", monospace;\n",
       "    font-size: 13px;\n",
       "    color: #555;\n",
       "    margin-left: 4px;\n",
       "    line-height: 19px;\n",
       "  }\n",
       "</style>"
      ]
     },
     "metadata": {
      "application/vnd.databricks.v1+output": {
       "arguments": {},
       "data": "",
       "errorSummary": "",
       "errorTraceType": null,
       "metadata": {},
       "type": "ipynbError"
      }
     },
     "output_type": "display_data"
    }
   ],
   "source": [
    "model.add(layers.Dense(units = 1, activation='sigmoid'))"
   ]
  },
  {
   "cell_type": "markdown",
   "metadata": {
    "application/vnd.databricks.v1+cell": {
     "cellMetadata": {},
     "inputWidgets": {},
     "nuid": "0d2bdbb2-0cea-42bd-ab28-27ec51021d67",
     "showTitle": false,
     "tableResultSettingsMap": {},
     "title": ""
    }
   },
   "source": [
    "**Compilamos el modelo**, con pérdida `binary_crossentropy`, y especificamos un optimizador `SGD`\n",
    "\n",
    "**Método ```model.compile(loss=loss, optimizer=optimizer, metrics=metrics)```**\n",
    "\n",
    "Método de una instancia tipo ```Sequential```. Suponiendo que se creó el modelo ```model```, compilará el modelo y fijará opciones para la optimización. Las opciones más importantes son:\n",
    "\n",
    "* ```loss``` **string** o instancia tipo **keras.losses**. Especifica el tipo de función de pérdida que se utilizará para optimizar el modelo. Funciones comunes son: ```loss='mse'``` para Mean Square Error (Regresión), ```loss='binary_crossentropy'``` para clasificación binaria, ```loss='categorical_crossentropy'``` para clasificación multi-clase.\n",
    "* ```optimizer``` **string** o instancia tipo **keras.optimizers**. Especifica el algoritmo de optimización que se ejecutará. Algoritmos comunes son: ```optimizer='sgd'``` para gradiente descendiente estocástica (SGD), ```optimizer='RMSprop'``` para algoritmo RMSProp, ```optimizer='adam'``` para algoritmo Adam.\n",
    "* ```metrics``` **list of strings**. Especifica que métricas va a ir evaluando el proceso de optimización. Usualmente se utilizan: ```metrics=['accuracy']``` para clasificación y ```metrics=['mse']``` para regresión."
   ]
  },
  {
   "cell_type": "code",
   "execution_count": 0,
   "metadata": {
    "application/vnd.databricks.v1+cell": {
     "cellMetadata": {},
     "inputWidgets": {},
     "nuid": "1a3fbcb7-fb56-47d0-a132-95efe638be66",
     "showTitle": false,
     "tableResultSettingsMap": {},
     "title": ""
    }
   },
   "outputs": [
    {
     "data": {
      "text/html": [
       "<style scoped>\n",
       "  .ansiout {\n",
       "    display: block;\n",
       "    unicode-bidi: embed;\n",
       "    white-space: pre-wrap;\n",
       "    word-wrap: break-word;\n",
       "    word-break: break-all;\n",
       "    font-family: \"Menlo\", \"Monaco\", \"Consolas\", \"Ubuntu Mono\", \"Source Code Pro\", monospace;\n",
       "    font-size: 13px;\n",
       "    color: #555;\n",
       "    margin-left: 4px;\n",
       "    line-height: 19px;\n",
       "  }\n",
       "</style>"
      ]
     },
     "metadata": {
      "application/vnd.databricks.v1+output": {
       "arguments": {},
       "data": "",
       "errorSummary": "",
       "errorTraceType": null,
       "metadata": {},
       "type": "ipynbError"
      }
     },
     "output_type": "display_data"
    }
   ],
   "source": [
    "model.compile(loss='binary_crossentropy', optimizer=SGD(lr=0.1))"
   ]
  },
  {
   "cell_type": "markdown",
   "metadata": {
    "application/vnd.databricks.v1+cell": {
     "cellMetadata": {},
     "inputWidgets": {},
     "nuid": "a420d91a-1253-4656-b809-88205b08592c",
     "showTitle": false,
     "tableResultSettingsMap": {},
     "title": ""
    }
   },
   "source": [
    "Obtenemos información sumaria del modelo"
   ]
  },
  {
   "cell_type": "code",
   "execution_count": 0,
   "metadata": {
    "application/vnd.databricks.v1+cell": {
     "cellMetadata": {},
     "inputWidgets": {},
     "nuid": "60dd85d6-d2b2-4fb6-958f-0ed0e7bcb1a5",
     "showTitle": false,
     "tableResultSettingsMap": {},
     "title": ""
    }
   },
   "outputs": [
    {
     "data": {
      "text/html": [
       "<style scoped>\n",
       "  .ansiout {\n",
       "    display: block;\n",
       "    unicode-bidi: embed;\n",
       "    white-space: pre-wrap;\n",
       "    word-wrap: break-word;\n",
       "    word-break: break-all;\n",
       "    font-family: \"Menlo\", \"Monaco\", \"Consolas\", \"Ubuntu Mono\", \"Source Code Pro\", monospace;\n",
       "    font-size: 13px;\n",
       "    color: #555;\n",
       "    margin-left: 4px;\n",
       "    line-height: 19px;\n",
       "  }\n",
       "</style>"
      ]
     },
     "metadata": {
      "application/vnd.databricks.v1+output": {
       "arguments": {},
       "data": "",
       "errorSummary": "",
       "errorTraceType": null,
       "metadata": {},
       "type": "ipynbError"
      }
     },
     "output_type": "display_data"
    }
   ],
   "source": [
    "model.summary()"
   ]
  },
  {
   "cell_type": "markdown",
   "metadata": {
    "application/vnd.databricks.v1+cell": {
     "cellMetadata": {},
     "inputWidgets": {},
     "nuid": "1df0217b-0308-4aba-863e-5361bf2b9cc0",
     "showTitle": false,
     "tableResultSettingsMap": {},
     "title": ""
    }
   },
   "source": [
    "6. Procedemos a entrenar durante 1000 épocas\n",
    "\n",
    "**Método ```model.fit(X, y, verbose=verbose, epochs=epochs, validation_data=(X_val, y_val), callbacks=[callbacks])```**\n",
    "Método de una instancia tipo ```Sequential```. Suponiendo que se creó el modelo ```model``` y se han compilado las opciones de optimización, se procederá a entrenar. Las opciones más importantes son:\n",
    "\n",
    "* ```X``` **numpy array (filas, columnas)**. Datos para entrenar. Consiste en un arreglo numpy de forma (filas, columnas), donde filas son el número de muestras y columnas son las variables de entrada.\n",
    "* ```y``` **numpy array (filas, columnas)**. Normalmente para clasificación binaria es un arreglo de forma (filas,), pero si hay más variables de salida, las segunda dimensión será el número de variables.\n",
    "* ```epochs``` **int**. Número de épocas que se va a entrenar el modelo.\n",
    "* ```batch_size``` **int or None**. Número de samples por cada actualización de la gradiente.\n",
    "* ```verbose``` **int**. Nivel de verbosidad. ```0```: modo silencioso. ```1```: sólo muestra la barra de progreso. ```2```: una línea de información por cada época.\n",
    "* ```validation_data``` **tuple**. Datos para la validación. Tupla de pares ```X_val```, ```y_val```, ambos arreglos numpy con el mismo número de columnas de ```X``` y ```y```, aunque no necesariamente el mismo número de filas.\n",
    "* ```callbacks``` **list**. Lista de instancias ```keras.callbacks```. Esto permite ejecutar funciones (callbacks) en cada iteración del proceso (cada época). Un callback muy usado es el EarlyStopping (```keras.callbacks.EarlyStopping```), que detiene el proceso de entrenamiento cuando ya no existe mejora en el desempeño medido en la data de validación. Véase el apartado ```keras.callbacks.EarlyStopping```.\n",
    "\n",
    "---"
   ]
  },
  {
   "cell_type": "code",
   "execution_count": 0,
   "metadata": {
    "application/vnd.databricks.v1+cell": {
     "cellMetadata": {},
     "inputWidgets": {},
     "nuid": "f33a1058-53d4-40cb-9181-eef70dc6eba1",
     "showTitle": false,
     "tableResultSettingsMap": {},
     "title": ""
    }
   },
   "outputs": [
    {
     "data": {
      "text/html": [
       "<style scoped>\n",
       "  .ansiout {\n",
       "    display: block;\n",
       "    unicode-bidi: embed;\n",
       "    white-space: pre-wrap;\n",
       "    word-wrap: break-word;\n",
       "    word-break: break-all;\n",
       "    font-family: \"Menlo\", \"Monaco\", \"Consolas\", \"Ubuntu Mono\", \"Source Code Pro\", monospace;\n",
       "    font-size: 13px;\n",
       "    color: #555;\n",
       "    margin-left: 4px;\n",
       "    line-height: 19px;\n",
       "  }\n",
       "</style>"
      ]
     },
     "metadata": {
      "application/vnd.databricks.v1+output": {
       "arguments": {},
       "data": "",
       "errorSummary": "",
       "errorTraceType": null,
       "metadata": {},
       "type": "ipynbError"
      }
     },
     "output_type": "display_data"
    }
   ],
   "source": [
    "model.fit(X_tr, y_tr, verbose=2, epochs=1000)"
   ]
  },
  {
   "cell_type": "markdown",
   "metadata": {
    "application/vnd.databricks.v1+cell": {
     "cellMetadata": {},
     "inputWidgets": {},
     "nuid": "d6bd1c44-1c71-4968-abbf-bbeba12d8836",
     "showTitle": false,
     "tableResultSettingsMap": {},
     "title": ""
    }
   },
   "source": [
    "Hacemos la **predicción** sobre las variables de entrada para comparar con la salida de una función XOR"
   ]
  },
  {
   "cell_type": "code",
   "execution_count": 0,
   "metadata": {
    "application/vnd.databricks.v1+cell": {
     "cellMetadata": {},
     "inputWidgets": {},
     "nuid": "6f638467-85d3-4fd9-b4b7-bc891615af88",
     "showTitle": false,
     "tableResultSettingsMap": {},
     "title": ""
    }
   },
   "outputs": [
    {
     "data": {
      "text/html": [
       "<style scoped>\n",
       "  .ansiout {\n",
       "    display: block;\n",
       "    unicode-bidi: embed;\n",
       "    white-space: pre-wrap;\n",
       "    word-wrap: break-word;\n",
       "    word-break: break-all;\n",
       "    font-family: \"Menlo\", \"Monaco\", \"Consolas\", \"Ubuntu Mono\", \"Source Code Pro\", monospace;\n",
       "    font-size: 13px;\n",
       "    color: #555;\n",
       "    margin-left: 4px;\n",
       "    line-height: 19px;\n",
       "  }\n",
       "</style>"
      ]
     },
     "metadata": {
      "application/vnd.databricks.v1+output": {
       "arguments": {},
       "data": "",
       "errorSummary": "",
       "errorTraceType": null,
       "metadata": {},
       "type": "ipynbError"
      }
     },
     "output_type": "display_data"
    }
   ],
   "source": [
    "model.predict(X_tr)"
   ]
  },
  {
   "cell_type": "markdown",
   "metadata": {
    "application/vnd.databricks.v1+cell": {
     "cellMetadata": {},
     "inputWidgets": {},
     "nuid": "c2bd23aa-3514-4e68-8963-32cb37adb3c3",
     "showTitle": false,
     "tableResultSettingsMap": {},
     "title": ""
    }
   },
   "source": [
    "Como vemos la salidas son valores entre 0  y 1 (capa de salida sigmoide), que pueden interpretarse como probabilidades. \n",
    "\n",
    "De igual manera, los valores pueden convertirse en una función **XOR**. Si por ejemplo usamos un threshold de $$0.5$$, obtenemos valores booleanes de $$0$$ o $$1$$."
   ]
  },
  {
   "cell_type": "markdown",
   "metadata": {
    "application/vnd.databricks.v1+cell": {
     "cellMetadata": {},
     "inputWidgets": {},
     "nuid": "fce40987-0b3d-43ec-999c-e7257ef0e6af",
     "showTitle": false,
     "tableResultSettingsMap": {},
     "title": ""
    }
   },
   "source": [
    "---\n",
    "8. Otras opciones comunes\n",
    "\n",
    "\n",
    "**```keras.classbacks.EarlyStopping(monitor=monitor, min_delta=min_delta, patience=patience, verbose=verbose, mode=mode, restore_best_weights=restore_best_weights)```**\n",
    "Callback utilizado para parar proceso de optimización. Las opciones más importantes son:\n",
    "* ```monitor``` **string**. Se refiere a la cantidad que se va a monitorear. Usualmente se monitorea la pérdida sobre los datos de validación. Un valor común es ```monitor='val_loss'```.\n",
    "* ```min_delta``` **float**. Mínimo cambio en la cantidad monitoreada, para que cuantifique como mejoría. Un valor común es ```min_delta=1e-3```\n",
    "* ```patience``` **int**. Número de épocas sin mejoría después de lo cual la optimización se detiene. Ejemplo: ```patience=5```.\n",
    "* ```verbose``` **int**. Modo de verbosidad.\n",
    "* ```mode``` **string**. Usualmente se usa ```mode='auto'```.\n",
    "* ```restore_best_weights``` **boolean**. Indica si se deben restaurar los pesos que derivaron en el mejor valor de la cantidad monitoreada. Usualmente es ```restore_best_weights=True```.\n",
    "\n",
    "---\n",
    "**```keras.callbacks.TensorBoard(log_dir=log_dir)```**\n",
    "Callback utilizado para monitorear usando la herramienta Tensorboard que viene instalada con Tensorflow. La opción más importante es el directorio donde se escriben los logs:\n",
    "* ```log_dir``` **string**. Directorio donde se escriben los logs"
   ]
  },
  {
   "cell_type": "markdown",
   "metadata": {
    "application/vnd.databricks.v1+cell": {
     "cellMetadata": {},
     "inputWidgets": {},
     "nuid": "1c88c651-85d2-4364-8bc9-742ba1c482b7",
     "showTitle": false,
     "tableResultSettingsMap": {},
     "title": ""
    }
   },
   "source": [
    "## 5. Fin\n"
   ]
  }
 ],
 "metadata": {
  "application/vnd.databricks.v1+notebook": {
   "computePreferences": null,
   "dashboards": [],
   "environmentMetadata": null,
   "inputWidgetPreferences": null,
   "language": "python",
   "notebookMetadata": {
    "pythonIndentUnit": 2
   },
   "notebookName": "01 Introducción a Tensorflow y Keras",
   "widgets": {}
  },
  "kernelspec": {
   "display_name": "Python 3",
   "language": "python",
   "name": "python3"
  },
  "language_info": {
   "name": "python"
  }
 },
 "nbformat": 4,
 "nbformat_minor": 0
}
