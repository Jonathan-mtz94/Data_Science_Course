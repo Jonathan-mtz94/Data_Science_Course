{
 "cells": [
  {
   "cell_type": "markdown",
   "metadata": {
    "application/vnd.databricks.v1+cell": {
     "cellMetadata": {},
     "inputWidgets": {},
     "isMarkdownSandbox": true,
     "nuid": "5b690996-e2f5-4f60-8fcf-ec5885f2f988",
     "showTitle": false,
     "tableResultSettingsMap": {},
     "title": ""
    }
   },
   "source": [
    "\n",
    "\n",
    "# <center>  Regresión Logística </center>\n",
    "\n",
    "## Descripción\n",
    "Esta sección analiza la Regresión Logística para solventar tareas de clasificación\n",
    "\n",
    "## Contenido\n",
    "* Importación de librerias y módulos\n",
    "* Carga dataset de trabajo\n",
    "* Análisis exploratorio de datos\n",
    "* Desarrollo del modelo\n",
    "\n",
    "## Requisitos previos\n",
    "\n",
    "* Haber completado los cursos:\n",
    "  - Introducción a Python\n",
    "  - Estadística para Ciencia de Datos\n",
    "  - Introducción a Machine Learning\n"
   ]
  },
  {
   "cell_type": "markdown",
   "metadata": {
    "application/vnd.databricks.v1+cell": {
     "cellMetadata": {},
     "inputWidgets": {},
     "nuid": "667cf1df-8797-4905-9937-1d6d00cb4c97",
     "showTitle": false,
     "tableResultSettingsMap": {},
     "title": ""
    }
   },
   "source": [
    "## Importar y verificar versión actual de librerías"
   ]
  },
  {
   "cell_type": "code",
   "execution_count": 0,
   "metadata": {
    "application/vnd.databricks.v1+cell": {
     "cellMetadata": {},
     "inputWidgets": {},
     "nuid": "2c6ab3d5-ca53-479c-ae7f-8ddd18fd370e",
     "showTitle": false,
     "tableResultSettingsMap": {},
     "title": ""
    }
   },
   "outputs": [
    {
     "data": {
      "text/html": [
       "<style scoped>\n",
       "  .ansiout {\n",
       "    display: block;\n",
       "    unicode-bidi: embed;\n",
       "    white-space: pre-wrap;\n",
       "    word-wrap: break-word;\n",
       "    word-break: break-all;\n",
       "    font-family: \"Menlo\", \"Monaco\", \"Consolas\", \"Ubuntu Mono\", \"Source Code Pro\", monospace;\n",
       "    font-size: 13px;\n",
       "    color: #555;\n",
       "    margin-left: 4px;\n",
       "    line-height: 19px;\n",
       "  }\n",
       "</style>"
      ]
     },
     "metadata": {
      "application/vnd.databricks.v1+output": {
       "arguments": {},
       "data": "",
       "errorSummary": "",
       "errorTraceType": null,
       "metadata": {},
       "type": "ipynbError"
      }
     },
     "output_type": "display_data"
    }
   ],
   "source": [
    "import sys\n",
    "import numpy as np\n",
    "import pandas as pd\n",
    "import sklearn as sk\n",
    "import matplotlib\n",
    "import seaborn as sns\n",
    "\n",
    "print('Python:', sys.version)\n",
    "print('NumPy:', np.__version__)\n",
    "print('Pandas:', pd.__version__)\n",
    "print('Seaborn:', sns.__version__)\n",
    "print('Matplotlib:', matplotlib.__version__)\n",
    "print('Scikit-learn:', sk.__version__)"
   ]
  },
  {
   "cell_type": "markdown",
   "metadata": {
    "application/vnd.databricks.v1+cell": {
     "cellMetadata": {},
     "inputWidgets": {},
     "nuid": "f9bdcdf8-a348-4194-8a9f-3c9a4d2ef410",
     "showTitle": false,
     "tableResultSettingsMap": {},
     "title": ""
    }
   },
   "source": [
    "## 1. Importar módulos específicos de librerías:"
   ]
  },
  {
   "cell_type": "code",
   "execution_count": 0,
   "metadata": {
    "application/vnd.databricks.v1+cell": {
     "cellMetadata": {},
     "inputWidgets": {},
     "nuid": "16c58c58-770b-4b81-9f73-c72edd3d44ff",
     "showTitle": false,
     "tableResultSettingsMap": {},
     "title": ""
    }
   },
   "outputs": [
    {
     "data": {
      "text/html": [
       "<style scoped>\n",
       "  .ansiout {\n",
       "    display: block;\n",
       "    unicode-bidi: embed;\n",
       "    white-space: pre-wrap;\n",
       "    word-wrap: break-word;\n",
       "    word-break: break-all;\n",
       "    font-family: \"Menlo\", \"Monaco\", \"Consolas\", \"Ubuntu Mono\", \"Source Code Pro\", monospace;\n",
       "    font-size: 13px;\n",
       "    color: #555;\n",
       "    margin-left: 4px;\n",
       "    line-height: 19px;\n",
       "  }\n",
       "</style>"
      ]
     },
     "metadata": {
      "application/vnd.databricks.v1+output": {
       "arguments": {},
       "data": "",
       "errorSummary": "",
       "errorTraceType": null,
       "metadata": {},
       "type": "ipynbError"
      }
     },
     "output_type": "display_data"
    }
   ],
   "source": [
    "from sklearn.model_selection import train_test_split\n",
    "from sklearn.linear_model import LogisticRegression\n",
    "from sklearn.model_selection import GridSearchCV\n",
    "from sklearn import metrics\n",
    "import matplotlib.pyplot as plt"
   ]
  },
  {
   "cell_type": "markdown",
   "metadata": {
    "application/vnd.databricks.v1+cell": {
     "cellMetadata": {},
     "inputWidgets": {},
     "nuid": "75343bbf-19ab-4067-95bf-3967f97f38a7",
     "showTitle": false,
     "tableResultSettingsMap": {},
     "title": ""
    }
   },
   "source": [
    "## 2. Dataset de Trabajo"
   ]
  },
  {
   "cell_type": "markdown",
   "metadata": {
    "application/vnd.databricks.v1+cell": {
     "cellMetadata": {},
     "inputWidgets": {},
     "nuid": "c897b191-eb0a-444d-a7ee-c78b66414cfb",
     "showTitle": false,
     "tableResultSettingsMap": {},
     "title": ""
    }
   },
   "source": [
    "**df_customer:** El conjunto de datos se refiere a clientes de un distribuidor mayorista. Incluye el gasto anual en unidades monetarias en diversas canales de venta (channel= Horeca o Minorista).\n",
    "\n",
    "<a href='https://storage.googleapis.com/datasets-academy/Track%20Data%20Science/02%20-%20Introduccion%20a%20Machine%20Learning/Wholesale_customers_data_procesado.csv'>\n",
    "  Link para descargar el dataset Wholesale customers data</a>\n",
    "  \n",
    "Los datos de este dataframe han sido previamente limpiados y se aplicaron técnicas de transformación de variables."
   ]
  },
  {
   "cell_type": "markdown",
   "metadata": {
    "application/vnd.databricks.v1+cell": {
     "cellMetadata": {},
     "inputWidgets": {},
     "nuid": "1177d673-afa3-4745-9067-a523c8bc862d",
     "showTitle": false,
     "tableResultSettingsMap": {},
     "title": ""
    }
   },
   "source": [
    "**Objetivo de Clasificación:** Predecir los clientes que comprarán a través del canal Horeca (**Channel = 1**) y los que comprarán en el canal minorista (**Channel = 0**).\n",
    "\n",
    "$$Pr (\\text{Channel} = \\text{1} | \\text{fresh, milk, grocery, frozen, etc})= Pr(y = 1|X) $$\n",
    "$$p(X) = Pr(y = 1|X)$$"
   ]
  },
  {
   "cell_type": "markdown",
   "metadata": {
    "application/vnd.databricks.v1+cell": {
     "cellMetadata": {},
     "inputWidgets": {},
     "nuid": "b92790c2-54bf-4a70-b87b-bf10659eeaa0",
     "showTitle": false,
     "tableResultSettingsMap": {},
     "title": ""
    }
   },
   "source": [
    "**Diccionario de datos**\n",
    "\n",
    "Se aplicó la codificación One-hot-encoding para la variable Region y para las variables de los gastos por productos se realizó un proceso de escalamiento:\n",
    "1. Fresh: gasto anual en productos frescos (medido en unidades monetarias)\n",
    "2. Milk: gasto anual en productos lácteos (medido en unidades monetarias)\n",
    "3. Grocery: gasto anual en productos comestibles (medido en unidades monetarias)\n",
    "4. Frozen: gasto anual en productos congelados (medido en unidades monetarias)\n",
    "5. Detergents_Paper: gasto anual en detergentes y productos de papel (medido en unidades monetarias)\n",
    "6. Delicassen: gasto anual en productos delicatessen (medido en unidades monetarias)\n",
    "7. Channel: Canal de clientes: Horeca (Hotel / Restaurante / Café) == 1 o Canal minorista == 0\n",
    "8. Region: Región de clientes: Lisboa == 1, Oporto == 2, Otro == 3"
   ]
  },
  {
   "cell_type": "code",
   "execution_count": 0,
   "metadata": {
    "application/vnd.databricks.v1+cell": {
     "cellMetadata": {},
     "inputWidgets": {},
     "nuid": "6e5d6a19-f40a-4f90-ba54-89aceb985493",
     "showTitle": false,
     "tableResultSettingsMap": {},
     "title": ""
    }
   },
   "outputs": [
    {
     "data": {
      "text/html": [
       "<style scoped>\n",
       "  .ansiout {\n",
       "    display: block;\n",
       "    unicode-bidi: embed;\n",
       "    white-space: pre-wrap;\n",
       "    word-wrap: break-word;\n",
       "    word-break: break-all;\n",
       "    font-family: \"Menlo\", \"Monaco\", \"Consolas\", \"Ubuntu Mono\", \"Source Code Pro\", monospace;\n",
       "    font-size: 13px;\n",
       "    color: #555;\n",
       "    margin-left: 4px;\n",
       "    line-height: 19px;\n",
       "  }\n",
       "</style>"
      ]
     },
     "metadata": {
      "application/vnd.databricks.v1+output": {
       "arguments": {},
       "data": "",
       "errorSummary": "",
       "errorTraceType": null,
       "metadata": {},
       "type": "ipynbError"
      }
     },
     "output_type": "display_data"
    }
   ],
   "source": [
    "# Carga dataset\n",
    "df_customer = pd.read_csv('https://storage.googleapis.com/datasets-academy/Track%20Data%20Science/02%20-%20Introduccion%20a%20Machine%20Learning/Wholesale_customers_data_procesado.csv')\n",
    "df_customer.head()"
   ]
  },
  {
   "cell_type": "code",
   "execution_count": 0,
   "metadata": {
    "application/vnd.databricks.v1+cell": {
     "cellMetadata": {},
     "inputWidgets": {},
     "nuid": "d857cdd9-5d0b-4206-8456-4c4bc8dd2758",
     "showTitle": false,
     "tableResultSettingsMap": {},
     "title": ""
    }
   },
   "outputs": [
    {
     "data": {
      "text/html": [
       "<style scoped>\n",
       "  .ansiout {\n",
       "    display: block;\n",
       "    unicode-bidi: embed;\n",
       "    white-space: pre-wrap;\n",
       "    word-wrap: break-word;\n",
       "    word-break: break-all;\n",
       "    font-family: \"Menlo\", \"Monaco\", \"Consolas\", \"Ubuntu Mono\", \"Source Code Pro\", monospace;\n",
       "    font-size: 13px;\n",
       "    color: #555;\n",
       "    margin-left: 4px;\n",
       "    line-height: 19px;\n",
       "  }\n",
       "</style>"
      ]
     },
     "metadata": {
      "application/vnd.databricks.v1+output": {
       "arguments": {},
       "data": "",
       "errorSummary": "",
       "errorTraceType": null,
       "metadata": {},
       "type": "ipynbError"
      }
     },
     "output_type": "display_data"
    }
   ],
   "source": [
    "df_customer.shape"
   ]
  },
  {
   "cell_type": "markdown",
   "metadata": {
    "application/vnd.databricks.v1+cell": {
     "cellMetadata": {},
     "inputWidgets": {},
     "nuid": "5290698e-efe7-45f0-808e-6c2ed3078104",
     "showTitle": false,
     "tableResultSettingsMap": {},
     "title": ""
    }
   },
   "source": [
    "### 2.1 Análisis exploratorio de datos"
   ]
  },
  {
   "cell_type": "code",
   "execution_count": 0,
   "metadata": {
    "application/vnd.databricks.v1+cell": {
     "cellMetadata": {},
     "inputWidgets": {},
     "nuid": "0f424616-4a53-4ac0-8a62-c66b98bf1108",
     "showTitle": false,
     "tableResultSettingsMap": {},
     "title": ""
    }
   },
   "outputs": [
    {
     "data": {
      "text/html": [
       "<style scoped>\n",
       "  .ansiout {\n",
       "    display: block;\n",
       "    unicode-bidi: embed;\n",
       "    white-space: pre-wrap;\n",
       "    word-wrap: break-word;\n",
       "    word-break: break-all;\n",
       "    font-family: \"Menlo\", \"Monaco\", \"Consolas\", \"Ubuntu Mono\", \"Source Code Pro\", monospace;\n",
       "    font-size: 13px;\n",
       "    color: #555;\n",
       "    margin-left: 4px;\n",
       "    line-height: 19px;\n",
       "  }\n",
       "</style>"
      ]
     },
     "metadata": {
      "application/vnd.databricks.v1+output": {
       "arguments": {},
       "data": "",
       "errorSummary": "",
       "errorTraceType": null,
       "metadata": {},
       "type": "ipynbError"
      }
     },
     "output_type": "display_data"
    }
   ],
   "source": [
    "# Contabilizar las categorías en la variable objetivo\n",
    "df_customer.Channel.value_counts()"
   ]
  },
  {
   "cell_type": "code",
   "execution_count": 0,
   "metadata": {
    "application/vnd.databricks.v1+cell": {
     "cellMetadata": {},
     "inputWidgets": {},
     "nuid": "52126695-db97-4a30-9558-4e0fa58863bd",
     "showTitle": false,
     "tableResultSettingsMap": {},
     "title": ""
    }
   },
   "outputs": [
    {
     "data": {
      "text/html": [
       "<style scoped>\n",
       "  .ansiout {\n",
       "    display: block;\n",
       "    unicode-bidi: embed;\n",
       "    white-space: pre-wrap;\n",
       "    word-wrap: break-word;\n",
       "    word-break: break-all;\n",
       "    font-family: \"Menlo\", \"Monaco\", \"Consolas\", \"Ubuntu Mono\", \"Source Code Pro\", monospace;\n",
       "    font-size: 13px;\n",
       "    color: #555;\n",
       "    margin-left: 4px;\n",
       "    line-height: 19px;\n",
       "  }\n",
       "</style>"
      ]
     },
     "metadata": {
      "application/vnd.databricks.v1+output": {
       "arguments": {},
       "data": "",
       "errorSummary": "",
       "errorTraceType": null,
       "metadata": {},
       "type": "ipynbError"
      }
     },
     "output_type": "display_data"
    }
   ],
   "source": [
    "# Analizar el balanceamiento de las categorías por canal\n",
    "display(df_customer)"
   ]
  },
  {
   "cell_type": "code",
   "execution_count": 0,
   "metadata": {
    "application/vnd.databricks.v1+cell": {
     "cellMetadata": {},
     "inputWidgets": {},
     "nuid": "94e985cf-dc2b-49fe-8337-61d6ba52fe9a",
     "showTitle": false,
     "tableResultSettingsMap": {},
     "title": ""
    }
   },
   "outputs": [
    {
     "data": {
      "text/html": [
       "<style scoped>\n",
       "  .ansiout {\n",
       "    display: block;\n",
       "    unicode-bidi: embed;\n",
       "    white-space: pre-wrap;\n",
       "    word-wrap: break-word;\n",
       "    word-break: break-all;\n",
       "    font-family: \"Menlo\", \"Monaco\", \"Consolas\", \"Ubuntu Mono\", \"Source Code Pro\", monospace;\n",
       "    font-size: 13px;\n",
       "    color: #555;\n",
       "    margin-left: 4px;\n",
       "    line-height: 19px;\n",
       "  }\n",
       "</style>"
      ]
     },
     "metadata": {
      "application/vnd.databricks.v1+output": {
       "arguments": {},
       "data": "",
       "errorSummary": "",
       "errorTraceType": null,
       "metadata": {},
       "type": "ipynbError"
      }
     },
     "output_type": "display_data"
    }
   ],
   "source": [
    "sns.pairplot(df_customer, \n",
    "             hue='Channel',\n",
    "             x_vars=['Fresh_estan', 'Milk_estan', 'Grocery_estan', 'Frozen_estan', 'Detergents_Paper_estan', 'Delicassen_estan'],\n",
    "             y_vars=['Fresh_estan', 'Milk_estan', 'Grocery_estan', 'Frozen_estan', 'Detergents_Paper_estan', 'Delicassen_estan'])"
   ]
  },
  {
   "cell_type": "code",
   "execution_count": 0,
   "metadata": {
    "application/vnd.databricks.v1+cell": {
     "cellMetadata": {},
     "inputWidgets": {},
     "nuid": "ce3db605-402d-45f4-ac33-b8a1ef281477",
     "showTitle": false,
     "tableResultSettingsMap": {},
     "title": ""
    }
   },
   "outputs": [
    {
     "data": {
      "text/html": [
       "<style scoped>\n",
       "  .ansiout {\n",
       "    display: block;\n",
       "    unicode-bidi: embed;\n",
       "    white-space: pre-wrap;\n",
       "    word-wrap: break-word;\n",
       "    word-break: break-all;\n",
       "    font-family: \"Menlo\", \"Monaco\", \"Consolas\", \"Ubuntu Mono\", \"Source Code Pro\", monospace;\n",
       "    font-size: 13px;\n",
       "    color: #555;\n",
       "    margin-left: 4px;\n",
       "    line-height: 19px;\n",
       "  }\n",
       "</style>"
      ]
     },
     "metadata": {
      "application/vnd.databricks.v1+output": {
       "arguments": {},
       "data": "",
       "errorSummary": "",
       "errorTraceType": null,
       "metadata": {},
       "type": "ipynbError"
      }
     },
     "output_type": "display_data"
    }
   ],
   "source": [
    "# Correlaciones entre los predictores del gasto por productos\n",
    "df_customer.iloc[:, 4:].corr()"
   ]
  },
  {
   "cell_type": "markdown",
   "metadata": {
    "application/vnd.databricks.v1+cell": {
     "cellMetadata": {},
     "inputWidgets": {},
     "nuid": "de7d28c0-fbd3-4eca-8a72-778fe2b64563",
     "showTitle": false,
     "tableResultSettingsMap": {},
     "title": ""
    }
   },
   "source": [
    "## 3. Desarrollo del Modelo\n",
    "\n"
   ]
  },
  {
   "cell_type": "markdown",
   "metadata": {
    "application/vnd.databricks.v1+cell": {
     "cellMetadata": {},
     "inputWidgets": {},
     "nuid": "4d65a284-9ea6-454a-abfc-edcd5e43affe",
     "showTitle": false,
     "tableResultSettingsMap": {},
     "title": ""
    }
   },
   "source": [
    "### 3.1 Preparación de los datos correspondientes a las variables ```y , X```"
   ]
  },
  {
   "cell_type": "code",
   "execution_count": 0,
   "metadata": {
    "application/vnd.databricks.v1+cell": {
     "cellMetadata": {},
     "inputWidgets": {},
     "nuid": "7c73d8ca-f1cd-49df-847f-79ef98f17b0c",
     "showTitle": false,
     "tableResultSettingsMap": {},
     "title": ""
    },
    "scrolled": true
   },
   "outputs": [
    {
     "data": {
      "text/html": [
       "<style scoped>\n",
       "  .ansiout {\n",
       "    display: block;\n",
       "    unicode-bidi: embed;\n",
       "    white-space: pre-wrap;\n",
       "    word-wrap: break-word;\n",
       "    word-break: break-all;\n",
       "    font-family: \"Menlo\", \"Monaco\", \"Consolas\", \"Ubuntu Mono\", \"Source Code Pro\", monospace;\n",
       "    font-size: 13px;\n",
       "    color: #555;\n",
       "    margin-left: 4px;\n",
       "    line-height: 19px;\n",
       "  }\n",
       "</style>"
      ]
     },
     "metadata": {
      "application/vnd.databricks.v1+output": {
       "arguments": {},
       "data": "",
       "errorSummary": "",
       "errorTraceType": null,
       "metadata": {},
       "type": "ipynbError"
      }
     },
     "output_type": "display_data"
    }
   ],
   "source": [
    "y = df_customer['Channel']\n",
    "X = df_customer.loc[:, ['Fresh_estan', 'Milk_estan', 'Grocery_estan', 'Frozen_estan', 'Delicassen_estan']]\n",
    "print(X.shape, y.shape)"
   ]
  },
  {
   "cell_type": "markdown",
   "metadata": {
    "application/vnd.databricks.v1+cell": {
     "cellMetadata": {},
     "inputWidgets": {},
     "nuid": "08ea07e6-9b1d-4f56-973c-57130ca8f8bd",
     "showTitle": false,
     "tableResultSettingsMap": {},
     "title": ""
    }
   },
   "source": [
    "### 3.2 División de los datos: Training y Test"
   ]
  },
  {
   "cell_type": "markdown",
   "metadata": {
    "application/vnd.databricks.v1+cell": {
     "cellMetadata": {},
     "inputWidgets": {},
     "nuid": "15308845-0a47-4290-a55d-6aab99d26bdb",
     "showTitle": false,
     "tableResultSettingsMap": {},
     "title": ""
    }
   },
   "source": [
    "**```random_state```** <br>\n",
    "- Este parámetro inicializa el generador aleatoreo de números que indicará los índices de división los datos en las porciones de Training y Test. \n",
    "- Para obtener las mismas divisiones de datos en diferentes computadoras y ejecuciones, fijamos este parámetro en un mismo valor, conocido como valor semilla. En nuestros ejercicios utilizaremos la semilla 0."
   ]
  },
  {
   "cell_type": "code",
   "execution_count": 0,
   "metadata": {
    "application/vnd.databricks.v1+cell": {
     "cellMetadata": {},
     "inputWidgets": {},
     "nuid": "1cee6bc5-1282-47ef-b996-2f10afb3653b",
     "showTitle": false,
     "tableResultSettingsMap": {},
     "title": ""
    }
   },
   "outputs": [
    {
     "data": {
      "text/html": [
       "<style scoped>\n",
       "  .ansiout {\n",
       "    display: block;\n",
       "    unicode-bidi: embed;\n",
       "    white-space: pre-wrap;\n",
       "    word-wrap: break-word;\n",
       "    word-break: break-all;\n",
       "    font-family: \"Menlo\", \"Monaco\", \"Consolas\", \"Ubuntu Mono\", \"Source Code Pro\", monospace;\n",
       "    font-size: 13px;\n",
       "    color: #555;\n",
       "    margin-left: 4px;\n",
       "    line-height: 19px;\n",
       "  }\n",
       "</style>"
      ]
     },
     "metadata": {
      "application/vnd.databricks.v1+output": {
       "arguments": {},
       "data": "",
       "errorSummary": "",
       "errorTraceType": null,
       "metadata": {},
       "type": "ipynbError"
      }
     },
     "output_type": "display_data"
    }
   ],
   "source": [
    "# División en train y test\n",
    "X_train, X_test, y_train, y_test = train_test_split(X, y, test_size = 0.2, stratify=y, random_state = 0)\n",
    "\n",
    "print(X_train.shape , y_train.shape)\n",
    "print(X_test.shape , y_test.shape)"
   ]
  },
  {
   "cell_type": "markdown",
   "metadata": {
    "application/vnd.databricks.v1+cell": {
     "cellMetadata": {},
     "inputWidgets": {},
     "nuid": "a628bd60-744b-4160-8aa1-8feb5985954c",
     "showTitle": false,
     "tableResultSettingsMap": {},
     "title": ""
    }
   },
   "source": [
    "### 3.3 Creación del algoritmo"
   ]
  },
  {
   "cell_type": "markdown",
   "metadata": {
    "application/vnd.databricks.v1+cell": {
     "cellMetadata": {},
     "inputWidgets": {},
     "nuid": "e427a010-5e26-4520-87d6-3c0c7751a0bb",
     "showTitle": false,
     "tableResultSettingsMap": {},
     "title": ""
    }
   },
   "source": [
    "[Explicacion de los parámetros de la regresión logística](https://towardsdatascience.com/dont-sweat-the-solver-stuff-aea7cddc3451) y [Documentación Regresión Logística](https://scikit-learn.org/stable/modules/generated/sklearn.linear_model.LogisticRegression.html)"
   ]
  },
  {
   "cell_type": "code",
   "execution_count": 0,
   "metadata": {
    "application/vnd.databricks.v1+cell": {
     "cellMetadata": {},
     "inputWidgets": {},
     "nuid": "1e47ed95-f4e1-4d1d-9eb6-9670a4669027",
     "showTitle": false,
     "tableResultSettingsMap": {},
     "title": ""
    }
   },
   "outputs": [
    {
     "data": {
      "text/html": [
       "<style scoped>\n",
       "  .ansiout {\n",
       "    display: block;\n",
       "    unicode-bidi: embed;\n",
       "    white-space: pre-wrap;\n",
       "    word-wrap: break-word;\n",
       "    word-break: break-all;\n",
       "    font-family: \"Menlo\", \"Monaco\", \"Consolas\", \"Ubuntu Mono\", \"Source Code Pro\", monospace;\n",
       "    font-size: 13px;\n",
       "    color: #555;\n",
       "    margin-left: 4px;\n",
       "    line-height: 19px;\n",
       "  }\n",
       "</style>"
      ]
     },
     "metadata": {
      "application/vnd.databricks.v1+output": {
       "arguments": {},
       "data": "",
       "errorSummary": "",
       "errorTraceType": null,
       "metadata": {},
       "type": "ipynbError"
      }
     },
     "output_type": "display_data"
    }
   ],
   "source": [
    "reg_logistica = LogisticRegression(multi_class = 'ovr',\n",
    "                                   solver = 'lbfgs',\n",
    "                                   class_weight='balanced', \n",
    "                                   random_state=0, \n",
    "                                   n_jobs=-1) \n",
    "\n",
    "reg_logistica"
   ]
  },
  {
   "cell_type": "markdown",
   "metadata": {
    "application/vnd.databricks.v1+cell": {
     "cellMetadata": {},
     "inputWidgets": {},
     "nuid": "f187ad37-8c57-455c-8f47-8f645ba414e1",
     "showTitle": false,
     "tableResultSettingsMap": {},
     "title": ""
    }
   },
   "source": [
    "### 3.4 Validación cruzada\n",
    "\n",
    "El parámetro C es el inverso de la regularización en la Regresión Logística. \n",
    "\n",
    "$$C = 1 / λ$$\n",
    "Es un término de penalización, destinado a desincentivar y regular el sobreajuste. A medida que aumenta su valor se reduce la regularización."
   ]
  },
  {
   "cell_type": "code",
   "execution_count": 0,
   "metadata": {
    "application/vnd.databricks.v1+cell": {
     "cellMetadata": {},
     "inputWidgets": {},
     "nuid": "24e01ee8-998f-47ad-8896-c0e520d9ea81",
     "showTitle": false,
     "tableResultSettingsMap": {},
     "title": ""
    }
   },
   "outputs": [
    {
     "data": {
      "text/html": [
       "<style scoped>\n",
       "  .ansiout {\n",
       "    display: block;\n",
       "    unicode-bidi: embed;\n",
       "    white-space: pre-wrap;\n",
       "    word-wrap: break-word;\n",
       "    word-break: break-all;\n",
       "    font-family: \"Menlo\", \"Monaco\", \"Consolas\", \"Ubuntu Mono\", \"Source Code Pro\", monospace;\n",
       "    font-size: 13px;\n",
       "    color: #555;\n",
       "    margin-left: 4px;\n",
       "    line-height: 19px;\n",
       "  }\n",
       "</style>"
      ]
     },
     "metadata": {
      "application/vnd.databricks.v1+output": {
       "arguments": {},
       "data": "",
       "errorSummary": "",
       "errorTraceType": null,
       "metadata": {},
       "type": "ipynbError"
      }
     },
     "output_type": "display_data"
    }
   ],
   "source": [
    "# Validación Cruzada\n",
    "k = 10\n",
    "grid_values = {'C': np.arange(0.001, 2, 0.01)} \n",
    "\n",
    "\n",
    "grid = GridSearchCV(cv = k, \n",
    "                    param_grid = grid_values, \n",
    "                    estimator = reg_logistica, \n",
    "                    scoring = 'accuracy',\n",
    "                    return_train_score = False,\n",
    "                    n_jobs = -1)\n",
    "\n",
    "grid.fit(X_train, y_train)\n",
    "\n",
    "#Resultados GridSearchCV convertirlos a un DataFrame\n",
    "df_cv = pd.DataFrame(grid.cv_results_)\n",
    "df_cv.head()"
   ]
  },
  {
   "cell_type": "code",
   "execution_count": 0,
   "metadata": {
    "application/vnd.databricks.v1+cell": {
     "cellMetadata": {},
     "inputWidgets": {},
     "nuid": "f7573fbb-c4f4-483d-a8f0-dac616b501d3",
     "showTitle": false,
     "tableResultSettingsMap": {},
     "title": ""
    }
   },
   "outputs": [
    {
     "data": {
      "text/html": [
       "<style scoped>\n",
       "  .ansiout {\n",
       "    display: block;\n",
       "    unicode-bidi: embed;\n",
       "    white-space: pre-wrap;\n",
       "    word-wrap: break-word;\n",
       "    word-break: break-all;\n",
       "    font-family: \"Menlo\", \"Monaco\", \"Consolas\", \"Ubuntu Mono\", \"Source Code Pro\", monospace;\n",
       "    font-size: 13px;\n",
       "    color: #555;\n",
       "    margin-left: 4px;\n",
       "    line-height: 19px;\n",
       "  }\n",
       "</style>"
      ]
     },
     "metadata": {
      "application/vnd.databricks.v1+output": {
       "arguments": {},
       "data": "",
       "errorSummary": "",
       "errorTraceType": null,
       "metadata": {},
       "type": "ipynbError"
      }
     },
     "output_type": "display_data"
    }
   ],
   "source": [
    "# Gráfica de las métricas por los valores del grid de parámetros\n",
    "ax = df_cv.plot(x='param_C', y='mean_test_score')\n",
    "df_cv.plot(x='param_C', y='std_test_score', secondary_y=True, ax=ax, color='r', figsize=(12, 7))"
   ]
  },
  {
   "cell_type": "code",
   "execution_count": 0,
   "metadata": {
    "application/vnd.databricks.v1+cell": {
     "cellMetadata": {},
     "inputWidgets": {},
     "nuid": "754a15d5-901d-4144-a421-d282518c5351",
     "showTitle": false,
     "tableResultSettingsMap": {},
     "title": ""
    }
   },
   "outputs": [
    {
     "data": {
      "text/html": [
       "<style scoped>\n",
       "  .ansiout {\n",
       "    display: block;\n",
       "    unicode-bidi: embed;\n",
       "    white-space: pre-wrap;\n",
       "    word-wrap: break-word;\n",
       "    word-break: break-all;\n",
       "    font-family: \"Menlo\", \"Monaco\", \"Consolas\", \"Ubuntu Mono\", \"Source Code Pro\", monospace;\n",
       "    font-size: 13px;\n",
       "    color: #555;\n",
       "    margin-left: 4px;\n",
       "    line-height: 19px;\n",
       "  }\n",
       "</style>"
      ]
     },
     "metadata": {
      "application/vnd.databricks.v1+output": {
       "arguments": {},
       "data": "",
       "errorSummary": "",
       "errorTraceType": null,
       "metadata": {},
       "type": "ipynbError"
      }
     },
     "output_type": "display_data"
    }
   ],
   "source": [
    "#Imprimimos los atributos de respuesta\n",
    "print('Mejor métrica Accuracy (promedio en validación):', grid.best_score_)\n",
    "print('Parámetro óptimo:', grid.best_params_)"
   ]
  },
  {
   "cell_type": "code",
   "execution_count": 0,
   "metadata": {
    "application/vnd.databricks.v1+cell": {
     "cellMetadata": {},
     "inputWidgets": {},
     "nuid": "8b9f236b-6f08-4fce-8f2d-3c7935195861",
     "showTitle": false,
     "tableResultSettingsMap": {},
     "title": ""
    }
   },
   "outputs": [
    {
     "data": {
      "text/html": [
       "<style scoped>\n",
       "  .ansiout {\n",
       "    display: block;\n",
       "    unicode-bidi: embed;\n",
       "    white-space: pre-wrap;\n",
       "    word-wrap: break-word;\n",
       "    word-break: break-all;\n",
       "    font-family: \"Menlo\", \"Monaco\", \"Consolas\", \"Ubuntu Mono\", \"Source Code Pro\", monospace;\n",
       "    font-size: 13px;\n",
       "    color: #555;\n",
       "    margin-left: 4px;\n",
       "    line-height: 19px;\n",
       "  }\n",
       "</style>"
      ]
     },
     "metadata": {
      "application/vnd.databricks.v1+output": {
       "arguments": {},
       "data": "",
       "errorSummary": "",
       "errorTraceType": null,
       "metadata": {},
       "type": "ipynbError"
      }
     },
     "output_type": "display_data"
    }
   ],
   "source": [
    "# Algoritmo optimizado\n",
    "log_opt = LogisticRegression(multi_class = 'ovr', \n",
    "                             solver = 'lbfgs',\n",
    "                             C = grid.best_params_['C'], \n",
    "                             class_weight='balanced', \n",
    "                             random_state=0, \n",
    "                             n_jobs=-1)\n",
    "\n",
    "log_opt.fit(X_train, y_train)"
   ]
  },
  {
   "cell_type": "code",
   "execution_count": 0,
   "metadata": {
    "application/vnd.databricks.v1+cell": {
     "cellMetadata": {},
     "inputWidgets": {},
     "nuid": "191e95d6-eedc-40dc-8646-2e9854e2b472",
     "showTitle": false,
     "tableResultSettingsMap": {},
     "title": ""
    }
   },
   "outputs": [
    {
     "data": {
      "text/html": [
       "<style scoped>\n",
       "  .ansiout {\n",
       "    display: block;\n",
       "    unicode-bidi: embed;\n",
       "    white-space: pre-wrap;\n",
       "    word-wrap: break-word;\n",
       "    word-break: break-all;\n",
       "    font-family: \"Menlo\", \"Monaco\", \"Consolas\", \"Ubuntu Mono\", \"Source Code Pro\", monospace;\n",
       "    font-size: 13px;\n",
       "    color: #555;\n",
       "    margin-left: 4px;\n",
       "    line-height: 19px;\n",
       "  }\n",
       "</style>"
      ]
     },
     "metadata": {
      "application/vnd.databricks.v1+output": {
       "arguments": {},
       "data": "",
       "errorSummary": "",
       "errorTraceType": null,
       "metadata": {},
       "type": "ipynbError"
      }
     },
     "output_type": "display_data"
    }
   ],
   "source": [
    "print('Coeficientes: ', log_opt.coef_)\n",
    "print('Intercepto: ', log_opt.intercept_)\n",
    "print('Clases: ', log_opt.classes_)"
   ]
  },
  {
   "cell_type": "markdown",
   "metadata": {
    "application/vnd.databricks.v1+cell": {
     "cellMetadata": {},
     "inputWidgets": {},
     "nuid": "e47fcf8b-cc7e-4213-9075-2d7ef7627c2a",
     "showTitle": false,
     "tableResultSettingsMap": {},
     "title": ""
    }
   },
   "source": [
    "### 3.5 Prediccion en test a partir del algoritmo entrenado"
   ]
  },
  {
   "cell_type": "markdown",
   "metadata": {
    "application/vnd.databricks.v1+cell": {
     "cellMetadata": {},
     "inputWidgets": {},
     "nuid": "b018d6b0-e7b5-4f42-ad81-911b67eecaee",
     "showTitle": false,
     "tableResultSettingsMap": {},
     "title": ""
    }
   },
   "source": [
    "La predicción por defecto emplea el punto de corte de 0.5"
   ]
  },
  {
   "cell_type": "code",
   "execution_count": 0,
   "metadata": {
    "application/vnd.databricks.v1+cell": {
     "cellMetadata": {},
     "inputWidgets": {},
     "nuid": "9a236c0c-55d9-4dbc-9574-166d2529bc6d",
     "showTitle": false,
     "tableResultSettingsMap": {},
     "title": ""
    }
   },
   "outputs": [
    {
     "data": {
      "text/html": [
       "<style scoped>\n",
       "  .ansiout {\n",
       "    display: block;\n",
       "    unicode-bidi: embed;\n",
       "    white-space: pre-wrap;\n",
       "    word-wrap: break-word;\n",
       "    word-break: break-all;\n",
       "    font-family: \"Menlo\", \"Monaco\", \"Consolas\", \"Ubuntu Mono\", \"Source Code Pro\", monospace;\n",
       "    font-size: 13px;\n",
       "    color: #555;\n",
       "    margin-left: 4px;\n",
       "    line-height: 19px;\n",
       "  }\n",
       "</style>"
      ]
     },
     "metadata": {
      "application/vnd.databricks.v1+output": {
       "arguments": {},
       "data": "",
       "errorSummary": "",
       "errorTraceType": null,
       "metadata": {},
       "type": "ipynbError"
      }
     },
     "output_type": "display_data"
    }
   ],
   "source": [
    "# Predecir con training para analizar overfitting\n",
    "yHat_train = log_opt.predict(X_train)\n",
    "yHat_train"
   ]
  },
  {
   "cell_type": "code",
   "execution_count": 0,
   "metadata": {
    "application/vnd.databricks.v1+cell": {
     "cellMetadata": {},
     "inputWidgets": {},
     "nuid": "47c3b72b-7770-48b0-a326-ac80fb7fce1c",
     "showTitle": false,
     "tableResultSettingsMap": {},
     "title": ""
    }
   },
   "outputs": [
    {
     "data": {
      "text/html": [
       "<style scoped>\n",
       "  .ansiout {\n",
       "    display: block;\n",
       "    unicode-bidi: embed;\n",
       "    white-space: pre-wrap;\n",
       "    word-wrap: break-word;\n",
       "    word-break: break-all;\n",
       "    font-family: \"Menlo\", \"Monaco\", \"Consolas\", \"Ubuntu Mono\", \"Source Code Pro\", monospace;\n",
       "    font-size: 13px;\n",
       "    color: #555;\n",
       "    margin-left: 4px;\n",
       "    line-height: 19px;\n",
       "  }\n",
       "</style>"
      ]
     },
     "metadata": {
      "application/vnd.databricks.v1+output": {
       "arguments": {},
       "data": "",
       "errorSummary": "",
       "errorTraceType": null,
       "metadata": {},
       "type": "ipynbError"
      }
     },
     "output_type": "display_data"
    }
   ],
   "source": [
    "# Evaluar desempeño algortimo al prededir con test\n",
    "yHat_test = log_opt.predict(X_test)\n",
    "yHat_test"
   ]
  },
  {
   "cell_type": "code",
   "execution_count": 0,
   "metadata": {
    "application/vnd.databricks.v1+cell": {
     "cellMetadata": {},
     "inputWidgets": {},
     "nuid": "3bb08fbb-39dd-45ff-9137-fb0965dc92ef",
     "showTitle": false,
     "tableResultSettingsMap": {},
     "title": ""
    }
   },
   "outputs": [
    {
     "data": {
      "text/html": [
       "<style scoped>\n",
       "  .ansiout {\n",
       "    display: block;\n",
       "    unicode-bidi: embed;\n",
       "    white-space: pre-wrap;\n",
       "    word-wrap: break-word;\n",
       "    word-break: break-all;\n",
       "    font-family: \"Menlo\", \"Monaco\", \"Consolas\", \"Ubuntu Mono\", \"Source Code Pro\", monospace;\n",
       "    font-size: 13px;\n",
       "    color: #555;\n",
       "    margin-left: 4px;\n",
       "    line-height: 19px;\n",
       "  }\n",
       "</style>"
      ]
     },
     "metadata": {
      "application/vnd.databricks.v1+output": {
       "arguments": {},
       "data": "",
       "errorSummary": "",
       "errorTraceType": null,
       "metadata": {},
       "type": "ipynbError"
      }
     },
     "output_type": "display_data"
    }
   ],
   "source": [
    "# # Definimos un punto de corte\n",
    "# punto_corte= 0.3\n",
    "\n",
    "# # Determinamos que se cumple la condición cuando la probabilidad es mayor al punto de corte\n",
    "# yHat_bool = log_opt.predict_proba(X_test)[:,1] >= punto_corte  \n",
    "\n",
    "# # Transformar respuesta booleana a binaria numérica (1 y 0)\n",
    "# yHat = yHat_bool*1\n",
    "# print(yHat)"
   ]
  },
  {
   "cell_type": "markdown",
   "metadata": {
    "application/vnd.databricks.v1+cell": {
     "cellMetadata": {},
     "inputWidgets": {},
     "nuid": "58ed23bd-9513-40d7-b470-3292469c81b1",
     "showTitle": false,
     "tableResultSettingsMap": {},
     "title": ""
    }
   },
   "source": [
    "### 3.6 Evaluación del algoritmo"
   ]
  },
  {
   "cell_type": "markdown",
   "metadata": {
    "application/vnd.databricks.v1+cell": {
     "cellMetadata": {},
     "inputWidgets": {},
     "nuid": "f5ce7302-8cbd-4d4c-b3cd-3d49eb94a458",
     "showTitle": false,
     "tableResultSettingsMap": {},
     "title": ""
    }
   },
   "source": [
    "#### 3.6.1 Métricas\n",
    "\n",
    "En tareas o algoritmos de clasificación utilizamos los siguientes conceptos para evaluar los resultados obtenidos: <br>\n",
    "\n",
    "- (TP): Numero de Verdaderos Positivos obtenidos\n",
    "- (TN): Numero de Verdaderos Negativos obtenidos\n",
    "- (FP): Numero de Falsos Positivos obtenidos\n",
    "- (FN): Numero de Falsos Negativos obtenidos\n",
    "\n",
    "Con estos términos, recordemos las definiciones de las métricas de evaluación de un algoritmo de ML:\n",
    "\n",
    "- Accuracy ***(Exactitud)*** = TP + TN / (TP + TN + FP + FN)\n",
    "- Precision ***(Precision)*** = TP / (TP + FP)\n",
    "- Recall ***(Sensitividad / Verdaderos Positivos)*** = TP / (TP + FN) <br>\n",
    "\n",
    "A continuación calculamos estas métricas para nuestro modelo:"
   ]
  },
  {
   "cell_type": "code",
   "execution_count": 0,
   "metadata": {
    "application/vnd.databricks.v1+cell": {
     "cellMetadata": {},
     "inputWidgets": {},
     "nuid": "d0943be5-9c2a-48c2-9885-a2c9197ef0b7",
     "showTitle": false,
     "tableResultSettingsMap": {},
     "title": ""
    }
   },
   "outputs": [
    {
     "data": {
      "text/html": [
       "<style scoped>\n",
       "  .ansiout {\n",
       "    display: block;\n",
       "    unicode-bidi: embed;\n",
       "    white-space: pre-wrap;\n",
       "    word-wrap: break-word;\n",
       "    word-break: break-all;\n",
       "    font-family: \"Menlo\", \"Monaco\", \"Consolas\", \"Ubuntu Mono\", \"Source Code Pro\", monospace;\n",
       "    font-size: 13px;\n",
       "    color: #555;\n",
       "    margin-left: 4px;\n",
       "    line-height: 19px;\n",
       "  }\n",
       "</style>"
      ]
     },
     "metadata": {
      "application/vnd.databricks.v1+output": {
       "arguments": {},
       "data": "",
       "errorSummary": "",
       "errorTraceType": null,
       "metadata": {},
       "type": "ipynbError"
      }
     },
     "output_type": "display_data"
    }
   ],
   "source": [
    "#Análisis Overfitting\n",
    "print('Exactitud (Accuracy):', metrics.accuracy_score(y_train, yHat_train))\n",
    "print('Precisión:', metrics.precision_score(y_train, yHat_train))\n",
    "print('Recall:', metrics.recall_score(y_train, yHat_train))"
   ]
  },
  {
   "cell_type": "code",
   "execution_count": 0,
   "metadata": {
    "application/vnd.databricks.v1+cell": {
     "cellMetadata": {},
     "inputWidgets": {},
     "nuid": "9f13032f-b63a-4a05-baa0-ab6b205f4e43",
     "showTitle": false,
     "tableResultSettingsMap": {},
     "title": ""
    }
   },
   "outputs": [
    {
     "data": {
      "text/html": [
       "<style scoped>\n",
       "  .ansiout {\n",
       "    display: block;\n",
       "    unicode-bidi: embed;\n",
       "    white-space: pre-wrap;\n",
       "    word-wrap: break-word;\n",
       "    word-break: break-all;\n",
       "    font-family: \"Menlo\", \"Monaco\", \"Consolas\", \"Ubuntu Mono\", \"Source Code Pro\", monospace;\n",
       "    font-size: 13px;\n",
       "    color: #555;\n",
       "    margin-left: 4px;\n",
       "    line-height: 19px;\n",
       "  }\n",
       "</style>"
      ]
     },
     "metadata": {
      "application/vnd.databricks.v1+output": {
       "arguments": {},
       "data": "",
       "errorSummary": "",
       "errorTraceType": null,
       "metadata": {},
       "type": "ipynbError"
      }
     },
     "output_type": "display_data"
    }
   ],
   "source": [
    "#Métricas de evaluación desempeño algoritmo\n",
    "print('Exactitud (Accuracy):', metrics.accuracy_score(y_test, yHat_test))\n",
    "print('Precisión:', metrics.precision_score(y_test, yHat_test))\n",
    "print('Recall:', metrics.recall_score(y_test, yHat_test))"
   ]
  },
  {
   "cell_type": "markdown",
   "metadata": {
    "application/vnd.databricks.v1+cell": {
     "cellMetadata": {},
     "inputWidgets": {},
     "nuid": "1b5984f4-ebff-4a90-a57d-4135da8a0b23",
     "showTitle": false,
     "tableResultSettingsMap": {},
     "title": ""
    }
   },
   "source": [
    "#### 3.6.2 Matriz de Confusión\n",
    "Es un resumen de conteos de los resultados de la clasificación. En nuestro caso este resultado se muestra en una matriz de 2 filas y 2 columnas, donde cada (fila,columna) representan:\n",
    "\n",
    "- (1,1) indica cuantos ```Defaults Falsos (0) ``` fueron clasificados correctamente como ```Falsos(0)```\n",
    "- (1,2) indica cuantos ```Defaults Falsos (0) ``` fueron clasificados erroneamente como ```Verdaderos(1)```\n",
    "- (2,1) indica cuantos ```Defaults Verdaderos (1) ``` fueron clasificados erroneamente como ```Falsos(0)```\n",
    "- (2,2) indica cuantos ```Defaults Verdaderos (1) ``` fueron clasificados correctamente como ```Verdaderos(1)```"
   ]
  },
  {
   "cell_type": "code",
   "execution_count": 0,
   "metadata": {
    "application/vnd.databricks.v1+cell": {
     "cellMetadata": {},
     "inputWidgets": {},
     "nuid": "0ef5869e-b746-468f-b553-0155f2846a34",
     "showTitle": false,
     "tableResultSettingsMap": {},
     "title": ""
    },
    "scrolled": true
   },
   "outputs": [
    {
     "data": {
      "text/html": [
       "<style scoped>\n",
       "  .ansiout {\n",
       "    display: block;\n",
       "    unicode-bidi: embed;\n",
       "    white-space: pre-wrap;\n",
       "    word-wrap: break-word;\n",
       "    word-break: break-all;\n",
       "    font-family: \"Menlo\", \"Monaco\", \"Consolas\", \"Ubuntu Mono\", \"Source Code Pro\", monospace;\n",
       "    font-size: 13px;\n",
       "    color: #555;\n",
       "    margin-left: 4px;\n",
       "    line-height: 19px;\n",
       "  }\n",
       "</style>"
      ]
     },
     "metadata": {
      "application/vnd.databricks.v1+output": {
       "arguments": {},
       "data": "",
       "errorSummary": "",
       "errorTraceType": null,
       "metadata": {},
       "type": "ipynbError"
      }
     },
     "output_type": "display_data"
    }
   ],
   "source": [
    "# Matriz de Confusion\n",
    "matriz_confusion = metrics.confusion_matrix(y_test, yHat_test)\n",
    "\n",
    "# Graficar la matriz de Confusion\n",
    "plt.figure(figsize=(7, 5))\n",
    "plot_matriz = sns.heatmap(matriz_confusion, annot = True, fmt = '.2f', linewidths = 0.5, cmap = 'Blues_r')\n",
    "plt.ylabel('yTest')\n",
    "plt.xlabel('yHat')"
   ]
  },
  {
   "cell_type": "markdown",
   "metadata": {
    "application/vnd.databricks.v1+cell": {
     "cellMetadata": {},
     "inputWidgets": {},
     "nuid": "2570f0e9-85c4-4d20-bdad-7c196ffca95d",
     "showTitle": false,
     "tableResultSettingsMap": {},
     "title": ""
    }
   },
   "source": [
    "#### 3.6.3 Curva ROC (Receiver-Operating-Characteristic)\n",
    "\n",
    "Representa el desempeño del clasificador en términos de la relación entre el número de Falsos Positivos vs. el número de Verdaderos Positivos, para distintos puntos de corte.\n",
    "\n",
    "**El área que se forma bajo esta curva es un indicador de la exactitud del clasificador: debe ser cercana a 1 para indicar un buen desempeño.** <br>\n",
    "\n",
    "- Mientras más rápido converge esta curva hacia 1, la clasificación es mejor. <br>\n",
    "- Si la curva se encuentra por debajo de la recta ```y=x``` (AUC <= 0.5), el clasificador no es mejor que el azar (es trivial)."
   ]
  },
  {
   "cell_type": "code",
   "execution_count": 0,
   "metadata": {
    "application/vnd.databricks.v1+cell": {
     "cellMetadata": {},
     "inputWidgets": {},
     "nuid": "9c1aa4f6-a449-44c7-96c6-d42dfc77b644",
     "showTitle": false,
     "tableResultSettingsMap": {},
     "title": ""
    },
    "scrolled": true
   },
   "outputs": [
    {
     "data": {
      "text/html": [
       "<style scoped>\n",
       "  .ansiout {\n",
       "    display: block;\n",
       "    unicode-bidi: embed;\n",
       "    white-space: pre-wrap;\n",
       "    word-wrap: break-word;\n",
       "    word-break: break-all;\n",
       "    font-family: \"Menlo\", \"Monaco\", \"Consolas\", \"Ubuntu Mono\", \"Source Code Pro\", monospace;\n",
       "    font-size: 13px;\n",
       "    color: #555;\n",
       "    margin-left: 4px;\n",
       "    line-height: 19px;\n",
       "  }\n",
       "</style>"
      ]
     },
     "metadata": {
      "application/vnd.databricks.v1+output": {
       "arguments": {},
       "data": "",
       "errorSummary": "",
       "errorTraceType": null,
       "metadata": {},
       "type": "ipynbError"
      }
     },
     "output_type": "display_data"
    }
   ],
   "source": [
    "# Cálculo de FPR, Recall(TPR) y puntos de corte:\n",
    "scores = log_opt.predict_proba(X_test)[:,1]\n",
    "fpr, tpr, threshold = metrics.roc_curve(y_test, scores)\n",
    "\n",
    "# Calculo métrica ROC-AUC\n",
    "aucROC = metrics.auc(fpr, tpr)\n",
    "print(aucROC)"
   ]
  },
  {
   "cell_type": "code",
   "execution_count": 0,
   "metadata": {
    "application/vnd.databricks.v1+cell": {
     "cellMetadata": {},
     "inputWidgets": {},
     "nuid": "6bd38ad5-b3ef-40ea-b5ab-6b20ae3be403",
     "showTitle": false,
     "tableResultSettingsMap": {},
     "title": ""
    }
   },
   "outputs": [
    {
     "data": {
      "text/html": [
       "<style scoped>\n",
       "  .ansiout {\n",
       "    display: block;\n",
       "    unicode-bidi: embed;\n",
       "    white-space: pre-wrap;\n",
       "    word-wrap: break-word;\n",
       "    word-break: break-all;\n",
       "    font-family: \"Menlo\", \"Monaco\", \"Consolas\", \"Ubuntu Mono\", \"Source Code Pro\", monospace;\n",
       "    font-size: 13px;\n",
       "    color: #555;\n",
       "    margin-left: 4px;\n",
       "    line-height: 19px;\n",
       "  }\n",
       "</style>"
      ]
     },
     "metadata": {
      "application/vnd.databricks.v1+output": {
       "arguments": {},
       "data": "",
       "errorSummary": "",
       "errorTraceType": null,
       "metadata": {},
       "type": "ipynbError"
      }
     },
     "output_type": "display_data"
    }
   ],
   "source": [
    "# Graficar la curva ROC\n",
    "curva_roc = metrics.plot_roc_curve(log_opt, X_test, y_test)\n",
    "plt.title('Curva ROC', fontsize=16)"
   ]
  },
  {
   "cell_type": "markdown",
   "metadata": {
    "application/vnd.databricks.v1+cell": {
     "cellMetadata": {},
     "inputWidgets": {},
     "nuid": "3cffd5f4-4049-40cf-82ec-cb85a7250dcd",
     "showTitle": false,
     "tableResultSettingsMap": {},
     "title": ""
    }
   },
   "source": [
    ">**Ejercicio:** Replicar el ejercio anterior realizando las siguientes modificaciones: \n",
    "\n",
    "1. Configurar el algoritmo con el parámetro `C` optimizado con el valor de 0.13\n",
    "2. Ajustar el nuevo algoritmo con los datos de entrenamiento\n",
    "3. Realizar las predicciones para los datos de training y test\n",
    "4. Obtener la métrica del accuracy (exactitud) para los datos de training y test\n",
    "5. Imprimir la matriz de confusión\n",
    "6. Comparar el resultado de la evaluación con respecto a la ejecución anterior:\n",
    "  * Matriz de confusión | Accuracy en test"
   ]
  },
  {
   "cell_type": "code",
   "execution_count": 0,
   "metadata": {
    "application/vnd.databricks.v1+cell": {
     "cellMetadata": {},
     "inputWidgets": {},
     "nuid": "7828c035-73b7-417f-91fc-0751b55c4d68",
     "showTitle": false,
     "tableResultSettingsMap": {},
     "title": ""
    }
   },
   "outputs": [
    {
     "data": {
      "text/html": [
       "<style scoped>\n",
       "  .ansiout {\n",
       "    display: block;\n",
       "    unicode-bidi: embed;\n",
       "    white-space: pre-wrap;\n",
       "    word-wrap: break-word;\n",
       "    word-break: break-all;\n",
       "    font-family: \"Menlo\", \"Monaco\", \"Consolas\", \"Ubuntu Mono\", \"Source Code Pro\", monospace;\n",
       "    font-size: 13px;\n",
       "    color: #555;\n",
       "    margin-left: 4px;\n",
       "    line-height: 19px;\n",
       "  }\n",
       "</style>"
      ]
     },
     "metadata": {
      "application/vnd.databricks.v1+output": {
       "arguments": {},
       "data": "",
       "errorSummary": "",
       "errorTraceType": null,
       "metadata": {},
       "type": "ipynbError"
      }
     },
     "output_type": "display_data"
    }
   ],
   "source": [
    "# Su código aquí\n"
   ]
  },
  {
   "cell_type": "code",
   "execution_count": 0,
   "metadata": {
    "application/vnd.databricks.v1+cell": {
     "cellMetadata": {},
     "inputWidgets": {},
     "nuid": "b2d397d4-9e8f-455c-a19c-2fead0a36bfd",
     "showTitle": false,
     "tableResultSettingsMap": {},
     "title": ""
    },
    "jupyter": {
     "source_hidden": true
    }
   },
   "outputs": [
    {
     "data": {
      "text/html": [
       "<style scoped>\n",
       "  .ansiout {\n",
       "    display: block;\n",
       "    unicode-bidi: embed;\n",
       "    white-space: pre-wrap;\n",
       "    word-wrap: break-word;\n",
       "    word-break: break-all;\n",
       "    font-family: \"Menlo\", \"Monaco\", \"Consolas\", \"Ubuntu Mono\", \"Source Code Pro\", monospace;\n",
       "    font-size: 13px;\n",
       "    color: #555;\n",
       "    margin-left: 4px;\n",
       "    line-height: 19px;\n",
       "  }\n",
       "</style>\n",
       "<div class=\"ansiout\">Accuracy en los datos de training: 0.8778409090909091\n",
       "Accuracy en los datos de test: 0.8636363636363636\n",
       "</div>"
      ]
     },
     "metadata": {
      "application/vnd.databricks.v1+output": {
       "addedWidgets": {},
       "arguments": {},
       "data": "<div class=\"ansiout\">Accuracy en los datos de training: 0.8778409090909091\nAccuracy en los datos de test: 0.8636363636363636\n</div>",
       "datasetInfos": [],
       "metadata": {},
       "removedWidgets": [],
       "type": "html"
      }
     },
     "output_type": "display_data"
    }
   ],
   "source": [
    "# Configurar el algoritmo con C = 0.13\n",
    "reg = LogisticRegression(multi_class = 'ovr', \n",
    "                         solver = 'lbfgs',\n",
    "                         C = 0.13, \n",
    "                         class_weight='balanced', \n",
    "                         random_state=0, \n",
    "                         n_jobs=-1)\n",
    "\n",
    "# Ajustar con los datos de entrenamiento\n",
    "reg.fit(X_train, y_train)\n",
    "\n",
    "# Predecir para los datos de training y test\n",
    "y_hat_train = reg.predict(X_train)\n",
    "y_hat_test = reg.predict(X_test)\n",
    "\n",
    "# Evaluar las métricas del accuracy\n",
    "print('Accuracy en los datos de training:', metrics.accuracy_score(y_train, y_hat_train))\n",
    "print('Accuracy en los datos de test:', metrics.accuracy_score(y_test, y_hat_test))"
   ]
  },
  {
   "cell_type": "code",
   "execution_count": 0,
   "metadata": {
    "application/vnd.databricks.v1+cell": {
     "cellMetadata": {},
     "inputWidgets": {},
     "nuid": "85760817-8913-41fd-9fb0-421fb4a4f0b3",
     "showTitle": false,
     "tableResultSettingsMap": {},
     "title": ""
    },
    "jupyter": {
     "source_hidden": true
    }
   },
   "outputs": [
    {
     "data": {
      "image/png": "[encoded data removed]"
     },
     "metadata": {
      "application/vnd.databricks.v1+output": {
       "addedWidgets": {},
       "arguments": {},
       "data": "data:image/png;base64,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",
       "datasetInfos": [],
       "metadata": {},
       "removedWidgets": [],
       "type": "image"
      }
     },
     "output_type": "display_data"
    }
   ],
   "source": [
    "# Imprimir la matriz de confusión\n",
    "matriz_confusion = metrics.confusion_matrix(y_test, y_hat_test)\n",
    "\n",
    "# Graficar la matriz de Confusion\n",
    "plt.figure(figsize=(7, 5))\n",
    "plot_matriz = sns.heatmap(matriz_confusion, annot = True, fmt = '.2f', linewidths = 0.5, cmap = 'Blues_r')\n",
    "plt.ylabel('yTest')\n",
    "plt.xlabel('yHat')"
   ]
  }
 ],
 "metadata": {
  "application/vnd.databricks.v1+notebook": {
   "computePreferences": null,
   "dashboards": [],
   "environmentMetadata": null,
   "inputWidgetPreferences": null,
   "language": "python",
   "notebookMetadata": {
    "pythonIndentUnit": 2
   },
   "notebookName": "02 Regresión Logística",
   "widgets": {}
  },
  "kernelspec": {
   "display_name": "Python 3",
   "language": "python",
   "name": "python3"
  },
  "language_info": {
   "name": "python"
  },
  "name": "RegresionLogistica",
  "notebookId": 4364588448170564
 },
 "nbformat": 4,
 "nbformat_minor": 0
}
