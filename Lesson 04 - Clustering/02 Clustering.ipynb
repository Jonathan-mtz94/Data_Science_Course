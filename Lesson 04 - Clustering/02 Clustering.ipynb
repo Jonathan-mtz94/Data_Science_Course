{
 "cells": [
  {
   "cell_type": "markdown",
   "metadata": {
    "application/vnd.databricks.v1+cell": {
     "cellMetadata": {},
     "inputWidgets": {},
     "isMarkdownSandbox": true,
     "nuid": "a2fbbc69-4f69-402d-9fd8-2e30fec9879c",
     "showTitle": false,
     "tableResultSettingsMap": {},
     "title": ""
    }
   },
   "source": [
    "\n",
    "\n",
    "# <center>  Aprendizaje No Supervisado: Clustering </center>\n",
    "\n",
    "## Descripción\n",
    "En esta lección se abordan los algoritmos de clusterización: K-Means e Hierarchical clustering\n",
    "\n",
    "## Contenido\n",
    "* Importación de librerias y módulos\n",
    "* Carga dataset de trabajo\n",
    "* Análisis exploratorio de datos\n",
    "* Clusterización\n",
    "\n",
    "## Requisitos previos\n",
    "\n",
    "* Haber completado los cursos:\n",
    "  - Introducción a Python\n",
    "  - Estadística para Ciencia de Datos\n",
    "  - Introducción a Machine Learning\n"
   ]
  },
  {
   "cell_type": "markdown",
   "metadata": {
    "application/vnd.databricks.v1+cell": {
     "cellMetadata": {},
     "inputWidgets": {},
     "nuid": "dab8c084-d976-4954-a953-32542cb6f1e8",
     "showTitle": false,
     "tableResultSettingsMap": {},
     "title": ""
    }
   },
   "source": [
    "### Importar librerías y verificar versiones"
   ]
  },
  {
   "cell_type": "code",
   "execution_count": 0,
   "metadata": {
    "application/vnd.databricks.v1+cell": {
     "cellMetadata": {},
     "inputWidgets": {},
     "nuid": "398f929c-b3ae-4660-9579-378082c58d2b",
     "showTitle": false,
     "tableResultSettingsMap": {},
     "title": ""
    }
   },
   "outputs": [
    {
     "data": {
      "text/html": [
       "<style scoped>\n",
       "  .ansiout {\n",
       "    display: block;\n",
       "    unicode-bidi: embed;\n",
       "    white-space: pre-wrap;\n",
       "    word-wrap: break-word;\n",
       "    word-break: break-all;\n",
       "    font-family: \"Menlo\", \"Monaco\", \"Consolas\", \"Ubuntu Mono\", \"Source Code Pro\", monospace;\n",
       "    font-size: 13px;\n",
       "    color: #555;\n",
       "    margin-left: 4px;\n",
       "    line-height: 19px;\n",
       "  }\n",
       "</style>"
      ]
     },
     "metadata": {
      "application/vnd.databricks.v1+output": {
       "arguments": {},
       "data": "",
       "errorSummary": "",
       "errorTraceType": null,
       "metadata": {},
       "type": "ipynbError"
      }
     },
     "output_type": "display_data"
    }
   ],
   "source": [
    "import sys\n",
    "import datetime as dt\n",
    "import numpy as np\n",
    "import pandas as pd\n",
    "import sklearn as sk\n",
    "import matplotlib\n",
    "import seaborn as sns\n",
    "\n",
    "print('Python:', sys.version)\n",
    "print('NumPy:', np.__version__)\n",
    "print('Pandas:', pd.__version__)\n",
    "print('Seaborn:', sns.__version__)\n",
    "print('Matplotlib:', matplotlib.__version__)\n",
    "print('Scikit-learn:', sk.__version__)"
   ]
  },
  {
   "cell_type": "markdown",
   "metadata": {
    "application/vnd.databricks.v1+cell": {
     "cellMetadata": {},
     "inputWidgets": {},
     "nuid": "2b53708b-90dd-4684-8dc5-d4d4dcf2789b",
     "showTitle": false,
     "tableResultSettingsMap": {},
     "title": ""
    }
   },
   "source": [
    "## 1. Importar módulos específicos de librerías"
   ]
  },
  {
   "cell_type": "code",
   "execution_count": 0,
   "metadata": {
    "application/vnd.databricks.v1+cell": {
     "cellMetadata": {},
     "inputWidgets": {},
     "nuid": "8f7369bb-c7a0-47eb-93ed-f69ce21c3f0f",
     "showTitle": false,
     "tableResultSettingsMap": {},
     "title": ""
    }
   },
   "outputs": [
    {
     "data": {
      "text/html": [
       "<style scoped>\n",
       "  .ansiout {\n",
       "    display: block;\n",
       "    unicode-bidi: embed;\n",
       "    white-space: pre-wrap;\n",
       "    word-wrap: break-word;\n",
       "    word-break: break-all;\n",
       "    font-family: \"Menlo\", \"Monaco\", \"Consolas\", \"Ubuntu Mono\", \"Source Code Pro\", monospace;\n",
       "    font-size: 13px;\n",
       "    color: #555;\n",
       "    margin-left: 4px;\n",
       "    line-height: 19px;\n",
       "  }\n",
       "</style>"
      ]
     },
     "metadata": {
      "application/vnd.databricks.v1+output": {
       "arguments": {},
       "data": "",
       "errorSummary": "",
       "errorTraceType": null,
       "metadata": {},
       "type": "ipynbError"
      }
     },
     "output_type": "display_data"
    }
   ],
   "source": [
    "from sklearn.preprocessing import StandardScaler\n",
    "from sklearn.cluster import KMeans\n",
    "from sklearn.cluster import AgglomerativeClustering\n",
    "from scipy.cluster.hierarchy import linkage\n",
    "from scipy.cluster.hierarchy import dendrogram\n",
    "import matplotlib.pyplot as plt"
   ]
  },
  {
   "cell_type": "markdown",
   "metadata": {
    "application/vnd.databricks.v1+cell": {
     "cellMetadata": {},
     "inputWidgets": {},
     "nuid": "d1bc93a2-d450-4293-9fac-59ea82c52410",
     "showTitle": false,
     "tableResultSettingsMap": {},
     "title": ""
    }
   },
   "source": [
    "## 2. Dataset de Trabajo"
   ]
  },
  {
   "cell_type": "markdown",
   "metadata": {
    "application/vnd.databricks.v1+cell": {
     "cellMetadata": {},
     "inputWidgets": {},
     "nuid": "4abb4e68-c6e9-4c33-a5a2-d6189c8d1d7c",
     "showTitle": false,
     "tableResultSettingsMap": {},
     "title": ""
    }
   },
   "source": [
    "**df_retail:** Este conjunto de datos contiene todas las transacciones que ocurren para un minorista en línea (online) registrado en el Reino Unido entre el 2010-12-01 y el 2011-12-09. La compañía vende principalmente artículos de regalo únicos para toda ocasión. Muchos clientes de la empresa son mayoristas.\n",
    "\n",
    "<a href='https://storage.googleapis.com/datasets-academy/Track%20Data%20Science/02%20-%20Introduccion%20a%20Machine%20Learning/OnlineRetail.csv'>\n",
    "  Link para descargar el dataset OnlineRetail</a>"
   ]
  },
  {
   "cell_type": "markdown",
   "metadata": {
    "application/vnd.databricks.v1+cell": {
     "cellMetadata": {},
     "inputWidgets": {},
     "nuid": "9777bb5a-2260-4450-84c4-240e9433f0f5",
     "showTitle": false,
     "tableResultSettingsMap": {},
     "title": ""
    }
   },
   "source": [
    "**Objetivo del Clustering:** Segmentar a los clientes de la tienda online de acuerdo a los criterios de recencia, frecuencia y monto (RFM), para que la empresa pueda identificar a los clientes en base a estas características y realizar una campaña de marketing focalizada"
   ]
  },
  {
   "cell_type": "markdown",
   "metadata": {
    "application/vnd.databricks.v1+cell": {
     "cellMetadata": {},
     "inputWidgets": {},
     "nuid": "20afac15-2468-40e3-8ad1-92a417fdd79e",
     "showTitle": false,
     "tableResultSettingsMap": {},
     "title": ""
    }
   },
   "source": [
    "**Diccionario de datos**\n",
    "\n",
    "1. InvoiceNo: número de factura. Tipo nominal. Un número integral de 6 dígitos asignado exclusivamente a cada transacción. Si este código comienza con la letra 'c', indica una cancelación.\n",
    "2. StockCode: código de producto (artículo). Tipo Nominal. Un número integral de 5 dígitos asignado exclusivamente a cada producto distinto.\n",
    "3. Description: Nombre del producto (artículo). Tipo Nominal.\n",
    "4. Quantity: las cantidades de cada producto (artículo) por transacción. Tipo Numérico.\n",
    "5. InvoiceDate: fecha y hora de inicio. Tipo Date. El día y la hora en que se generó una transacción.\n",
    "6. UnitPrice: precio unitario. Tipo Numérico. Precio del producto por unidad en libras esterlinas (£).\n",
    "7. CustomerID: número de cliente. Tipo Nominal. Un número integral de 5 dígitos asignado exclusivamente a cada cliente.\n",
    "8. Country: nombre del país. Tipo Nominal. El nombre del país donde reside el cliente."
   ]
  },
  {
   "cell_type": "code",
   "execution_count": 0,
   "metadata": {
    "application/vnd.databricks.v1+cell": {
     "cellMetadata": {},
     "inputWidgets": {},
     "nuid": "81f700a0-8f45-4e2e-ae39-f668fa624ff8",
     "showTitle": false,
     "tableResultSettingsMap": {},
     "title": ""
    }
   },
   "outputs": [
    {
     "data": {
      "text/html": [
       "<style scoped>\n",
       "  .ansiout {\n",
       "    display: block;\n",
       "    unicode-bidi: embed;\n",
       "    white-space: pre-wrap;\n",
       "    word-wrap: break-word;\n",
       "    word-break: break-all;\n",
       "    font-family: \"Menlo\", \"Monaco\", \"Consolas\", \"Ubuntu Mono\", \"Source Code Pro\", monospace;\n",
       "    font-size: 13px;\n",
       "    color: #555;\n",
       "    margin-left: 4px;\n",
       "    line-height: 19px;\n",
       "  }\n",
       "</style>"
      ]
     },
     "metadata": {
      "application/vnd.databricks.v1+output": {
       "arguments": {},
       "data": "",
       "errorSummary": "",
       "errorTraceType": null,
       "metadata": {},
       "type": "ipynbError"
      }
     },
     "output_type": "display_data"
    }
   ],
   "source": [
    "ruta='https://storage.googleapis.com/datasets-academy/Track%20Data%20Science/02%20-%20Introduccion%20a%20Machine%20Learning/OnlineRetail.csv'"
   ]
  },
  {
   "cell_type": "code",
   "execution_count": 0,
   "metadata": {
    "application/vnd.databricks.v1+cell": {
     "cellMetadata": {},
     "inputWidgets": {},
     "nuid": "07181bc5-27ae-4a9f-8aa5-b9873b94793a",
     "showTitle": false,
     "tableResultSettingsMap": {},
     "title": ""
    }
   },
   "outputs": [
    {
     "data": {
      "text/html": [
       "<style scoped>\n",
       "  .ansiout {\n",
       "    display: block;\n",
       "    unicode-bidi: embed;\n",
       "    white-space: pre-wrap;\n",
       "    word-wrap: break-word;\n",
       "    word-break: break-all;\n",
       "    font-family: \"Menlo\", \"Monaco\", \"Consolas\", \"Ubuntu Mono\", \"Source Code Pro\", monospace;\n",
       "    font-size: 13px;\n",
       "    color: #555;\n",
       "    margin-left: 4px;\n",
       "    line-height: 19px;\n",
       "  }\n",
       "</style>"
      ]
     },
     "metadata": {
      "application/vnd.databricks.v1+output": {
       "arguments": {},
       "data": "",
       "errorSummary": "",
       "errorTraceType": null,
       "metadata": {},
       "type": "ipynbError"
      }
     },
     "output_type": "display_data"
    }
   ],
   "source": [
    "# Carga dataset\n",
    "df_retail = pd.read_csv(ruta, encoding = 'ISO-8859-1', header = 0)\n",
    "df_retail.head()"
   ]
  },
  {
   "cell_type": "code",
   "execution_count": 0,
   "metadata": {
    "application/vnd.databricks.v1+cell": {
     "cellMetadata": {},
     "inputWidgets": {},
     "nuid": "c8592c7b-43d8-4ccd-bd87-a341ba16ecd9",
     "showTitle": false,
     "tableResultSettingsMap": {},
     "title": ""
    }
   },
   "outputs": [
    {
     "data": {
      "text/html": [
       "<style scoped>\n",
       "  .ansiout {\n",
       "    display: block;\n",
       "    unicode-bidi: embed;\n",
       "    white-space: pre-wrap;\n",
       "    word-wrap: break-word;\n",
       "    word-break: break-all;\n",
       "    font-family: \"Menlo\", \"Monaco\", \"Consolas\", \"Ubuntu Mono\", \"Source Code Pro\", monospace;\n",
       "    font-size: 13px;\n",
       "    color: #555;\n",
       "    margin-left: 4px;\n",
       "    line-height: 19px;\n",
       "  }\n",
       "</style>"
      ]
     },
     "metadata": {
      "application/vnd.databricks.v1+output": {
       "arguments": {},
       "data": "",
       "errorSummary": "",
       "errorTraceType": null,
       "metadata": {},
       "type": "ipynbError"
      }
     },
     "output_type": "display_data"
    }
   ],
   "source": [
    "# Examinar número de filas y columnas\n",
    "df_retail.shape"
   ]
  },
  {
   "cell_type": "code",
   "execution_count": 0,
   "metadata": {
    "application/vnd.databricks.v1+cell": {
     "cellMetadata": {},
     "inputWidgets": {},
     "nuid": "e4620def-aee6-42ad-b607-fbf12794fe25",
     "showTitle": false,
     "tableResultSettingsMap": {},
     "title": ""
    }
   },
   "outputs": [
    {
     "data": {
      "text/html": [
       "<style scoped>\n",
       "  .ansiout {\n",
       "    display: block;\n",
       "    unicode-bidi: embed;\n",
       "    white-space: pre-wrap;\n",
       "    word-wrap: break-word;\n",
       "    word-break: break-all;\n",
       "    font-family: \"Menlo\", \"Monaco\", \"Consolas\", \"Ubuntu Mono\", \"Source Code Pro\", monospace;\n",
       "    font-size: 13px;\n",
       "    color: #555;\n",
       "    margin-left: 4px;\n",
       "    line-height: 19px;\n",
       "  }\n",
       "</style>"
      ]
     },
     "metadata": {
      "application/vnd.databricks.v1+output": {
       "arguments": {},
       "data": "",
       "errorSummary": "",
       "errorTraceType": null,
       "metadata": {},
       "type": "ipynbError"
      }
     },
     "output_type": "display_data"
    }
   ],
   "source": [
    "# Analizar el tipo de datos de cada variable\n",
    "df_retail.info()"
   ]
  },
  {
   "cell_type": "markdown",
   "metadata": {
    "application/vnd.databricks.v1+cell": {
     "cellMetadata": {},
     "inputWidgets": {},
     "nuid": "514a40ec-d4b7-49ba-9ebd-d81619f5dbe3",
     "showTitle": false,
     "tableResultSettingsMap": {},
     "title": ""
    }
   },
   "source": [
    "Se comprueba que algunas columnas poseen un tipo incorrecto conforme a nuestro diccionario de datos ([revisa aqui los formatos para fechas](https://docs.python.org/2.6/library/datetime.html#strftime-strptime-behavior))"
   ]
  },
  {
   "cell_type": "code",
   "execution_count": 0,
   "metadata": {
    "application/vnd.databricks.v1+cell": {
     "cellMetadata": {},
     "inputWidgets": {},
     "nuid": "33a1c75c-360f-46cd-8744-6af433ee71bd",
     "showTitle": false,
     "tableResultSettingsMap": {},
     "title": ""
    }
   },
   "outputs": [
    {
     "data": {
      "text/html": [
       "<style scoped>\n",
       "  .ansiout {\n",
       "    display: block;\n",
       "    unicode-bidi: embed;\n",
       "    white-space: pre-wrap;\n",
       "    word-wrap: break-word;\n",
       "    word-break: break-all;\n",
       "    font-family: \"Menlo\", \"Monaco\", \"Consolas\", \"Ubuntu Mono\", \"Source Code Pro\", monospace;\n",
       "    font-size: 13px;\n",
       "    color: #555;\n",
       "    margin-left: 4px;\n",
       "    line-height: 19px;\n",
       "  }\n",
       "</style>"
      ]
     },
     "metadata": {
      "application/vnd.databricks.v1+output": {
       "arguments": {},
       "data": "",
       "errorSummary": "",
       "errorTraceType": null,
       "metadata": {},
       "type": "ipynbError"
      }
     },
     "output_type": "display_data"
    }
   ],
   "source": [
    "# Transformar a columnas a formatos correctos de acuerdo al diccionario de datos\n",
    "df_retail['CustomerID'] = df_retail['CustomerID'].astype(str)\n",
    "df_retail['InvoiceDate'] = pd.to_datetime(df_retail['InvoiceDate'], format = '%d-%m-%Y %H:%M')\n",
    "df_retail.head()"
   ]
  },
  {
   "cell_type": "code",
   "execution_count": 0,
   "metadata": {
    "application/vnd.databricks.v1+cell": {
     "cellMetadata": {},
     "inputWidgets": {},
     "nuid": "4234c4c8-f20d-4d00-aca9-51134288f6eb",
     "showTitle": false,
     "tableResultSettingsMap": {},
     "title": ""
    }
   },
   "outputs": [
    {
     "data": {
      "text/html": [
       "<style scoped>\n",
       "  .ansiout {\n",
       "    display: block;\n",
       "    unicode-bidi: embed;\n",
       "    white-space: pre-wrap;\n",
       "    word-wrap: break-word;\n",
       "    word-break: break-all;\n",
       "    font-family: \"Menlo\", \"Monaco\", \"Consolas\", \"Ubuntu Mono\", \"Source Code Pro\", monospace;\n",
       "    font-size: 13px;\n",
       "    color: #555;\n",
       "    margin-left: 4px;\n",
       "    line-height: 19px;\n",
       "  }\n",
       "</style>"
      ]
     },
     "metadata": {
      "application/vnd.databricks.v1+output": {
       "arguments": {},
       "data": "",
       "errorSummary": "",
       "errorTraceType": null,
       "metadata": {},
       "type": "ipynbError"
      }
     },
     "output_type": "display_data"
    }
   ],
   "source": [
    "df_retail.dtypes"
   ]
  },
  {
   "cell_type": "markdown",
   "metadata": {
    "application/vnd.databricks.v1+cell": {
     "cellMetadata": {},
     "inputWidgets": {},
     "nuid": "6052479d-aa70-4a95-95b4-4368b4b2328f",
     "showTitle": false,
     "tableResultSettingsMap": {},
     "title": ""
    }
   },
   "source": [
    "## 3. Análisis exploratorio de datos"
   ]
  },
  {
   "cell_type": "code",
   "execution_count": 0,
   "metadata": {
    "application/vnd.databricks.v1+cell": {
     "cellMetadata": {},
     "inputWidgets": {},
     "nuid": "9c04d3f2-bf77-4451-a7fc-efd368669fc8",
     "showTitle": false,
     "tableResultSettingsMap": {},
     "title": ""
    }
   },
   "outputs": [
    {
     "data": {
      "text/html": [
       "<style scoped>\n",
       "  .ansiout {\n",
       "    display: block;\n",
       "    unicode-bidi: embed;\n",
       "    white-space: pre-wrap;\n",
       "    word-wrap: break-word;\n",
       "    word-break: break-all;\n",
       "    font-family: \"Menlo\", \"Monaco\", \"Consolas\", \"Ubuntu Mono\", \"Source Code Pro\", monospace;\n",
       "    font-size: 13px;\n",
       "    color: #555;\n",
       "    margin-left: 4px;\n",
       "    line-height: 19px;\n",
       "  }\n",
       "</style>"
      ]
     },
     "metadata": {
      "application/vnd.databricks.v1+output": {
       "arguments": {},
       "data": "",
       "errorSummary": "",
       "errorTraceType": null,
       "metadata": {},
       "type": "ipynbError"
      }
     },
     "output_type": "display_data"
    }
   ],
   "source": [
    "df_retail.describe(include = np.number)"
   ]
  },
  {
   "cell_type": "markdown",
   "metadata": {
    "application/vnd.databricks.v1+cell": {
     "cellMetadata": {},
     "inputWidgets": {},
     "nuid": "35eb8eed-895b-457d-9b01-112e2672aa53",
     "showTitle": false,
     "tableResultSettingsMap": {},
     "title": ""
    }
   },
   "source": [
    "Al revisar la calidad de los datos en las variables `Quantity` y `UnitPrice`, se evidencian valores negativos. Por conocimiento del negocio se sabe que si el `InvoceNo` comienza por la letra `C` significa que fue una cancelación."
   ]
  },
  {
   "cell_type": "code",
   "execution_count": 0,
   "metadata": {
    "application/vnd.databricks.v1+cell": {
     "cellMetadata": {},
     "inputWidgets": {},
     "nuid": "8b2ca1a1-6159-466c-92ae-634dd4518b90",
     "showTitle": false,
     "tableResultSettingsMap": {},
     "title": ""
    }
   },
   "outputs": [
    {
     "data": {
      "text/html": [
       "<style scoped>\n",
       "  .ansiout {\n",
       "    display: block;\n",
       "    unicode-bidi: embed;\n",
       "    white-space: pre-wrap;\n",
       "    word-wrap: break-word;\n",
       "    word-break: break-all;\n",
       "    font-family: \"Menlo\", \"Monaco\", \"Consolas\", \"Ubuntu Mono\", \"Source Code Pro\", monospace;\n",
       "    font-size: 13px;\n",
       "    color: #555;\n",
       "    margin-left: 4px;\n",
       "    line-height: 19px;\n",
       "  }\n",
       "</style>"
      ]
     },
     "metadata": {
      "application/vnd.databricks.v1+output": {
       "arguments": {},
       "data": "",
       "errorSummary": "",
       "errorTraceType": null,
       "metadata": {},
       "type": "ipynbError"
      }
     },
     "output_type": "display_data"
    }
   ],
   "source": [
    "df_retail.loc[df_retail['Quantity'] <= 0].head(10)"
   ]
  },
  {
   "cell_type": "code",
   "execution_count": 0,
   "metadata": {
    "application/vnd.databricks.v1+cell": {
     "cellMetadata": {},
     "inputWidgets": {},
     "nuid": "68be7709-326d-47e9-af18-bebd81d88e2c",
     "showTitle": false,
     "tableResultSettingsMap": {},
     "title": ""
    }
   },
   "outputs": [
    {
     "data": {
      "text/html": [
       "<style scoped>\n",
       "  .ansiout {\n",
       "    display: block;\n",
       "    unicode-bidi: embed;\n",
       "    white-space: pre-wrap;\n",
       "    word-wrap: break-word;\n",
       "    word-break: break-all;\n",
       "    font-family: \"Menlo\", \"Monaco\", \"Consolas\", \"Ubuntu Mono\", \"Source Code Pro\", monospace;\n",
       "    font-size: 13px;\n",
       "    color: #555;\n",
       "    margin-left: 4px;\n",
       "    line-height: 19px;\n",
       "  }\n",
       "</style>"
      ]
     },
     "metadata": {
      "application/vnd.databricks.v1+output": {
       "arguments": {},
       "data": "",
       "errorSummary": "",
       "errorTraceType": null,
       "metadata": {},
       "type": "ipynbError"
      }
     },
     "output_type": "display_data"
    }
   ],
   "source": [
    "df_retail.loc[df_retail['UnitPrice'] <= 0].head(10)"
   ]
  },
  {
   "cell_type": "markdown",
   "metadata": {
    "application/vnd.databricks.v1+cell": {
     "cellMetadata": {},
     "inputWidgets": {},
     "nuid": "bd6f4b0a-e8ab-4dcd-8838-5fa617c470e1",
     "showTitle": false,
     "tableResultSettingsMap": {},
     "title": ""
    }
   },
   "source": [
    "Se procede a filtar aquellas filas en ambas columnas que poseen valores mayores a cero"
   ]
  },
  {
   "cell_type": "code",
   "execution_count": 0,
   "metadata": {
    "application/vnd.databricks.v1+cell": {
     "cellMetadata": {},
     "inputWidgets": {},
     "nuid": "af70e27b-8028-487d-aa8c-d7ad3021d5a0",
     "showTitle": false,
     "tableResultSettingsMap": {},
     "title": ""
    }
   },
   "outputs": [
    {
     "data": {
      "text/html": [
       "<style scoped>\n",
       "  .ansiout {\n",
       "    display: block;\n",
       "    unicode-bidi: embed;\n",
       "    white-space: pre-wrap;\n",
       "    word-wrap: break-word;\n",
       "    word-break: break-all;\n",
       "    font-family: \"Menlo\", \"Monaco\", \"Consolas\", \"Ubuntu Mono\", \"Source Code Pro\", monospace;\n",
       "    font-size: 13px;\n",
       "    color: #555;\n",
       "    margin-left: 4px;\n",
       "    line-height: 19px;\n",
       "  }\n",
       "</style>"
      ]
     },
     "metadata": {
      "application/vnd.databricks.v1+output": {
       "arguments": {},
       "data": "",
       "errorSummary": "",
       "errorTraceType": null,
       "metadata": {},
       "type": "ipynbError"
      }
     },
     "output_type": "display_data"
    }
   ],
   "source": [
    "df_retail_fitrado = df_retail.loc[(df_retail['Quantity'] > 0) & (df_retail['UnitPrice'] > 0)].copy()\n",
    "df_retail_fitrado.shape"
   ]
  },
  {
   "cell_type": "markdown",
   "metadata": {
    "application/vnd.databricks.v1+cell": {
     "cellMetadata": {},
     "inputWidgets": {},
     "nuid": "9b4b7084-caa0-49db-a38c-2ff772b6e5b5",
     "showTitle": false,
     "tableResultSettingsMap": {},
     "title": ""
    }
   },
   "source": [
    "Calcular la proporción de valores faltantes por columna"
   ]
  },
  {
   "cell_type": "code",
   "execution_count": 0,
   "metadata": {
    "application/vnd.databricks.v1+cell": {
     "cellMetadata": {},
     "inputWidgets": {},
     "nuid": "42f901fa-9302-48a3-ab1e-b3f441102ba3",
     "showTitle": false,
     "tableResultSettingsMap": {},
     "title": ""
    }
   },
   "outputs": [
    {
     "data": {
      "text/html": [
       "<style scoped>\n",
       "  .ansiout {\n",
       "    display: block;\n",
       "    unicode-bidi: embed;\n",
       "    white-space: pre-wrap;\n",
       "    word-wrap: break-word;\n",
       "    word-break: break-all;\n",
       "    font-family: \"Menlo\", \"Monaco\", \"Consolas\", \"Ubuntu Mono\", \"Source Code Pro\", monospace;\n",
       "    font-size: 13px;\n",
       "    color: #555;\n",
       "    margin-left: 4px;\n",
       "    line-height: 19px;\n",
       "  }\n",
       "</style>"
      ]
     },
     "metadata": {
      "application/vnd.databricks.v1+output": {
       "arguments": {},
       "data": "",
       "errorSummary": "",
       "errorTraceType": null,
       "metadata": {},
       "type": "ipynbError"
      }
     },
     "output_type": "display_data"
    }
   ],
   "source": [
    "df_retail_fitrado.isnull().sum() / len(df_retail_fitrado)"
   ]
  },
  {
   "cell_type": "markdown",
   "metadata": {
    "application/vnd.databricks.v1+cell": {
     "cellMetadata": {},
     "inputWidgets": {},
     "nuid": "3dca8bd7-423e-4810-9944-44c1e2423d8a",
     "showTitle": false,
     "tableResultSettingsMap": {},
     "title": ""
    }
   },
   "source": [
    "### 3.1 Transformaciones para el análisis RFM"
   ]
  },
  {
   "cell_type": "code",
   "execution_count": 0,
   "metadata": {
    "application/vnd.databricks.v1+cell": {
     "cellMetadata": {},
     "inputWidgets": {},
     "nuid": "e1d0468a-5da4-4515-a465-3048d092494b",
     "showTitle": false,
     "tableResultSettingsMap": {},
     "title": ""
    }
   },
   "outputs": [
    {
     "data": {
      "text/html": [
       "<style scoped>\n",
       "  .ansiout {\n",
       "    display: block;\n",
       "    unicode-bidi: embed;\n",
       "    white-space: pre-wrap;\n",
       "    word-wrap: break-word;\n",
       "    word-break: break-all;\n",
       "    font-family: \"Menlo\", \"Monaco\", \"Consolas\", \"Ubuntu Mono\", \"Source Code Pro\", monospace;\n",
       "    font-size: 13px;\n",
       "    color: #555;\n",
       "    margin-left: 4px;\n",
       "    line-height: 19px;\n",
       "  }\n",
       "</style>"
      ]
     },
     "metadata": {
      "application/vnd.databricks.v1+output": {
       "arguments": {},
       "data": "",
       "errorSummary": "",
       "errorTraceType": null,
       "metadata": {},
       "type": "ipynbError"
      }
     },
     "output_type": "display_data"
    }
   ],
   "source": [
    "# Calcular el monto de las ventas (precio * cantidad)\n",
    "df_retail_fitrado['Total_Sales'] = df_retail_fitrado['Quantity'] * df_retail_fitrado['UnitPrice']\n",
    "df_retail_fitrado.head()"
   ]
  },
  {
   "cell_type": "code",
   "execution_count": 0,
   "metadata": {
    "application/vnd.databricks.v1+cell": {
     "cellMetadata": {},
     "inputWidgets": {},
     "nuid": "5d946a2f-8b14-4920-ada1-e4fb637c7888",
     "showTitle": false,
     "tableResultSettingsMap": {},
     "title": ""
    }
   },
   "outputs": [
    {
     "data": {
      "text/html": [
       "<style scoped>\n",
       "  .ansiout {\n",
       "    display: block;\n",
       "    unicode-bidi: embed;\n",
       "    white-space: pre-wrap;\n",
       "    word-wrap: break-word;\n",
       "    word-break: break-all;\n",
       "    font-family: \"Menlo\", \"Monaco\", \"Consolas\", \"Ubuntu Mono\", \"Source Code Pro\", monospace;\n",
       "    font-size: 13px;\n",
       "    color: #555;\n",
       "    margin-left: 4px;\n",
       "    line-height: 19px;\n",
       "  }\n",
       "</style>"
      ]
     },
     "metadata": {
      "application/vnd.databricks.v1+output": {
       "arguments": {},
       "data": "",
       "errorSummary": "",
       "errorTraceType": null,
       "metadata": {},
       "type": "ipynbError"
      }
     },
     "output_type": "display_data"
    }
   ],
   "source": [
    "# Cálculo para la recencia: Guardamos la fecha de la última transacción\n",
    "fecha_max = df_retail_fitrado['InvoiceDate'].max()\n",
    "fecha_max"
   ]
  },
  {
   "cell_type": "code",
   "execution_count": 0,
   "metadata": {
    "application/vnd.databricks.v1+cell": {
     "cellMetadata": {},
     "inputWidgets": {},
     "nuid": "9d5d0b7a-368c-4491-a099-779fe36271cf",
     "showTitle": false,
     "tableResultSettingsMap": {},
     "title": ""
    }
   },
   "outputs": [
    {
     "data": {
      "text/html": [
       "<style scoped>\n",
       "  .ansiout {\n",
       "    display: block;\n",
       "    unicode-bidi: embed;\n",
       "    white-space: pre-wrap;\n",
       "    word-wrap: break-word;\n",
       "    word-break: break-all;\n",
       "    font-family: \"Menlo\", \"Monaco\", \"Consolas\", \"Ubuntu Mono\", \"Source Code Pro\", monospace;\n",
       "    font-size: 13px;\n",
       "    color: #555;\n",
       "    margin-left: 4px;\n",
       "    line-height: 19px;\n",
       "  }\n",
       "</style>"
      ]
     },
     "metadata": {
      "application/vnd.databricks.v1+output": {
       "arguments": {},
       "data": "",
       "errorSummary": "",
       "errorTraceType": null,
       "metadata": {},
       "type": "ipynbError"
      }
     },
     "output_type": "display_data"
    }
   ],
   "source": [
    "# Calcular la diferencia entre la fecha de la última transacción y la fecha que se realizó la transacción\n",
    "df_retail_fitrado['Date_difference'] = fecha_max - df_retail_fitrado['InvoiceDate']\n",
    "\n",
    "#Convertir en número de días usando datetime\n",
    "df_retail_fitrado['Date_difference'] = df_retail_fitrado['Date_difference'].dt.days\n",
    "df_retail_fitrado.head()"
   ]
  },
  {
   "cell_type": "markdown",
   "metadata": {
    "application/vnd.databricks.v1+cell": {
     "cellMetadata": {},
     "inputWidgets": {},
     "nuid": "35085bf4-0958-496f-9cde-52db6ce4449e",
     "showTitle": false,
     "tableResultSettingsMap": {},
     "title": ""
    }
   },
   "source": [
    "Procedemos a realizar el agrupamiento por cliente de acuerdo a la columna CustomerID siguiendo la siguiente lógica para el análisis de RFM:\n",
    "- Monto: Sumatoria de las ventas totales\n",
    "- Frecuencia: Conteo de la cantidad de productos vendidos\n",
    "- Recencia: Mínimo número de días desde que realizó una transacción con respecto a la fecha de corte"
   ]
  },
  {
   "cell_type": "code",
   "execution_count": 0,
   "metadata": {
    "application/vnd.databricks.v1+cell": {
     "cellMetadata": {},
     "inputWidgets": {},
     "nuid": "8875d46d-9f4d-4761-aee1-95f4fccc1ada",
     "showTitle": false,
     "tableResultSettingsMap": {},
     "title": ""
    }
   },
   "outputs": [
    {
     "data": {
      "text/html": [
       "<style scoped>\n",
       "  .ansiout {\n",
       "    display: block;\n",
       "    unicode-bidi: embed;\n",
       "    white-space: pre-wrap;\n",
       "    word-wrap: break-word;\n",
       "    word-break: break-all;\n",
       "    font-family: \"Menlo\", \"Monaco\", \"Consolas\", \"Ubuntu Mono\", \"Source Code Pro\", monospace;\n",
       "    font-size: 13px;\n",
       "    color: #555;\n",
       "    margin-left: 4px;\n",
       "    line-height: 19px;\n",
       "  }\n",
       "</style>"
      ]
     },
     "metadata": {
      "application/vnd.databricks.v1+output": {
       "arguments": {},
       "data": "",
       "errorSummary": "",
       "errorTraceType": null,
       "metadata": {},
       "type": "ipynbError"
      }
     },
     "output_type": "display_data"
    }
   ],
   "source": [
    "# Agrupar clientes por Monto, Frecuencia y Recencia\n",
    "df_rfm = df_retail_fitrado.groupby('CustomerID').agg({'Total_Sales': 'sum', 'Quantity': 'count', 'Date_difference': 'min'})\n",
    "df_rfm.head()"
   ]
  },
  {
   "cell_type": "code",
   "execution_count": 0,
   "metadata": {
    "application/vnd.databricks.v1+cell": {
     "cellMetadata": {},
     "inputWidgets": {},
     "nuid": "b1479bac-70af-4ae0-b446-9ba7a22fa009",
     "showTitle": false,
     "tableResultSettingsMap": {},
     "title": ""
    }
   },
   "outputs": [
    {
     "data": {
      "text/html": [
       "<style scoped>\n",
       "  .ansiout {\n",
       "    display: block;\n",
       "    unicode-bidi: embed;\n",
       "    white-space: pre-wrap;\n",
       "    word-wrap: break-word;\n",
       "    word-break: break-all;\n",
       "    font-family: \"Menlo\", \"Monaco\", \"Consolas\", \"Ubuntu Mono\", \"Source Code Pro\", monospace;\n",
       "    font-size: 13px;\n",
       "    color: #555;\n",
       "    margin-left: 4px;\n",
       "    line-height: 19px;\n",
       "  }\n",
       "</style>"
      ]
     },
     "metadata": {
      "application/vnd.databricks.v1+output": {
       "arguments": {},
       "data": "",
       "errorSummary": "",
       "errorTraceType": null,
       "metadata": {},
       "type": "ipynbError"
      }
     },
     "output_type": "display_data"
    }
   ],
   "source": [
    "df_rfm.shape"
   ]
  },
  {
   "cell_type": "code",
   "execution_count": 0,
   "metadata": {
    "application/vnd.databricks.v1+cell": {
     "cellMetadata": {},
     "inputWidgets": {},
     "nuid": "49aa9de7-bd03-43eb-95a0-bb5e38f43f48",
     "showTitle": false,
     "tableResultSettingsMap": {},
     "title": ""
    }
   },
   "outputs": [
    {
     "data": {
      "text/html": [
       "<style scoped>\n",
       "  .ansiout {\n",
       "    display: block;\n",
       "    unicode-bidi: embed;\n",
       "    white-space: pre-wrap;\n",
       "    word-wrap: break-word;\n",
       "    word-break: break-all;\n",
       "    font-family: \"Menlo\", \"Monaco\", \"Consolas\", \"Ubuntu Mono\", \"Source Code Pro\", monospace;\n",
       "    font-size: 13px;\n",
       "    color: #555;\n",
       "    margin-left: 4px;\n",
       "    line-height: 19px;\n",
       "  }\n",
       "</style>"
      ]
     },
     "metadata": {
      "application/vnd.databricks.v1+output": {
       "arguments": {},
       "data": "",
       "errorSummary": "",
       "errorTraceType": null,
       "metadata": {},
       "type": "ipynbError"
      }
     },
     "output_type": "display_data"
    }
   ],
   "source": [
    "# Renombrar columnas\n",
    "df_rfm.rename(columns = {'Total_Sales': 'Monto', 'Quantity': 'Frecuencia', 'Date_difference': 'Recencia'}, inplace = True)\n",
    "df_rfm.columns"
   ]
  },
  {
   "cell_type": "markdown",
   "metadata": {
    "application/vnd.databricks.v1+cell": {
     "cellMetadata": {},
     "inputWidgets": {},
     "nuid": "1f0b25be-b1a5-400f-9b26-c196df4e5bf9",
     "showTitle": false,
     "tableResultSettingsMap": {},
     "title": ""
    }
   },
   "source": [
    "### 3.2 Análisis de valores atípicos\n",
    "\n",
    "Aplicar la visualización box-plot para cada columna del dataframe:"
   ]
  },
  {
   "cell_type": "code",
   "execution_count": 0,
   "metadata": {
    "application/vnd.databricks.v1+cell": {
     "cellMetadata": {},
     "inputWidgets": {},
     "nuid": "ce4f1785-31e9-42d5-aa18-fd57003ba769",
     "showTitle": false,
     "tableResultSettingsMap": {},
     "title": ""
    }
   },
   "outputs": [
    {
     "data": {
      "text/html": [
       "<style scoped>\n",
       "  .ansiout {\n",
       "    display: block;\n",
       "    unicode-bidi: embed;\n",
       "    white-space: pre-wrap;\n",
       "    word-wrap: break-word;\n",
       "    word-break: break-all;\n",
       "    font-family: \"Menlo\", \"Monaco\", \"Consolas\", \"Ubuntu Mono\", \"Source Code Pro\", monospace;\n",
       "    font-size: 13px;\n",
       "    color: #555;\n",
       "    margin-left: 4px;\n",
       "    line-height: 19px;\n",
       "  }\n",
       "</style>"
      ]
     },
     "metadata": {
      "application/vnd.databricks.v1+output": {
       "arguments": {},
       "data": "",
       "errorSummary": "",
       "errorTraceType": null,
       "metadata": {},
       "type": "ipynbError"
      }
     },
     "output_type": "display_data"
    }
   ],
   "source": [
    "display(df_rfm)"
   ]
  },
  {
   "cell_type": "code",
   "execution_count": 0,
   "metadata": {
    "application/vnd.databricks.v1+cell": {
     "cellMetadata": {},
     "inputWidgets": {},
     "nuid": "b2364719-23f0-4dd6-a632-7327aa3dd5b1",
     "showTitle": false,
     "tableResultSettingsMap": {},
     "title": ""
    }
   },
   "outputs": [
    {
     "data": {
      "text/html": [
       "<style scoped>\n",
       "  .ansiout {\n",
       "    display: block;\n",
       "    unicode-bidi: embed;\n",
       "    white-space: pre-wrap;\n",
       "    word-wrap: break-word;\n",
       "    word-break: break-all;\n",
       "    font-family: \"Menlo\", \"Monaco\", \"Consolas\", \"Ubuntu Mono\", \"Source Code Pro\", monospace;\n",
       "    font-size: 13px;\n",
       "    color: #555;\n",
       "    margin-left: 4px;\n",
       "    line-height: 19px;\n",
       "  }\n",
       "</style>"
      ]
     },
     "metadata": {
      "application/vnd.databricks.v1+output": {
       "arguments": {},
       "data": "",
       "errorSummary": "",
       "errorTraceType": null,
       "metadata": {},
       "type": "ipynbError"
      }
     },
     "output_type": "display_data"
    }
   ],
   "source": [
    "# Remover los outliers para la Recencia\n",
    "Q1 = df_rfm.Recencia.quantile(0.25)\n",
    "Q3 = df_rfm.Recencia.quantile(0.75)\n",
    "IQR = Q3 - Q1\n",
    "df_limpio_rec = df_rfm[(df_rfm.Recencia >= Q1 - 1.5*IQR) & (df_rfm.Recencia <= Q3 + 1.5*IQR)].copy()"
   ]
  },
  {
   "cell_type": "code",
   "execution_count": 0,
   "metadata": {
    "application/vnd.databricks.v1+cell": {
     "cellMetadata": {},
     "inputWidgets": {},
     "nuid": "22757aa6-b51b-4def-b533-5e4e8343a8e7",
     "showTitle": false,
     "tableResultSettingsMap": {},
     "title": ""
    }
   },
   "outputs": [
    {
     "data": {
      "text/html": [
       "<style scoped>\n",
       "  .ansiout {\n",
       "    display: block;\n",
       "    unicode-bidi: embed;\n",
       "    white-space: pre-wrap;\n",
       "    word-wrap: break-word;\n",
       "    word-break: break-all;\n",
       "    font-family: \"Menlo\", \"Monaco\", \"Consolas\", \"Ubuntu Mono\", \"Source Code Pro\", monospace;\n",
       "    font-size: 13px;\n",
       "    color: #555;\n",
       "    margin-left: 4px;\n",
       "    line-height: 19px;\n",
       "  }\n",
       "</style>"
      ]
     },
     "metadata": {
      "application/vnd.databricks.v1+output": {
       "arguments": {},
       "data": "",
       "errorSummary": "",
       "errorTraceType": null,
       "metadata": {},
       "type": "ipynbError"
      }
     },
     "output_type": "display_data"
    }
   ],
   "source": [
    "# Remover los outliers para la Frecuencia\n",
    "Q1 = df_limpio_rec.Frecuencia.quantile(0.25)\n",
    "Q3 = df_limpio_rec.Frecuencia.quantile(0.75)\n",
    "IQR = Q3 - Q1\n",
    "df_limpio_frec = df_limpio_rec[(df_limpio_rec.Frecuencia >= Q1 - 1.5*IQR) & (df_limpio_rec.Frecuencia <= Q3 + 1.5*IQR)].copy()"
   ]
  },
  {
   "cell_type": "code",
   "execution_count": 0,
   "metadata": {
    "application/vnd.databricks.v1+cell": {
     "cellMetadata": {},
     "inputWidgets": {},
     "nuid": "49833aff-80b8-4019-92ca-621b371464f5",
     "showTitle": false,
     "tableResultSettingsMap": {},
     "title": ""
    }
   },
   "outputs": [
    {
     "data": {
      "text/html": [
       "<style scoped>\n",
       "  .ansiout {\n",
       "    display: block;\n",
       "    unicode-bidi: embed;\n",
       "    white-space: pre-wrap;\n",
       "    word-wrap: break-word;\n",
       "    word-break: break-all;\n",
       "    font-family: \"Menlo\", \"Monaco\", \"Consolas\", \"Ubuntu Mono\", \"Source Code Pro\", monospace;\n",
       "    font-size: 13px;\n",
       "    color: #555;\n",
       "    margin-left: 4px;\n",
       "    line-height: 19px;\n",
       "  }\n",
       "</style>"
      ]
     },
     "metadata": {
      "application/vnd.databricks.v1+output": {
       "arguments": {},
       "data": "",
       "errorSummary": "",
       "errorTraceType": null,
       "metadata": {},
       "type": "ipynbError"
      }
     },
     "output_type": "display_data"
    }
   ],
   "source": [
    "# Remover los outliers para la Monto\n",
    "Q1 = df_limpio_frec.Monto.quantile(0.25)\n",
    "Q3 = df_limpio_frec.Monto.quantile(0.75)\n",
    "IQR = Q3 - Q1\n",
    "df_limpio_final = df_limpio_frec[(df_limpio_frec.Monto >= Q1 - 1.5*IQR) & (df_limpio_frec.Monto <= Q3 + 1.5*IQR)].copy()"
   ]
  },
  {
   "cell_type": "code",
   "execution_count": 0,
   "metadata": {
    "application/vnd.databricks.v1+cell": {
     "cellMetadata": {},
     "inputWidgets": {},
     "nuid": "240532d4-4c9a-4f3a-97aa-129ed3652631",
     "showTitle": false,
     "tableResultSettingsMap": {},
     "title": ""
    }
   },
   "outputs": [
    {
     "data": {
      "text/html": [
       "<style scoped>\n",
       "  .ansiout {\n",
       "    display: block;\n",
       "    unicode-bidi: embed;\n",
       "    white-space: pre-wrap;\n",
       "    word-wrap: break-word;\n",
       "    word-break: break-all;\n",
       "    font-family: \"Menlo\", \"Monaco\", \"Consolas\", \"Ubuntu Mono\", \"Source Code Pro\", monospace;\n",
       "    font-size: 13px;\n",
       "    color: #555;\n",
       "    margin-left: 4px;\n",
       "    line-height: 19px;\n",
       "  }\n",
       "</style>"
      ]
     },
     "metadata": {
      "application/vnd.databricks.v1+output": {
       "arguments": {},
       "data": "",
       "errorSummary": "",
       "errorTraceType": null,
       "metadata": {},
       "type": "ipynbError"
      }
     },
     "output_type": "display_data"
    }
   ],
   "source": [
    "df_limpio_final.shape"
   ]
  },
  {
   "cell_type": "markdown",
   "metadata": {
    "application/vnd.databricks.v1+cell": {
     "cellMetadata": {},
     "inputWidgets": {},
     "nuid": "28b81849-3e15-49b8-ac38-ee27847db93c",
     "showTitle": false,
     "tableResultSettingsMap": {},
     "title": ""
    }
   },
   "source": [
    "### 3.3  Visualización descriptiva del DataFrame"
   ]
  },
  {
   "cell_type": "code",
   "execution_count": 0,
   "metadata": {
    "application/vnd.databricks.v1+cell": {
     "cellMetadata": {},
     "inputWidgets": {},
     "nuid": "1324200a-f96a-4836-84f6-fd0baceab69f",
     "showTitle": false,
     "tableResultSettingsMap": {},
     "title": ""
    },
    "scrolled": false
   },
   "outputs": [
    {
     "data": {
      "text/html": [
       "<style scoped>\n",
       "  .ansiout {\n",
       "    display: block;\n",
       "    unicode-bidi: embed;\n",
       "    white-space: pre-wrap;\n",
       "    word-wrap: break-word;\n",
       "    word-break: break-all;\n",
       "    font-family: \"Menlo\", \"Monaco\", \"Consolas\", \"Ubuntu Mono\", \"Source Code Pro\", monospace;\n",
       "    font-size: 13px;\n",
       "    color: #555;\n",
       "    margin-left: 4px;\n",
       "    line-height: 19px;\n",
       "  }\n",
       "</style>"
      ]
     },
     "metadata": {
      "application/vnd.databricks.v1+output": {
       "arguments": {},
       "data": "",
       "errorSummary": "",
       "errorTraceType": null,
       "metadata": {},
       "type": "ipynbError"
      }
     },
     "output_type": "display_data"
    }
   ],
   "source": [
    "sns.pairplot(df_limpio_final)"
   ]
  },
  {
   "cell_type": "markdown",
   "metadata": {
    "application/vnd.databricks.v1+cell": {
     "cellMetadata": {},
     "inputWidgets": {},
     "nuid": "ca173dd7-a585-4bba-a8fe-6d7d33f37ff4",
     "showTitle": false,
     "tableResultSettingsMap": {},
     "title": ""
    }
   },
   "source": [
    "### 3.4 Escalamiento de los datos"
   ]
  },
  {
   "cell_type": "code",
   "execution_count": 0,
   "metadata": {
    "application/vnd.databricks.v1+cell": {
     "cellMetadata": {},
     "inputWidgets": {},
     "nuid": "9ba7c0f8-67e5-466d-8c25-476d9a94b645",
     "showTitle": false,
     "tableResultSettingsMap": {},
     "title": ""
    }
   },
   "outputs": [
    {
     "data": {
      "text/html": [
       "<style scoped>\n",
       "  .ansiout {\n",
       "    display: block;\n",
       "    unicode-bidi: embed;\n",
       "    white-space: pre-wrap;\n",
       "    word-wrap: break-word;\n",
       "    word-break: break-all;\n",
       "    font-family: \"Menlo\", \"Monaco\", \"Consolas\", \"Ubuntu Mono\", \"Source Code Pro\", monospace;\n",
       "    font-size: 13px;\n",
       "    color: #555;\n",
       "    margin-left: 4px;\n",
       "    line-height: 19px;\n",
       "  }\n",
       "</style>"
      ]
     },
     "metadata": {
      "application/vnd.databricks.v1+output": {
       "arguments": {},
       "data": "",
       "errorSummary": "",
       "errorTraceType": null,
       "metadata": {},
       "type": "ipynbError"
      }
     },
     "output_type": "display_data"
    }
   ],
   "source": [
    "rfm_escalado = StandardScaler().fit_transform(df_limpio_final)\n",
    "rfm_escalado"
   ]
  },
  {
   "cell_type": "code",
   "execution_count": 0,
   "metadata": {
    "application/vnd.databricks.v1+cell": {
     "cellMetadata": {},
     "inputWidgets": {},
     "nuid": "b0832ae9-213b-44b9-9b18-725299fb610b",
     "showTitle": false,
     "tableResultSettingsMap": {},
     "title": ""
    }
   },
   "outputs": [
    {
     "data": {
      "text/html": [
       "<style scoped>\n",
       "  .ansiout {\n",
       "    display: block;\n",
       "    unicode-bidi: embed;\n",
       "    white-space: pre-wrap;\n",
       "    word-wrap: break-word;\n",
       "    word-break: break-all;\n",
       "    font-family: \"Menlo\", \"Monaco\", \"Consolas\", \"Ubuntu Mono\", \"Source Code Pro\", monospace;\n",
       "    font-size: 13px;\n",
       "    color: #555;\n",
       "    margin-left: 4px;\n",
       "    line-height: 19px;\n",
       "  }\n",
       "</style>"
      ]
     },
     "metadata": {
      "application/vnd.databricks.v1+output": {
       "arguments": {},
       "data": "",
       "errorSummary": "",
       "errorTraceType": null,
       "metadata": {},
       "type": "ipynbError"
      }
     },
     "output_type": "display_data"
    }
   ],
   "source": [
    "type(rfm_escalado)"
   ]
  },
  {
   "cell_type": "markdown",
   "metadata": {
    "application/vnd.databricks.v1+cell": {
     "cellMetadata": {},
     "inputWidgets": {},
     "nuid": "73eeafae-aed1-4c2d-99de-4d9e758a0b75",
     "showTitle": false,
     "tableResultSettingsMap": {},
     "title": ""
    }
   },
   "source": [
    "## 4. Clusterización\n",
    "\n",
    "Se analizará dos algoritmos para realizar el proceso de agrupamientos de las observaciones\n",
    "\n",
    "### 4. K-Means Clustering\n",
    "\n",
    "Usando Scikit-learn, debemos primero importar la instancia de ```sklearn.cluster.KMeans```, e invocar los métodos necesarios:\n",
    "\n",
    "1. Preparar los datos X\n",
    "2. Crear instancia de ```sklearn.cluster.KMeans```:\n",
    "\n",
    "``` python\n",
    "km = KMeans(n_clusters = 3, \n",
    "            init       = \"k-means++\",\n",
    "            n_jobs     = 4, \n",
    "            random_state = 0\n",
    "           )\n",
    "```\n",
    "3. Entrenar:\n",
    "```\n",
    "km.fit(X)\n",
    "```\n",
    "4. Identificar etiquetas de clasificación:\n",
    "```\n",
    "km.labels_\n",
    "```\n",
    "\n",
    "A continuación describiremos los argumentos más comunes:\n",
    "\n",
    "\n",
    "---\n",
    "**```sklearn.cluster.KMeans(n_clusters=8, init=’k-means++’, n_init=10, max_iter=300, tol=0.0001, precompute_distances=’auto’, verbose=0, random_state=None, copy_x=True, n_jobs=None, algorithm=’auto’)[source]```**\n",
    "\n",
    "[Documentación](https://scikit-learn.org/stable/modules/generated/sklearn.cluster.KMeans.html#sklearn.cluster.KMeans)"
   ]
  },
  {
   "cell_type": "code",
   "execution_count": 0,
   "metadata": {
    "application/vnd.databricks.v1+cell": {
     "cellMetadata": {},
     "inputWidgets": {},
     "nuid": "04aae109-fdbc-4aba-b3c7-b08743dda4f3",
     "showTitle": false,
     "tableResultSettingsMap": {},
     "title": ""
    }
   },
   "outputs": [
    {
     "data": {
      "text/html": [
       "<style scoped>\n",
       "  .ansiout {\n",
       "    display: block;\n",
       "    unicode-bidi: embed;\n",
       "    white-space: pre-wrap;\n",
       "    word-wrap: break-word;\n",
       "    word-break: break-all;\n",
       "    font-family: \"Menlo\", \"Monaco\", \"Consolas\", \"Ubuntu Mono\", \"Source Code Pro\", monospace;\n",
       "    font-size: 13px;\n",
       "    color: #555;\n",
       "    margin-left: 4px;\n",
       "    line-height: 19px;\n",
       "  }\n",
       "</style>"
      ]
     },
     "metadata": {
      "application/vnd.databricks.v1+output": {
       "arguments": {},
       "data": "",
       "errorSummary": "",
       "errorTraceType": null,
       "metadata": {},
       "type": "ipynbError"
      }
     },
     "output_type": "display_data"
    }
   ],
   "source": [
    "# Para encontrar el número óptimo de clusters\n",
    "wcss = []\n",
    "\n",
    "for i in range(1, 11):\n",
    "    kmeans = KMeans(n_clusters   = i, \n",
    "                    init         = 'k-means++', #selecciona los centroides de los clústeres iniciales de una manera inteligente para acelerar la convergencia\n",
    "                    max_iter     = 300, \n",
    "                    n_init       = 10, \n",
    "                    random_state = 0)\n",
    "    kmeans.fit(rfm_escalado)\n",
    "    wcss.append(kmeans.inertia_)"
   ]
  },
  {
   "cell_type": "code",
   "execution_count": 0,
   "metadata": {
    "application/vnd.databricks.v1+cell": {
     "cellMetadata": {},
     "inputWidgets": {},
     "nuid": "dbb1e9e6-9c8a-4c14-835a-bb60f17471a9",
     "showTitle": false,
     "tableResultSettingsMap": {},
     "title": ""
    }
   },
   "outputs": [
    {
     "data": {
      "text/html": [
       "<style scoped>\n",
       "  .ansiout {\n",
       "    display: block;\n",
       "    unicode-bidi: embed;\n",
       "    white-space: pre-wrap;\n",
       "    word-wrap: break-word;\n",
       "    word-break: break-all;\n",
       "    font-family: \"Menlo\", \"Monaco\", \"Consolas\", \"Ubuntu Mono\", \"Source Code Pro\", monospace;\n",
       "    font-size: 13px;\n",
       "    color: #555;\n",
       "    margin-left: 4px;\n",
       "    line-height: 19px;\n",
       "  }\n",
       "</style>"
      ]
     },
     "metadata": {
      "application/vnd.databricks.v1+output": {
       "arguments": {},
       "data": "",
       "errorSummary": "",
       "errorTraceType": null,
       "metadata": {},
       "type": "ipynbError"
      }
     },
     "output_type": "display_data"
    }
   ],
   "source": [
    "#Crear un dataframe con la métrica de evaluación y el número de clústeres\n",
    "numero_clusteres = list(enumerate(wcss, start = 1))\n",
    "metrica_wcss = np.array(numero_clusteres)\n",
    "df_wcss= pd.DataFrame(data = metrica_wcss, columns = ['CLUSTERS','WCSS'], index = range(1, 11))\n",
    "df_wcss"
   ]
  },
  {
   "cell_type": "markdown",
   "metadata": {
    "application/vnd.databricks.v1+cell": {
     "cellMetadata": {},
     "inputWidgets": {},
     "nuid": "60463704-c4dd-4320-ab53-f28f30c370be",
     "showTitle": false,
     "tableResultSettingsMap": {},
     "title": ""
    }
   },
   "source": [
    "El número óptimo de clusters está dado por el lugar de ocurrencia del \"codo\" (elbow), evaluando un gráfico de línea:"
   ]
  },
  {
   "cell_type": "code",
   "execution_count": 0,
   "metadata": {
    "application/vnd.databricks.v1+cell": {
     "cellMetadata": {},
     "inputWidgets": {},
     "nuid": "c3294125-fe30-4518-a70a-ec56e51995e8",
     "showTitle": false,
     "tableResultSettingsMap": {},
     "title": ""
    }
   },
   "outputs": [
    {
     "data": {
      "text/html": [
       "<style scoped>\n",
       "  .ansiout {\n",
       "    display: block;\n",
       "    unicode-bidi: embed;\n",
       "    white-space: pre-wrap;\n",
       "    word-wrap: break-word;\n",
       "    word-break: break-all;\n",
       "    font-family: \"Menlo\", \"Monaco\", \"Consolas\", \"Ubuntu Mono\", \"Source Code Pro\", monospace;\n",
       "    font-size: 13px;\n",
       "    color: #555;\n",
       "    margin-left: 4px;\n",
       "    line-height: 19px;\n",
       "  }\n",
       "</style>"
      ]
     },
     "metadata": {
      "application/vnd.databricks.v1+output": {
       "arguments": {},
       "data": "",
       "errorSummary": "",
       "errorTraceType": null,
       "metadata": {},
       "type": "ipynbError"
      }
     },
     "output_type": "display_data"
    }
   ],
   "source": [
    "display(df_wcss)"
   ]
  },
  {
   "cell_type": "markdown",
   "metadata": {
    "application/vnd.databricks.v1+cell": {
     "cellMetadata": {},
     "inputWidgets": {},
     "nuid": "7c0aee07-8663-45e9-9600-bcb2942681b0",
     "showTitle": false,
     "tableResultSettingsMap": {},
     "title": ""
    }
   },
   "source": [
    "Aplicamos KMeans con el número de clústers óptimo"
   ]
  },
  {
   "cell_type": "code",
   "execution_count": 0,
   "metadata": {
    "application/vnd.databricks.v1+cell": {
     "cellMetadata": {},
     "inputWidgets": {},
     "nuid": "74dab28c-3169-4edb-acf9-4c0b66f909ab",
     "showTitle": false,
     "tableResultSettingsMap": {},
     "title": ""
    }
   },
   "outputs": [
    {
     "data": {
      "text/html": [
       "<style scoped>\n",
       "  .ansiout {\n",
       "    display: block;\n",
       "    unicode-bidi: embed;\n",
       "    white-space: pre-wrap;\n",
       "    word-wrap: break-word;\n",
       "    word-break: break-all;\n",
       "    font-family: \"Menlo\", \"Monaco\", \"Consolas\", \"Ubuntu Mono\", \"Source Code Pro\", monospace;\n",
       "    font-size: 13px;\n",
       "    color: #555;\n",
       "    margin-left: 4px;\n",
       "    line-height: 19px;\n",
       "  }\n",
       "</style>"
      ]
     },
     "metadata": {
      "application/vnd.databricks.v1+output": {
       "arguments": {},
       "data": "",
       "errorSummary": "",
       "errorTraceType": null,
       "metadata": {},
       "type": "ipynbError"
      }
     },
     "output_type": "display_data"
    }
   ],
   "source": [
    "kmeans = KMeans(n_clusters = 2, \n",
    "                init = 'k-means++', \n",
    "                max_iter = 300, \n",
    "                n_init = 10, \n",
    "                random_state = 0)\n",
    "\n",
    "kmeans.fit(rfm_escalado)"
   ]
  },
  {
   "cell_type": "code",
   "execution_count": 0,
   "metadata": {
    "application/vnd.databricks.v1+cell": {
     "cellMetadata": {},
     "inputWidgets": {},
     "nuid": "eafa7949-cea5-4e4e-b909-f38d3971391e",
     "showTitle": false,
     "tableResultSettingsMap": {},
     "title": ""
    }
   },
   "outputs": [
    {
     "data": {
      "text/html": [
       "<style scoped>\n",
       "  .ansiout {\n",
       "    display: block;\n",
       "    unicode-bidi: embed;\n",
       "    white-space: pre-wrap;\n",
       "    word-wrap: break-word;\n",
       "    word-break: break-all;\n",
       "    font-family: \"Menlo\", \"Monaco\", \"Consolas\", \"Ubuntu Mono\", \"Source Code Pro\", monospace;\n",
       "    font-size: 13px;\n",
       "    color: #555;\n",
       "    margin-left: 4px;\n",
       "    line-height: 19px;\n",
       "  }\n",
       "</style>"
      ]
     },
     "metadata": {
      "application/vnd.databricks.v1+output": {
       "arguments": {},
       "data": "",
       "errorSummary": "",
       "errorTraceType": null,
       "metadata": {},
       "type": "ipynbError"
      }
     },
     "output_type": "display_data"
    }
   ],
   "source": [
    "# Inercia: Suma de los cuadrados de las distancias de las observaciones respecto de sus centros\n",
    "kmeans.inertia_"
   ]
  },
  {
   "cell_type": "code",
   "execution_count": 0,
   "metadata": {
    "application/vnd.databricks.v1+cell": {
     "cellMetadata": {},
     "inputWidgets": {},
     "nuid": "1b78d1bd-1f4f-4576-908c-cb334391d434",
     "showTitle": false,
     "tableResultSettingsMap": {},
     "title": ""
    }
   },
   "outputs": [
    {
     "data": {
      "text/html": [
       "<style scoped>\n",
       "  .ansiout {\n",
       "    display: block;\n",
       "    unicode-bidi: embed;\n",
       "    white-space: pre-wrap;\n",
       "    word-wrap: break-word;\n",
       "    word-break: break-all;\n",
       "    font-family: \"Menlo\", \"Monaco\", \"Consolas\", \"Ubuntu Mono\", \"Source Code Pro\", monospace;\n",
       "    font-size: 13px;\n",
       "    color: #555;\n",
       "    margin-left: 4px;\n",
       "    line-height: 19px;\n",
       "  }\n",
       "</style>"
      ]
     },
     "metadata": {
      "application/vnd.databricks.v1+output": {
       "arguments": {},
       "data": "",
       "errorSummary": "",
       "errorTraceType": null,
       "metadata": {},
       "type": "ipynbError"
      }
     },
     "output_type": "display_data"
    }
   ],
   "source": [
    "# Guardamos las etiquetas de cada cliente (cada clúster)\n",
    "etiquetas = kmeans.labels_\n",
    "etiquetas"
   ]
  },
  {
   "cell_type": "markdown",
   "metadata": {
    "application/vnd.databricks.v1+cell": {
     "cellMetadata": {},
     "inputWidgets": {},
     "nuid": "fc99d028-073e-4eb8-afb5-9a64a79d0435",
     "showTitle": false,
     "tableResultSettingsMap": {},
     "title": ""
    }
   },
   "source": [
    "**Visualización por cluster**"
   ]
  },
  {
   "cell_type": "code",
   "execution_count": 0,
   "metadata": {
    "application/vnd.databricks.v1+cell": {
     "cellMetadata": {},
     "inputWidgets": {},
     "nuid": "ff6c0c0a-0158-42aa-90a3-09cbb5ace93f",
     "showTitle": false,
     "tableResultSettingsMap": {},
     "title": ""
    }
   },
   "outputs": [
    {
     "data": {
      "text/html": [
       "<style scoped>\n",
       "  .ansiout {\n",
       "    display: block;\n",
       "    unicode-bidi: embed;\n",
       "    white-space: pre-wrap;\n",
       "    word-wrap: break-word;\n",
       "    word-break: break-all;\n",
       "    font-family: \"Menlo\", \"Monaco\", \"Consolas\", \"Ubuntu Mono\", \"Source Code Pro\", monospace;\n",
       "    font-size: 13px;\n",
       "    color: #555;\n",
       "    margin-left: 4px;\n",
       "    line-height: 19px;\n",
       "  }\n",
       "</style>"
      ]
     },
     "metadata": {
      "application/vnd.databricks.v1+output": {
       "arguments": {},
       "data": "",
       "errorSummary": "",
       "errorTraceType": null,
       "metadata": {},
       "type": "ipynbError"
      }
     },
     "output_type": "display_data"
    }
   ],
   "source": [
    "# Creación de una nueva columna en el dataframe con las etiquetas\n",
    "df_limpio_final['Cluster_kmeans'] = etiquetas\n",
    "df_limpio_final.head()"
   ]
  },
  {
   "cell_type": "code",
   "execution_count": 0,
   "metadata": {
    "application/vnd.databricks.v1+cell": {
     "cellMetadata": {},
     "inputWidgets": {},
     "nuid": "132b9ec5-cffe-4b1f-b101-24f4bd6a9fd3",
     "showTitle": false,
     "tableResultSettingsMap": {},
     "title": ""
    }
   },
   "outputs": [
    {
     "data": {
      "text/html": [
       "<style scoped>\n",
       "  .ansiout {\n",
       "    display: block;\n",
       "    unicode-bidi: embed;\n",
       "    white-space: pre-wrap;\n",
       "    word-wrap: break-word;\n",
       "    word-break: break-all;\n",
       "    font-family: \"Menlo\", \"Monaco\", \"Consolas\", \"Ubuntu Mono\", \"Source Code Pro\", monospace;\n",
       "    font-size: 13px;\n",
       "    color: #555;\n",
       "    margin-left: 4px;\n",
       "    line-height: 19px;\n",
       "  }\n",
       "</style>"
      ]
     },
     "metadata": {
      "application/vnd.databricks.v1+output": {
       "arguments": {},
       "data": "",
       "errorSummary": "",
       "errorTraceType": null,
       "metadata": {},
       "type": "ipynbError"
      }
     },
     "output_type": "display_data"
    }
   ],
   "source": [
    "# Grafico de dispersión\n",
    "display(df_limpio_final)"
   ]
  },
  {
   "cell_type": "code",
   "execution_count": 0,
   "metadata": {
    "application/vnd.databricks.v1+cell": {
     "cellMetadata": {},
     "inputWidgets": {},
     "nuid": "aa14ef23-6c61-4ff6-9a09-5be46732c976",
     "showTitle": false,
     "tableResultSettingsMap": {},
     "title": ""
    }
   },
   "outputs": [
    {
     "data": {
      "text/html": [
       "<style scoped>\n",
       "  .ansiout {\n",
       "    display: block;\n",
       "    unicode-bidi: embed;\n",
       "    white-space: pre-wrap;\n",
       "    word-wrap: break-word;\n",
       "    word-break: break-all;\n",
       "    font-family: \"Menlo\", \"Monaco\", \"Consolas\", \"Ubuntu Mono\", \"Source Code Pro\", monospace;\n",
       "    font-size: 13px;\n",
       "    color: #555;\n",
       "    margin-left: 4px;\n",
       "    line-height: 19px;\n",
       "  }\n",
       "</style>"
      ]
     },
     "metadata": {
      "application/vnd.databricks.v1+output": {
       "arguments": {},
       "data": "",
       "errorSummary": "",
       "errorTraceType": null,
       "metadata": {},
       "type": "ipynbError"
      }
     },
     "output_type": "display_data"
    }
   ],
   "source": [
    "df_limpio_final.groupby('Cluster_kmeans').agg('mean')"
   ]
  },
  {
   "cell_type": "markdown",
   "metadata": {
    "application/vnd.databricks.v1+cell": {
     "cellMetadata": {},
     "inputWidgets": {},
     "nuid": "3252aebe-d73e-4a98-a8dc-a07965aaff64",
     "showTitle": false,
     "tableResultSettingsMap": {},
     "title": ""
    }
   },
   "source": [
    "### 4.2 Hierarchical Clustering\n",
    "\n",
    "La familia de clústers jerárquicos, agrupa las observaciones de forma iterativa hasta alcanzar un solo cluster final. El usuario es el encargado de seleccionar el número de clusters deseados al final.\n",
    "\n",
    "En principio, cada observación es en si misma un cluster. En una segunda etapa, se agrupan las observaciones más cercanas en función de un criterio de agrupamiento de la siguiente lista:\n",
    "\n",
    "\n",
    "* **Ward** minimiza la suma de cuadrados de la diferencias dentro de los clusters. Es un enfoque de minimización de la varianza y, en ese sentido, actua de forma similar a K-Means.\n",
    "* **Maximum or complete linkage** minimiza la distancia máxima entre un par de clusters.\n",
    "* **Average linkage** minimiza el promedio de las distancias entre todas las observaciones de un par de clusters.\n",
    "* **Single linkage** minimiza la distancia entre las observaciones más cercanas de un par de clusters.\n",
    "\n",
    "\n",
    "\n",
    "Usando Scikit-learn, debemos primero importar la instancia de ```sklearn.cluster.AgglomerativeClustering```, e invocar los métodos necesarios:\n",
    "\n",
    "1. Preparar los datos X\n",
    "2. Crear instancia de ```sklearn.cluster.AgglomerativeClustering```:\n",
    "\n",
    "``` python\n",
    "hc = AgglomerativeClustering(linkage    = \"ward\", \n",
    "                             affinity   = \"euclidean\"\n",
    "                             n_clusters = 3\n",
    "                            )\n",
    "```\n",
    "3. Entrenar:\n",
    "```\n",
    "hc.fit(X)\n",
    "```\n",
    "4. Identificar etiquetas de clasificación:\n",
    "```\n",
    "hc.labels_\n",
    "```\n",
    "\n",
    "A continuación describiremos los argumentos más comunes:\n",
    "\n",
    "\n",
    "---\n",
    "```\n",
    "sklearn.cluster.AgglomerativeClustering(n_clusters=2, affinity=’euclidean’, memory=None, \n",
    "connectivity=None, compute_full_tree=’auto’, linkage=’ward’, pooling_func=’deprecated’, distance_threshold=None)\n",
    "```\n",
    "\n",
    "[Documentación](https://scikit-learn.org/stable/modules/generated/sklearn.cluster.AgglomerativeClustering.html#sklearn.cluster.AgglomerativeClustering)"
   ]
  },
  {
   "cell_type": "markdown",
   "metadata": {
    "application/vnd.databricks.v1+cell": {
     "cellMetadata": {},
     "inputWidgets": {},
     "nuid": "1ac7a7c4-c32b-42a6-bf8f-d6aefeb17369",
     "showTitle": false,
     "tableResultSettingsMap": {},
     "title": ""
    }
   },
   "source": [
    "**Visualización dendogramas**"
   ]
  },
  {
   "cell_type": "code",
   "execution_count": 0,
   "metadata": {
    "application/vnd.databricks.v1+cell": {
     "cellMetadata": {},
     "inputWidgets": {},
     "nuid": "727780dd-dac9-46e4-b838-b1d06e66e50f",
     "showTitle": false,
     "tableResultSettingsMap": {},
     "title": ""
    }
   },
   "outputs": [
    {
     "data": {
      "text/html": [
       "<style scoped>\n",
       "  .ansiout {\n",
       "    display: block;\n",
       "    unicode-bidi: embed;\n",
       "    white-space: pre-wrap;\n",
       "    word-wrap: break-word;\n",
       "    word-break: break-all;\n",
       "    font-family: \"Menlo\", \"Monaco\", \"Consolas\", \"Ubuntu Mono\", \"Source Code Pro\", monospace;\n",
       "    font-size: 13px;\n",
       "    color: #555;\n",
       "    margin-left: 4px;\n",
       "    line-height: 19px;\n",
       "  }\n",
       "</style>"
      ]
     },
     "metadata": {
      "application/vnd.databricks.v1+output": {
       "arguments": {},
       "data": "",
       "errorSummary": "",
       "errorTraceType": null,
       "metadata": {},
       "type": "ipynbError"
      }
     },
     "output_type": "display_data"
    }
   ],
   "source": [
    "ward_euclidian = linkage(rfm_escalado, method=\"ward\", metric='euclidean')\n",
    "\n",
    "plt.figure(figsize=(22,8))\n",
    "dendrogram(ward_euclidian)\n",
    "plt.show()"
   ]
  },
  {
   "cell_type": "markdown",
   "metadata": {
    "application/vnd.databricks.v1+cell": {
     "cellMetadata": {},
     "inputWidgets": {},
     "nuid": "223b1aaa-06ae-4471-90ed-24ce844afcab",
     "showTitle": false,
     "tableResultSettingsMap": {},
     "title": ""
    }
   },
   "source": [
    "#### Aplicación clusterización jerárquica"
   ]
  },
  {
   "cell_type": "code",
   "execution_count": 0,
   "metadata": {
    "application/vnd.databricks.v1+cell": {
     "cellMetadata": {},
     "inputWidgets": {},
     "nuid": "5ddec225-d724-4e40-8094-2686bf503846",
     "showTitle": false,
     "tableResultSettingsMap": {},
     "title": ""
    }
   },
   "outputs": [
    {
     "data": {
      "text/html": [
       "<style scoped>\n",
       "  .ansiout {\n",
       "    display: block;\n",
       "    unicode-bidi: embed;\n",
       "    white-space: pre-wrap;\n",
       "    word-wrap: break-word;\n",
       "    word-break: break-all;\n",
       "    font-family: \"Menlo\", \"Monaco\", \"Consolas\", \"Ubuntu Mono\", \"Source Code Pro\", monospace;\n",
       "    font-size: 13px;\n",
       "    color: #555;\n",
       "    margin-left: 4px;\n",
       "    line-height: 19px;\n",
       "  }\n",
       "</style>"
      ]
     },
     "metadata": {
      "application/vnd.databricks.v1+output": {
       "arguments": {},
       "data": "",
       "errorSummary": "",
       "errorTraceType": null,
       "metadata": {},
       "type": "ipynbError"
      }
     },
     "output_type": "display_data"
    }
   ],
   "source": [
    "hc = AgglomerativeClustering(linkage    = \"ward\", \n",
    "                             affinity   = \"euclidean\",\n",
    "                             n_clusters = 2)\n",
    "hc.fit(rfm_escalado)"
   ]
  },
  {
   "cell_type": "code",
   "execution_count": 0,
   "metadata": {
    "application/vnd.databricks.v1+cell": {
     "cellMetadata": {},
     "inputWidgets": {},
     "nuid": "d7ce9177-0948-45f5-9c67-cf76c59013e5",
     "showTitle": false,
     "tableResultSettingsMap": {},
     "title": ""
    }
   },
   "outputs": [
    {
     "data": {
      "text/html": [
       "<style scoped>\n",
       "  .ansiout {\n",
       "    display: block;\n",
       "    unicode-bidi: embed;\n",
       "    white-space: pre-wrap;\n",
       "    word-wrap: break-word;\n",
       "    word-break: break-all;\n",
       "    font-family: \"Menlo\", \"Monaco\", \"Consolas\", \"Ubuntu Mono\", \"Source Code Pro\", monospace;\n",
       "    font-size: 13px;\n",
       "    color: #555;\n",
       "    margin-left: 4px;\n",
       "    line-height: 19px;\n",
       "  }\n",
       "</style>"
      ]
     },
     "metadata": {
      "application/vnd.databricks.v1+output": {
       "arguments": {},
       "data": "",
       "errorSummary": "",
       "errorTraceType": null,
       "metadata": {},
       "type": "ipynbError"
      }
     },
     "output_type": "display_data"
    }
   ],
   "source": [
    "etiquetas_hc = hc.labels_\n",
    "etiquetas_hc"
   ]
  },
  {
   "cell_type": "markdown",
   "metadata": {
    "application/vnd.databricks.v1+cell": {
     "cellMetadata": {},
     "inputWidgets": {},
     "nuid": "62e02d1a-cf63-4aad-a3b6-369a2532ad07",
     "showTitle": false,
     "tableResultSettingsMap": {},
     "title": ""
    }
   },
   "source": [
    "**Visualización por cluster**"
   ]
  },
  {
   "cell_type": "code",
   "execution_count": 0,
   "metadata": {
    "application/vnd.databricks.v1+cell": {
     "cellMetadata": {},
     "inputWidgets": {},
     "nuid": "574eddcf-0e62-4a09-9dd9-61f57c176d2f",
     "showTitle": false,
     "tableResultSettingsMap": {},
     "title": ""
    }
   },
   "outputs": [
    {
     "data": {
      "text/html": [
       "<style scoped>\n",
       "  .ansiout {\n",
       "    display: block;\n",
       "    unicode-bidi: embed;\n",
       "    white-space: pre-wrap;\n",
       "    word-wrap: break-word;\n",
       "    word-break: break-all;\n",
       "    font-family: \"Menlo\", \"Monaco\", \"Consolas\", \"Ubuntu Mono\", \"Source Code Pro\", monospace;\n",
       "    font-size: 13px;\n",
       "    color: #555;\n",
       "    margin-left: 4px;\n",
       "    line-height: 19px;\n",
       "  }\n",
       "</style>"
      ]
     },
     "metadata": {
      "application/vnd.databricks.v1+output": {
       "arguments": {},
       "data": "",
       "errorSummary": "",
       "errorTraceType": null,
       "metadata": {},
       "type": "ipynbError"
      }
     },
     "output_type": "display_data"
    }
   ],
   "source": [
    "# Creación de una nueva columna en el dataframe con las etiquetas\n",
    "df_limpio_final['Cluster_hc'] = etiquetas_hc\n",
    "df_limpio_final.head()"
   ]
  },
  {
   "cell_type": "code",
   "execution_count": 0,
   "metadata": {
    "application/vnd.databricks.v1+cell": {
     "cellMetadata": {},
     "inputWidgets": {},
     "nuid": "624ff16f-7223-4039-8e37-0eb7fbfef769",
     "showTitle": false,
     "tableResultSettingsMap": {},
     "title": ""
    }
   },
   "outputs": [
    {
     "data": {
      "text/html": [
       "<style scoped>\n",
       "  .ansiout {\n",
       "    display: block;\n",
       "    unicode-bidi: embed;\n",
       "    white-space: pre-wrap;\n",
       "    word-wrap: break-word;\n",
       "    word-break: break-all;\n",
       "    font-family: \"Menlo\", \"Monaco\", \"Consolas\", \"Ubuntu Mono\", \"Source Code Pro\", monospace;\n",
       "    font-size: 13px;\n",
       "    color: #555;\n",
       "    margin-left: 4px;\n",
       "    line-height: 19px;\n",
       "  }\n",
       "</style>"
      ]
     },
     "metadata": {
      "application/vnd.databricks.v1+output": {
       "arguments": {},
       "data": "",
       "errorSummary": "",
       "errorTraceType": null,
       "metadata": {},
       "type": "ipynbError"
      }
     },
     "output_type": "display_data"
    }
   ],
   "source": [
    "# Gráfico de dispersion\n",
    "display(df_limpio_final)"
   ]
  },
  {
   "cell_type": "markdown",
   "metadata": {
    "application/vnd.databricks.v1+cell": {
     "cellMetadata": {},
     "inputWidgets": {},
     "nuid": "7b7acc53-cb68-45e5-83a1-dfbba0f6c784",
     "showTitle": false,
     "tableResultSettingsMap": {},
     "title": ""
    }
   },
   "source": [
    ">**Ejercicio:** \n",
    "\n",
    "1. Aplicar la clusterización KMeans de los datos RFM estandarizados `rfm_escalado`. Determinando la existencia de 3 clústers, obtenga las etiquetas correspondientes para cada cliente y realice las visualizaciones para interpretar cada clúster. Parámetros: `n_clusters = 3, init=’k-means++’, n_init=10, max_iter=300, random_state=0`\n",
    "\n",
    "2. Aplicar la clusterización Hierarchical Clustering de los datos RFM estandarizados `rfm_escalado`. Empleando la distancia euclídea y la forma de cálculo (linkage) sea `complete` realice la clusterización jerárquica con 4 clústers. Por último, realice las visualizaciones para interpretar cada clúster. Parámetros = `linkage = \"complete\", affinity = \"euclidean\", n_clusters = 4`"
   ]
  },
  {
   "cell_type": "code",
   "execution_count": 0,
   "metadata": {
    "application/vnd.databricks.v1+cell": {
     "cellMetadata": {},
     "inputWidgets": {},
     "nuid": "572985c2-fb14-4480-a1d8-fd65e22fbac6",
     "showTitle": false,
     "tableResultSettingsMap": {},
     "title": ""
    }
   },
   "outputs": [
    {
     "data": {
      "text/html": [
       "<style scoped>\n",
       "  .ansiout {\n",
       "    display: block;\n",
       "    unicode-bidi: embed;\n",
       "    white-space: pre-wrap;\n",
       "    word-wrap: break-word;\n",
       "    word-break: break-all;\n",
       "    font-family: \"Menlo\", \"Monaco\", \"Consolas\", \"Ubuntu Mono\", \"Source Code Pro\", monospace;\n",
       "    font-size: 13px;\n",
       "    color: #555;\n",
       "    margin-left: 4px;\n",
       "    line-height: 19px;\n",
       "  }\n",
       "</style>"
      ]
     },
     "metadata": {
      "application/vnd.databricks.v1+output": {
       "arguments": {},
       "data": "",
       "errorSummary": "",
       "errorTraceType": null,
       "metadata": {},
       "type": "ipynbError"
      }
     },
     "output_type": "display_data"
    }
   ],
   "source": [
    "# Su codigo aquí"
   ]
  },
  {
   "cell_type": "code",
   "execution_count": 0,
   "metadata": {
    "application/vnd.databricks.v1+cell": {
     "cellMetadata": {},
     "inputWidgets": {},
     "nuid": "1733a7a7-e0d6-4c60-ad82-69f3d948fde5",
     "showTitle": false,
     "tableResultSettingsMap": {},
     "title": ""
    },
    "jupyter": {
     "source_hidden": true
    }
   },
   "outputs": [
    {
     "data": {
      "text/html": [
       "<style scoped>\n",
       "  .table-result-container {\n",
       "    max-height: 300px;\n",
       "    overflow: auto;\n",
       "  }\n",
       "  table, th, td {\n",
       "    border: 1px solid black;\n",
       "    border-collapse: collapse;\n",
       "  }\n",
       "  th, td {\n",
       "    padding: 5px;\n",
       "  }\n",
       "  th {\n",
       "    text-align: left;\n",
       "  }\n",
       "</style><div class='table-result-container'><table class='table-result'><thead style='background-color: white'><tr><th>Monto</th><th>Frecuencia</th><th>Recencia</th><th>Cluster_kmeans</th><th>Cluster_hc</th><th>km_labels_3</th><th>hc_labels_4</th></tr></thead><tbody><tr><td>1797.24</td><td>31</td><td>74</td><td>1</td><td>1</td><td>1</td><td>2</td></tr><tr><td>1757.55</td><td>73</td><td>18</td><td>1</td><td>1</td><td>1</td><td>1</td></tr><tr><td>334.40000000000003</td><td>17</td><td>309</td><td>0</td><td>0</td><td>0</td><td>0</td></tr><tr><td>2506.040000000001</td><td>85</td><td>35</td><td>1</td><td>1</td><td>1</td><td>2</td></tr><tr><td>89.0</td><td>4</td><td>203</td><td>0</td><td>0</td><td>0</td><td>0</td></tr><tr><td>1079.4</td><td>58</td><td>231</td><td>0</td><td>0</td><td>0</td><td>0</td></tr><tr><td>459.4</td><td>13</td><td>213</td><td>0</td><td>0</td><td>0</td><td>0</td></tr><tr><td>2811.4300000000007</td><td>59</td><td>22</td><td>1</td><td>1</td><td>1</td><td>2</td></tr><tr><td>1168.06</td><td>19</td><td>1</td><td>0</td><td>1</td><td>2</td><td>1</td></tr><tr><td>2662.0600000000004</td><td>129</td><td>51</td><td>1</td><td>1</td><td>1</td><td>2</td></tr><tr><td>189.89999999999998</td><td>10</td><td>286</td><td>0</td><td>0</td><td>0</td><td>0</td></tr><tr><td>552.0</td><td>23</td><td>109</td><td>0</td><td>0</td><td>2</td><td>1</td></tr><tr><td>1313.1000000000001</td><td>85</td><td>7</td><td>1</td><td>1</td><td>1</td><td>1</td></tr><tr><td>641.38</td><td>22</td><td>290</td><td>0</td><td>0</td><td>0</td><td>0</td></tr><tr><td>168.9</td><td>11</td><td>3</td><td>0</td><td>0</td><td>2</td><td>1</td></tr><tr><td>1887.9600000000003</td><td>63</td><td>44</td><td>1</td><td>1</td><td>1</td><td>1</td></tr><tr><td>1298.0400000000002</td><td>52</td><td>71</td><td>1</td><td>1</td><td>2</td><td>1</td></tr><tr><td>364.6</td><td>14</td><td>310</td><td>0</td><td>0</td><td>0</td><td>0</td></tr><tr><td>742.93</td><td>33</td><td>24</td><td>0</td><td>0</td><td>2</td><td>1</td></tr><tr><td>457.5000000000001</td><td>17</td><td>10</td><td>0</td><td>0</td><td>2</td><td>1</td></tr><tr><td>1628.1199999999997</td><td>77</td><td>314</td><td>0</td><td>0</td><td>0</td><td>0</td></tr><tr><td>852.2399999999997</td><td>40</td><td>81</td><td>0</td><td>0</td><td>2</td><td>1</td></tr><tr><td>2724.81</td><td>104</td><td>21</td><td>1</td><td>1</td><td>1</td><td>2</td></tr><tr><td>1845.3100000000006</td><td>87</td><td>4</td><td>1</td><td>1</td><td>1</td><td>2</td></tr><tr><td>1850.5599999999997</td><td>99</td><td>184</td><td>1</td><td>1</td><td>1</td><td>0</td></tr><tr><td>585.2700000000001</td><td>27</td><td>28</td><td>0</td><td>0</td><td>2</td><td>1</td></tr><tr><td>2780.6600000000003</td><td>100</td><td>15</td><td>1</td><td>1</td><td>1</td><td>2</td></tr><tr><td>549.8399999999999</td><td>32</td><td>79</td><td>0</td><td>0</td><td>2</td><td>1</td></tr><tr><td>460.88999999999993</td><td>100</td><td>21</td><td>1</td><td>1</td><td>2</td><td>1</td></tr><tr><td>1582.6000000000004</td><td>64</td><td>71</td><td>1</td><td>1</td><td>1</td><td>1</td></tr><tr><td>1272.48</td><td>27</td><td>63</td><td>0</td><td>1</td><td>2</td><td>1</td></tr><tr><td>2409.9000000000005</td><td>126</td><td>35</td><td>1</td><td>1</td><td>1</td><td>2</td></tr><tr><td>1635.6599999999999</td><td>85</td><td>45</td><td>1</td><td>1</td><td>1</td><td>1</td></tr><tr><td>1108.65</td><td>59</td><td>118</td><td>0</td><td>0</td><td>2</td><td>1</td></tr><tr><td>84.3</td><td>5</td><td>302</td><td>0</td><td>0</td><td>0</td><td>0</td></tr><tr><td>225.6</td><td>11</td><td>322</td><td>0</td><td>0</td><td>0</td><td>0</td></tr><tr><td>427.7</td><td>5</td><td>49</td><td>0</td><td>0</td><td>2</td><td>1</td></tr><tr><td>1710.3900000000006</td><td>54</td><td>148</td><td>1</td><td>1</td><td>1</td><td>1</td></tr><tr><td>1708.1199999999997</td><td>77</td><td>49</td><td>1</td><td>1</td><td>1</td><td>1</td></tr><tr><td>2888.5500000000006</td><td>105</td><td>32</td><td>1</td><td>1</td><td>1</td><td>2</td></tr><tr><td>693.3299999999999</td><td>26</td><td>308</td><td>0</td><td>0</td><td>0</td><td>0</td></tr><tr><td>1226.8799999999999</td><td>61</td><td>74</td><td>1</td><td>1</td><td>2</td><td>1</td></tr><tr><td>758.0999999999999</td><td>38</td><td>66</td><td>0</td><td>0</td><td>2</td><td>1</td></tr><tr><td>562.41</td><td>18</td><td>216</td><td>0</td><td>0</td><td>0</td><td>0</td></tr><tr><td>668.5799999999997</td><td>34</td><td>112</td><td>0</td><td>0</td><td>2</td><td>0</td></tr><tr><td>600.3900000000001</td><td>29</td><td>63</td><td>0</td><td>0</td><td>2</td><td>1</td></tr><tr><td>807.0400000000002</td><td>45</td><td>15</td><td>0</td><td>0</td><td>2</td><td>1</td></tr><tr><td>803.5599999999998</td><td>39</td><td>95</td><td>0</td><td>0</td><td>2</td><td>0</td></tr><tr><td>1859.3100000000002</td><td>125</td><td>0</td><td>1</td><td>1</td><td>1</td><td>2</td></tr><tr><td>1760.9599999999998</td><td>30</td><td>162</td><td>0</td><td>1</td><td>0</td><td>0</td></tr><tr><td>777.1999999999999</td><td>36</td><td>77</td><td>0</td><td>0</td><td>2</td><td>1</td></tr><tr><td>582.7299999999999</td><td>30</td><td>194</td><td>0</td><td>0</td><td>0</td><td>0</td></tr><tr><td>825.8000000000002</td><td>31</td><td>21</td><td>0</td><td>0</td><td>2</td><td>1</td></tr><tr><td>256.4</td><td>11</td><td>42</td><td>0</td><td>0</td><td>2</td><td>1</td></tr><tr><td>806.14</td><td>50</td><td>84</td><td>0</td><td>0</td><td>2</td><td>1</td></tr><tr><td>509.01000000000005</td><td>16</td><td>99</td><td>0</td><td>0</td><td>2</td><td>1</td></tr><tr><td>2906.8500000000004</td><td>98</td><td>13</td><td>1</td><td>1</td><td>1</td><td>2</td></tr><tr><td>172.06</td><td>12</td><td>2</td><td>0</td><td>0</td><td>2</td><td>1</td></tr><tr><td>133.4</td><td>4</td><td>21</td><td>0</td><td>0</td><td>2</td><td>1</td></tr><tr><td>1002.3099999999998</td><td>57</td><td>57</td><td>0</td><td>1</td><td>2</td><td>1</td></tr><tr><td>476.49</td><td>26</td><td>242</td><td>0</td><td>0</td><td>0</td><td>0</td></tr><tr><td>449.4500000000001</td><td>22</td><td>43</td><td>0</td><td>0</td><td>2</td><td>1</td></tr><tr><td>197.88</td><td>8</td><td>155</td><td>0</td><td>0</td><td>0</td><td>0</td></tr><tr><td>430.57000000000005</td><td>22</td><td>16</td><td>0</td><td>0</td><td>2</td><td>1</td></tr><tr><td>707.0899999999999</td><td>43</td><td>133</td><td>0</td><td>0</td><td>2</td><td>0</td></tr><tr><td>2466.859999999997</td><td>90</td><td>72</td><td>1</td><td>1</td><td>1</td><td>2</td></tr><tr><td>2363.2299999999996</td><td>62</td><td>65</td><td>1</td><td>1</td><td>1</td><td>2</td></tr><tr><td>947.4000000000001</td><td>38</td><td>70</td><td>0</td><td>1</td><td>2</td><td>1</td></tr><tr><td>826.8800000000001</td><td>35</td><td>93</td><td>0</td><td>0</td><td>2</td><td>0</td></tr><tr><td>1189.5900000000001</td><td>62</td><td>18</td><td>1</td><td>1</td><td>2</td><td>1</td></tr><tr><td>1344.7799999999997</td><td>83</td><td>52</td><td>1</td><td>1</td><td>1</td><td>1</td></tr><tr><td>1212.0499999999997</td><td>29</td><td>9</td><td>0</td><td>1</td><td>2</td><td>1</td></tr><tr><td>742.1900000000002</td><td>47</td><td>16</td><td>0</td><td>0</td><td>2</td><td>1</td></tr><tr><td>729.54</td><td>38</td><td>187</td><td>0</td><td>0</td><td>0</td><td>0</td></tr><tr><td>723.38</td><td>36</td><td>53</td><td>0</td><td>0</td><td>2</td><td>1</td></tr><tr><td>680.9900000000002</td><td>36</td><td>3</td><td>0</td><td>0</td><td>2</td><td>1</td></tr><tr><td>527.2</td><td>31</td><td>10</td><td>0</td><td>0</td><td>2</td><td>1</td></tr><tr><td>2484.980000000001</td><td>75</td><td>16</td><td>1</td><td>1</td><td>1</td><td>2</td></tr><tr><td>1298.6599999999999</td><td>55</td><td>9</td><td>1</td><td>1</td><td>2</td><td>1</td></tr><tr><td>460.4000000000001</td><td>26</td><td>38</td><td>0</td><td>0</td><td>2</td><td>1</td></tr><tr><td>263.21</td><td>20</td><td>62</td><td>0</td><td>0</td><td>2</td><td>1</td></tr><tr><td>433.74</td><td>22</td><td>165</td><td>0</td><td>0</td><td>0</td><td>0</td></tr><tr><td>1246.1000000000006</td><td>77</td><td>15</td><td>1</td><td>1</td><td>1</td><td>1</td></tr><tr><td>1043.1</td><td>14</td><td>81</td><td>0</td><td>1</td><td>2</td><td>1</td></tr><tr><td>403.7</td><td>23</td><td>20</td><td>0</td><td>0</td><td>2</td><td>1</td></tr><tr><td>482.04999999999995</td><td>9</td><td>17</td><td>0</td><td>0</td><td>2</td><td>1</td></tr><tr><td>73.50000000000003</td><td>23</td><td>232</td><td>0</td><td>0</td><td>0</td><td>0</td></tr><tr><td>1304.81</td><td>21</td><td>133</td><td>0</td><td>1</td><td>2</td><td>1</td></tr><tr><td>398.27000000000004</td><td>69</td><td>25</td><td>0</td><td>1</td><td>2</td><td>1</td></tr><tr><td>176.5</td><td>7</td><td>283</td><td>0</td><td>0</td><td>0</td><td>0</td></tr><tr><td>982.57</td><td>33</td><td>142</td><td>0</td><td>0</td><td>2</td><td>0</td></tr><tr><td>138.03000000000006</td><td>34</td><td>65</td><td>0</td><td>0</td><td>2</td><td>1</td></tr><tr><td>612.2900000000001</td><td>35</td><td>112</td><td>0</td><td>0</td><td>2</td><td>0</td></tr><tr><td>1017.6800000000002</td><td>51</td><td>266</td><td>0</td><td>0</td><td>0</td><td>0</td></tr><tr><td>1312.06</td><td>26</td><td>77</td><td>0</td><td>0</td><td>2</td><td>1</td></tr><tr><td>2056.8899999999994</td><td>124</td><td>0</td><td>1</td><td>1</td><td>1</td><td>2</td></tr><tr><td>340.84</td><td>18</td><td>63</td><td>0</td><td>0</td><td>2</td><td>1</td></tr><tr><td>2634.26</td><td>152</td><td>78</td><td>1</td><td>1</td><td>1</td><td>2</td></tr><tr><td>599.6800000000001</td><td>38</td><td>142</td><td>0</td><td>0</td><td>2</td><td>0</td></tr><tr><td>192.72000000000003</td><td>12</td><td>38</td><td>0</td><td>0</td><td>2</td><td>1</td></tr><tr><td>1789.7700000000007</td><td>106</td><td>18</td><td>1</td><td>1</td><td>1</td><td>1</td></tr><tr><td>1316.6600000000005</td><td>71</td><td>0</td><td>1</td><td>1</td><td>1</td><td>1</td></tr><tr><td>348.71000000000004</td><td>18</td><td>81</td><td>0</td><td>0</td><td>2</td><td>1</td></tr><tr><td>1933.4800000000007</td><td>92</td><td>8</td><td>1</td><td>1</td><td>1</td><td>2</td></tr><tr><td>1662.2799999999993</td><td>66</td><td>59</td><td>1</td><td>1</td><td>1</td><td>1</td></tr><tr><td>125.22</td><td>17</td><td>14</td><td>0</td><td>0</td><td>2</td><td>1</td></tr><tr><td>349.83</td><td>16</td><td>29</td><td>0</td><td>0</td><td>2</td><td>1</td></tr><tr><td>1089.18</td><td>63</td><td>130</td><td>0</td><td>0</td><td>2</td><td>1</td></tr><tr><td>716.3500000000001</td><td>34</td><td>91</td><td>0</td><td>0</td><td>2</td><td>0</td></tr><tr><td>363.95</td><td>21</td><td>28</td><td>0</td><td>0</td><td>2</td><td>1</td></tr><tr><td>981.1800000000002</td><td>52</td><td>29</td><td>0</td><td>1</td><td>2</td><td>1</td></tr><tr><td>372.7</td><td>19</td><td>35</td><td>0</td><td>0</td><td>2</td><td>1</td></tr><tr><td>1000.3899999999999</td><td>50</td><td>74</td><td>0</td><td>1</td><td>2</td><td>1</td></tr><tr><td>1161.5</td><td>69</td><td>46</td><td>1</td><td>1</td><td>2</td><td>1</td></tr><tr><td>207.8</td><td>8</td><td>197</td><td>0</td><td>0</td><td>0</td><td>0</td></tr><tr><td>95.19999999999999</td><td>5</td><td>165</td><td>0</td><td>0</td><td>0</td><td>0</td></tr><tr><td>964.8299999999994</td><td>57</td><td>78</td><td>0</td><td>1</td><td>2</td><td>1</td></tr><tr><td>437.81999999999994</td><td>20</td><td>38</td><td>0</td><td>0</td><td>2</td><td>1</td></tr><tr><td>603.7099999999997</td><td>121</td><td>49</td><td>1</td><td>1</td><td>1</td><td>1</td></tr><tr><td>269.96000000000004</td><td>11</td><td>7</td><td>0</td><td>0</td><td>2</td><td>1</td></tr><tr><td>561.7099999999999</td><td>21</td><td>310</td><td>0</td><td>0</td><td>0</td><td>0</td></tr><tr><td>2134.01</td><td>105</td><td>4</td><td>1</td><td>1</td><td>1</td><td>2</td></tr><tr><td>238.85</td><td>16</td><td>302</td><td>0</td><td>0</td><td>0</td><td>0</td></tr><tr><td>456.9000000000001</td><td>21</td><td>260</td><td>0</td><td>0</td><td>0</td><td>0</td></tr><tr><td>145.92</td><td>9</td><td>288</td><td>0</td><td>0</td><td>0</td><td>0</td></tr><tr><td>351.65000000000003</td><td>19</td><td>85</td><td>0</td><td>0</td><td>2</td><td>1</td></tr><tr><td>519.6099999999999</td><td>34</td><td>39</td><td>0</td><td>0</td><td>2</td><td>1</td></tr><tr><td>1020.4200000000003</td><td>60</td><td>8</td><td>1</td><td>1</td><td>2</td><td>1</td></tr><tr><td>160.54</td><td>28</td><td>226</td><td>0</td><td>0</td><td>0</td><td>0</td></tr><tr><td>218.45000000000002</td><td>11</td><td>315</td><td>0</td><td>0</td><td>0</td><td>0</td></tr><tr><td>1315.8299999999997</td><td>88</td><td>35</td><td>1</td><td>1</td><td>1</td><td>1</td></tr><tr><td>657.8000000000003</td><td>147</td><td>34</td><td>1</td><td>1</td><td>1</td><td>1</td></tr><tr><td>2794.5099999999993</td><td>114</td><td>20</td><td>1</td><td>1</td><td>1</td><td>2</td></tr><tr><td>440.41999999999996</td><td>29</td><td>77</td><td>0</td><td>0</td><td>2</td><td>1</td></tr><tr><td>415.7</td><td>24</td><td>246</td><td>0</td><td>0</td><td>0</td><td>0</td></tr><tr><td>197.70999999999998</td><td>15</td><td>39</td><td>0</td><td>0</td><td>2</td><td>1</td></tr><tr><td>511.3599999999999</td><td>22</td><td>238</td><td>0</td><td>0</td><td>0</td><td>0</td></tr><tr><td>2338.1499999999996</td><td>96</td><td>3</td><td>1</td><td>1</td><td>1</td><td>2</td></tr><tr><td>2040.099999999999</td><td>87</td><td>233</td><td>1</td><td>1</td><td>1</td><td>0</td></tr><tr><td>196.94</td><td>11</td><td>16</td><td>0</td><td>0</td><td>2</td><td>1</td></tr><tr><td>144.0</td><td>4</td><td>7</td><td>0</td><td>0</td><td>2</td><td>1</td></tr><tr><td>214.9</td><td>10</td><td>38</td><td>0</td><td>0</td><td>2</td><td>1</td></tr><tr><td>646.6800000000001</td><td>35</td><td>28</td><td>0</td><td>0</td><td>2</td><td>1</td></tr><tr><td>452.84999999999985</td><td>26</td><td>316</td><td>0</td><td>0</td><td>0</td><td>0</td></tr><tr><td>437.59999999999997</td><td>18</td><td>91</td><td>0</td><td>0</td><td>2</td><td>1</td></tr><tr><td>418.09999999999997</td><td>21</td><td>108</td><td>0</td><td>0</td><td>2</td><td>1</td></tr><tr><td>618.27</td><td>27</td><td>50</td><td>0</td><td>0</td><td>2</td><td>1</td></tr><tr><td>1032.5800000000006</td><td>62</td><td>28</td><td>1</td><td>1</td><td>2</td><td>1</td></tr><tr><td>2599.0400000000004</td><td>64</td><td>28</td><td>1</td><td>1</td><td>1</td><td>2</td></tr><tr><td>577.0600000000001</td><td>28</td><td>189</td><td>0</td><td>0</td><td>0</td><td>0</td></tr><tr><td>153.12000000000003</td><td>12</td><td>58</td><td>0</td><td>0</td><td>2</td><td>1</td></tr><tr><td>739.1999999999999</td><td>2</td><td>21</td><td>0</td><td>0</td><td>2</td><td>1</td></tr><tr><td>254.17999999999995</td><td>16</td><td>78</td><td>0</td><td>0</td><td>2</td><td>1</td></tr><tr><td>1579.51</td><td>101</td><td>59</td><td>1</td><td>1</td><td>1</td><td>2</td></tr><tr><td>1126.8500000000001</td><td>60</td><td>77</td><td>1</td><td>1</td><td>2</td><td>1</td></tr><tr><td>2099.540000000001</td><td>106</td><td>22</td><td>1</td><td>1</td><td>1</td><td>2</td></tr><tr><td>1193.32</td><td>65</td><td>51</td><td>1</td><td>1</td><td>2</td><td>1</td></tr><tr><td>704.0400000000001</td><td>19</td><td>73</td><td>0</td><td>0</td><td>2</td><td>1</td></tr><tr><td>315.59999999999997</td><td>20</td><td>277</td><td>0</td><td>0</td><td>0</td><td>0</td></tr><tr><td>2291.1900000000005</td><td>105</td><td>1</td><td>1</td><td>1</td><td>1</td><td>2</td></tr><tr><td>713.3</td><td>32</td><td>94</td><td>0</td><td>0</td><td>2</td><td>0</td></tr><tr><td>355.5300000000002</td><td>42</td><td>28</td><td>0</td><td>0</td><td>2</td><td>1</td></tr><tr><td>177.31</td><td>11</td><td>21</td><td>0</td><td>0</td><td>2</td><td>1</td></tr><tr><td>1339.4099999999999</td><td>92</td><td>14</td><td>1</td><td>1</td><td>1</td><td>1</td></tr><tr><td>180.09999999999997</td><td>11</td><td>231</td><td>0</td><td>0</td><td>0</td><td>0</td></tr><tr><td>305.1</td><td>18</td><td>275</td><td>0</td><td>0</td><td>0</td><td>0</td></tr><tr><td>641.1300000000001</td><td>38</td><td>105</td><td>0</td><td>0</td><td>2</td><td>0</td></tr><tr><td>2683.8199999999997</td><td>86</td><td>211</td><td>1</td><td>1</td><td>1</td><td>2</td></tr><tr><td>786.4599999999998</td><td>41</td><td>3</td><td>0</td><td>0</td><td>2</td><td>1</td></tr><tr><td>1270.8799999999999</td><td>64</td><td>9</td><td>1</td><td>1</td><td>1</td><td>1</td></tr><tr><td>640.5000000000002</td><td>31</td><td>56</td><td>0</td><td>0</td><td>2</td><td>1</td></tr><tr><td>2163.9799999999996</td><td>101</td><td>58</td><td>1</td><td>1</td><td>1</td><td>2</td></tr><tr><td>1689.18</td><td>101</td><td>89</td><td>1</td><td>1</td><td>1</td><td>2</td></tr><tr><td>671.69</td><td>39</td><td>32</td><td>0</td><td>0</td><td>2</td><td>1</td></tr><tr><td>486.1</td><td>22</td><td>238</td><td>0</td><td>0</td><td>0</td><td>0</td></tr><tr><td>1174.58</td><td>53</td><td>23</td><td>1</td><td>1</td><td>2</td><td>1</td></tr><tr><td>185.9</td><td>10</td><td>114</td><td>0</td><td>0</td><td>2</td><td>1</td></tr><tr><td>1013.26</td><td>47</td><td>24</td><td>0</td><td>1</td><td>2</td><td>1</td></tr><tr><td>477.9100000000001</td><td>31</td><td>129</td><td>0</td><td>0</td><td>2</td><td>0</td></tr><tr><td>1775.1800000000005</td><td>73</td><td>33</td><td>1</td><td>1</td><td>1</td><td>1</td></tr><tr><td>1346.9700000000003</td><td>45</td><td>4</td><td>1</td><td>1</td><td>2</td><td>1</td></tr><tr><td>318.05</td><td>21</td><td>154</td><td>0</td><td>0</td><td>0</td><td>1</td></tr><tr><td>623.5099999999999</td><td>31</td><td>106</td><td>0</td><td>0</td><td>2</td><td>0</td></tr><tr><td>314.44</td><td>20</td><td>2</td><td>0</td><td>0</td><td>2</td><td>1</td></tr><tr><td>2209.8500000000004</td><td>43</td><td>148</td><td>1</td><td>1</td><td>1</td><td>0</td></tr><tr><td>601.98</td><td>38</td><td>10</td><td>0</td><td>0</td><td>2</td><td>1</td></tr><tr><td>1643.18</td><td>47</td><td>10</td><td>1</td><td>1</td><td>1</td><td>1</td></tr><tr><td>686.0500000000001</td><td>36</td><td>18</td><td>0</td><td>0</td><td>2</td><td>1</td></tr><tr><td>91.68</td><td>5</td><td>29</td><td>0</td><td>0</td><td>2</td><td>1</td></tr><tr><td>245.10000000000002</td><td>13</td><td>10</td><td>0</td><td>0</td><td>2</td><td>1</td></tr><tr><td>63.0</td><td>3</td><td>324</td><td>0</td><td>0</td><td>0</td><td>0</td></tr><tr><td>620.13</td><td>33</td><td>57</td><td>0</td><td>0</td><td>2</td><td>1</td></tr><tr><td>2744.0300000000007</td><td>101</td><td>150</td><td>1</td><td>1</td><td>1</td><td>2</td></tr><tr><td>610.52</td><td>42</td><td>4</td><td>0</td><td>0</td><td>2</td><td>1</td></tr><tr><td>1970.6000000000006</td><td>83</td><td>38</td><td>1</td><td>1</td><td>1</td><td>2</td></tr><tr><td>1331.3900000000006</td><td>45</td><td>24</td><td>1</td><td>1</td><td>2</td><td>1</td></tr><tr><td>1113.0200000000002</td><td>48</td><td>58</td><td>0</td><td>1</td><td>2</td><td>1</td></tr><tr><td>862.81</td><td>52</td><td>0</td><td>0</td><td>0</td><td>2</td><td>1</td></tr><tr><td>2283.6299999999997</td><td>105</td><td>7</td><td>1</td><td>1</td><td>1</td><td>2</td></tr><tr><td>2863.0800000000004</td><td>157</td><td>27</td><td>1</td><td>1</td><td>1</td><td>3</td></tr><tr><td>1247.61</td><td>72</td><td>25</td><td>1</td><td>1</td><td>1</td><td>1</td></tr><tr><td>389.00999999999993</td><td>16</td><td>205</td><td>0</td><td>0</td><td>0</td><td>0</td></tr><tr><td>1035.8</td><td>32</td><td>27</td><td>0</td><td>1</td><td>2</td><td>1</td></tr><tr><td>855.9099999999997</td><td>39</td><td>126</td><td>0</td><td>0</td><td>2</td><td>0</td></tr><tr><td>869.6699999999998</td><td>37</td><td>69</td><td>0</td><td>1</td><td>2</td><td>1</td></tr><tr><td>582.1</td><td>27</td><td>6</td><td>0</td><td>0</td><td>2</td><td>1</td></tr><tr><td>957.5899999999999</td><td>41</td><td>28</td><td>0</td><td>1</td><td>2</td><td>1</td></tr><tr><td>797.7099999999999</td><td>53</td><td>79</td><td>0</td><td>0</td><td>2</td><td>1</td></tr><tr><td>219.0</td><td>12</td><td>19</td><td>0</td><td>0</td><td>2</td><td>1</td></tr><tr><td>283.54999999999995</td><td>21</td><td>70</td><td>0</td><td>0</td><td>2</td><td>1</td></tr><tr><td>2340.84</td><td>88</td><td>6</td><td>1</td><td>1</td><td>1</td><td>2</td></tr><tr><td>603.42</td><td>33</td><td>291</td><td>0</td><td>0</td><td>0</td><td>0</td></tr><tr><td>2712.9100000000008</td><td>157</td><td>29</td><td>1</td><td>1</td><td>1</td><td>3</td></tr><tr><td>1149.0200000000007</td><td>77</td><td>96</td><td>1</td><td>1</td><td>1</td><td>1</td></tr><tr><td>848.5499999999998</td><td>38</td><td>0</td><td>0</td><td>1</td><td>2</td><td>1</td></tr><tr><td>353.85999999999996</td><td>21</td><td>105</td><td>0</td><td>0</td><td>2</td><td>1</td></tr><tr><td>1053.4899999999996</td><td>69</td><td>3</td><td>1</td><td>1</td><td>2</td><td>1</td></tr><tr><td>1030.98</td><td>55</td><td>150</td><td>0</td><td>0</td><td>2</td><td>0</td></tr><tr><td>238.25000000000003</td><td>19</td><td>70</td><td>0</td><td>0</td><td>2</td><td>1</td></tr><tr><td>644.9499999999999</td><td>39</td><td>4</td><td>0</td><td>0</td><td>2</td><td>1</td></tr><tr><td>2656.130000000001</td><td>161</td><td>31</td><td>1</td><td>1</td><td>1</td><td>3</td></tr><tr><td>997.6299999999999</td><td>53</td><td>84</td><td>0</td><td>1</td><td>2</td><td>1</td></tr><tr><td>725.0699999999998</td><td>69</td><td>3</td><td>1</td><td>1</td><td>2</td><td>1</td></tr><tr><td>1031.4099999999999</td><td>53</td><td>4</td><td>1</td><td>1</td><td>2</td><td>1</td></tr><tr><td>2609.1000000000004</td><td>124</td><td>27</td><td>1</td><td>1</td><td>1</td><td>2</td></tr><tr><td>836.3299999999999</td><td>46</td><td>70</td><td>0</td><td>0</td><td>2</td><td>1</td></tr><tr><td>453.0100000000001</td><td>26</td><td>113</td><td>0</td><td>0</td><td>2</td><td>1</td></tr><tr><td>236.2600000000001</td><td>12</td><td>179</td><td>0</td><td>0</td><td>0</td><td>0</td></tr><tr><td>383.95</td><td>22</td><td>233</td><td>0</td><td>0</td><td>0</td><td>0</td></tr><tr><td>779.5699999999998</td><td>43</td><td>314</td><td>0</td><td>0</td><td>0</td><td>0</td></tr><tr><td>1013.0400000000001</td><td>38</td><td>77</td><td>0</td><td>1</td><td>2</td><td>1</td></tr><tr><td>427.5999999999999</td><td>27</td><td>63</td><td>0</td><td>0</td><td>2</td><td>1</td></tr><tr><td>546.4299999999997</td><td>134</td><td>133</td><td>1</td><td>1</td><td>1</td><td>0</td></tr><tr><td>275.88</td><td>15</td><td>128</td><td>0</td><td>0</td><td>2</td><td>1</td></tr><tr><td>112.08000000000001</td><td>4</td><td>86</td><td>0</td><td>0</td><td>2</td><td>1</td></tr><tr><td>2791.590000000001</td><td>97</td><td>116</td><td>1</td><td>1</td><td>1</td><td>2</td></tr><tr><td>1531.4400000000007</td><td>95</td><td>51</td><td>1</td><td>1</td><td>1</td><td>2</td></tr><tr><td>1898.5200000000004</td><td>69</td><td>7</td><td>1</td><td>1</td><td>1</td><td>1</td></tr><tr><td>494.08</td><td>18</td><td>137</td><td>0</td><td>0</td><td>0</td><td>1</td></tr><tr><td>1693.8800000000003</td><td>45</td><td>316</td><td>0</td><td>0</td><td>0</td><td>0</td></tr><tr><td>1143.6000000000001</td><td>32</td><td>238</td><td>0</td><td>0</td><td>0</td><td>0</td></tr><tr><td>1351.4499999999998</td><td>12</td><td>210</td><td>0</td><td>1</td><td>0</td><td>0</td></tr><tr><td>892.4700000000004</td><td>55</td><td>59</td><td>0</td><td>1</td><td>2</td><td>1</td></tr><tr><td>1386.0400000000004</td><td>66</td><td>16</td><td>1</td><td>1</td><td>1</td><td>1</td></tr><tr><td>822.2300000000001</td><td>50</td><td>19</td><td>0</td><td>0</td><td>2</td><td>1</td></tr><tr><td>826.7400000000001</td><td>25</td><td>63</td><td>0</td><td>0</td><td>2</td><td>1</td></tr><tr><td>2330.9200000000014</td><td>103</td><td>4</td><td>1</td><td>1</td><td>1</td><td>2</td></tr><tr><td>2225.91</td><td>84</td><td>1</td><td>1</td><td>1</td><td>1</td><td>2</td></tr><tr><td>574.42</td><td>59</td><td>8</td><td>0</td><td>0</td><td>2</td><td>1</td></tr><tr><td>463.65999999999997</td><td>20</td><td>9</td><td>0</td><td>0</td><td>2</td><td>1</td></tr><tr><td>91.85000000000001</td><td>4</td><td>64</td><td>0</td><td>0</td><td>2</td><td>1</td></tr><tr><td>324.9200000000001</td><td>21</td><td>191</td><td>0</td><td>0</td><td>0</td><td>0</td></tr><tr><td>400.54</td><td>25</td><td>256</td><td>0</td><td>0</td><td>0</td><td>0</td></tr><tr><td>860.4099999999999</td><td>45</td><td>52</td><td>0</td><td>1</td><td>2</td><td>1</td></tr><tr><td>430.4800000000001</td><td>14</td><td>18</td><td>0</td><td>0</td><td>2</td><td>1</td></tr><tr><td>427.5799999999999</td><td>25</td><td>186</td><td>0</td><td>0</td><td>0</td><td>0</td></tr><tr><td>483.65000000000015</td><td>28</td><td>36</td><td>0</td><td>0</td><td>2</td><td>1</td></tr><tr><td>489.31</td><td>25</td><td>177</td><td>0</td><td>0</td><td>0</td><td>0</td></tr><tr><td>514.85</td><td>31</td><td>260</td><td>0</td><td>0</td><td>0</td><td>0</td></tr><tr><td>229.63999999999993</td><td>15</td><td>44</td><td>0</td><td>0</td><td>2</td><td>1</td></tr><tr><td>125.92</td><td>2</td><td>101</td><td>0</td><td>0</td><td>2</td><td>1</td></tr><tr><td>1063.46</td><td>47</td><td>147</td><td>0</td><td>0</td><td>2</td><td>0</td></tr><tr><td>572.2</td><td>29</td><td>95</td><td>0</td><td>0</td><td>2</td><td>1</td></tr><tr><td>166.04</td><td>4</td><td>280</td><td>0</td><td>0</td><td>0</td><td>0</td></tr><tr><td>1542.08</td><td>14</td><td>261</td><td>0</td><td>0</td><td>0</td><td>0</td></tr><tr><td>942.3399999999999</td><td>59</td><td>2</td><td>1</td><td>1</td><td>2</td><td>1</td></tr><tr><td>92.72</td><td>6</td><td>213</td><td>0</td><td>0</td><td>0</td><td>0</td></tr><tr><td>948.8799999999999</td><td>46</td><td>70</td><td>0</td><td>1</td><td>2</td><td>1</td></tr><tr><td>1759.5</td><td>5</td><td>74</td><td>0</td><td>1</td><td>2</td><td>2</td></tr><tr><td>397.11999999999995</td><td>25</td><td>59</td><td>0</td><td>0</td><td>2</td><td>1</td></tr><tr><td>1474.7199999999993</td><td>91</td><td>2</td><td>1</td><td>1</td><td>1</td><td>1</td></tr><tr><td>430.15</td><td>25</td><td>5</td><td>0</td><td>0</td><td>2</td><td>1</td></tr><tr><td>1018.7100000000003</td><td>56</td><td>2</td><td>1</td><td>1</td><td>2</td><td>1</td></tr><tr><td>215.05</td><td>9</td><td>261</td><td>0</td><td>0</td><td>0</td><td>0</td></tr><tr><td>383.03000000000003</td><td>27</td><td>31</td><td>0</td><td>0</td><td>2</td><td>1</td></tr><tr><td>417.37999999999994</td><td>24</td><td>144</td><td>0</td><td>0</td><td>0</td><td>1</td></tr><tr><td>312.38</td><td>18</td><td>282</td><td>0</td><td>0</td><td>0</td><td>0</td></tr><tr><td>2612.8599999999988</td><td>175</td><td>58</td><td>1</td><td>1</td><td>1</td><td>3</td></tr><tr><td>134.1</td><td>12</td><td>172</td><td>0</td><td>0</td><td>0</td><td>0</td></tr><tr><td>683.1299999999994</td><td>123</td><td>33</td><td>1</td><td>1</td><td>1</td><td>1</td></tr><tr><td>2726.769999999999</td><td>113</td><td>143</td><td>1</td><td>1</td><td>1</td><td>2</td></tr><tr><td>1118.99</td><td>34</td><td>69</td><td>0</td><td>1</td><td>2</td><td>1</td></tr><tr><td>1702.26</td><td>103</td><td>65</td><td>1</td><td>1</td><td>1</td><td>2</td></tr><tr><td>325.9599999999999</td><td>52</td><td>28</td><td>0</td><td>0</td><td>2</td><td>1</td></tr><tr><td>354.09000000000003</td><td>27</td><td>266</td><td>0</td><td>0</td><td>0</td><td>0</td></tr><tr><td>871.5399999999998</td><td>91</td><td>21</td><td>1</td><td>1</td><td>2</td><td>1</td></tr><tr><td>1050.8899999999999</td><td>51</td><td>30</td><td>1</td><td>1</td><td>2</td><td>1</td></tr><tr><td>135.17999999999995</td><td>50</td><td>96</td><td>0</td><td>0</td><td>2</td><td>1</td></tr><tr><td>311.54999999999995</td><td>17</td><td>294</td><td>0</td><td>0</td><td>0</td><td>0</td></tr><tr><td>1957.1</td><td>78</td><td>134</td><td>1</td><td>1</td><td>1</td><td>2</td></tr><tr><td>1324.5000000000007</td><td>110</td><td>78</td><td>1</td><td>1</td><td>1</td><td>1</td></tr><tr><td>1106.4000000000003</td><td>46</td><td>210</td><td>0</td><td>0</td><td>0</td><td>0</td></tr><tr><td>521.2</td><td>5</td><td>51</td><td>0</td><td>0</td><td>2</td><td>1</td></tr><tr><td>147.12</td><td>3</td><td>137</td><td>0</td><td>0</td><td>0</td><td>1</td></tr><tr><td>1568.229999999999</td><td>95</td><td>25</td><td>1</td><td>1</td><td>1</td><td>1</td></tr><tr><td>559.1199999999999</td><td>26</td><td>282</td><td>0</td><td>0</td><td>0</td><td>0</td></tr><tr><td>1607.0600000000009</td><td>107</td><td>185</td><td>1</td><td>1</td><td>1</td><td>0</td></tr><tr><td>380.64000000000004</td><td>11</td><td>83</td><td>0</td><td>0</td><td>2</td><td>1</td></tr><tr><td>599.9699999999998</td><td>66</td><td>326</td><td>0</td><td>0</td><td>0</td><td>0</td></tr><tr><td>374.0</td><td>4</td><td>281</td><td>0</td><td>0</td><td>0</td><td>0</td></tr><tr><td>343.2300000000001</td><td>2</td><td>142</td><td>0</td><td>0</td><td>0</td><td>1</td></tr><tr><td>2218.0200000000004</td><td>85</td><td>57</td><td>1</td><td>1</td><td>1</td><td>2</td></tr><tr><td>1535.7700000000007</td><td>154</td><td>3</td><td>1</td><td>1</td><td>1</td><td>3</td></tr><tr><td>854.9899999999999</td><td>47</td><td>235</td><td>0</td><td>0</td><td>0</td><td>0</td></tr><tr><td>573.22</td><td>10</td><td>44</td><td>0</td><td>0</td><td>2</td><td>1</td></tr><tr><td>298.0</td><td>7</td><td>275</td><td>0</td><td>0</td><td>0</td><td>0</td></tr><tr><td>1463.0399999999995</td><td>13</td><td>8</td><td>0</td><td>1</td><td>2</td><td>1</td></tr><tr><td>703.4700000000001</td><td>42</td><td>24</td><td>0</td><td>0</td><td>2</td><td>1</td></tr><tr><td>309.05000000000007</td><td>7</td><td>87</td><td>0</td><td>0</td><td>2</td><td>1</td></tr><tr><td>1175.2199999999996</td><td>71</td><td>62</td><td>1</td><td>1</td><td>2</td><td>1</td></tr><tr><td>1378.4</td><td>82</td><td>67</td><td>1</td><td>1</td><td>1</td><td>1</td></tr><tr><td>354.12</td><td>5</td><td>213</td><td>0</td><td>0</td><td>0</td><td>0</td></tr><tr><td>380.46999999999997</td><td>82</td><td>23</td><td>0</td><td>1</td><td>2</td><td>1</td></tr><tr><td>331.0</td><td>3</td><td>185</td><td>0</td><td>0</td><td>0</td><td>0</td></tr><tr><td>188.14</td><td>34</td><td>30</td><td>0</td><td>0</td><td>2</td><td>1</td></tr><tr><td>372.79999999999995</td><td>22</td><td>41</td><td>0</td><td>0</td><td>2</td><td>1</td></tr><tr><td>216.5</td><td>4</td><td>204</td><td>0</td><td>0</td><td>0</td><td>0</td></tr><tr><td>138.68</td><td>10</td><td>264</td><td>0</td><td>0</td><td>0</td><td>0</td></tr><tr><td>509.57999999999976</td><td>72</td><td>17</td><td>0</td><td>1</td><td>2</td><td>1</td></tr><tr><td>2919.809999999999</td><td>63</td><td>11</td><td>1</td><td>1</td><td>1</td><td>2</td></tr><tr><td>750.0</td><td>2</td><td>175</td><td>0</td><td>0</td><td>0</td><td>0</td></tr><tr><td>2178.67</td><td>91</td><td>39</td><td>1</td><td>1</td><td>1</td><td>2</td></tr><tr><td>1662.3</td><td>24</td><td>2</td><td>1</td><td>1</td><td>2</td><td>2</td></tr><tr><td>2483.6299999999997</td><td>50</td><td>4</td><td>1</td><td>1</td><td>1</td><td>2</td></tr><tr><td>363.65</td><td>22</td><td>148</td><td>0</td><td>0</td><td>0</td><td>1</td></tr><tr><td>594.0</td><td>2</td><td>127</td><td>0</td><td>0</td><td>2</td><td>0</td></tr><tr><td>1335.1899999999998</td><td>50</td><td>7</td><td>1</td><td>1</td><td>2</td><td>1</td></tr><tr><td>164.23000000000002</td><td>28</td><td>16</td><td>0</td><td>0</td><td>2</td><td>1</td></tr><tr><td>405.38</td><td>28</td><td>160</td><td>0</td><td>0</td><td>0</td><td>0</td></tr><tr><td>176.97</td><td>29</td><td>63</td><td>0</td><td>0</td><td>2</td><td>1</td></tr><tr><td>933.7000000000003</td><td>30</td><td>87</td><td>0</td><td>0</td><td>2</td><td>1</td></tr><tr><td>694.0499999999998</td><td>45</td><td>4</td><td>0</td><td>0</td><td>2</td><td>1</td></tr><tr><td>2062.6999999999994</td><td>84</td><td>34</td><td>1</td><td>1</td><td>1</td><td>2</td></tr><tr><td>117.85000000000001</td><td>8</td><td>311</td><td>0</td><td>0</td><td>0</td><td>0</td></tr><tr><td>415.8</td><td>25</td><td>77</td><td>0</td><td>0</td><td>2</td><td>1</td></tr><tr><td>607.5299999999999</td><td>106</td><td>23</td><td>1</td><td>1</td><td>2</td><td>1</td></tr><tr><td>2160.6999999999994</td><td>129</td><td>1</td><td>1</td><td>1</td><td>1</td><td>2</td></tr><tr><td>1063.9000000000005</td><td>62</td><td>16</td><td>1</td><td>1</td><td>2</td><td>1</td></tr><tr><td>1504.2700000000004</td><td>120</td><td>14</td><td>1</td><td>1</td><td>1</td><td>1</td></tr><tr><td>114.14</td><td>9</td><td>25</td><td>0</td><td>0</td><td>2</td><td>1</td></tr><tr><td>913.5400000000001</td><td>99</td><td>54</td><td>1</td><td>1</td><td>1</td><td>1</td></tr><tr><td>683.9000000000001</td><td>75</td><td>130</td><td>0</td><td>0</td><td>2</td><td>0</td></tr><tr><td>604.51</td><td>30</td><td>35</td><td>0</td><td>0</td><td>2</td><td>1</td></tr><tr><td>462.95000000000005</td><td>23</td><td>287</td><td>0</td><td>0</td><td>0</td><td>0</td></tr><tr><td>1603.9900000000002</td><td>97</td><td>143</td><td>1</td><td>1</td><td>1</td><td>2</td></tr><tr><td>2064.95</td><td>116</td><td>15</td><td>1</td><td>1</td><td>1</td><td>2</td></tr><tr><td>1843.0</td><td>23</td><td>1</td><td>1</td><td>1</td><td>2</td><td>2</td></tr><tr><td>1064.0700000000004</td><td>63</td><td>8</td><td>1</td><td>1</td><td>2</td><td>1</td></tr><tr><td>1387.7900000000004</td><td>79</td><td>5</td><td>1</td><td>1</td><td>1</td><td>1</td></tr><tr><td>329.84999999999997</td><td>17</td><td>9</td><td>0</td><td>0</td><td>2</td><td>1</td></tr><tr><td>108.07</td><td>19</td><td>305</td><td>0</td><td>0</td><td>0</td><td>0</td></tr><tr><td>266.39000000000004</td><td>16</td><td>6</td><td>0</td><td>0</td><td>2</td><td>1</td></tr><tr><td>1856.6299999999997</td><td>95</td><td>7</td><td>1</td><td>1</td><td>1</td><td>2</td></tr><tr><td>771.9099999999996</td><td>109</td><td>88</td><td>1</td><td>1</td><td>1</td><td>1</td></tr><tr><td>160.18</td><td>10</td><td>9</td><td>0</td><td>0</td><td>2</td><td>1</td></tr><tr><td>135.95</td><td>5</td><td>111</td><td>0</td><td>0</td><td>2</td><td>1</td></tr><tr><td>452.23999999999995</td><td>151</td><td>6</td><td>1</td><td>1</td><td>1</td><td>1</td></tr><tr><td>144.8</td><td>8</td><td>197</td><td>0</td><td>0</td><td>0</td><td>0</td></tr><tr><td>738.6</td><td>22</td><td>211</td><td>0</td><td>0</td><td>0</td><td>0</td></tr><tr><td>39.24</td><td>9</td><td>155</td><td>0</td><td>0</td><td>0</td><td>0</td></tr><tr><td>372.21999999999997</td><td>20</td><td>29</td><td>0</td><td>0</td><td>2</td><td>1</td></tr><tr><td>390.53999999999996</td><td>28</td><td>242</td><td>0</td><td>0</td><td>0</td><td>0</td></tr><tr><td>97.5</td><td>4</td><td>18</td><td>0</td><td>0</td><td>2</td><td>1</td></tr><tr><td>1239.38</td><td>76</td><td>0</td><td>1</td><td>1</td><td>1</td><td>1</td></tr><tr><td>558.7</td><td>28</td><td>73</td><td>0</td><td>0</td><td>2</td><td>1</td></tr><tr><td>535.32</td><td>92</td><td>291</td><td>0</td><td>0</td><td>0</td><td>0</td></tr><tr><td>409.50000000000006</td><td>13</td><td>30</td><td>0</td><td>0</td><td>2</td><td>1</td></tr><tr><td>503.76</td><td>31</td><td>22</td><td>0</td><td>0</td><td>2</td><td>1</td></tr><tr><td>414.75999999999993</td><td>27</td><td>22</td><td>0</td><td>0</td><td>2</td><td>1</td></tr><tr><td>974.42</td><td>61</td><td>3</td><td>1</td><td>1</td><td>2</td><td>1</td></tr><tr><td>211.32</td><td>3</td><td>84</td><td>0</td><td>0</td><td>2</td><td>1</td></tr><tr><td>1226.89</td><td>59</td><td>21</td><td>1</td><td>1</td><td>2</td><td>1</td></tr><tr><td>455.8799999999999</td><td>28</td><td>195</td><td>0</td><td>0</td><td>0</td><td>0</td></tr><tr><td>534.8500000000001</td><td>31</td><td>106</td><td>0</td><td>0</td><td>2</td><td>1</td></tr><tr><td>120.94999999999999</td><td>7</td><td>317</td><td>0</td><td>0</td><td>0</td><td>0</td></tr><tr><td>149.05</td><td>6</td><td>105</td><td>0</td><td>0</td><td>2</td><td>1</td></tr><tr><td>513.7</td><td>26</td><td>173</td><td>0</td><td>0</td><td>0</td><td>0</td></tr><tr><td>81.57</td><td>4</td><td>55</td><td>0</td><td>0</td><td>2</td><td>1</td></tr><tr><td>229.47000000000003</td><td>14</td><td>322</td><td>0</td><td>0</td><td>0</td><td>0</td></tr><tr><td>1661.8400000000008</td><td>89</td><td>8</td><td>1</td><td>1</td><td>1</td><td>1</td></tr><tr><td>789.8899999999996</td><td>47</td><td>72</td><td>0</td><td>0</td><td>2</td><td>1</td></tr><tr><td>204.0</td><td>1</td><td>6</td><td>0</td><td>0</td><td>2</td><td>1</td></tr><tr><td>2616.38</td><td>131</td><td>3</td><td>1</td><td>1</td><td>1</td><td>2</td></tr><tr><td>689.9000000000001</td><td>40</td><td>63</td><td>0</td><td>0</td><td>2</td><td>1</td></tr><tr><td>975.3599999999998</td><td>40</td><td>0</td><td>0</td><td>1</td><td>2</td><td>1</td></tr><tr><td>661.32</td><td>45</td><td>22</td><td>0</td><td>0</td><td>2</td><td>1</td></tr><tr><td>1247.5</td><td>10</td><td>30</td><td>0</td><td>1</td><td>2</td><td>1</td></tr><tr><td>799.4800000000001</td><td>99</td><td>10</td><td>1</td><td>1</td><td>1</td><td>1</td></tr><tr><td>1010.1799999999997</td><td>71</td><td>51</td><td>1</td><td>1</td><td>2</td><td>1</td></tr><tr><td>642.77</td><td>37</td><td>54</td><td>0</td><td>0</td><td>2</td><td>1</td></tr><tr><td>921.8800000000002</td><td>27</td><td>73</td><td>0</td><td>0</td><td>2</td><td>1</td></tr><tr><td>881.07</td><td>48</td><td>137</td><td>0</td><td>0</td><td>2</td><td>0</td></tr><tr><td>908.46</td><td>28</td><td>79</td><td>0</td><td>0</td><td>2</td><td>1</td></tr><tr><td>676.9900000000001</td><td>43</td><td>8</td><td>0</td><td>0</td><td>2</td><td>1</td></tr><tr><td>516.4200000000001</td><td>13</td><td>272</td><td>0</td><td>0</td><td>0</td><td>0</td></tr><tr><td>560.4700000000001</td><td>33</td><td>290</td><td>0</td><td>0</td><td>0</td><td>0</td></tr><tr><td>305.28</td><td>18</td><td>98</td><td>0</td><td>0</td><td>2</td><td>1</td></tr><tr><td>629.31</td><td>35</td><td>30</td><td>0</td><td>0</td><td>2</td><td>1</td></tr><tr><td>1835.9099999999994</td><td>136</td><td>13</td><td>1</td><td>1</td><td>1</td><td>2</td></tr><tr><td>656.6800000000002</td><td>14</td><td>63</td><td>0</td><td>0</td><td>2</td><td>1</td></tr><tr><td>348.15000000000003</td><td>18</td><td>211</td><td>0</td><td>0</td><td>0</td><td>0</td></tr><tr><td>1214.41</td><td>76</td><td>77</td><td>1</td><td>1</td><td>1</td><td>1</td></tr><tr><td>271.4</td><td>8</td><td>24</td><td>0</td><td>0</td><td>2</td><td>1</td></tr><tr><td>183.4</td><td>8</td><td>249</td><td>0</td><td>0</td><td>0</td><td>0</td></tr><tr><td>307.53000000000003</td><td>15</td><td>253</td><td>0</td><td>0</td><td>0</td><td>0</td></tr><tr><td>248.61</td><td>10</td><td>71</td><td>0</td><td>0</td><td>2</td><td>1</td></tr><tr><td>346.98</td><td>11</td><td>190</td><td>0</td><td>0</td><td>0</td><td>0</td></tr><tr><td>1119.4900000000005</td><td>69</td><td>12</td><td>1</td><td>1</td><td>2</td><td>1</td></tr><tr><td>470.80000000000007</td><td>48</td><td>23</td><td>0</td><td>0</td><td>2</td><td>1</td></tr><tr><td>115.46000000000002</td><td>15</td><td>81</td><td>0</td><td>0</td><td>2</td><td>1</td></tr><tr><td>344.0</td><td>2</td><td>9</td><td>0</td><td>0</td><td>2</td><td>1</td></tr><tr><td>228.8</td><td>9</td><td>191</td><td>0</td><td>0</td><td>0</td><td>0</td></tr><tr><td>177.14999999999998</td><td>7</td><td>266</td><td>0</td><td>0</td><td>0</td><td>0</td></tr><tr><td>919.61</td><td>22</td><td>129</td><td>0</td><td>0</td><td>2</td><td>0</td></tr><tr><td>729.2700000000001</td><td>112</td><td>0</td><td>1</td><td>1</td><td>1</td><td>1</td></tr><tr><td>220.09999999999997</td><td>6</td><td>3</td><td>0</td><td>0</td><td>2</td><td>1</td></tr><tr><td>58.08</td><td>6</td><td>178</td><td>0</td><td>0</td><td>0</td><td>0</td></tr><tr><td>303.75</td><td>18</td><td>3</td><td>0</td><td>0</td><td>2</td><td>1</td></tr><tr><td>416.08000000000004</td><td>22</td><td>157</td><td>0</td><td>0</td><td>0</td><td>0</td></tr><tr><td>345.82</td><td>21</td><td>27</td><td>0</td><td>0</td><td>2</td><td>1</td></tr><tr><td>477.83</td><td>25</td><td>70</td><td>0</td><td>0</td><td>2</td><td>1</td></tr><tr><td>1927.3200000000002</td><td>24</td><td>20</td><td>1</td><td>1</td><td>1</td><td>2</td></tr><tr><td>74.4</td><td>6</td><td>70</td><td>0</td><td>0</td><td>2</td><td>1</td></tr><tr><td>207.35999999999999</td><td>1</td><td>98</td><td>0</td><td>0</td><td>2</td><td>1</td></tr><tr><td>101.18999999999998</td><td>8</td><td>233</td><td>0</td><td>0</td><td>0</td><td>0</td></tr><tr><td>243.94</td><td>8</td><td>39</td><td>0</td><td>0</td><td>2</td><td>1</td></tr><tr><td>1098.48</td><td>20</td><td>2</td><td>0</td><td>1</td><td>2</td><td>1</td></tr><tr><td>76.5</td><td>1</td><td>132</td><td>0</td><td>0</td><td>0</td><td>1</td></tr><tr><td>1531.6200000000003</td><td>58</td><td>43</td><td>1</td><td>1</td><td>1</td><td>1</td></tr><tr><td>786.5400000000001</td><td>47</td><td>59</td><td>0</td><td>0</td><td>2</td><td>1</td></tr><tr><td>1488.6700000000012</td><td>145</td><td>30</td><td>1</td><td>1</td><td>1</td><td>3</td></tr><tr><td>2294.7800000000007</td><td>120</td><td>11</td><td>1</td><td>1</td><td>1</td><td>2</td></tr><tr><td>501.14000000000004</td><td>30</td><td>137</td><td>0</td><td>0</td><td>2</td><td>0</td></tr><tr><td>984.9099999999996</td><td>76</td><td>21</td><td>1</td><td>1</td><td>2</td><td>1</td></tr><tr><td>1197.8099999999995</td><td>79</td><td>19</td><td>1</td><td>1</td><td>1</td><td>1</td></tr><tr><td>30.599999999999998</td><td>1</td><td>238</td><td>0</td><td>0</td><td>0</td><td>0</td></tr><tr><td>283.7299999999999</td><td>50</td><td>268</td><td>0</td><td>0</td><td>0</td><td>0</td></tr><tr><td>922.3900000000002</td><td>55</td><td>93</td><td>0</td><td>1</td><td>2</td><td>1</td></tr><tr><td>2099.6399999999994</td><td>140</td><td>4</td><td>1</td><td>1</td><td>1</td><td>2</td></tr><tr><td>259.16999999999996</td><td>15</td><td>77</td><td>0</td><td>0</td><td>2</td><td>1</td></tr><tr><td>64.0</td><td>2</td><td>93</td><td>0</td><td>0</td><td>2</td><td>1</td></tr><tr><td>1073.2999999999997</td><td>44</td><td>22</td><td>0</td><td>1</td><td>2</td><td>1</td></tr><tr><td>77.3</td><td>3</td><td>261</td><td>0</td><td>0</td><td>0</td><td>0</td></tr><tr><td>109.80000000000001</td><td>7</td><td>273</td><td>0</td><td>0</td><td>0</td><td>0</td></tr><tr><td>1793.58</td><td>98</td><td>85</td><td>1</td><td>1</td><td>1</td><td>2</td></tr><tr><td>2607.6099999999997</td><td>127</td><td>55</td><td>1</td><td>1</td><td>1</td><td>2</td></tr><tr><td>962.3900000000001</td><td>63</td><td>21</td><td>1</td><td>1</td><td>2</td><td>1</td></tr><tr><td>423.71999999999997</td><td>46</td><td>107</td><td>0</td><td>0</td><td>2</td><td>0</td></tr><tr><td>2388.7499999999995</td><td>135</td><td>84</td><td>1</td><td>1</td><td>1</td><td>2</td></tr><tr><td>307.0899999999999</td><td>23</td><td>18</td><td>0</td><td>0</td><td>2</td><td>1</td></tr><tr><td>618.52</td><td>6</td><td>39</td><td>0</td><td>0</td><td>2</td><td>1</td></tr><tr><td>228.91</td><td>17</td><td>25</td><td>0</td><td>0</td><td>2</td><td>1</td></tr><tr><td>712.8000000000001</td><td>4</td><td>9</td><td>0</td><td>0</td><td>2</td><td>1</td></tr><tr><td>1676.0599999999997</td><td>86</td><td>13</td><td>1</td><td>1</td><td>1</td><td>1</td></tr><tr><td>1257.8700000000003</td><td>74</td><td>295</td><td>0</td><td>0</td><td>0</td><td>0</td></tr><tr><td>486.22</td><td>15</td><td>5</td><td>0</td><td>0</td><td>2</td><td>1</td></tr><tr><td>971.76</td><td>85</td><td>32</td><td>1</td><td>1</td><td>1</td><td>1</td></tr><tr><td>1741.2199999999991</td><td>87</td><td>48</td><td>1</td><td>1</td><td>1</td><td>2</td></tr><tr><td>1201.0600000000004</td><td>79</td><td>94</td><td>1</td><td>1</td><td>1</td><td>1</td></tr><tr><td>1437.8500000000006</td><td>121</td><td>8</td><td>1</td><td>1</td><td>1</td><td>1</td></tr><tr><td>91.8</td><td>4</td><td>21</td><td>0</td><td>0</td><td>2</td><td>1</td></tr><tr><td>112.75</td><td>8</td><td>312</td><td>0</td><td>0</td><td>0</td><td>0</td></tr><tr><td>1688.2899999999995</td><td>79</td><td>121</td><td>1</td><td>1</td><td>1</td><td>2</td></tr><tr><td>1021.4799999999999</td><td>42</td><td>45</td><td>0</td><td>1</td><td>2</td><td>1</td></tr><tr><td>417.19999999999993</td><td>41</td><td>282</td><td>0</td><td>0</td><td>0</td><td>0</td></tr><tr><td>791.3300000000002</td><td>65</td><td>18</td><td>1</td><td>1</td><td>2</td><td>1</td></tr><tr><td>1319.19</td><td>131</td><td>35</td><td>1</td><td>1</td><td>1</td><td>3</td></tr><tr><td>712.88</td><td>13</td><td>63</td><td>0</td><td>0</td><td>2</td><td>1</td></tr><tr><td>116.01000000000002</td><td>32</td><td>26</td><td>0</td><td>0</td><td>2</td><td>1</td></tr><tr><td>468.4099999999999</td><td>46</td><td>21</td><td>0</td><td>0</td><td>2</td><td>1</td></tr><tr><td>353.65000000000003</td><td>43</td><td>3</td><td>0</td><td>0</td><td>2</td><td>1</td></tr><tr><td>492.8400000000001</td><td>72</td><td>45</td><td>0</td><td>0</td><td>2</td><td>1</td></tr><tr><td>282.45</td><td>17</td><td>64</td><td>0</td><td>0</td><td>2</td><td>1</td></tr><tr><td>121.17999999999999</td><td>11</td><td>44</td><td>0</td><td>0</td><td>2</td><td>1</td></tr><tr><td>1701.2900000000009</td><td>181</td><td>14</td><td>1</td><td>1</td><td>1</td><td>3</td></tr><tr><td>71.4</td><td>1</td><td>267</td><td>0</td><td>0</td><td>0</td><td>0</td></tr><tr><td>1575.8900000000003</td><td>79</td><td>39</td><td>1</td><td>1</td><td>1</td><td>1</td></tr><tr><td>114.60000000000001</td><td>2</td><td>10</td><td>0</td><td>0</td><td>2</td><td>1</td></tr><tr><td>260.68</td><td>29</td><td>18</td><td>0</td><td>0</td><td>2</td><td>1</td></tr><tr><td>911.9400000000002</td><td>63</td><td>94</td><td>0</td><td>1</td><td>2</td><td>1</td></tr><tr><td>117.88000000000001</td><td>29</td><td>60</td><td>0</td><td>0</td><td>2</td><td>1</td></tr><tr><td>60.7</td><td>3</td><td>135</td><td>0</td><td>0</td><td>0</td><td>1</td></tr><tr><td>1797.78</td><td>110</td><td>10</td><td>1</td><td>1</td><td>1</td><td>1</td></tr><tr><td>870.09</td><td>46</td><td>18</td><td>0</td><td>0</td><td>2</td><td>1</td></tr><tr><td>869.4599999999999</td><td>57</td><td>9</td><td>1</td><td>0</td><td>2</td><td>1</td></tr><tr><td>250.26000000000002</td><td>8</td><td>14</td><td>0</td><td>0</td><td>2</td><td>1</td></tr><tr><td>1223.8999999999999</td><td>149</td><td>58</td><td>1</td><td>1</td><td>1</td><td>3</td></tr><tr><td>353.47999999999996</td><td>22</td><td>93</td><td>0</td><td>0</td><td>2</td><td>1</td></tr><tr><td>1197.4199999999998</td><td>56</td><td>9</td><td>1</td><td>1</td><td>2</td><td>1</td></tr><tr><td>788.0799999999998</td><td>142</td><td>19</td><td>1</td><td>1</td><td>1</td><td>1</td></tr><tr><td>1520.5800000000004</td><td>90</td><td>56</td><td>1</td><td>1</td><td>1</td><td>2</td></tr><tr><td>333.74</td><td>5</td><td>267</td><td>0</td><td>0</td><td>0</td><td>0</td></tr><tr><td>533.98</td><td>4</td><td>121</td><td>0</td><td>0</td><td>2</td><td>0</td></tr><tr><td>62.64</td><td>5</td><td>126</td><td>0</td><td>0</td><td>0</td><td>1</td></tr><tr><td>819.29</td><td>21</td><td>77</td><td>0</td><td>0</td><td>2</td><td>1</td></tr><tr><td>847.4100000000001</td><td>66</td><td>239</td><td>0</td><td>0</td><td>0</td><td>0</td></tr><tr><td>163.20000000000002</td><td>5</td><td>199</td><td>0</td><td>0</td><td>0</td><td>0</td></tr><tr><td>2155.9499999999994</td><td>108</td><td>59</td><td>1</td><td>1</td><td>1</td><td>2</td></tr><tr><td>108.21000000000001</td><td>16</td><td>272</td><td>0</td><td>0</td><td>0</td><td>0</td></tr><tr><td>257.7</td><td>9</td><td>201</td><td>0</td><td>0</td><td>0</td><td>0</td></tr><tr><td>358.0</td><td>2</td><td>80</td><td>0</td><td>0</td><td>2</td><td>1</td></tr><tr><td>160.95</td><td>10</td><td>225</td><td>0</td><td>0</td><td>0</td><td>0</td></tr><tr><td>1357.6000000000015</td><td>207</td><td>12</td><td>1</td><td>1</td><td>1</td><td>3</td></tr><tr><td>605.1200000000001</td><td>43</td><td>73</td><td>0</td><td>0</td><td>2</td><td>1</td></tr><tr><td>1031.0699999999997</td><td>58</td><td>211</td><td>0</td><td>0</td><td>0</td><td>0</td></tr><tr><td>744.8500000000003</td><td>36</td><td>24</td><td>0</td><td>0</td><td>2</td><td>1</td></tr><tr><td>700.7300000000001</td><td>31</td><td>16</td><td>0</td><td>0</td><td>2</td><td>1</td></tr><tr><td>329.56</td><td>21</td><td>261</td><td>0</td><td>0</td><td>0</td><td>0</td></tr><tr><td>663.6500000000001</td><td>67</td><td>95</td><td>0</td><td>0</td><td>2</td><td>1</td></tr><tr><td>270.40000000000003</td><td>13</td><td>111</td><td>0</td><td>0</td><td>2</td><td>1</td></tr><tr><td>600.07</td><td>58</td><td>202</td><td>0</td><td>0</td><td>0</td><td>0</td></tr><tr><td>121.74000000000001</td><td>27</td><td>92</td><td>0</td><td>0</td><td>2</td><td>1</td></tr><tr><td>430.5</td><td>16</td><td>50</td><td>0</td><td>0</td><td>2</td><td>1</td></tr><tr><td>1987.3000000000009</td><td>141</td><td>17</td><td>1</td><td>1</td><td>1</td><td>2</td></tr><tr><td>501.12</td><td>25</td><td>17</td><td>0</td><td>0</td><td>2</td><td>1</td></tr><tr><td>465.6799999999999</td><td>26</td><td>124</td><td>0</td><td>0</td><td>2</td><td>1</td></tr><tr><td>711.41</td><td>23</td><td>91</td><td>0</td><td>0</td><td>2</td><td>1</td></tr><tr><td>1030.3999999999999</td><td>36</td><td>156</td><td>0</td><td>0</td><td>0</td><td>0</td></tr><tr><td>399.51</td><td>13</td><td>8</td><td>0</td><td>0</td><td>2</td><td>1</td></tr><tr><td>698.5799999999999</td><td>38</td><td>11</td><td>0</td><td>0</td><td>2</td><td>1</td></tr><tr><td>292.3199999999999</td><td>87</td><td>61</td><td>0</td><td>1</td><td>2</td><td>1</td></tr><tr><td>557.6200000000001</td><td>8</td><td>60</td><td>0</td><td>0</td><td>2</td><td>1</td></tr><tr><td>944.1</td><td>9</td><td>268</td><td>0</td><td>0</td><td>0</td><td>0</td></tr><tr><td>200.29000000000002</td><td>11</td><td>262</td><td>0</td><td>0</td><td>0</td><td>0</td></tr><tr><td>2107.6600000000008</td><td>91</td><td>52</td><td>1</td><td>1</td><td>1</td><td>2</td></tr><tr><td>217.3799999999999</td><td>96</td><td>36</td><td>0</td><td>1</td><td>2</td><td>1</td></tr><tr><td>276.56000000000006</td><td>15</td><td>30</td><td>0</td><td>0</td><td>2</td><td>1</td></tr><tr><td>138.97999999999996</td><td>16</td><td>112</td><td>0</td><td>0</td><td>2</td><td>1</td></tr><tr><td>590.93</td><td>30</td><td>63</td><td>0</td><td>0</td><td>2</td><td>1</td></tr><tr><td>258.4</td><td>8</td><td>15</td><td>0</td><td>0</td><td>2</td><td>1</td></tr><tr><td>542.73</td><td>46</td><td>40</td><td>0</td><td>0</td><td>2</td><td>1</td></tr><tr><td>137.75</td><td>9</td><td>77</td><td>0</td><td>0</td><td>2</td><td>1</td></tr><tr><td>814.8600000000001</td><td>85</td><td>121</td><td>0</td><td>0</td><td>2</td><td>0</td></tr><tr><td>1132.1399999999999</td><td>37</td><td>17</td><td>0</td><td>1</td><td>2</td><td>1</td></tr><tr><td>93.66</td><td>7</td><td>59</td><td>0</td><td>0</td><td>2</td><td>1</td></tr><tr><td>2709.1200000000003</td><td>187</td><td>22</td><td>1</td><td>1</td><td>1</td><td>3</td></tr><tr><td>361.10999999999996</td><td>42</td><td>155</td><td>0</td><td>0</td><td>0</td><td>0</td></tr><tr><td>578.9399999999999</td><td>31</td><td>38</td><td>0</td><td>0</td><td>2</td><td>1</td></tr><tr><td>873.7399999999998</td><td>54</td><td>189</td><td>0</td><td>0</td><td>0</td><td>0</td></tr><tr><td>87.4</td><td>5</td><td>136</td><td>0</td><td>0</td><td>0</td><td>1</td></tr><tr><td>2089.8500000000004</td><td>59</td><td>7</td><td>1</td><td>1</td><td>1</td><td>2</td></tr><tr><td>360.0</td><td>2</td><td>0</td><td>0</td><td>0</td><td>2</td><td>1</td></tr><tr><td>142.5</td><td>5</td><td>267</td><td>0</td><td>0</td><td>0</td><td>0</td></tr><tr><td>371.89000000000004</td><td>20</td><td>168</td><td>0</td><td>0</td><td>0</td><td>0</td></tr><tr><td>618.0899999999998</td><td>81</td><td>103</td><td>0</td><td>1</td><td>2</td><td>1</td></tr><tr><td>63.75</td><td>1</td><td>154</td><td>0</td><td>0</td><td>0</td><td>0</td></tr><tr><td>2000.8599999999992</td><td>81</td><td>3</td><td>1</td><td>1</td><td>1</td><td>2</td></tr><tr><td>15.0</td><td>1</td><td>119</td><td>0</td><td>0</td><td>2</td><td>1</td></tr><tr><td>1385.51</td><td>54</td><td>22</td><td>1</td><td>1</td><td>2</td><td>1</td></tr><tr><td>1456.7899999999993</td><td>107</td><td>6</td><td>1</td><td>1</td><td>1</td><td>1</td></tr><tr><td>1132.0300000000002</td><td>72</td><td>27</td><td>1</td><td>1</td><td>2</td><td>1</td></tr><tr><td>598.57</td><td>26</td><td>3</td><td>0</td><td>0</td><td>2</td><td>1</td></tr><tr><td>1555.3199999999993</td><td>78</td><td>21</td><td>1</td><td>1</td><td>1</td><td>1</td></tr><tr><td>775.9400000000002</td><td>62</td><td>1</td><td>1</td><td>0</td><td>2</td><td>1</td></tr><tr><td>2273.679999999999</td><td>124</td><td>65</td><td>1</td><td>1</td><td>1</td><td>2</td></tr><tr><td>640.76</td><td>20</td><td>0</td><td>0</td><td>0</td><td>2</td><td>1</td></tr><tr><td>1548.7000000000003</td><td>106</td><td>77</td><td>1</td><td>1</td><td>1</td><td>2</td></tr><tr><td>567.36</td><td>11</td><td>71</td><td>0</td><td>0</td><td>2</td><td>1</td></tr><tr><td>199.48</td><td>25</td><td>16</td><td>0</td><td>0</td><td>2</td><td>1</td></tr><tr><td>787.85</td><td>21</td><td>2</td><td>0</td><td>0</td><td>2</td><td>1</td></tr><tr><td>675.3</td><td>12</td><td>81</td><td>0</td><td>0</td><td>2</td><td>1</td></tr><tr><td>1308.48</td><td>17</td><td>315</td><td>0</td><td>0</td><td>0</td><td>0</td></tr><tr><td>789.0</td><td>17</td><td>31</td><td>0</td><td>0</td><td>2</td><td>1</td></tr><tr><td>1140.9299999999996</td><td>53</td><td>92</td><td>0</td><td>1</td><td>2</td><td>1</td></tr><tr><td>350.9</td><td>21</td><td>13</td><td>0</td><td>0</td><td>2</td><td>1</td></tr><tr><td>795.12</td><td>51</td><td>76</td><td>0</td><td>0</td><td>2</td><td>1</td></tr><tr><td>487.02</td><td>19</td><td>157</td><td>0</td><td>0</td><td>0</td><td>0</td></tr><tr><td>860.1200000000002</td><td>54</td><td>200</td><td>0</td><td>0</td><td>0</td><td>0</td></tr><tr><td>775.8499999999999</td><td>42</td><td>260</td><td>0</td><td>0</td><td>0</td><td>0</td></tr><tr><td>353.43</td><td>19</td><td>177</td><td>0</td><td>0</td><td>0</td><td>0</td></tr><tr><td>2543.720000000002</td><td>119</td><td>67</td><td>1</td><td>1</td><td>1</td><td>2</td></tr><tr><td>389.50000000000006</td><td>20</td><td>287</td><td>0</td><td>0</td><td>0</td><td>0</td></tr><tr><td>341.36</td><td>8</td><td>69</td><td>0</td><td>0</td><td>2</td><td>1</td></tr><tr><td>233.76</td><td>14</td><td>63</td><td>0</td><td>0</td><td>2</td><td>1</td></tr><tr><td>247.31999999999996</td><td>16</td><td>10</td><td>0</td><td>0</td><td>2</td><td>1</td></tr><tr><td>979.1199999999999</td><td>40</td><td>15</td><td>0</td><td>1</td><td>2</td><td>1</td></tr><tr><td>373.94</td><td>16</td><td>65</td><td>0</td><td>0</td><td>2</td><td>1</td></tr><tr><td>397.9800000000001</td><td>24</td><td>59</td><td>0</td><td>0</td><td>2</td><td>1</td></tr><tr><td>743.5300000000003</td><td>51</td><td>70</td><td>0</td><td>0</td><td>2</td><td>1</td></tr><tr><td>674.7</td><td>32</td><td>121</td><td>0</td><td>0</td><td>2</td><td>0</td></tr><tr><td>768.2400000000001</td><td>42</td><td>79</td><td>0</td><td>0</td><td>2</td><td>1</td></tr><tr><td>609.9500000000002</td><td>90</td><td>256</td><td>0</td><td>0</td><td>0</td><td>0</td></tr><tr><td>439.03000000000003</td><td>29</td><td>268</td><td>0</td><td>0</td><td>0</td><td>0</td></tr><tr><td>439.55999999999995</td><td>23</td><td>63</td><td>0</td><td>0</td><td>2</td><td>1</td></tr><tr><td>992.5000000000002</td><td>60</td><td>17</td><td>1</td><td>1</td><td>2</td><td>1</td></tr><tr><td>134.96</td><td>10</td><td>70</td><td>0</td><td>0</td><td>2</td><td>1</td></tr><tr><td>2225.3700000000013</td><td>128</td><td>33</td><td>1</td><td>1</td><td>1</td><td>2</td></tr><tr><td>56.160000000000004</td><td>1</td><td>49</td><td>0</td><td>0</td><td>2</td><td>1</td></tr><tr><td>623.4</td><td>29</td><td>256</td><td>0</td><td>0</td><td>0</td><td>0</td></tr><tr><td>378.64</td><td>23</td><td>89</td><td>0</td><td>0</td><td>2</td><td>1</td></tr><tr><td>778.6499999999997</td><td>37</td><td>88</td><td>0</td><td>0</td><td>2</td><td>0</td></tr><tr><td>1019.7600000000003</td><td>53</td><td>98</td><td>0</td><td>1</td><td>2</td><td>1</td></tr><tr><td>572.5599999999997</td><td>97</td><td>25</td><td>1</td><td>1</td><td>2</td><td>1</td></tr><tr><td>222.99</td><td>15</td><td>280</td><td>0</td><td>0</td><td>0</td><td>0</td></tr><tr><td>677.1000000000001</td><td>35</td><td>130</td><td>0</td><td>0</td><td>2</td><td>0</td></tr><tr><td>797.96</td><td>51</td><td>10</td><td>0</td><td>0</td><td>2</td><td>1</td></tr><tr><td>544.0799999999999</td><td>13</td><td>74</td><td>0</td><td>0</td><td>2</td><td>1</td></tr><tr><td>59.8</td><td>1</td><td>203</td><td>0</td><td>0</td><td>0</td><td>0</td></tr><tr><td>2520.0199999999995</td><td>155</td><td>1</td><td>1</td><td>1</td><td>1</td><td>3</td></tr><tr><td>307.72</td><td>21</td><td>184</td><td>0</td><td>0</td><td>0</td><td>0</td></tr><tr><td>1360.9899999999998</td><td>43</td><td>28</td><td>1</td><td>1</td><td>2</td><td>1</td></tr><tr><td>1544.1299999999997</td><td>38</td><td>72</td><td>1</td><td>1</td><td>2</td><td>2</td></tr><tr><td>457.3400000000001</td><td>26</td><td>191</td><td>0</td><td>0</td><td>0</td><td>0</td></tr><tr><td>621.2300000000002</td><td>39</td><td>126</td><td>0</td><td>0</td><td>2</td><td>0</td></tr><tr><td>75.0</td><td>3</td><td>17</td><td>0</td><td>0</td><td>2</td><td>1</td></tr><tr><td>252.48999999999998</td><td>11</td><td>0</td><td>0</td><td>0</td><td>2</td><td>1</td></tr><tr><td>572.4509999999999</td><td>27</td><td>73</td><td>0</td><td>0</td><td>2</td><td>1</td></tr><tr><td>1003.0600000000001</td><td>28</td><td>23</td><td>0</td><td>1</td><td>2</td><td>1</td></tr><tr><td>213.55000000000004</td><td>18</td><td>106</td><td>0</td><td>0</td><td>2</td><td>1</td></tr><tr><td>1390.5</td><td>24</td><td>133</td><td>0</td><td>1</td><td>2</td><td>1</td></tr><tr><td>712.5000000000001</td><td>19</td><td>43</td><td>0</td><td>0</td><td>2</td><td>1</td></tr><tr><td>640.83</td><td>28</td><td>4</td><td>0</td><td>0</td><td>2</td><td>1</td></tr><tr><td>221.05999999999995</td><td>16</td><td>63</td><td>0</td><td>0</td><td>2</td><td>1</td></tr><tr><td>159.85</td><td>8</td><td>149</td><td>0</td><td>0</td><td>0</td><td>0</td></tr><tr><td>1851.0799999999995</td><td>104</td><td>39</td><td>1</td><td>1</td><td>1</td><td>2</td></tr><tr><td>2626.3000000000006</td><td>127</td><td>63</td><td>1</td><td>1</td><td>1</td><td>2</td></tr><tr><td>1624.2099999999998</td><td>78</td><td>107</td><td>1</td><td>1</td><td>1</td><td>2</td></tr><tr><td>582.6</td><td>29</td><td>18</td><td>0</td><td>0</td><td>2</td><td>1</td></tr><tr><td>218.46999999999994</td><td>74</td><td>9</td><td>0</td><td>0</td><td>2</td><td>1</td></tr><tr><td>1006.8000000000001</td><td>67</td><td>10</td><td>1</td><td>1</td><td>2</td><td>1</td></tr><tr><td>679.45</td><td>49</td><td>18</td><td>0</td><td>0</td><td>2</td><td>1</td></tr><tr><td>1269.0999999999995</td><td>46</td><td>66</td><td>1</td><td>1</td><td>2</td><td>1</td></tr><tr><td>534.24</td><td>10</td><td>73</td><td>0</td><td>0</td><td>2</td><td>1</td></tr><tr><td>196.88999999999996</td><td>12</td><td>1</td><td>0</td><td>0</td><td>2</td><td>1</td></tr><tr><td>283.71</td><td>54</td><td>254</td><td>0</td><td>0</td><td>0</td><td>0</td></tr><tr><td>296.64000000000004</td><td>13</td><td>91</td><td>0</td><td>0</td><td>2</td><td>1</td></tr><tr><td>1129.14</td><td>59</td><td>22</td><td>1</td><td>1</td><td>2</td><td>1</td></tr><tr><td>291.88</td><td>19</td><td>23</td><td>0</td><td>0</td><td>2</td><td>1</td></tr><tr><td>2043.7200000000003</td><td>71</td><td>26</td><td>1</td><td>1</td><td>1</td><td>2</td></tr><tr><td>590.0</td><td>2</td><td>258</td><td>0</td><td>0</td><td>0</td><td>0</td></tr><tr><td>356.98</td><td>17</td><td>165</td><td>0</td><td>0</td><td>0</td><td>0</td></tr><tr><td>1058.34</td><td>46</td><td>24</td><td>0</td><td>1</td><td>2</td><td>1</td></tr><tr><td>1766.7199999999998</td><td>63</td><td>17</td><td>1</td><td>1</td><td>1</td><td>1</td></tr><tr><td>183.44</td><td>17</td><td>28</td><td>0</td><td>0</td><td>2</td><td>1</td></tr><tr><td>1445.0000000000002</td><td>27</td><td>38</td><td>1</td><td>1</td><td>2</td><td>1</td></tr><tr><td>151.5</td><td>9</td><td>252</td><td>0</td><td>0</td><td>0</td><td>0</td></tr><tr><td>674.6800000000002</td><td>41</td><td>57</td><td>0</td><td>0</td><td>2</td><td>1</td></tr><tr><td>307.90000000000003</td><td>17</td><td>183</td><td>0</td><td>0</td><td>0</td><td>0</td></tr><tr><td>1083.71</td><td>99</td><td>10</td><td>1</td><td>1</td><td>1</td><td>1</td></tr><tr><td>165.0</td><td>10</td><td>98</td><td>0</td><td>0</td><td>2</td><td>1</td></tr><tr><td>422.64</td><td>21</td><td>60</td><td>0</td><td>0</td><td>2</td><td>1</td></tr><tr><td>229.58999999999997</td><td>64</td><td>235</td><td>0</td><td>0</td><td>0</td><td>0</td></tr><tr><td>1431.7800000000009</td><td>86</td><td>190</td><td>1</td><td>1</td><td>1</td><td>0</td></tr><tr><td>1238.4699999999998</td><td>58</td><td>178</td><td>0</td><td>0</td><td>0</td><td>0</td></tr><tr><td>1454.579999999999</td><td>79</td><td>37</td><td>1</td><td>1</td><td>1</td><td>1</td></tr><tr><td>300.95</td><td>15</td><td>200</td><td>0</td><td>0</td><td>0</td><td>0</td></tr><tr><td>1804.5599999999993</td><td>109</td><td>45</td><td>1</td><td>1</td><td>1</td><td>2</td></tr><tr><td>184.64</td><td>11</td><td>231</td><td>0</td><td>0</td><td>0</td><td>0</td></tr><tr><td>140.34000000000003</td><td>10</td><td>65</td><td>0</td><td>0</td><td>2</td><td>1</td></tr><tr><td>313.79999999999995</td><td>8</td><td>240</td><td>0</td><td>0</td><td>0</td><td>0</td></tr><tr><td>454.24</td><td>23</td><td>232</td><td>0</td><td>0</td><td>0</td><td>0</td></tr><tr><td>1122.4099999999999</td><td>69</td><td>77</td><td>1</td><td>1</td><td>2</td><td>1</td></tr><tr><td>575.4000000000001</td><td>34</td><td>57</td><td>0</td><td>0</td><td>2</td><td>1</td></tr><tr><td>449.52</td><td>14</td><td>104</td><td>0</td><td>0</td><td>2</td><td>1</td></tr><tr><td>1215.82</td><td>86</td><td>51</td><td>1</td><td>1</td><td>1</td><td>1</td></tr><tr><td>1269.8400000000006</td><td>50</td><td>135</td><td>0</td><td>0</td><td>2</td><td>0</td></tr><tr><td>618.63</td><td>8</td><td>274</td><td>0</td><td>0</td><td>0</td><td>0</td></tr><tr><td>316.26</td><td>18</td><td>311</td><td>0</td><td>0</td><td>0</td><td>0</td></tr><tr><td>2044.8699999999997</td><td>48</td><td>7</td><td>1</td><td>1</td><td>1</td><td>2</td></tr><tr><td>653.3299999999999</td><td>35</td><td>10</td><td>0</td><td>0</td><td>2</td><td>1</td></tr><tr><td>348.04999999999995</td><td>19</td><td>282</td><td>0</td><td>0</td><td>0</td><td>0</td></tr><tr><td>1159.11</td><td>42</td><td>17</td><td>1</td><td>1</td><td>2</td><td>1</td></tr><tr><td>1166.7700000000002</td><td>65</td><td>22</td><td>1</td><td>1</td><td>2</td><td>1</td></tr><tr><td>1340.3199999999997</td><td>52</td><td>287</td><td>0</td><td>0</td><td>0</td><td>0</td></tr><tr><td>292.0</td><td>18</td><td>16</td><td>0</td><td>0</td><td>2</td><td>1</td></tr><tr><td>216.84999999999997</td><td>17</td><td>70</td><td>0</td><td>0</td><td>2</td><td>1</td></tr><tr><td>295.93</td><td>22</td><td>63</td><td>0</td><td>0</td><td>2</td><td>1</td></tr><tr><td>458.52000000000004</td><td>26</td><td>315</td><td>0</td><td>0</td><td>0</td><td>0</td></tr><tr><td>2479.159999999999</td><td>162</td><td>2</td><td>1</td><td>1</td><td>1</td><td>3</td></tr><tr><td>110.97</td><td>12</td><td>243</td><td>0</td><td>0</td><td>0</td><td>0</td></tr><tr><td>979.7200000000001</td><td>44</td><td>8</td><td>0</td><td>1</td><td>2</td><td>1</td></tr><tr><td>1791.5599999999984</td><td>115</td><td>0</td><td>1</td><td>1</td><td>1</td><td>2</td></tr><tr><td>251.20999999999998</td><td>15</td><td>260</td><td>0</td><td>0</td><td>0</td><td>0</td></tr><tr><td>205.09999999999997</td><td>10</td><td>126</td><td>0</td><td>0</td><td>2</td><td>1</td></tr><tr><td>152.20000000000002</td><td>4</td><td>73</td><td>0</td><td>0</td><td>2</td><td>1</td></tr><tr><td>891.1200000000002</td><td>59</td><td>72</td><td>0</td><td>1</td><td>2</td><td>1</td></tr><tr><td>1389.4100000000003</td><td>44</td><td>20</td><td>1</td><td>1</td><td>2</td><td>1</td></tr><tr><td>2128.42</td><td>141</td><td>59</td><td>1</td><td>1</td><td>1</td><td>2</td></tr><tr><td>659.4399999999998</td><td>38</td><td>85</td><td>0</td><td>0</td><td>2</td><td>1</td></tr><tr><td>122.75</td><td>8</td><td>77</td><td>0</td><td>0</td><td>2</td><td>1</td></tr><tr><td>125.80000000000001</td><td>5</td><td>29</td><td>0</td><td>0</td><td>2</td><td>1</td></tr><tr><td>680.1800000000001</td><td>27</td><td>40</td><td>0</td><td>0</td><td>2</td><td>1</td></tr><tr><td>628.78</td><td>6</td><td>14</td><td>0</td><td>0</td><td>2</td><td>1</td></tr><tr><td>2287.5100000000007</td><td>223</td><td>33</td><td>1</td><td>1</td><td>1</td><td>3</td></tr><tr><td>307.76</td><td>15</td><td>78</td><td>0</td><td>0</td><td>2</td><td>1</td></tr><tr><td>483.8000000000001</td><td>22</td><td>204</td><td>0</td><td>0</td><td>0</td><td>0</td></tr><tr><td>210.30999999999983</td><td>66</td><td>33</td><td>0</td><td>0</td><td>2</td><td>1</td></tr><tr><td>270.79000000000013</td><td>76</td><td>182</td><td>0</td><td>0</td><td>0</td><td>0</td></tr><tr><td>1280.85</td><td>25</td><td>42</td><td>0</td><td>1</td><td>2</td><td>1</td></tr><tr><td>631.3400000000001</td><td>37</td><td>85</td><td>0</td><td>0</td><td>2</td><td>1</td></tr><tr><td>291.4099999999999</td><td>87</td><td>39</td><td>0</td><td>1</td><td>2</td><td>1</td></tr><tr><td>626.9899999999999</td><td>98</td><td>11</td><td>1</td><td>1</td><td>2</td><td>1</td></tr><tr><td>682.41</td><td>124</td><td>95</td><td>1</td><td>1</td><td>1</td><td>1</td></tr><tr><td>918.1999999999998</td><td>51</td><td>25</td><td>0</td><td>1</td><td>2</td><td>1</td></tr><tr><td>91.80000000000001</td><td>4</td><td>318</td><td>0</td><td>0</td><td>0</td><td>0</td></tr><tr><td>584.0600000000001</td><td>34</td><td>27</td><td>0</td><td>0</td><td>2</td><td>1</td></tr><tr><td>605.0599999999998</td><td>175</td><td>5</td><td>1</td><td>1</td><td>1</td><td>3</td></tr><tr><td>174.37000000000003</td><td>33</td><td>6</td><td>0</td><td>0</td><td>2</td><td>1</td></tr><tr><td>141.86</td><td>14</td><td>215</td><td>0</td><td>0</td><td>0</td><td>0</td></tr><tr><td>1799.3299999999988</td><td>82</td><td>81</td><td>1</td><td>1</td><td>1</td><td>2</td></tr><tr><td>777.5300000000001</td><td>49</td><td>83</td><td>0</td><td>0</td><td>2</td><td>1</td></tr><tr><td>1749.0200000000004</td><td>83</td><td>143</td><td>1</td><td>1</td><td>1</td><td>2</td></tr><tr><td>240.22000000000006</td><td>38</td><td>18</td><td>0</td><td>0</td><td>2</td><td>1</td></tr><tr><td>874.7099999999997</td><td>176</td><td>40</td><td>1</td><td>1</td><td>1</td><td>3</td></tr><tr><td>192.85000000000005</td><td>44</td><td>172</td><td>0</td><td>0</td><td>0</td><td>0</td></tr><tr><td>373.74999999999994</td><td>85</td><td>16</td><td>0</td><td>1</td><td>2</td><td>1</td></tr><tr><td>239.49000000000004</td><td>27</td><td>242</td><td>0</td><td>0</td><td>0</td><td>0</td></tr><tr><td>1384.25</td><td>33</td><td>205</td><td>0</td><td>0</td><td>0</td><td>0</td></tr><tr><td>294.4</td><td>26</td><td>49</td><td>0</td><td>0</td><td>2</td><td>1</td></tr><tr><td>732.0699999999997</td><td>46</td><td>22</td><td>0</td><td>0</td><td>2</td><td>1</td></tr><tr><td>1687.5999999999988</td><td>83</td><td>24</td><td>1</td><td>1</td><td>1</td><td>1</td></tr><tr><td>467.03999999999996</td><td>23</td><td>14</td><td>0</td><td>0</td><td>2</td><td>1</td></tr><tr><td>117.99999999999999</td><td>10</td><td>308</td><td>0</td><td>0</td><td>0</td><td>0</td></tr><tr><td>781.0300000000002</td><td>53</td><td>155</td><td>0</td><td>0</td><td>0</td><td>0</td></tr><tr><td>142.40000000000003</td><td>24</td><td>306</td><td>0</td><td>0</td><td>0</td><td>0</td></tr><tr><td>712.4</td><td>8</td><td>63</td><td>0</td><td>0</td><td>2</td><td>1</td></tr><tr><td>2478.949999999998</td><td>174</td><td>15</td><td>1</td><td>1</td><td>1</td><td>3</td></tr><tr><td>379.65000000000003</td><td>21</td><td>14</td><td>0</td><td>0</td><td>2</td><td>1</td></tr><tr><td>1981.9199999999994</td><td>87</td><td>10</td><td>1</td><td>1</td><td>1</td><td>2</td></tr><tr><td>1117.1300000000003</td><td>58</td><td>64</td><td>1</td><td>1</td><td>2</td><td>1</td></tr><tr><td>247.95999999999995</td><td>16</td><td>35</td><td>0</td><td>0</td><td>2</td><td>1</td></tr><tr><td>2037.0800000000008</td><td>128</td><td>107</td><td>1</td><td>1</td><td>1</td><td>2</td></tr><tr><td>396.96999999999997</td><td>26</td><td>52</td><td>0</td><td>0</td><td>2</td><td>1</td></tr><tr><td>697.04</td><td>166</td><td>5</td><td>1</td><td>1</td><td>1</td><td>3</td></tr><tr><td>180.1700000000001</td><td>40</td><td>46</td><td>0</td><td>0</td><td>2</td><td>1</td></tr><tr><td>219.51999999999998</td><td>19</td><td>311</td><td>0</td><td>0</td><td>0</td><td>0</td></tr><tr><td>693.3200000000002</td><td>99</td><td>44</td><td>1</td><td>1</td><td>2</td><td>1</td></tr><tr><td>428.88999999999993</td><td>23</td><td>64</td><td>0</td><td>0</td><td>2</td><td>1</td></tr><tr><td>164.34</td><td>27</td><td>25</td><td>0</td><td>0</td><td>2</td><td>1</td></tr><tr><td>280.53999999999996</td><td>43</td><td>28</td><td>0</td><td>0</td><td>2</td><td>1</td></tr><tr><td>678.0099999999996</td><td>98</td><td>39</td><td>1</td><td>1</td><td>2</td><td>1</td></tr><tr><td>1131.8800000000006</td><td>226</td><td>11</td><td>1</td><td>1</td><td>1</td><td>3</td></tr><tr><td>1171.8000000000002</td><td>74</td><td>88</td><td>1</td><td>1</td><td>1</td><td>1</td></tr><tr><td>1610.460000000001</td><td>201</td><td>23</td><td>1</td><td>1</td><td>1</td><td>3</td></tr><tr><td>417.6900000000001</td><td>23</td><td>318</td><td>0</td><td>0</td><td>0</td><td>0</td></tr><tr><td>544.18</td><td>44</td><td>39</td><td>0</td><td>0</td><td>2</td><td>1</td></tr><tr><td>177.34000000000003</td><td>13</td><td>173</td><td>0</td><td>0</td><td>0</td><td>0</td></tr><tr><td>213.85</td><td>19</td><td>116</td><td>0</td><td>0</td><td>2</td><td>1</td></tr><tr><td>747.7800000000003</td><td>81</td><td>30</td><td>1</td><td>1</td><td>2</td><td>1</td></tr><tr><td>257.22999999999996</td><td>19</td><td>252</td><td>0</td><td>0</td><td>0</td><td>0</td></tr><tr><td>1638.4700000000003</td><td>92</td><td>58</td><td>1</td><td>1</td><td>1</td><td>1</td></tr><tr><td>2031.7800000000002</td><td>71</td><td>4</td><td>1</td><td>1</td><td>1</td><td>2</td></tr><tr><td>2121.27</td><td>146</td><td>24</td><td>1</td><td>1</td><td>1</td><td>2</td></tr><tr><td>1575.1600000000003</td><td>188</td><td>32</td><td>1</td><td>1</td><td>1</td><td>3</td></tr><tr><td>1071.0300000000002</td><td>62</td><td>67</td><td>1</td><td>1</td><td>2</td><td>1</td></tr><tr><td>949.1199999999999</td><td>63</td><td>36</td><td>1</td><td>1</td><td>2</td><td>1</td></tr><tr><td>810.4999999999998</td><td>101</td><td>51</td><td>1</td><td>1</td><td>1</td><td>1</td></tr><tr><td>122.64000000000001</td><td>8</td><td>15</td><td>0</td><td>0</td><td>2</td><td>1</td></tr><tr><td>1033.3400000000001</td><td>40</td><td>73</td><td>0</td><td>1</td><td>2</td><td>1</td></tr><tr><td>354.7999999999999</td><td>66</td><td>215</td><td>0</td><td>0</td><td>0</td><td>0</td></tr><tr><td>519.44</td><td>28</td><td>30</td><td>0</td><td>0</td><td>2</td><td>1</td></tr><tr><td>2624.260000000001</td><td>146</td><td>15</td><td>1</td><td>1</td><td>1</td><td>2</td></tr><tr><td>252.1</td><td>5</td><td>119</td><td>0</td><td>0</td><td>2</td><td>1</td></tr><tr><td>1678.1200000000001</td><td>79</td><td>9</td><td>1</td><td>1</td><td>1</td><td>1</td></tr><tr><td>346.6000000000001</td><td>23</td><td>256</td><td>0</td><td>0</td><td>0</td><td>0</td></tr><tr><td>1836.34</td><td>96</td><td>16</td><td>1</td><td>1</td><td>1</td><td>2</td></tr><tr><td>94.2</td><td>6</td><td>34</td><td>0</td><td>0</td><td>2</td><td>1</td></tr><tr><td>1095.08</td><td>63</td><td>45</td><td>1</td><td>1</td><td>2</td><td>1</td></tr><tr><td>2707.329999999999</td><td>166</td><td>42</td><td>1</td><td>1</td><td>1</td><td>3</td></tr><tr><td>932.9700000000004</td><td>56</td><td>113</td><td>0</td><td>0</td><td>2</td><td>1</td></tr><tr><td>379.65000000000003</td><td>49</td><td>164</td><td>0</td><td>0</td><td>0</td><td>0</td></tr><tr><td>382.13999999999993</td><td>16</td><td>10</td><td>0</td><td>0</td><td>2</td><td>1</td></tr><tr><td>2639.1700000000037</td><td>108</td><td>9</td><td>1</td><td>1</td><td>1</td><td>2</td></tr><tr><td>1573.2000000000007</td><td>104</td><td>205</td><td>1</td><td>1</td><td>1</td><td>0</td></tr><tr><td>897.7600000000001</td><td>53</td><td>85</td><td>0</td><td>1</td><td>2</td><td>1</td></tr><tr><td>189.47</td><td>13</td><td>178</td><td>0</td><td>0</td><td>0</td><td>0</td></tr><tr><td>84.65000000000002</td><td>12</td><td>59</td><td>0</td><td>0</td><td>2</td><td>1</td></tr><tr><td>305.0199999999998</td><td>87</td><td>148</td><td>0</td><td>0</td><td>0</td><td>0</td></tr><tr><td>218.55</td><td>9</td><td>50</td><td>0</td><td>0</td><td>2</td><td>1</td></tr><tr><td>349.70000000000016</td><td>25</td><td>74</td><td>0</td><td>0</td><td>2</td><td>1</td></tr><tr><td>186.39</td><td>6</td><td>300</td><td>0</td><td>0</td><td>0</td><td>0</td></tr><tr><td>396.9199999999999</td><td>65</td><td>18</td><td>0</td><td>1</td><td>2</td><td>1</td></tr><tr><td>486.82000000000005</td><td>25</td><td>150</td><td>0</td><td>0</td><td>0</td><td>0</td></tr><tr><td>232.60000000000005</td><td>16</td><td>151</td><td>0</td><td>0</td><td>0</td><td>0</td></tr><tr><td>827.83</td><td>57</td><td>17</td><td>0</td><td>0</td><td>2</td><td>1</td></tr><tr><td>59.5</td><td>3</td><td>186</td><td>0</td><td>0</td><td>0</td><td>0</td></tr><tr><td>67.23000000000002</td><td>30</td><td>285</td><td>0</td><td>0</td><td>0</td><td>0</td></tr><tr><td>72.0</td><td>8</td><td>182</td><td>0</td><td>0</td><td>0</td><td>0</td></tr><tr><td>910.0</td><td>6</td><td>62</td><td>0</td><td>1</td><td>2</td><td>1</td></tr><tr><td>172.25</td><td>9</td><td>58</td><td>0</td><td>0</td><td>2</td><td>1</td></tr><tr><td>1488.3200000000004</td><td>53</td><td>24</td><td>1</td><td>1</td><td>1</td><td>1</td></tr><tr><td>2504.1299999999987</td><td>90</td><td>30</td><td>1</td><td>1</td><td>1</td><td>2</td></tr><tr><td>151.3</td><td>12</td><td>38</td><td>0</td><td>0</td><td>2</td><td>1</td></tr><tr><td>308.58</td><td>14</td><td>154</td><td>0</td><td>0</td><td>0</td><td>1</td></tr><tr><td>2265.119999999999</td><td>197</td><td>25</td><td>1</td><td>1</td><td>1</td><td>3</td></tr><tr><td>99.5</td><td>1</td><td>317</td><td>0</td><td>0</td><td>0</td><td>0</td></tr><tr><td>2308.0599999999986</td><td>134</td><td>4</td><td>1</td><td>1</td><td>1</td><td>2</td></tr><tr><td>711.8600000000001</td><td>28</td><td>7</td><td>0</td><td>0</td><td>2</td><td>1</td></tr><tr><td>330.78999999999996</td><td>20</td><td>302</td><td>0</td><td>0</td><td>0</td><td>0</td></tr><tr><td>806.4100000000004</td><td>48</td><td>266</td><td>0</td><td>0</td><td>0</td><td>0</td></tr><tr><td>296.87999999999994</td><td>51</td><td>270</td><td>0</td><td>0</td><td>0</td><td>0</td></tr><tr><td>180.48000000000002</td><td>8</td><td>31</td><td>0</td><td>0</td><td>2</td><td>1</td></tr><tr><td>252.06000000000003</td><td>13</td><td>218</td><td>0</td><td>0</td><td>0</td><td>0</td></tr><tr><td>228.83999999999997</td><td>10</td><td>246</td><td>0</td><td>0</td><td>0</td><td>0</td></tr><tr><td>1079.3399999999997</td><td>105</td><td>280</td><td>0</td><td>0</td><td>0</td><td>0</td></tr><tr><td>138.28</td><td>21</td><td>268</td><td>0</td><td>0</td><td>0</td><td>0</td></tr><tr><td>1445.0100000000002</td><td>102</td><td>31</td><td>1</td><td>1</td><td>1</td><td>1</td></tr><tr><td>306.55</td><td>12</td><td>245</td><td>0</td><td>0</td><td>0</td><td>0</td></tr><tr><td>1041.68</td><td>60</td><td>14</td><td>1</td><td>1</td><td>2</td><td>1</td></tr><tr><td>799.8999999999999</td><td>43</td><td>116</td><td>0</td><td>0</td><td>2</td><td>0</td></tr><tr><td>524.14</td><td>28</td><td>35</td><td>0</td><td>0</td><td>2</td><td>1</td></tr><tr><td>2375.4100000000008</td><td>85</td><td>131</td><td>1</td><td>1</td><td>1</td><td>2</td></tr><tr><td>199.85000000000002</td><td>6</td><td>216</td><td>0</td><td>0</td><td>0</td><td>0</td></tr><tr><td>1980.5600000000004</td><td>104</td><td>49</td><td>1</td><td>1</td><td>1</td><td>2</td></tr><tr><td>1079.6600000000003</td><td>42</td><td>38</td><td>0</td><td>1</td><td>2</td><td>1</td></tr><tr><td>333.4800000000001</td><td>20</td><td>28</td><td>0</td><td>0</td><td>2</td><td>1</td></tr><tr><td>1016.1399999999999</td><td>63</td><td>36</td><td>1</td><td>1</td><td>2</td><td>1</td></tr><tr><td>752.5999999999998</td><td>43</td><td>135</td><td>0</td><td>0</td><td>2</td><td>0</td></tr><tr><td>610.5899999999999</td><td>38</td><td>218</td><td>0</td><td>0</td><td>0</td><td>0</td></tr><tr><td>491.86</td><td>33</td><td>27</td><td>0</td><td>0</td><td>2</td><td>1</td></tr><tr><td>2885.2399999999975</td><td>196</td><td>24</td><td>1</td><td>1</td><td>1</td><td>3</td></tr><tr><td>731.8999999999999</td><td>191</td><td>4</td><td>1</td><td>1</td><td>1</td><td>3</td></tr><tr><td>339.59999999999997</td><td>30</td><td>199</td><td>0</td><td>0</td><td>0</td><td>0</td></tr><tr><td>216.9</td><td>3</td><td>17</td><td>0</td><td>0</td><td>2</td><td>1</td></tr><tr><td>350.75</td><td>23</td><td>240</td><td>0</td><td>0</td><td>0</td><td>0</td></tr><tr><td>668.43</td><td>34</td><td>71</td><td>0</td><td>0</td><td>2</td><td>1</td></tr><tr><td>1341.5999999999997</td><td>41</td><td>2</td><td>1</td><td>1</td><td>2</td><td>1</td></tr><tr><td>1156.36</td><td>72</td><td>94</td><td>1</td><td>1</td><td>2</td><td>1</td></tr><tr><td>300.03999999999996</td><td>25</td><td>161</td><td>0</td><td>0</td><td>0</td><td>0</td></tr><tr><td>948.2499999999998</td><td>28</td><td>95</td><td>0</td><td>0</td><td>2</td><td>1</td></tr><tr><td>1647.2599999999998</td><td>24</td><td>53</td><td>1</td><td>1</td><td>2</td><td>2</td></tr><tr><td>296.24999999999994</td><td>9</td><td>287</td><td>0</td><td>0</td><td>0</td><td>0</td></tr><tr><td>1186.2800000000002</td><td>76</td><td>123</td><td>1</td><td>1</td><td>1</td><td>1</td></tr><tr><td>741.26</td><td>35</td><td>287</td><td>0</td><td>0</td><td>0</td><td>0</td></tr><tr><td>282.6</td><td>12</td><td>151</td><td>0</td><td>0</td><td>0</td><td>1</td></tr><tr><td>659.41</td><td>25</td><td>32</td><td>0</td><td>0</td><td>2</td><td>1</td></tr><tr><td>286.78999999999996</td><td>57</td><td>53</td><td>0</td><td>0</td><td>2</td><td>1</td></tr><tr><td>1070.65</td><td>70</td><td>49</td><td>1</td><td>1</td><td>2</td><td>1</td></tr><tr><td>306.72</td><td>7</td><td>218</td><td>0</td><td>0</td><td>0</td><td>0</td></tr><tr><td>1714.9599999999998</td><td>15</td><td>62</td><td>1</td><td>1</td><td>2</td><td>2</td></tr><tr><td>1521.7600000000002</td><td>208</td><td>70</td><td>1</td><td>1</td><td>1</td><td>3</td></tr><tr><td>2796.5099999999993</td><td>135</td><td>1</td><td>1</td><td>1</td><td>1</td><td>2</td></tr><tr><td>2634.450000000001</td><td>119</td><td>63</td><td>1</td><td>1</td><td>1</td><td>2</td></tr><tr><td>1132.13</td><td>177</td><td>33</td><td>1</td><td>1</td><td>1</td><td>3</td></tr><tr><td>344.99999999999994</td><td>22</td><td>81</td><td>0</td><td>0</td><td>2</td><td>1</td></tr><tr><td>178.7</td><td>9</td><td>102</td><td>0</td><td>0</td><td>2</td><td>1</td></tr><tr><td>360.01</td><td>57</td><td>6</td><td>0</td><td>0</td><td>2</td><td>1</td></tr><tr><td>127.84000000000002</td><td>17</td><td>250</td><td>0</td><td>0</td><td>0</td><td>0</td></tr><tr><td>911.9999999999992</td><td>115</td><td>12</td><td>1</td><td>1</td><td>1</td><td>1</td></tr><tr><td>2462.7899999999995</td><td>31</td><td>9</td><td>1</td><td>1</td><td>1</td><td>2</td></tr><tr><td>309.04</td><td>31</td><td>75</td><td>0</td><td>0</td><td>2</td><td>1</td></tr><tr><td>348.79999999999995</td><td>45</td><td>3</td><td>0</td><td>0</td><td>2</td><td>1</td></tr><tr><td>1516.0</td><td>11</td><td>127</td><td>0</td><td>1</td><td>2</td><td>1</td></tr><tr><td>195.54999999999995</td><td>13</td><td>65</td><td>0</td><td>0</td><td>2</td><td>1</td></tr><tr><td>688.8600000000002</td><td>39</td><td>116</td><td>0</td><td>0</td><td>2</td><td>0</td></tr><tr><td>558.3199999999997</td><td>33</td><td>309</td><td>0</td><td>0</td><td>0</td><td>0</td></tr><tr><td>324.79999999999995</td><td>23</td><td>66</td><td>0</td><td>0</td><td>2</td><td>1</td></tr><tr><td>277.07000000000005</td><td>17</td><td>254</td><td>0</td><td>0</td><td>0</td><td>0</td></tr><tr><td>2635.7900000000004</td><td>137</td><td>30</td><td>1</td><td>1</td><td>1</td><td>2</td></tr><tr><td>924.5999999999999</td><td>13</td><td>51</td><td>0</td><td>1</td><td>2</td><td>1</td></tr><tr><td>256.38</td><td>10</td><td>63</td><td>0</td><td>0</td><td>2</td><td>1</td></tr><tr><td>1747.66</td><td>76</td><td>5</td><td>1</td><td>1</td><td>1</td><td>1</td></tr><tr><td>155.05</td><td>12</td><td>304</td><td>0</td><td>0</td><td>0</td><td>0</td></tr><tr><td>1499.01</td><td>35</td><td>28</td><td>1</td><td>1</td><td>2</td><td>1</td></tr><tr><td>814.5</td><td>13</td><td>183</td><td>0</td><td>0</td><td>0</td><td>0</td></tr><tr><td>538.9999999999999</td><td>36</td><td>41</td><td>0</td><td>0</td><td>2</td><td>1</td></tr><tr><td>1366.8599999999994</td><td>69</td><td>39</td><td>1</td><td>1</td><td>1</td><td>1</td></tr><tr><td>1579.1200000000001</td><td>57</td><td>91</td><td>1</td><td>1</td><td>1</td><td>1</td></tr><tr><td>571.6700000000001</td><td>28</td><td>23</td><td>0</td><td>0</td><td>2</td><td>1</td></tr><tr><td>382.9799999999999</td><td>24</td><td>28</td><td>0</td><td>0</td><td>2</td><td>1</td></tr><tr><td>1140.35</td><td>36</td><td>301</td><td>0</td><td>0</td><td>0</td><td>0</td></tr><tr><td>385.64</td><td>59</td><td>144</td><td>0</td><td>0</td><td>0</td><td>0</td></tr><tr><td>632.0000000000001</td><td>96</td><td>5</td><td>1</td><td>1</td><td>2</td><td>1</td></tr><tr><td>957.6600000000001</td><td>40</td><td>18</td><td>0</td><td>1</td><td>2</td><td>1</td></tr><tr><td>1698.9399999999998</td><td>46</td><td>32</td><td>1</td><td>1</td><td>1</td><td>2</td></tr><tr><td>189.5</td><td>10</td><td>175</td><td>0</td><td>0</td><td>0</td><td>0</td></tr><tr><td>412.0499999999998</td><td>93</td><td>57</td><td>0</td><td>1</td><td>2</td><td>1</td></tr><tr><td>209.49000000000004</td><td>15</td><td>21</td><td>0</td><td>0</td><td>2</td><td>1</td></tr><tr><td>2202.99</td><td>74</td><td>15</td><td>1</td><td>1</td><td>1</td><td>2</td></tr><tr><td>52.199999999999996</td><td>3</td><td>18</td><td>0</td><td>0</td><td>2</td><td>1</td></tr><tr><td>384.7999999999999</td><td>29</td><td>158</td><td>0</td><td>0</td><td>0</td><td>0</td></tr><tr><td>834.57</td><td>55</td><td>24</td><td>0</td><td>0</td><td>2</td><td>1</td></tr><tr><td>271.24000000000007</td><td>19</td><td>211</td><td>0</td><td>0</td><td>0</td><td>0</td></tr><tr><td>691.7299999999999</td><td>174</td><td>5</td><td>1</td><td>1</td><td>1</td><td>3</td></tr><tr><td>85.0</td><td>1</td><td>252</td><td>0</td><td>0</td><td>0</td><td>0</td></tr><tr><td>361.62</td><td>20</td><td>10</td><td>0</td><td>0</td><td>2</td><td>1</td></tr><tr><td>312.98</td><td>9</td><td>64</td><td>0</td><td>0</td><td>2</td><td>1</td></tr><tr><td>865.0600000000005</td><td>55</td><td>24</td><td>0</td><td>0</td><td>2</td><td>1</td></tr><tr><td>1255.0</td><td>5</td><td>91</td><td>0</td><td>1</td><td>2</td><td>1</td></tr><tr><td>1537.95</td><td>101</td><td>51</td><td>1</td><td>1</td><td>1</td><td>2</td></tr><tr><td>1595.4799999999996</td><td>93</td><td>128</td><td>1</td><td>1</td><td>1</td><td>2</td></tr><tr><td>2651.46</td><td>81</td><td>95</td><td>1</td><td>1</td><td>1</td><td>2</td></tr><tr><td>1090.14</td><td>23</td><td>56</td><td>0</td><td>1</td><td>2</td><td>1</td></tr><tr><td>388.5</td><td>14</td><td>168</td><td>0</td><td>0</td><td>0</td><td>0</td></tr><tr><td>216.16999999999996</td><td>11</td><td>56</td><td>0</td><td>0</td><td>2</td><td>1</td></tr><tr><td>201.16</td><td>28</td><td>325</td><td>0</td><td>0</td><td>0</td><td>0</td></tr><tr><td>1245.9000000000003</td><td>76</td><td>0</td><td>1</td><td>1</td><td>1</td><td>1</td></tr><tr><td>2209.360000000001</td><td>139</td><td>17</td><td>1</td><td>1</td><td>1</td><td>2</td></tr><tr><td>305.78000000000003</td><td>20</td><td>247</td><td>0</td><td>0</td><td>0</td><td>0</td></tr><tr><td>501.56</td><td>30</td><td>57</td><td>0</td><td>0</td><td>2</td><td>1</td></tr><tr><td>145.67</td><td>7</td><td>73</td><td>0</td><td>0</td><td>2</td><td>1</td></tr><tr><td>1015.2900000000002</td><td>61</td><td>30</td><td>1</td><td>1</td><td>2</td><td>1</td></tr><tr><td>2770.9400000000005</td><td>115</td><td>1</td><td>1</td><td>1</td><td>1</td><td>2</td></tr><tr><td>389.6</td><td>23</td><td>119</td><td>0</td><td>0</td><td>2</td><td>1</td></tr><tr><td>1786.7900000000004</td><td>104</td><td>53</td><td>1</td><td>1</td><td>1</td><td>2</td></tr><tr><td>122.69999999999999</td><td>7</td><td>63</td><td>0</td><td>0</td><td>2</td><td>1</td></tr><tr><td>117.24000000000001</td><td>3</td><td>85</td><td>0</td><td>0</td><td>2</td><td>1</td></tr><tr><td>1281.53</td><td>36</td><td>54</td><td>0</td><td>1</td><td>2</td><td>1</td></tr><tr><td>1191.1299999999999</td><td>65</td><td>2</td><td>1</td><td>1</td><td>2</td><td>1</td></tr><tr><td>2674.479999999998</td><td>142</td><td>10</td><td>1</td><td>1</td><td>1</td><td>2</td></tr><tr><td>787.6000000000001</td><td>59</td><td>6</td><td>0</td><td>0</td><td>2</td><td>1</td></tr><tr><td>506.8000000000001</td><td>28</td><td>188</td><td>0</td><td>0</td><td>0</td><td>0</td></tr><tr><td>243.56000000000003</td><td>16</td><td>70</td><td>0</td><td>0</td><td>2</td><td>1</td></tr><tr><td>349.54999999999995</td><td>19</td><td>203</td><td>0</td><td>0</td><td>0</td><td>0</td></tr><tr><td>605.63</td><td>40</td><td>119</td><td>0</td><td>0</td><td>2</td><td>0</td></tr><tr><td>416.9</td><td>15</td><td>92</td><td>0</td><td>0</td><td>2</td><td>1</td></tr><tr><td>1883.8099999999995</td><td>110</td><td>0</td><td>1</td><td>1</td><td>1</td><td>2</td></tr><tr><td>632.97</td><td>27</td><td>26</td><td>0</td><td>0</td><td>2</td><td>1</td></tr><tr><td>821.1</td><td>21</td><td>297</td><td>0</td><td>0</td><td>0</td><td>0</td></tr><tr><td>564.62</td><td>27</td><td>23</td><td>0</td><td>0</td><td>2</td><td>1</td></tr><tr><td>2593.0699999999993</td><td>118</td><td>27</td><td>1</td><td>1</td><td>1</td><td>2</td></tr><tr><td>311.15999999999997</td><td>17</td><td>49</td><td>0</td><td>0</td><td>2</td><td>1</td></tr><tr><td>155.93</td><td>12</td><td>325</td><td>0</td><td>0</td><td>0</td><td>0</td></tr><tr><td>388.52000000000004</td><td>19</td><td>15</td><td>0</td><td>0</td><td>2</td><td>1</td></tr><tr><td>740.9499999999997</td><td>43</td><td>182</td><td>0</td><td>0</td><td>0</td><td>0</td></tr><tr><td>2867.2</td><td>149</td><td>71</td><td>1</td><td>1</td><td>1</td><td>2</td></tr><tr><td>332.63999999999993</td><td>26</td><td>36</td><td>0</td><td>0</td><td>2</td><td>1</td></tr><tr><td>2369.5499999999984</td><td>122</td><td>79</td><td>1</td><td>1</td><td>1</td><td>2</td></tr><tr><td>2580.909999999999</td><td>148</td><td>56</td><td>1</td><td>1</td><td>1</td><td>2</td></tr><tr><td>626.4499999999999</td><td>33</td><td>11</td><td>0</td><td>0</td><td>2</td><td>1</td></tr><tr><td>272.04</td><td>18</td><td>49</td><td>0</td><td>0</td><td>2</td><td>1</td></tr><tr><td>1212.8400000000001</td><td>30</td><td>49</td><td>0</td><td>1</td><td>2</td><td>1</td></tr><tr><td>384.81</td><td>28</td><td>58</td><td>0</td><td>0</td><td>2</td><td>1</td></tr><tr><td>351.13000000000005</td><td>20</td><td>53</td><td>0</td><td>0</td><td>2</td><td>1</td></tr><tr><td>1838.8500000000001</td><td>117</td><td>1</td><td>1</td><td>1</td><td>1</td><td>2</td></tr><tr><td>678.2499999999999</td><td>41</td><td>92</td><td>0</td><td>0</td><td>2</td><td>1</td></tr><tr><td>223.85000000000002</td><td>11</td><td>22</td><td>0</td><td>0</td><td>2</td><td>1</td></tr><tr><td>348.99</td><td>21</td><td>74</td><td>0</td><td>0</td><td>2</td><td>1</td></tr><tr><td>464.56999999999994</td><td>27</td><td>10</td><td>0</td><td>0</td><td>2</td><td>1</td></tr><tr><td>842.6500000000001</td><td>9</td><td>168</td><td>0</td><td>0</td><td>0</td><td>0</td></tr><tr><td>337.3399999999999</td><td>17</td><td>57</td><td>0</td><td>0</td><td>2</td><td>1</td></tr><tr><td>1237.5300000000002</td><td>58</td><td>95</td><td>1</td><td>1</td><td>2</td><td>1</td></tr><tr><td>307.4</td><td>16</td><td>294</td><td>0</td><td>0</td><td>0</td><td>0</td></tr><tr><td>608.7899999999998</td><td>23</td><td>108</td><td>0</td><td>0</td><td>2</td><td>1</td></tr><tr><td>922.0999999999997</td><td>31</td><td>263</td><td>0</td><td>0</td><td>0</td><td>0</td></tr><tr><td>376.58</td><td>26</td><td>179</td><td>0</td><td>0</td><td>0</td><td>0</td></tr><tr><td>158.85</td><td>9</td><td>168</td><td>0</td><td>0</td><td>0</td><td>0</td></tr><tr><td>71.66</td><td>7</td><td>34</td><td>0</td><td>0</td><td>2</td><td>1</td></tr><tr><td>568.5499999999998</td><td>45</td><td>22</td><td>0</td><td>0</td><td>2</td><td>1</td></tr><tr><td>839.1400000000002</td><td>49</td><td>16</td><td>0</td><td>0</td><td>2</td><td>1</td></tr><tr><td>561.57</td><td>11</td><td>78</td><td>0</td><td>0</td><td>2</td><td>1</td></tr><tr><td>90.6</td><td>5</td><td>64</td><td>0</td><td>0</td><td>2</td><td>1</td></tr><tr><td>2427.3199999999974</td><td>160</td><td>2</td><td>1</td><td>1</td><td>1</td><td>3</td></tr><tr><td>745.0600000000001</td><td>35</td><td>10</td><td>0</td><td>0</td><td>2</td><td>1</td></tr><tr><td>674.4499999999998</td><td>39</td><td>175</td><td>0</td><td>0</td><td>0</td><td>0</td></tr><tr><td>439.92</td><td>25</td><td>1</td><td>0</td><td>0</td><td>2</td><td>1</td></tr><tr><td>322.96</td><td>33</td><td>153</td><td>0</td><td>0</td><td>0</td><td>0</td></tr><tr><td>1026.4200000000003</td><td>152</td><td>4</td><td>1</td><td>1</td><td>1</td><td>3</td></tr><tr><td>598.1999999999999</td><td>92</td><td>78</td><td>0</td><td>1</td><td>2</td><td>1</td></tr><tr><td>230.22</td><td>12</td><td>20</td><td>0</td><td>0</td><td>2</td><td>1</td></tr><tr><td>169.55</td><td>11</td><td>21</td><td>0</td><td>0</td><td>2</td><td>1</td></tr><tr><td>664.54</td><td>35</td><td>307</td><td>0</td><td>0</td><td>0</td><td>0</td></tr><tr><td>80.7</td><td>2</td><td>145</td><td>0</td><td>0</td><td>0</td><td>1</td></tr><tr><td>2758.26</td><td>149</td><td>18</td><td>1</td><td>1</td><td>1</td><td>2</td></tr><tr><td>190.25000000000009</td><td>15</td><td>70</td><td>0</td><td>0</td><td>2</td><td>1</td></tr><tr><td>264.7</td><td>11</td><td>286</td><td>0</td><td>0</td><td>0</td><td>0</td></tr><tr><td>413.59</td><td>28</td><td>48</td><td>0</td><td>0</td><td>2</td><td>1</td></tr><tr><td>357.9800000000001</td><td>10</td><td>206</td><td>0</td><td>0</td><td>0</td><td>0</td></tr><tr><td>196.79</td><td>15</td><td>14</td><td>0</td><td>0</td><td>2</td><td>1</td></tr><tr><td>869.8700000000001</td><td>54</td><td>72</td><td>0</td><td>1</td><td>2</td><td>1</td></tr><tr><td>200.14000000000001</td><td>11</td><td>59</td><td>0</td><td>0</td><td>2</td><td>1</td></tr><tr><td>1871.81</td><td>111</td><td>38</td><td>1</td><td>1</td><td>1</td><td>2</td></tr><tr><td>2603.43</td><td>107</td><td>29</td><td>1</td><td>1</td><td>1</td><td>2</td></tr><tr><td>920.5100000000001</td><td>16</td><td>26</td><td>0</td><td>0</td><td>2</td><td>1</td></tr><tr><td>320.46000000000004</td><td>13</td><td>16</td><td>0</td><td>0</td><td>2</td><td>1</td></tr><tr><td>1266.0799999999997</td><td>41</td><td>65</td><td>0</td><td>1</td><td>2</td><td>1</td></tr><tr><td>311.3</td><td>16</td><td>212</td><td>0</td><td>0</td><td>0</td><td>0</td></tr><tr><td>855.9699999999999</td><td>84</td><td>11</td><td>1</td><td>1</td><td>2</td><td>1</td></tr><tr><td>76.8</td><td>5</td><td>29</td><td>0</td><td>0</td><td>2</td><td>1</td></tr><tr><td>2313.140000000001</td><td>155</td><td>3</td><td>1</td><td>1</td><td>1</td><td>3</td></tr><tr><td>1393.6899999999996</td><td>86</td><td>14</td><td>1</td><td>1</td><td>1</td><td>1</td></tr><tr><td>635.6600000000001</td><td>15</td><td>210</td><td>0</td><td>0</td><td>0</td><td>0</td></tr><tr><td>2043.08</td><td>39</td><td>45</td><td>1</td><td>1</td><td>1</td><td>2</td></tr><tr><td>529.73</td><td>47</td><td>133</td><td>0</td><td>0</td><td>2</td><td>0</td></tr><tr><td>2874.7200000000007</td><td>84</td><td>9</td><td>1</td><td>1</td><td>1</td><td>2</td></tr><tr><td>962.1899999999999</td><td>30</td><td>115</td><td>0</td><td>0</td><td>2</td><td>0</td></tr><tr><td>695.6099999999999</td><td>42</td><td>197</td><td>0</td><td>0</td><td>0</td><td>0</td></tr><tr><td>328.8</td><td>11</td><td>277</td><td>0</td><td>0</td><td>0</td><td>0</td></tr><tr><td>473.02</td><td>34</td><td>109</td><td>0</td><td>0</td><td>2</td><td>1</td></tr><tr><td>505.18000000000006</td><td>39</td><td>76</td><td>0</td><td>0</td><td>2</td><td>1</td></tr><tr><td>917.34</td><td>20</td><td>52</td><td>0</td><td>1</td><td>2</td><td>1</td></tr><tr><td>1421.6100000000004</td><td>66</td><td>46</td><td>1</td><td>1</td><td>1</td><td>1</td></tr><tr><td>642.8000000000001</td><td>39</td><td>16</td><td>0</td><td>0</td><td>2</td><td>1</td></tr><tr><td>631.9000000000001</td><td>22</td><td>154</td><td>0</td><td>0</td><td>0</td><td>0</td></tr><tr><td>440.0</td><td>28</td><td>224</td><td>0</td><td>0</td><td>0</td><td>0</td></tr><tr><td>584.0699999999998</td><td>31</td><td>6</td><td>0</td><td>0</td><td>2</td><td>1</td></tr><tr><td>327.7</td><td>16</td><td>121</td><td>0</td><td>0</td><td>2</td><td>1</td></tr><tr><td>104.82000000000002</td><td>6</td><td>60</td><td>0</td><td>0</td><td>2</td><td>1</td></tr><tr><td>467.65999999999997</td><td>15</td><td>62</td><td>0</td><td>0</td><td>2</td><td>1</td></tr><tr><td>651.8200000000002</td><td>89</td><td>21</td><td>1</td><td>1</td><td>2</td><td>1</td></tr><tr><td>1428.0200000000002</td><td>66</td><td>28</td><td>1</td><td>1</td><td>1</td><td>1</td></tr><tr><td>626.6499999999999</td><td>38</td><td>284</td><td>0</td><td>0</td><td>0</td><td>0</td></tr><tr><td>147.20000000000005</td><td>28</td><td>175</td><td>0</td><td>0</td><td>0</td><td>0</td></tr><tr><td>1560.379999999999</td><td>92</td><td>77</td><td>1</td><td>1</td><td>1</td><td>2</td></tr><tr><td>152.2</td><td>6</td><td>32</td><td>0</td><td>0</td><td>2</td><td>1</td></tr><tr><td>141.41</td><td>21</td><td>265</td><td>0</td><td>0</td><td>0</td><td>0</td></tr><tr><td>652.8199999999993</td><td>209</td><td>26</td><td>1</td><td>1</td><td>1</td><td>3</td></tr><tr><td>1659.75</td><td>6</td><td>108</td><td>0</td><td>1</td><td>2</td><td>1</td></tr><tr><td>154.98999999999998</td><td>14</td><td>283</td><td>0</td><td>0</td><td>0</td><td>0</td></tr><tr><td>1308.61</td><td>32</td><td>8</td><td>1</td><td>1</td><td>2</td><td>1</td></tr></tbody></table>Showing the first 1000 rows.</div>"
      ]
     },
     "metadata": {
      "application/vnd.databricks.v1+output": {
       "addedWidgets": {},
       "aggData": [],
       "aggError": "",
       "aggOverflow": false,
       "aggSchema": [],
       "aggSeriesLimitReached": false,
       "aggType": "",
       "arguments": {},
       "columnCustomDisplayInfos": {},
       "data": [
        [
         1797.24,
         31,
         74,
         1,
         1,
         1,
         2
        ],
        [
         1757.55,
         73,
         18,
         1,
         1,
         1,
         1
        ],
        [
         334.40000000000003,
         17,
         309,
         0,
         0,
         0,
         0
        ],
        [
         2506.040000000001,
         85,
         35,
         1,
         1,
         1,
         2
        ],
        [
         89,
         4,
         203,
         0,
         0,
         0,
         0
        ],
        [
         1079.4,
         58,
         231,
         0,
         0,
         0,
         0
        ],
        [
         459.4,
         13,
         213,
         0,
         0,
         0,
         0
        ],
        [
         2811.4300000000007,
         59,
         22,
         1,
         1,
         1,
         2
        ],
        [
         1168.06,
         19,
         1,
         0,
         1,
         2,
         1
        ],
        [
         2662.0600000000004,
         129,
         51,
         1,
         1,
         1,
         2
        ],
        [
         189.89999999999998,
         10,
         286,
         0,
         0,
         0,
         0
        ],
        [
         552,
         23,
         109,
         0,
         0,
         2,
         1
        ],
        [
         1313.1000000000001,
         85,
         7,
         1,
         1,
         1,
         1
        ],
        [
         641.38,
         22,
         290,
         0,
         0,
         0,
         0
        ],
        [
         168.9,
         11,
         3,
         0,
         0,
         2,
         1
        ],
        [
         1887.9600000000003,
         63,
         44,
         1,
         1,
         1,
         1
        ],
        [
         1298.0400000000002,
         52,
         71,
         1,
         1,
         2,
         1
        ],
        [
         364.6,
         14,
         310,
         0,
         0,
         0,
         0
        ],
        [
         742.93,
         33,
         24,
         0,
         0,
         2,
         1
        ],
        [
         457.5000000000001,
         17,
         10,
         0,
         0,
         2,
         1
        ],
        [
         1628.1199999999997,
         77,
         314,
         0,
         0,
         0,
         0
        ],
        [
         852.2399999999997,
         40,
         81,
         0,
         0,
         2,
         1
        ],
        [
         2724.81,
         104,
         21,
         1,
         1,
         1,
         2
        ],
        [
         1845.3100000000006,
         87,
         4,
         1,
         1,
         1,
         2
        ],
        [
         1850.5599999999997,
         99,
         184,
         1,
         1,
         1,
         0
        ],
        [
         585.2700000000001,
         27,
         28,
         0,
         0,
         2,
         1
        ],
        [
         2780.6600000000003,
         100,
         15,
         1,
         1,
         1,
         2
        ],
        [
         549.8399999999999,
         32,
         79,
         0,
         0,
         2,
         1
        ],
        [
         460.88999999999993,
         100,
         21,
         1,
         1,
         2,
         1
        ],
        [
         1582.6000000000004,
         64,
         71,
         1,
         1,
         1,
         1
        ],
        [
         1272.48,
         27,
         63,
         0,
         1,
         2,
         1
        ],
        [
         2409.9000000000005,
         126,
         35,
         1,
         1,
         1,
         2
        ],
        [
         1635.6599999999999,
         85,
         45,
         1,
         1,
         1,
         1
        ],
        [
         1108.65,
         59,
         118,
         0,
         0,
         2,
         1
        ],
        [
         84.3,
         5,
         302,
         0,
         0,
         0,
         0
        ],
        [
         225.6,
         11,
         322,
         0,
         0,
         0,
         0
        ],
        [
         427.7,
         5,
         49,
         0,
         0,
         2,
         1
        ],
        [
         1710.3900000000006,
         54,
         148,
         1,
         1,
         1,
         1
        ],
        [
         1708.1199999999997,
         77,
         49,
         1,
         1,
         1,
         1
        ],
        [
         2888.5500000000006,
         105,
         32,
         1,
         1,
         1,
         2
        ],
        [
         693.3299999999999,
         26,
         308,
         0,
         0,
         0,
         0
        ],
        [
         1226.8799999999999,
         61,
         74,
         1,
         1,
         2,
         1
        ],
        [
         758.0999999999999,
         38,
         66,
         0,
         0,
         2,
         1
        ],
        [
         562.41,
         18,
         216,
         0,
         0,
         0,
         0
        ],
        [
         668.5799999999997,
         34,
         112,
         0,
         0,
         2,
         0
        ],
        [
         600.3900000000001,
         29,
         63,
         0,
         0,
         2,
         1
        ],
        [
         807.0400000000002,
         45,
         15,
         0,
         0,
         2,
         1
        ],
        [
         803.5599999999998,
         39,
         95,
         0,
         0,
         2,
         0
        ],
        [
         1859.3100000000002,
         125,
         0,
         1,
         1,
         1,
         2
        ],
        [
         1760.9599999999998,
         30,
         162,
         0,
         1,
         0,
         0
        ],
        [
         777.1999999999999,
         36,
         77,
         0,
         0,
         2,
         1
        ],
        [
         582.7299999999999,
         30,
         194,
         0,
         0,
         0,
         0
        ],
        [
         825.8000000000002,
         31,
         21,
         0,
         0,
         2,
         1
        ],
        [
         256.4,
         11,
         42,
         0,
         0,
         2,
         1
        ],
        [
         806.14,
         50,
         84,
         0,
         0,
         2,
         1
        ],
        [
         509.01000000000005,
         16,
         99,
         0,
         0,
         2,
         1
        ],
        [
         2906.8500000000004,
         98,
         13,
         1,
         1,
         1,
         2
        ],
        [
         172.06,
         12,
         2,
         0,
         0,
         2,
         1
        ],
        [
         133.4,
         4,
         21,
         0,
         0,
         2,
         1
        ],
        [
         1002.3099999999998,
         57,
         57,
         0,
         1,
         2,
         1
        ],
        [
         476.49,
         26,
         242,
         0,
         0,
         0,
         0
        ],
        [
         449.4500000000001,
         22,
         43,
         0,
         0,
         2,
         1
        ],
        [
         197.88,
         8,
         155,
         0,
         0,
         0,
         0
        ],
        [
         430.57000000000005,
         22,
         16,
         0,
         0,
         2,
         1
        ],
        [
         707.0899999999999,
         43,
         133,
         0,
         0,
         2,
         0
        ],
        [
         2466.859999999997,
         90,
         72,
         1,
         1,
         1,
         2
        ],
        [
         2363.2299999999996,
         62,
         65,
         1,
         1,
         1,
         2
        ],
        [
         947.4000000000001,
         38,
         70,
         0,
         1,
         2,
         1
        ],
        [
         826.8800000000001,
         35,
         93,
         0,
         0,
         2,
         0
        ],
        [
         1189.5900000000001,
         62,
         18,
         1,
         1,
         2,
         1
        ],
        [
         1344.7799999999997,
         83,
         52,
         1,
         1,
         1,
         1
        ],
        [
         1212.0499999999997,
         29,
         9,
         0,
         1,
         2,
         1
        ],
        [
         742.1900000000002,
         47,
         16,
         0,
         0,
         2,
         1
        ],
        [
         729.54,
         38,
         187,
         0,
         0,
         0,
         0
        ],
        [
         723.38,
         36,
         53,
         0,
         0,
         2,
         1
        ],
        [
         680.9900000000002,
         36,
         3,
         0,
         0,
         2,
         1
        ],
        [
         527.2,
         31,
         10,
         0,
         0,
         2,
         1
        ],
        [
         2484.980000000001,
         75,
         16,
         1,
         1,
         1,
         2
        ],
        [
         1298.6599999999999,
         55,
         9,
         1,
         1,
         2,
         1
        ],
        [
         460.4000000000001,
         26,
         38,
         0,
         0,
         2,
         1
        ],
        [
         263.21,
         20,
         62,
         0,
         0,
         2,
         1
        ],
        [
         433.74,
         22,
         165,
         0,
         0,
         0,
         0
        ],
        [
         1246.1000000000006,
         77,
         15,
         1,
         1,
         1,
         1
        ],
        [
         1043.1,
         14,
         81,
         0,
         1,
         2,
         1
        ],
        [
         403.7,
         23,
         20,
         0,
         0,
         2,
         1
        ],
        [
         482.04999999999995,
         9,
         17,
         0,
         0,
         2,
         1
        ],
        [
         73.50000000000003,
         23,
         232,
         0,
         0,
         0,
         0
        ],
        [
         1304.81,
         21,
         133,
         0,
         1,
         2,
         1
        ],
        [
         398.27000000000004,
         69,
         25,
         0,
         1,
         2,
         1
        ],
        [
         176.5,
         7,
         283,
         0,
         0,
         0,
         0
        ],
        [
         982.57,
         33,
         142,
         0,
         0,
         2,
         0
        ],
        [
         138.03000000000006,
         34,
         65,
         0,
         0,
         2,
         1
        ],
        [
         612.2900000000001,
         35,
         112,
         0,
         0,
         2,
         0
        ],
        [
         1017.6800000000002,
         51,
         266,
         0,
         0,
         0,
         0
        ],
        [
         1312.06,
         26,
         77,
         0,
         0,
         2,
         1
        ],
        [
         2056.8899999999994,
         124,
         0,
         1,
         1,
         1,
         2
        ],
        [
         340.84,
         18,
         63,
         0,
         0,
         2,
         1
        ],
        [
         2634.26,
         152,
         78,
         1,
         1,
         1,
         2
        ],
        [
         599.6800000000001,
         38,
         142,
         0,
         0,
         2,
         0
        ],
        [
         192.72000000000003,
         12,
         38,
         0,
         0,
         2,
         1
        ],
        [
         1789.7700000000007,
         106,
         18,
         1,
         1,
         1,
         1
        ],
        [
         1316.6600000000005,
         71,
         0,
         1,
         1,
         1,
         1
        ],
        [
         348.71000000000004,
         18,
         81,
         0,
         0,
         2,
         1
        ],
        [
         1933.4800000000007,
         92,
         8,
         1,
         1,
         1,
         2
        ],
        [
         1662.2799999999993,
         66,
         59,
         1,
         1,
         1,
         1
        ],
        [
         125.22,
         17,
         14,
         0,
         0,
         2,
         1
        ],
        [
         349.83,
         16,
         29,
         0,
         0,
         2,
         1
        ],
        [
         1089.18,
         63,
         130,
         0,
         0,
         2,
         1
        ],
        [
         716.3500000000001,
         34,
         91,
         0,
         0,
         2,
         0
        ],
        [
         363.95,
         21,
         28,
         0,
         0,
         2,
         1
        ],
        [
         981.1800000000002,
         52,
         29,
         0,
         1,
         2,
         1
        ],
        [
         372.7,
         19,
         35,
         0,
         0,
         2,
         1
        ],
        [
         1000.3899999999999,
         50,
         74,
         0,
         1,
         2,
         1
        ],
        [
         1161.5,
         69,
         46,
         1,
         1,
         2,
         1
        ],
        [
         207.8,
         8,
         197,
         0,
         0,
         0,
         0
        ],
        [
         95.19999999999999,
         5,
         165,
         0,
         0,
         0,
         0
        ],
        [
         964.8299999999994,
         57,
         78,
         0,
         1,
         2,
         1
        ],
        [
         437.81999999999994,
         20,
         38,
         0,
         0,
         2,
         1
        ],
        [
         603.7099999999997,
         121,
         49,
         1,
         1,
         1,
         1
        ],
        [
         269.96000000000004,
         11,
         7,
         0,
         0,
         2,
         1
        ],
        [
         561.7099999999999,
         21,
         310,
         0,
         0,
         0,
         0
        ],
        [
         2134.01,
         105,
         4,
         1,
         1,
         1,
         2
        ],
        [
         238.85,
         16,
         302,
         0,
         0,
         0,
         0
        ],
        [
         456.9000000000001,
         21,
         260,
         0,
         0,
         0,
         0
        ],
        [
         145.92,
         9,
         288,
         0,
         0,
         0,
         0
        ],
        [
         351.65000000000003,
         19,
         85,
         0,
         0,
         2,
         1
        ],
        [
         519.6099999999999,
         34,
         39,
         0,
         0,
         2,
         1
        ],
        [
         1020.4200000000003,
         60,
         8,
         1,
         1,
         2,
         1
        ],
        [
         160.54,
         28,
         226,
         0,
         0,
         0,
         0
        ],
        [
         218.45000000000002,
         11,
         315,
         0,
         0,
         0,
         0
        ],
        [
         1315.8299999999997,
         88,
         35,
         1,
         1,
         1,
         1
        ],
        [
         657.8000000000003,
         147,
         34,
         1,
         1,
         1,
         1
        ],
        [
         2794.5099999999993,
         114,
         20,
         1,
         1,
         1,
         2
        ],
        [
         440.41999999999996,
         29,
         77,
         0,
         0,
         2,
         1
        ],
        [
         415.7,
         24,
         246,
         0,
         0,
         0,
         0
        ],
        [
         197.70999999999998,
         15,
         39,
         0,
         0,
         2,
         1
        ],
        [
         511.3599999999999,
         22,
         238,
         0,
         0,
         0,
         0
        ],
        [
         2338.1499999999996,
         96,
         3,
         1,
         1,
         1,
         2
        ],
        [
         2040.099999999999,
         87,
         233,
         1,
         1,
         1,
         0
        ],
        [
         196.94,
         11,
         16,
         0,
         0,
         2,
         1
        ],
        [
         144,
         4,
         7,
         0,
         0,
         2,
         1
        ],
        [
         214.9,
         10,
         38,
         0,
         0,
         2,
         1
        ],
        [
         646.6800000000001,
         35,
         28,
         0,
         0,
         2,
         1
        ],
        [
         452.84999999999985,
         26,
         316,
         0,
         0,
         0,
         0
        ],
        [
         437.59999999999997,
         18,
         91,
         0,
         0,
         2,
         1
        ],
        [
         418.09999999999997,
         21,
         108,
         0,
         0,
         2,
         1
        ],
        [
         618.27,
         27,
         50,
         0,
         0,
         2,
         1
        ],
        [
         1032.5800000000006,
         62,
         28,
         1,
         1,
         2,
         1
        ],
        [
         2599.0400000000004,
         64,
         28,
         1,
         1,
         1,
         2
        ],
        [
         577.0600000000001,
         28,
         189,
         0,
         0,
         0,
         0
        ],
        [
         153.12000000000003,
         12,
         58,
         0,
         0,
         2,
         1
        ],
        [
         739.1999999999999,
         2,
         21,
         0,
         0,
         2,
         1
        ],
        [
         254.17999999999995,
         16,
         78,
         0,
         0,
         2,
         1
        ],
        [
         1579.51,
         101,
         59,
         1,
         1,
         1,
         2
        ],
        [
         1126.8500000000001,
         60,
         77,
         1,
         1,
         2,
         1
        ],
        [
         2099.540000000001,
         106,
         22,
         1,
         1,
         1,
         2
        ],
        [
         1193.32,
         65,
         51,
         1,
         1,
         2,
         1
        ],
        [
         704.0400000000001,
         19,
         73,
         0,
         0,
         2,
         1
        ],
        [
         315.59999999999997,
         20,
         277,
         0,
         0,
         0,
         0
        ],
        [
         2291.1900000000005,
         105,
         1,
         1,
         1,
         1,
         2
        ],
        [
         713.3,
         32,
         94,
         0,
         0,
         2,
         0
        ],
        [
         355.5300000000002,
         42,
         28,
         0,
         0,
         2,
         1
        ],
        [
         177.31,
         11,
         21,
         0,
         0,
         2,
         1
        ],
        [
         1339.4099999999999,
         92,
         14,
         1,
         1,
         1,
         1
        ],
        [
         180.09999999999997,
         11,
         231,
         0,
         0,
         0,
         0
        ],
        [
         305.1,
         18,
         275,
         0,
         0,
         0,
         0
        ],
        [
         641.1300000000001,
         38,
         105,
         0,
         0,
         2,
         0
        ],
        [
         2683.8199999999997,
         86,
         211,
         1,
         1,
         1,
         2
        ],
        [
         786.4599999999998,
         41,
         3,
         0,
         0,
         2,
         1
        ],
        [
         1270.8799999999999,
         64,
         9,
         1,
         1,
         1,
         1
        ],
        [
         640.5000000000002,
         31,
         56,
         0,
         0,
         2,
         1
        ],
        [
         2163.9799999999996,
         101,
         58,
         1,
         1,
         1,
         2
        ],
        [
         1689.18,
         101,
         89,
         1,
         1,
         1,
         2
        ],
        [
         671.69,
         39,
         32,
         0,
         0,
         2,
         1
        ],
        [
         486.1,
         22,
         238,
         0,
         0,
         0,
         0
        ],
        [
         1174.58,
         53,
         23,
         1,
         1,
         2,
         1
        ],
        [
         185.9,
         10,
         114,
         0,
         0,
         2,
         1
        ],
        [
         1013.26,
         47,
         24,
         0,
         1,
         2,
         1
        ],
        [
         477.9100000000001,
         31,
         129,
         0,
         0,
         2,
         0
        ],
        [
         1775.1800000000005,
         73,
         33,
         1,
         1,
         1,
         1
        ],
        [
         1346.9700000000003,
         45,
         4,
         1,
         1,
         2,
         1
        ],
        [
         318.05,
         21,
         154,
         0,
         0,
         0,
         1
        ],
        [
         623.5099999999999,
         31,
         106,
         0,
         0,
         2,
         0
        ],
        [
         314.44,
         20,
         2,
         0,
         0,
         2,
         1
        ],
        [
         2209.8500000000004,
         43,
         148,
         1,
         1,
         1,
         0
        ],
        [
         601.98,
         38,
         10,
         0,
         0,
         2,
         1
        ],
        [
         1643.18,
         47,
         10,
         1,
         1,
         1,
         1
        ],
        [
         686.0500000000001,
         36,
         18,
         0,
         0,
         2,
         1
        ],
        [
         91.68,
         5,
         29,
         0,
         0,
         2,
         1
        ],
        [
         245.10000000000002,
         13,
         10,
         0,
         0,
         2,
         1
        ],
        [
         63,
         3,
         324,
         0,
         0,
         0,
         0
        ],
        [
         620.13,
         33,
         57,
         0,
         0,
         2,
         1
        ],
        [
         2744.0300000000007,
         101,
         150,
         1,
         1,
         1,
         2
        ],
        [
         610.52,
         42,
         4,
         0,
         0,
         2,
         1
        ],
        [
         1970.6000000000006,
         83,
         38,
         1,
         1,
         1,
         2
        ],
        [
         1331.3900000000006,
         45,
         24,
         1,
         1,
         2,
         1
        ],
        [
         1113.0200000000002,
         48,
         58,
         0,
         1,
         2,
         1
        ],
        [
         862.81,
         52,
         0,
         0,
         0,
         2,
         1
        ],
        [
         2283.6299999999997,
         105,
         7,
         1,
         1,
         1,
         2
        ],
        [
         2863.0800000000004,
         157,
         27,
         1,
         1,
         1,
         3
        ],
        [
         1247.61,
         72,
         25,
         1,
         1,
         1,
         1
        ],
        [
         389.00999999999993,
         16,
         205,
         0,
         0,
         0,
         0
        ],
        [
         1035.8,
         32,
         27,
         0,
         1,
         2,
         1
        ],
        [
         855.9099999999997,
         39,
         126,
         0,
         0,
         2,
         0
        ],
        [
         869.6699999999998,
         37,
         69,
         0,
         1,
         2,
         1
        ],
        [
         582.1,
         27,
         6,
         0,
         0,
         2,
         1
        ],
        [
         957.5899999999999,
         41,
         28,
         0,
         1,
         2,
         1
        ],
        [
         797.7099999999999,
         53,
         79,
         0,
         0,
         2,
         1
        ],
        [
         219,
         12,
         19,
         0,
         0,
         2,
         1
        ],
        [
         283.54999999999995,
         21,
         70,
         0,
         0,
         2,
         1
        ],
        [
         2340.84,
         88,
         6,
         1,
         1,
         1,
         2
        ],
        [
         603.42,
         33,
         291,
         0,
         0,
         0,
         0
        ],
        [
         2712.9100000000008,
         157,
         29,
         1,
         1,
         1,
         3
        ],
        [
         1149.0200000000007,
         77,
         96,
         1,
         1,
         1,
         1
        ],
        [
         848.5499999999998,
         38,
         0,
         0,
         1,
         2,
         1
        ],
        [
         353.85999999999996,
         21,
         105,
         0,
         0,
         2,
         1
        ],
        [
         1053.4899999999996,
         69,
         3,
         1,
         1,
         2,
         1
        ],
        [
         1030.98,
         55,
         150,
         0,
         0,
         2,
         0
        ],
        [
         238.25000000000003,
         19,
         70,
         0,
         0,
         2,
         1
        ],
        [
         644.9499999999999,
         39,
         4,
         0,
         0,
         2,
         1
        ],
        [
         2656.130000000001,
         161,
         31,
         1,
         1,
         1,
         3
        ],
        [
         997.6299999999999,
         53,
         84,
         0,
         1,
         2,
         1
        ],
        [
         725.0699999999998,
         69,
         3,
         1,
         1,
         2,
         1
        ],
        [
         1031.4099999999999,
         53,
         4,
         1,
         1,
         2,
         1
        ],
        [
         2609.1000000000004,
         124,
         27,
         1,
         1,
         1,
         2
        ],
        [
         836.3299999999999,
         46,
         70,
         0,
         0,
         2,
         1
        ],
        [
         453.0100000000001,
         26,
         113,
         0,
         0,
         2,
         1
        ],
        [
         236.2600000000001,
         12,
         179,
         0,
         0,
         0,
         0
        ],
        [
         383.95,
         22,
         233,
         0,
         0,
         0,
         0
        ],
        [
         779.5699999999998,
         43,
         314,
         0,
         0,
         0,
         0
        ],
        [
         1013.0400000000001,
         38,
         77,
         0,
         1,
         2,
         1
        ],
        [
         427.5999999999999,
         27,
         63,
         0,
         0,
         2,
         1
        ],
        [
         546.4299999999997,
         134,
         133,
         1,
         1,
         1,
         0
        ],
        [
         275.88,
         15,
         128,
         0,
         0,
         2,
         1
        ],
        [
         112.08000000000001,
         4,
         86,
         0,
         0,
         2,
         1
        ],
        [
         2791.590000000001,
         97,
         116,
         1,
         1,
         1,
         2
        ],
        [
         1531.4400000000007,
         95,
         51,
         1,
         1,
         1,
         2
        ],
        [
         1898.5200000000004,
         69,
         7,
         1,
         1,
         1,
         1
        ],
        [
         494.08,
         18,
         137,
         0,
         0,
         0,
         1
        ],
        [
         1693.8800000000003,
         45,
         316,
         0,
         0,
         0,
         0
        ],
        [
         1143.6000000000001,
         32,
         238,
         0,
         0,
         0,
         0
        ],
        [
         1351.4499999999998,
         12,
         210,
         0,
         1,
         0,
         0
        ],
        [
         892.4700000000004,
         55,
         59,
         0,
         1,
         2,
         1
        ],
        [
         1386.0400000000004,
         66,
         16,
         1,
         1,
         1,
         1
        ],
        [
         822.2300000000001,
         50,
         19,
         0,
         0,
         2,
         1
        ],
        [
         826.7400000000001,
         25,
         63,
         0,
         0,
         2,
         1
        ],
        [
         2330.9200000000014,
         103,
         4,
         1,
         1,
         1,
         2
        ],
        [
         2225.91,
         84,
         1,
         1,
         1,
         1,
         2
        ],
        [
         574.42,
         59,
         8,
         0,
         0,
         2,
         1
        ],
        [
         463.65999999999997,
         20,
         9,
         0,
         0,
         2,
         1
        ],
        [
         91.85000000000001,
         4,
         64,
         0,
         0,
         2,
         1
        ],
        [
         324.9200000000001,
         21,
         191,
         0,
         0,
         0,
         0
        ],
        [
         400.54,
         25,
         256,
         0,
         0,
         0,
         0
        ],
        [
         860.4099999999999,
         45,
         52,
         0,
         1,
         2,
         1
        ],
        [
         430.4800000000001,
         14,
         18,
         0,
         0,
         2,
         1
        ],
        [
         427.5799999999999,
         25,
         186,
         0,
         0,
         0,
         0
        ],
        [
         483.65000000000015,
         28,
         36,
         0,
         0,
         2,
         1
        ],
        [
         489.31,
         25,
         177,
         0,
         0,
         0,
         0
        ],
        [
         514.85,
         31,
         260,
         0,
         0,
         0,
         0
        ],
        [
         229.63999999999993,
         15,
         44,
         0,
         0,
         2,
         1
        ],
        [
         125.92,
         2,
         101,
         0,
         0,
         2,
         1
        ],
        [
         1063.46,
         47,
         147,
         0,
         0,
         2,
         0
        ],
        [
         572.2,
         29,
         95,
         0,
         0,
         2,
         1
        ],
        [
         166.04,
         4,
         280,
         0,
         0,
         0,
         0
        ],
        [
         1542.08,
         14,
         261,
         0,
         0,
         0,
         0
        ],
        [
         942.3399999999999,
         59,
         2,
         1,
         1,
         2,
         1
        ],
        [
         92.72,
         6,
         213,
         0,
         0,
         0,
         0
        ],
        [
         948.8799999999999,
         46,
         70,
         0,
         1,
         2,
         1
        ],
        [
         1759.5,
         5,
         74,
         0,
         1,
         2,
         2
        ],
        [
         397.11999999999995,
         25,
         59,
         0,
         0,
         2,
         1
        ],
        [
         1474.7199999999993,
         91,
         2,
         1,
         1,
         1,
         1
        ],
        [
         430.15,
         25,
         5,
         0,
         0,
         2,
         1
        ],
        [
         1018.7100000000003,
         56,
         2,
         1,
         1,
         2,
         1
        ],
        [
         215.05,
         9,
         261,
         0,
         0,
         0,
         0
        ],
        [
         383.03000000000003,
         27,
         31,
         0,
         0,
         2,
         1
        ],
        [
         417.37999999999994,
         24,
         144,
         0,
         0,
         0,
         1
        ],
        [
         312.38,
         18,
         282,
         0,
         0,
         0,
         0
        ],
        [
         2612.8599999999988,
         175,
         58,
         1,
         1,
         1,
         3
        ],
        [
         134.1,
         12,
         172,
         0,
         0,
         0,
         0
        ],
        [
         683.1299999999994,
         123,
         33,
         1,
         1,
         1,
         1
        ],
        [
         2726.769999999999,
         113,
         143,
         1,
         1,
         1,
         2
        ],
        [
         1118.99,
         34,
         69,
         0,
         1,
         2,
         1
        ],
        [
         1702.26,
         103,
         65,
         1,
         1,
         1,
         2
        ],
        [
         325.9599999999999,
         52,
         28,
         0,
         0,
         2,
         1
        ],
        [
         354.09000000000003,
         27,
         266,
         0,
         0,
         0,
         0
        ],
        [
         871.5399999999998,
         91,
         21,
         1,
         1,
         2,
         1
        ],
        [
         1050.8899999999999,
         51,
         30,
         1,
         1,
         2,
         1
        ],
        [
         135.17999999999995,
         50,
         96,
         0,
         0,
         2,
         1
        ],
        [
         311.54999999999995,
         17,
         294,
         0,
         0,
         0,
         0
        ],
        [
         1957.1,
         78,
         134,
         1,
         1,
         1,
         2
        ],
        [
         1324.5000000000007,
         110,
         78,
         1,
         1,
         1,
         1
        ],
        [
         1106.4000000000003,
         46,
         210,
         0,
         0,
         0,
         0
        ],
        [
         521.2,
         5,
         51,
         0,
         0,
         2,
         1
        ],
        [
         147.12,
         3,
         137,
         0,
         0,
         0,
         1
        ],
        [
         1568.229999999999,
         95,
         25,
         1,
         1,
         1,
         1
        ],
        [
         559.1199999999999,
         26,
         282,
         0,
         0,
         0,
         0
        ],
        [
         1607.0600000000009,
         107,
         185,
         1,
         1,
         1,
         0
        ],
        [
         380.64000000000004,
         11,
         83,
         0,
         0,
         2,
         1
        ],
        [
         599.9699999999998,
         66,
         326,
         0,
         0,
         0,
         0
        ],
        [
         374,
         4,
         281,
         0,
         0,
         0,
         0
        ],
        [
         343.2300000000001,
         2,
         142,
         0,
         0,
         0,
         1
        ],
        [
         2218.0200000000004,
         85,
         57,
         1,
         1,
         1,
         2
        ],
        [
         1535.7700000000007,
         154,
         3,
         1,
         1,
         1,
         3
        ],
        [
         854.9899999999999,
         47,
         235,
         0,
         0,
         0,
         0
        ],
        [
         573.22,
         10,
         44,
         0,
         0,
         2,
         1
        ],
        [
         298,
         7,
         275,
         0,
         0,
         0,
         0
        ],
        [
         1463.0399999999995,
         13,
         8,
         0,
         1,
         2,
         1
        ],
        [
         703.4700000000001,
         42,
         24,
         0,
         0,
         2,
         1
        ],
        [
         309.05000000000007,
         7,
         87,
         0,
         0,
         2,
         1
        ],
        [
         1175.2199999999996,
         71,
         62,
         1,
         1,
         2,
         1
        ],
        [
         1378.4,
         82,
         67,
         1,
         1,
         1,
         1
        ],
        [
         354.12,
         5,
         213,
         0,
         0,
         0,
         0
        ],
        [
         380.46999999999997,
         82,
         23,
         0,
         1,
         2,
         1
        ],
        [
         331,
         3,
         185,
         0,
         0,
         0,
         0
        ],
        [
         188.14,
         34,
         30,
         0,
         0,
         2,
         1
        ],
        [
         372.79999999999995,
         22,
         41,
         0,
         0,
         2,
         1
        ],
        [
         216.5,
         4,
         204,
         0,
         0,
         0,
         0
        ],
        [
         138.68,
         10,
         264,
         0,
         0,
         0,
         0
        ],
        [
         509.57999999999976,
         72,
         17,
         0,
         1,
         2,
         1
        ],
        [
         2919.809999999999,
         63,
         11,
         1,
         1,
         1,
         2
        ],
        [
         750,
         2,
         175,
         0,
         0,
         0,
         0
        ],
        [
         2178.67,
         91,
         39,
         1,
         1,
         1,
         2
        ],
        [
         1662.3,
         24,
         2,
         1,
         1,
         2,
         2
        ],
        [
         2483.6299999999997,
         50,
         4,
         1,
         1,
         1,
         2
        ],
        [
         363.65,
         22,
         148,
         0,
         0,
         0,
         1
        ],
        [
         594,
         2,
         127,
         0,
         0,
         2,
         0
        ],
        [
         1335.1899999999998,
         50,
         7,
         1,
         1,
         2,
         1
        ],
        [
         164.23000000000002,
         28,
         16,
         0,
         0,
         2,
         1
        ],
        [
         405.38,
         28,
         160,
         0,
         0,
         0,
         0
        ],
        [
         176.97,
         29,
         63,
         0,
         0,
         2,
         1
        ],
        [
         933.7000000000003,
         30,
         87,
         0,
         0,
         2,
         1
        ],
        [
         694.0499999999998,
         45,
         4,
         0,
         0,
         2,
         1
        ],
        [
         2062.6999999999994,
         84,
         34,
         1,
         1,
         1,
         2
        ],
        [
         117.85000000000001,
         8,
         311,
         0,
         0,
         0,
         0
        ],
        [
         415.8,
         25,
         77,
         0,
         0,
         2,
         1
        ],
        [
         607.5299999999999,
         106,
         23,
         1,
         1,
         2,
         1
        ],
        [
         2160.6999999999994,
         129,
         1,
         1,
         1,
         1,
         2
        ],
        [
         1063.9000000000005,
         62,
         16,
         1,
         1,
         2,
         1
        ],
        [
         1504.2700000000004,
         120,
         14,
         1,
         1,
         1,
         1
        ],
        [
         114.14,
         9,
         25,
         0,
         0,
         2,
         1
        ],
        [
         913.5400000000001,
         99,
         54,
         1,
         1,
         1,
         1
        ],
        [
         683.9000000000001,
         75,
         130,
         0,
         0,
         2,
         0
        ],
        [
         604.51,
         30,
         35,
         0,
         0,
         2,
         1
        ],
        [
         462.95000000000005,
         23,
         287,
         0,
         0,
         0,
         0
        ],
        [
         1603.9900000000002,
         97,
         143,
         1,
         1,
         1,
         2
        ],
        [
         2064.95,
         116,
         15,
         1,
         1,
         1,
         2
        ],
        [
         1843,
         23,
         1,
         1,
         1,
         2,
         2
        ],
        [
         1064.0700000000004,
         63,
         8,
         1,
         1,
         2,
         1
        ],
        [
         1387.7900000000004,
         79,
         5,
         1,
         1,
         1,
         1
        ],
        [
         329.84999999999997,
         17,
         9,
         0,
         0,
         2,
         1
        ],
        [
         108.07,
         19,
         305,
         0,
         0,
         0,
         0
        ],
        [
         266.39000000000004,
         16,
         6,
         0,
         0,
         2,
         1
        ],
        [
         1856.6299999999997,
         95,
         7,
         1,
         1,
         1,
         2
        ],
        [
         771.9099999999996,
         109,
         88,
         1,
         1,
         1,
         1
        ],
        [
         160.18,
         10,
         9,
         0,
         0,
         2,
         1
        ],
        [
         135.95,
         5,
         111,
         0,
         0,
         2,
         1
        ],
        [
         452.23999999999995,
         151,
         6,
         1,
         1,
         1,
         1
        ],
        [
         144.8,
         8,
         197,
         0,
         0,
         0,
         0
        ],
        [
         738.6,
         22,
         211,
         0,
         0,
         0,
         0
        ],
        [
         39.24,
         9,
         155,
         0,
         0,
         0,
         0
        ],
        [
         372.21999999999997,
         20,
         29,
         0,
         0,
         2,
         1
        ],
        [
         390.53999999999996,
         28,
         242,
         0,
         0,
         0,
         0
        ],
        [
         97.5,
         4,
         18,
         0,
         0,
         2,
         1
        ],
        [
         1239.38,
         76,
         0,
         1,
         1,
         1,
         1
        ],
        [
         558.7,
         28,
         73,
         0,
         0,
         2,
         1
        ],
        [
         535.32,
         92,
         291,
         0,
         0,
         0,
         0
        ],
        [
         409.50000000000006,
         13,
         30,
         0,
         0,
         2,
         1
        ],
        [
         503.76,
         31,
         22,
         0,
         0,
         2,
         1
        ],
        [
         414.75999999999993,
         27,
         22,
         0,
         0,
         2,
         1
        ],
        [
         974.42,
         61,
         3,
         1,
         1,
         2,
         1
        ],
        [
         211.32,
         3,
         84,
         0,
         0,
         2,
         1
        ],
        [
         1226.89,
         59,
         21,
         1,
         1,
         2,
         1
        ],
        [
         455.8799999999999,
         28,
         195,
         0,
         0,
         0,
         0
        ],
        [
         534.8500000000001,
         31,
         106,
         0,
         0,
         2,
         1
        ],
        [
         120.94999999999999,
         7,
         317,
         0,
         0,
         0,
         0
        ],
        [
         149.05,
         6,
         105,
         0,
         0,
         2,
         1
        ],
        [
         513.7,
         26,
         173,
         0,
         0,
         0,
         0
        ],
        [
         81.57,
         4,
         55,
         0,
         0,
         2,
         1
        ],
        [
         229.47000000000003,
         14,
         322,
         0,
         0,
         0,
         0
        ],
        [
         1661.8400000000008,
         89,
         8,
         1,
         1,
         1,
         1
        ],
        [
         789.8899999999996,
         47,
         72,
         0,
         0,
         2,
         1
        ],
        [
         204,
         1,
         6,
         0,
         0,
         2,
         1
        ],
        [
         2616.38,
         131,
         3,
         1,
         1,
         1,
         2
        ],
        [
         689.9000000000001,
         40,
         63,
         0,
         0,
         2,
         1
        ],
        [
         975.3599999999998,
         40,
         0,
         0,
         1,
         2,
         1
        ],
        [
         661.32,
         45,
         22,
         0,
         0,
         2,
         1
        ],
        [
         1247.5,
         10,
         30,
         0,
         1,
         2,
         1
        ],
        [
         799.4800000000001,
         99,
         10,
         1,
         1,
         1,
         1
        ],
        [
         1010.1799999999997,
         71,
         51,
         1,
         1,
         2,
         1
        ],
        [
         642.77,
         37,
         54,
         0,
         0,
         2,
         1
        ],
        [
         921.8800000000002,
         27,
         73,
         0,
         0,
         2,
         1
        ],
        [
         881.07,
         48,
         137,
         0,
         0,
         2,
         0
        ],
        [
         908.46,
         28,
         79,
         0,
         0,
         2,
         1
        ],
        [
         676.9900000000001,
         43,
         8,
         0,
         0,
         2,
         1
        ],
        [
         516.4200000000001,
         13,
         272,
         0,
         0,
         0,
         0
        ],
        [
         560.4700000000001,
         33,
         290,
         0,
         0,
         0,
         0
        ],
        [
         305.28,
         18,
         98,
         0,
         0,
         2,
         1
        ],
        [
         629.31,
         35,
         30,
         0,
         0,
         2,
         1
        ],
        [
         1835.9099999999994,
         136,
         13,
         1,
         1,
         1,
         2
        ],
        [
         656.6800000000002,
         14,
         63,
         0,
         0,
         2,
         1
        ],
        [
         348.15000000000003,
         18,
         211,
         0,
         0,
         0,
         0
        ],
        [
         1214.41,
         76,
         77,
         1,
         1,
         1,
         1
        ],
        [
         271.4,
         8,
         24,
         0,
         0,
         2,
         1
        ],
        [
         183.4,
         8,
         249,
         0,
         0,
         0,
         0
        ],
        [
         307.53000000000003,
         15,
         253,
         0,
         0,
         0,
         0
        ],
        [
         248.61,
         10,
         71,
         0,
         0,
         2,
         1
        ],
        [
         346.98,
         11,
         190,
         0,
         0,
         0,
         0
        ],
        [
         1119.4900000000005,
         69,
         12,
         1,
         1,
         2,
         1
        ],
        [
         470.80000000000007,
         48,
         23,
         0,
         0,
         2,
         1
        ],
        [
         115.46000000000002,
         15,
         81,
         0,
         0,
         2,
         1
        ],
        [
         344,
         2,
         9,
         0,
         0,
         2,
         1
        ],
        [
         228.8,
         9,
         191,
         0,
         0,
         0,
         0
        ],
        [
         177.14999999999998,
         7,
         266,
         0,
         0,
         0,
         0
        ],
        [
         919.61,
         22,
         129,
         0,
         0,
         2,
         0
        ],
        [
         729.2700000000001,
         112,
         0,
         1,
         1,
         1,
         1
        ],
        [
         220.09999999999997,
         6,
         3,
         0,
         0,
         2,
         1
        ],
        [
         58.08,
         6,
         178,
         0,
         0,
         0,
         0
        ],
        [
         303.75,
         18,
         3,
         0,
         0,
         2,
         1
        ],
        [
         416.08000000000004,
         22,
         157,
         0,
         0,
         0,
         0
        ],
        [
         345.82,
         21,
         27,
         0,
         0,
         2,
         1
        ],
        [
         477.83,
         25,
         70,
         0,
         0,
         2,
         1
        ],
        [
         1927.3200000000002,
         24,
         20,
         1,
         1,
         1,
         2
        ],
        [
         74.4,
         6,
         70,
         0,
         0,
         2,
         1
        ],
        [
         207.35999999999999,
         1,
         98,
         0,
         0,
         2,
         1
        ],
        [
         101.18999999999998,
         8,
         233,
         0,
         0,
         0,
         0
        ],
        [
         243.94,
         8,
         39,
         0,
         0,
         2,
         1
        ],
        [
         1098.48,
         20,
         2,
         0,
         1,
         2,
         1
        ],
        [
         76.5,
         1,
         132,
         0,
         0,
         0,
         1
        ],
        [
         1531.6200000000003,
         58,
         43,
         1,
         1,
         1,
         1
        ],
        [
         786.5400000000001,
         47,
         59,
         0,
         0,
         2,
         1
        ],
        [
         1488.6700000000012,
         145,
         30,
         1,
         1,
         1,
         3
        ],
        [
         2294.7800000000007,
         120,
         11,
         1,
         1,
         1,
         2
        ],
        [
         501.14000000000004,
         30,
         137,
         0,
         0,
         2,
         0
        ],
        [
         984.9099999999996,
         76,
         21,
         1,
         1,
         2,
         1
        ],
        [
         1197.8099999999995,
         79,
         19,
         1,
         1,
         1,
         1
        ],
        [
         30.599999999999998,
         1,
         238,
         0,
         0,
         0,
         0
        ],
        [
         283.7299999999999,
         50,
         268,
         0,
         0,
         0,
         0
        ],
        [
         922.3900000000002,
         55,
         93,
         0,
         1,
         2,
         1
        ],
        [
         2099.6399999999994,
         140,
         4,
         1,
         1,
         1,
         2
        ],
        [
         259.16999999999996,
         15,
         77,
         0,
         0,
         2,
         1
        ],
        [
         64,
         2,
         93,
         0,
         0,
         2,
         1
        ],
        [
         1073.2999999999997,
         44,
         22,
         0,
         1,
         2,
         1
        ],
        [
         77.3,
         3,
         261,
         0,
         0,
         0,
         0
        ],
        [
         109.80000000000001,
         7,
         273,
         0,
         0,
         0,
         0
        ],
        [
         1793.58,
         98,
         85,
         1,
         1,
         1,
         2
        ],
        [
         2607.6099999999997,
         127,
         55,
         1,
         1,
         1,
         2
        ],
        [
         962.3900000000001,
         63,
         21,
         1,
         1,
         2,
         1
        ],
        [
         423.71999999999997,
         46,
         107,
         0,
         0,
         2,
         0
        ],
        [
         2388.7499999999995,
         135,
         84,
         1,
         1,
         1,
         2
        ],
        [
         307.0899999999999,
         23,
         18,
         0,
         0,
         2,
         1
        ],
        [
         618.52,
         6,
         39,
         0,
         0,
         2,
         1
        ],
        [
         228.91,
         17,
         25,
         0,
         0,
         2,
         1
        ],
        [
         712.8000000000001,
         4,
         9,
         0,
         0,
         2,
         1
        ],
        [
         1676.0599999999997,
         86,
         13,
         1,
         1,
         1,
         1
        ],
        [
         1257.8700000000003,
         74,
         295,
         0,
         0,
         0,
         0
        ],
        [
         486.22,
         15,
         5,
         0,
         0,
         2,
         1
        ],
        [
         971.76,
         85,
         32,
         1,
         1,
         1,
         1
        ],
        [
         1741.2199999999991,
         87,
         48,
         1,
         1,
         1,
         2
        ],
        [
         1201.0600000000004,
         79,
         94,
         1,
         1,
         1,
         1
        ],
        [
         1437.8500000000006,
         121,
         8,
         1,
         1,
         1,
         1
        ],
        [
         91.8,
         4,
         21,
         0,
         0,
         2,
         1
        ],
        [
         112.75,
         8,
         312,
         0,
         0,
         0,
         0
        ],
        [
         1688.2899999999995,
         79,
         121,
         1,
         1,
         1,
         2
        ],
        [
         1021.4799999999999,
         42,
         45,
         0,
         1,
         2,
         1
        ],
        [
         417.19999999999993,
         41,
         282,
         0,
         0,
         0,
         0
        ],
        [
         791.3300000000002,
         65,
         18,
         1,
         1,
         2,
         1
        ],
        [
         1319.19,
         131,
         35,
         1,
         1,
         1,
         3
        ],
        [
         712.88,
         13,
         63,
         0,
         0,
         2,
         1
        ],
        [
         116.01000000000002,
         32,
         26,
         0,
         0,
         2,
         1
        ],
        [
         468.4099999999999,
         46,
         21,
         0,
         0,
         2,
         1
        ],
        [
         353.65000000000003,
         43,
         3,
         0,
         0,
         2,
         1
        ],
        [
         492.8400000000001,
         72,
         45,
         0,
         0,
         2,
         1
        ],
        [
         282.45,
         17,
         64,
         0,
         0,
         2,
         1
        ],
        [
         121.17999999999999,
         11,
         44,
         0,
         0,
         2,
         1
        ],
        [
         1701.2900000000009,
         181,
         14,
         1,
         1,
         1,
         3
        ],
        [
         71.4,
         1,
         267,
         0,
         0,
         0,
         0
        ],
        [
         1575.8900000000003,
         79,
         39,
         1,
         1,
         1,
         1
        ],
        [
         114.60000000000001,
         2,
         10,
         0,
         0,
         2,
         1
        ],
        [
         260.68,
         29,
         18,
         0,
         0,
         2,
         1
        ],
        [
         911.9400000000002,
         63,
         94,
         0,
         1,
         2,
         1
        ],
        [
         117.88000000000001,
         29,
         60,
         0,
         0,
         2,
         1
        ],
        [
         60.7,
         3,
         135,
         0,
         0,
         0,
         1
        ],
        [
         1797.78,
         110,
         10,
         1,
         1,
         1,
         1
        ],
        [
         870.09,
         46,
         18,
         0,
         0,
         2,
         1
        ],
        [
         869.4599999999999,
         57,
         9,
         1,
         0,
         2,
         1
        ],
        [
         250.26000000000002,
         8,
         14,
         0,
         0,
         2,
         1
        ],
        [
         1223.8999999999999,
         149,
         58,
         1,
         1,
         1,
         3
        ],
        [
         353.47999999999996,
         22,
         93,
         0,
         0,
         2,
         1
        ],
        [
         1197.4199999999998,
         56,
         9,
         1,
         1,
         2,
         1
        ],
        [
         788.0799999999998,
         142,
         19,
         1,
         1,
         1,
         1
        ],
        [
         1520.5800000000004,
         90,
         56,
         1,
         1,
         1,
         2
        ],
        [
         333.74,
         5,
         267,
         0,
         0,
         0,
         0
        ],
        [
         533.98,
         4,
         121,
         0,
         0,
         2,
         0
        ],
        [
         62.64,
         5,
         126,
         0,
         0,
         0,
         1
        ],
        [
         819.29,
         21,
         77,
         0,
         0,
         2,
         1
        ],
        [
         847.4100000000001,
         66,
         239,
         0,
         0,
         0,
         0
        ],
        [
         163.20000000000002,
         5,
         199,
         0,
         0,
         0,
         0
        ],
        [
         2155.9499999999994,
         108,
         59,
         1,
         1,
         1,
         2
        ],
        [
         108.21000000000001,
         16,
         272,
         0,
         0,
         0,
         0
        ],
        [
         257.7,
         9,
         201,
         0,
         0,
         0,
         0
        ],
        [
         358,
         2,
         80,
         0,
         0,
         2,
         1
        ],
        [
         160.95,
         10,
         225,
         0,
         0,
         0,
         0
        ],
        [
         1357.6000000000015,
         207,
         12,
         1,
         1,
         1,
         3
        ],
        [
         605.1200000000001,
         43,
         73,
         0,
         0,
         2,
         1
        ],
        [
         1031.0699999999997,
         58,
         211,
         0,
         0,
         0,
         0
        ],
        [
         744.8500000000003,
         36,
         24,
         0,
         0,
         2,
         1
        ],
        [
         700.7300000000001,
         31,
         16,
         0,
         0,
         2,
         1
        ],
        [
         329.56,
         21,
         261,
         0,
         0,
         0,
         0
        ],
        [
         663.6500000000001,
         67,
         95,
         0,
         0,
         2,
         1
        ],
        [
         270.40000000000003,
         13,
         111,
         0,
         0,
         2,
         1
        ],
        [
         600.07,
         58,
         202,
         0,
         0,
         0,
         0
        ],
        [
         121.74000000000001,
         27,
         92,
         0,
         0,
         2,
         1
        ],
        [
         430.5,
         16,
         50,
         0,
         0,
         2,
         1
        ],
        [
         1987.3000000000009,
         141,
         17,
         1,
         1,
         1,
         2
        ],
        [
         501.12,
         25,
         17,
         0,
         0,
         2,
         1
        ],
        [
         465.6799999999999,
         26,
         124,
         0,
         0,
         2,
         1
        ],
        [
         711.41,
         23,
         91,
         0,
         0,
         2,
         1
        ],
        [
         1030.3999999999999,
         36,
         156,
         0,
         0,
         0,
         0
        ],
        [
         399.51,
         13,
         8,
         0,
         0,
         2,
         1
        ],
        [
         698.5799999999999,
         38,
         11,
         0,
         0,
         2,
         1
        ],
        [
         292.3199999999999,
         87,
         61,
         0,
         1,
         2,
         1
        ],
        [
         557.6200000000001,
         8,
         60,
         0,
         0,
         2,
         1
        ],
        [
         944.1,
         9,
         268,
         0,
         0,
         0,
         0
        ],
        [
         200.29000000000002,
         11,
         262,
         0,
         0,
         0,
         0
        ],
        [
         2107.6600000000008,
         91,
         52,
         1,
         1,
         1,
         2
        ],
        [
         217.3799999999999,
         96,
         36,
         0,
         1,
         2,
         1
        ],
        [
         276.56000000000006,
         15,
         30,
         0,
         0,
         2,
         1
        ],
        [
         138.97999999999996,
         16,
         112,
         0,
         0,
         2,
         1
        ],
        [
         590.93,
         30,
         63,
         0,
         0,
         2,
         1
        ],
        [
         258.4,
         8,
         15,
         0,
         0,
         2,
         1
        ],
        [
         542.73,
         46,
         40,
         0,
         0,
         2,
         1
        ],
        [
         137.75,
         9,
         77,
         0,
         0,
         2,
         1
        ],
        [
         814.8600000000001,
         85,
         121,
         0,
         0,
         2,
         0
        ],
        [
         1132.1399999999999,
         37,
         17,
         0,
         1,
         2,
         1
        ],
        [
         93.66,
         7,
         59,
         0,
         0,
         2,
         1
        ],
        [
         2709.1200000000003,
         187,
         22,
         1,
         1,
         1,
         3
        ],
        [
         361.10999999999996,
         42,
         155,
         0,
         0,
         0,
         0
        ],
        [
         578.9399999999999,
         31,
         38,
         0,
         0,
         2,
         1
        ],
        [
         873.7399999999998,
         54,
         189,
         0,
         0,
         0,
         0
        ],
        [
         87.4,
         5,
         136,
         0,
         0,
         0,
         1
        ],
        [
         2089.8500000000004,
         59,
         7,
         1,
         1,
         1,
         2
        ],
        [
         360,
         2,
         0,
         0,
         0,
         2,
         1
        ],
        [
         142.5,
         5,
         267,
         0,
         0,
         0,
         0
        ],
        [
         371.89000000000004,
         20,
         168,
         0,
         0,
         0,
         0
        ],
        [
         618.0899999999998,
         81,
         103,
         0,
         1,
         2,
         1
        ],
        [
         63.75,
         1,
         154,
         0,
         0,
         0,
         0
        ],
        [
         2000.8599999999992,
         81,
         3,
         1,
         1,
         1,
         2
        ],
        [
         15,
         1,
         119,
         0,
         0,
         2,
         1
        ],
        [
         1385.51,
         54,
         22,
         1,
         1,
         2,
         1
        ],
        [
         1456.7899999999993,
         107,
         6,
         1,
         1,
         1,
         1
        ],
        [
         1132.0300000000002,
         72,
         27,
         1,
         1,
         2,
         1
        ],
        [
         598.57,
         26,
         3,
         0,
         0,
         2,
         1
        ],
        [
         1555.3199999999993,
         78,
         21,
         1,
         1,
         1,
         1
        ],
        [
         775.9400000000002,
         62,
         1,
         1,
         0,
         2,
         1
        ],
        [
         2273.679999999999,
         124,
         65,
         1,
         1,
         1,
         2
        ],
        [
         640.76,
         20,
         0,
         0,
         0,
         2,
         1
        ],
        [
         1548.7000000000003,
         106,
         77,
         1,
         1,
         1,
         2
        ],
        [
         567.36,
         11,
         71,
         0,
         0,
         2,
         1
        ],
        [
         199.48,
         25,
         16,
         0,
         0,
         2,
         1
        ],
        [
         787.85,
         21,
         2,
         0,
         0,
         2,
         1
        ],
        [
         675.3,
         12,
         81,
         0,
         0,
         2,
         1
        ],
        [
         1308.48,
         17,
         315,
         0,
         0,
         0,
         0
        ],
        [
         789,
         17,
         31,
         0,
         0,
         2,
         1
        ],
        [
         1140.9299999999996,
         53,
         92,
         0,
         1,
         2,
         1
        ],
        [
         350.9,
         21,
         13,
         0,
         0,
         2,
         1
        ],
        [
         795.12,
         51,
         76,
         0,
         0,
         2,
         1
        ],
        [
         487.02,
         19,
         157,
         0,
         0,
         0,
         0
        ],
        [
         860.1200000000002,
         54,
         200,
         0,
         0,
         0,
         0
        ],
        [
         775.8499999999999,
         42,
         260,
         0,
         0,
         0,
         0
        ],
        [
         353.43,
         19,
         177,
         0,
         0,
         0,
         0
        ],
        [
         2543.720000000002,
         119,
         67,
         1,
         1,
         1,
         2
        ],
        [
         389.50000000000006,
         20,
         287,
         0,
         0,
         0,
         0
        ],
        [
         341.36,
         8,
         69,
         0,
         0,
         2,
         1
        ],
        [
         233.76,
         14,
         63,
         0,
         0,
         2,
         1
        ],
        [
         247.31999999999996,
         16,
         10,
         0,
         0,
         2,
         1
        ],
        [
         979.1199999999999,
         40,
         15,
         0,
         1,
         2,
         1
        ],
        [
         373.94,
         16,
         65,
         0,
         0,
         2,
         1
        ],
        [
         397.9800000000001,
         24,
         59,
         0,
         0,
         2,
         1
        ],
        [
         743.5300000000003,
         51,
         70,
         0,
         0,
         2,
         1
        ],
        [
         674.7,
         32,
         121,
         0,
         0,
         2,
         0
        ],
        [
         768.2400000000001,
         42,
         79,
         0,
         0,
         2,
         1
        ],
        [
         609.9500000000002,
         90,
         256,
         0,
         0,
         0,
         0
        ],
        [
         439.03000000000003,
         29,
         268,
         0,
         0,
         0,
         0
        ],
        [
         439.55999999999995,
         23,
         63,
         0,
         0,
         2,
         1
        ],
        [
         992.5000000000002,
         60,
         17,
         1,
         1,
         2,
         1
        ],
        [
         134.96,
         10,
         70,
         0,
         0,
         2,
         1
        ],
        [
         2225.3700000000013,
         128,
         33,
         1,
         1,
         1,
         2
        ],
        [
         56.160000000000004,
         1,
         49,
         0,
         0,
         2,
         1
        ],
        [
         623.4,
         29,
         256,
         0,
         0,
         0,
         0
        ],
        [
         378.64,
         23,
         89,
         0,
         0,
         2,
         1
        ],
        [
         778.6499999999997,
         37,
         88,
         0,
         0,
         2,
         0
        ],
        [
         1019.7600000000003,
         53,
         98,
         0,
         1,
         2,
         1
        ],
        [
         572.5599999999997,
         97,
         25,
         1,
         1,
         2,
         1
        ],
        [
         222.99,
         15,
         280,
         0,
         0,
         0,
         0
        ],
        [
         677.1000000000001,
         35,
         130,
         0,
         0,
         2,
         0
        ],
        [
         797.96,
         51,
         10,
         0,
         0,
         2,
         1
        ],
        [
         544.0799999999999,
         13,
         74,
         0,
         0,
         2,
         1
        ],
        [
         59.8,
         1,
         203,
         0,
         0,
         0,
         0
        ],
        [
         2520.0199999999995,
         155,
         1,
         1,
         1,
         1,
         3
        ],
        [
         307.72,
         21,
         184,
         0,
         0,
         0,
         0
        ],
        [
         1360.9899999999998,
         43,
         28,
         1,
         1,
         2,
         1
        ],
        [
         1544.1299999999997,
         38,
         72,
         1,
         1,
         2,
         2
        ],
        [
         457.3400000000001,
         26,
         191,
         0,
         0,
         0,
         0
        ],
        [
         621.2300000000002,
         39,
         126,
         0,
         0,
         2,
         0
        ],
        [
         75,
         3,
         17,
         0,
         0,
         2,
         1
        ],
        [
         252.48999999999998,
         11,
         0,
         0,
         0,
         2,
         1
        ],
        [
         572.4509999999999,
         27,
         73,
         0,
         0,
         2,
         1
        ],
        [
         1003.0600000000001,
         28,
         23,
         0,
         1,
         2,
         1
        ],
        [
         213.55000000000004,
         18,
         106,
         0,
         0,
         2,
         1
        ],
        [
         1390.5,
         24,
         133,
         0,
         1,
         2,
         1
        ],
        [
         712.5000000000001,
         19,
         43,
         0,
         0,
         2,
         1
        ],
        [
         640.83,
         28,
         4,
         0,
         0,
         2,
         1
        ],
        [
         221.05999999999995,
         16,
         63,
         0,
         0,
         2,
         1
        ],
        [
         159.85,
         8,
         149,
         0,
         0,
         0,
         0
        ],
        [
         1851.0799999999995,
         104,
         39,
         1,
         1,
         1,
         2
        ],
        [
         2626.3000000000006,
         127,
         63,
         1,
         1,
         1,
         2
        ],
        [
         1624.2099999999998,
         78,
         107,
         1,
         1,
         1,
         2
        ],
        [
         582.6,
         29,
         18,
         0,
         0,
         2,
         1
        ],
        [
         218.46999999999994,
         74,
         9,
         0,
         0,
         2,
         1
        ],
        [
         1006.8000000000001,
         67,
         10,
         1,
         1,
         2,
         1
        ],
        [
         679.45,
         49,
         18,
         0,
         0,
         2,
         1
        ],
        [
         1269.0999999999995,
         46,
         66,
         1,
         1,
         2,
         1
        ],
        [
         534.24,
         10,
         73,
         0,
         0,
         2,
         1
        ],
        [
         196.88999999999996,
         12,
         1,
         0,
         0,
         2,
         1
        ],
        [
         283.71,
         54,
         254,
         0,
         0,
         0,
         0
        ],
        [
         296.64000000000004,
         13,
         91,
         0,
         0,
         2,
         1
        ],
        [
         1129.14,
         59,
         22,
         1,
         1,
         2,
         1
        ],
        [
         291.88,
         19,
         23,
         0,
         0,
         2,
         1
        ],
        [
         2043.7200000000003,
         71,
         26,
         1,
         1,
         1,
         2
        ],
        [
         590,
         2,
         258,
         0,
         0,
         0,
         0
        ],
        [
         356.98,
         17,
         165,
         0,
         0,
         0,
         0
        ],
        [
         1058.34,
         46,
         24,
         0,
         1,
         2,
         1
        ],
        [
         1766.7199999999998,
         63,
         17,
         1,
         1,
         1,
         1
        ],
        [
         183.44,
         17,
         28,
         0,
         0,
         2,
         1
        ],
        [
         1445.0000000000002,
         27,
         38,
         1,
         1,
         2,
         1
        ],
        [
         151.5,
         9,
         252,
         0,
         0,
         0,
         0
        ],
        [
         674.6800000000002,
         41,
         57,
         0,
         0,
         2,
         1
        ],
        [
         307.90000000000003,
         17,
         183,
         0,
         0,
         0,
         0
        ],
        [
         1083.71,
         99,
         10,
         1,
         1,
         1,
         1
        ],
        [
         165,
         10,
         98,
         0,
         0,
         2,
         1
        ],
        [
         422.64,
         21,
         60,
         0,
         0,
         2,
         1
        ],
        [
         229.58999999999997,
         64,
         235,
         0,
         0,
         0,
         0
        ],
        [
         1431.7800000000009,
         86,
         190,
         1,
         1,
         1,
         0
        ],
        [
         1238.4699999999998,
         58,
         178,
         0,
         0,
         0,
         0
        ],
        [
         1454.579999999999,
         79,
         37,
         1,
         1,
         1,
         1
        ],
        [
         300.95,
         15,
         200,
         0,
         0,
         0,
         0
        ],
        [
         1804.5599999999993,
         109,
         45,
         1,
         1,
         1,
         2
        ],
        [
         184.64,
         11,
         231,
         0,
         0,
         0,
         0
        ],
        [
         140.34000000000003,
         10,
         65,
         0,
         0,
         2,
         1
        ],
        [
         313.79999999999995,
         8,
         240,
         0,
         0,
         0,
         0
        ],
        [
         454.24,
         23,
         232,
         0,
         0,
         0,
         0
        ],
        [
         1122.4099999999999,
         69,
         77,
         1,
         1,
         2,
         1
        ],
        [
         575.4000000000001,
         34,
         57,
         0,
         0,
         2,
         1
        ],
        [
         449.52,
         14,
         104,
         0,
         0,
         2,
         1
        ],
        [
         1215.82,
         86,
         51,
         1,
         1,
         1,
         1
        ],
        [
         1269.8400000000006,
         50,
         135,
         0,
         0,
         2,
         0
        ],
        [
         618.63,
         8,
         274,
         0,
         0,
         0,
         0
        ],
        [
         316.26,
         18,
         311,
         0,
         0,
         0,
         0
        ],
        [
         2044.8699999999997,
         48,
         7,
         1,
         1,
         1,
         2
        ],
        [
         653.3299999999999,
         35,
         10,
         0,
         0,
         2,
         1
        ],
        [
         348.04999999999995,
         19,
         282,
         0,
         0,
         0,
         0
        ],
        [
         1159.11,
         42,
         17,
         1,
         1,
         2,
         1
        ],
        [
         1166.7700000000002,
         65,
         22,
         1,
         1,
         2,
         1
        ],
        [
         1340.3199999999997,
         52,
         287,
         0,
         0,
         0,
         0
        ],
        [
         292,
         18,
         16,
         0,
         0,
         2,
         1
        ],
        [
         216.84999999999997,
         17,
         70,
         0,
         0,
         2,
         1
        ],
        [
         295.93,
         22,
         63,
         0,
         0,
         2,
         1
        ],
        [
         458.52000000000004,
         26,
         315,
         0,
         0,
         0,
         0
        ],
        [
         2479.159999999999,
         162,
         2,
         1,
         1,
         1,
         3
        ],
        [
         110.97,
         12,
         243,
         0,
         0,
         0,
         0
        ],
        [
         979.7200000000001,
         44,
         8,
         0,
         1,
         2,
         1
        ],
        [
         1791.5599999999984,
         115,
         0,
         1,
         1,
         1,
         2
        ],
        [
         251.20999999999998,
         15,
         260,
         0,
         0,
         0,
         0
        ],
        [
         205.09999999999997,
         10,
         126,
         0,
         0,
         2,
         1
        ],
        [
         152.20000000000002,
         4,
         73,
         0,
         0,
         2,
         1
        ],
        [
         891.1200000000002,
         59,
         72,
         0,
         1,
         2,
         1
        ],
        [
         1389.4100000000003,
         44,
         20,
         1,
         1,
         2,
         1
        ],
        [
         2128.42,
         141,
         59,
         1,
         1,
         1,
         2
        ],
        [
         659.4399999999998,
         38,
         85,
         0,
         0,
         2,
         1
        ],
        [
         122.75,
         8,
         77,
         0,
         0,
         2,
         1
        ],
        [
         125.80000000000001,
         5,
         29,
         0,
         0,
         2,
         1
        ],
        [
         680.1800000000001,
         27,
         40,
         0,
         0,
         2,
         1
        ],
        [
         628.78,
         6,
         14,
         0,
         0,
         2,
         1
        ],
        [
         2287.5100000000007,
         223,
         33,
         1,
         1,
         1,
         3
        ],
        [
         307.76,
         15,
         78,
         0,
         0,
         2,
         1
        ],
        [
         483.8000000000001,
         22,
         204,
         0,
         0,
         0,
         0
        ],
        [
         210.30999999999983,
         66,
         33,
         0,
         0,
         2,
         1
        ],
        [
         270.79000000000013,
         76,
         182,
         0,
         0,
         0,
         0
        ],
        [
         1280.85,
         25,
         42,
         0,
         1,
         2,
         1
        ],
        [
         631.3400000000001,
         37,
         85,
         0,
         0,
         2,
         1
        ],
        [
         291.4099999999999,
         87,
         39,
         0,
         1,
         2,
         1
        ],
        [
         626.9899999999999,
         98,
         11,
         1,
         1,
         2,
         1
        ],
        [
         682.41,
         124,
         95,
         1,
         1,
         1,
         1
        ],
        [
         918.1999999999998,
         51,
         25,
         0,
         1,
         2,
         1
        ],
        [
         91.80000000000001,
         4,
         318,
         0,
         0,
         0,
         0
        ],
        [
         584.0600000000001,
         34,
         27,
         0,
         0,
         2,
         1
        ],
        [
         605.0599999999998,
         175,
         5,
         1,
         1,
         1,
         3
        ],
        [
         174.37000000000003,
         33,
         6,
         0,
         0,
         2,
         1
        ],
        [
         141.86,
         14,
         215,
         0,
         0,
         0,
         0
        ],
        [
         1799.3299999999988,
         82,
         81,
         1,
         1,
         1,
         2
        ],
        [
         777.5300000000001,
         49,
         83,
         0,
         0,
         2,
         1
        ],
        [
         1749.0200000000004,
         83,
         143,
         1,
         1,
         1,
         2
        ],
        [
         240.22000000000006,
         38,
         18,
         0,
         0,
         2,
         1
        ],
        [
         874.7099999999997,
         176,
         40,
         1,
         1,
         1,
         3
        ],
        [
         192.85000000000005,
         44,
         172,
         0,
         0,
         0,
         0
        ],
        [
         373.74999999999994,
         85,
         16,
         0,
         1,
         2,
         1
        ],
        [
         239.49000000000004,
         27,
         242,
         0,
         0,
         0,
         0
        ],
        [
         1384.25,
         33,
         205,
         0,
         0,
         0,
         0
        ],
        [
         294.4,
         26,
         49,
         0,
         0,
         2,
         1
        ],
        [
         732.0699999999997,
         46,
         22,
         0,
         0,
         2,
         1
        ],
        [
         1687.5999999999988,
         83,
         24,
         1,
         1,
         1,
         1
        ],
        [
         467.03999999999996,
         23,
         14,
         0,
         0,
         2,
         1
        ],
        [
         117.99999999999999,
         10,
         308,
         0,
         0,
         0,
         0
        ],
        [
         781.0300000000002,
         53,
         155,
         0,
         0,
         0,
         0
        ],
        [
         142.40000000000003,
         24,
         306,
         0,
         0,
         0,
         0
        ],
        [
         712.4,
         8,
         63,
         0,
         0,
         2,
         1
        ],
        [
         2478.949999999998,
         174,
         15,
         1,
         1,
         1,
         3
        ],
        [
         379.65000000000003,
         21,
         14,
         0,
         0,
         2,
         1
        ],
        [
         1981.9199999999994,
         87,
         10,
         1,
         1,
         1,
         2
        ],
        [
         1117.1300000000003,
         58,
         64,
         1,
         1,
         2,
         1
        ],
        [
         247.95999999999995,
         16,
         35,
         0,
         0,
         2,
         1
        ],
        [
         2037.0800000000008,
         128,
         107,
         1,
         1,
         1,
         2
        ],
        [
         396.96999999999997,
         26,
         52,
         0,
         0,
         2,
         1
        ],
        [
         697.04,
         166,
         5,
         1,
         1,
         1,
         3
        ],
        [
         180.1700000000001,
         40,
         46,
         0,
         0,
         2,
         1
        ],
        [
         219.51999999999998,
         19,
         311,
         0,
         0,
         0,
         0
        ],
        [
         693.3200000000002,
         99,
         44,
         1,
         1,
         2,
         1
        ],
        [
         428.88999999999993,
         23,
         64,
         0,
         0,
         2,
         1
        ],
        [
         164.34,
         27,
         25,
         0,
         0,
         2,
         1
        ],
        [
         280.53999999999996,
         43,
         28,
         0,
         0,
         2,
         1
        ],
        [
         678.0099999999996,
         98,
         39,
         1,
         1,
         2,
         1
        ],
        [
         1131.8800000000006,
         226,
         11,
         1,
         1,
         1,
         3
        ],
        [
         1171.8000000000002,
         74,
         88,
         1,
         1,
         1,
         1
        ],
        [
         1610.460000000001,
         201,
         23,
         1,
         1,
         1,
         3
        ],
        [
         417.6900000000001,
         23,
         318,
         0,
         0,
         0,
         0
        ],
        [
         544.18,
         44,
         39,
         0,
         0,
         2,
         1
        ],
        [
         177.34000000000003,
         13,
         173,
         0,
         0,
         0,
         0
        ],
        [
         213.85,
         19,
         116,
         0,
         0,
         2,
         1
        ],
        [
         747.7800000000003,
         81,
         30,
         1,
         1,
         2,
         1
        ],
        [
         257.22999999999996,
         19,
         252,
         0,
         0,
         0,
         0
        ],
        [
         1638.4700000000003,
         92,
         58,
         1,
         1,
         1,
         1
        ],
        [
         2031.7800000000002,
         71,
         4,
         1,
         1,
         1,
         2
        ],
        [
         2121.27,
         146,
         24,
         1,
         1,
         1,
         2
        ],
        [
         1575.1600000000003,
         188,
         32,
         1,
         1,
         1,
         3
        ],
        [
         1071.0300000000002,
         62,
         67,
         1,
         1,
         2,
         1
        ],
        [
         949.1199999999999,
         63,
         36,
         1,
         1,
         2,
         1
        ],
        [
         810.4999999999998,
         101,
         51,
         1,
         1,
         1,
         1
        ],
        [
         122.64000000000001,
         8,
         15,
         0,
         0,
         2,
         1
        ],
        [
         1033.3400000000001,
         40,
         73,
         0,
         1,
         2,
         1
        ],
        [
         354.7999999999999,
         66,
         215,
         0,
         0,
         0,
         0
        ],
        [
         519.44,
         28,
         30,
         0,
         0,
         2,
         1
        ],
        [
         2624.260000000001,
         146,
         15,
         1,
         1,
         1,
         2
        ],
        [
         252.1,
         5,
         119,
         0,
         0,
         2,
         1
        ],
        [
         1678.1200000000001,
         79,
         9,
         1,
         1,
         1,
         1
        ],
        [
         346.6000000000001,
         23,
         256,
         0,
         0,
         0,
         0
        ],
        [
         1836.34,
         96,
         16,
         1,
         1,
         1,
         2
        ],
        [
         94.2,
         6,
         34,
         0,
         0,
         2,
         1
        ],
        [
         1095.08,
         63,
         45,
         1,
         1,
         2,
         1
        ],
        [
         2707.329999999999,
         166,
         42,
         1,
         1,
         1,
         3
        ],
        [
         932.9700000000004,
         56,
         113,
         0,
         0,
         2,
         1
        ],
        [
         379.65000000000003,
         49,
         164,
         0,
         0,
         0,
         0
        ],
        [
         382.13999999999993,
         16,
         10,
         0,
         0,
         2,
         1
        ],
        [
         2639.1700000000037,
         108,
         9,
         1,
         1,
         1,
         2
        ],
        [
         1573.2000000000007,
         104,
         205,
         1,
         1,
         1,
         0
        ],
        [
         897.7600000000001,
         53,
         85,
         0,
         1,
         2,
         1
        ],
        [
         189.47,
         13,
         178,
         0,
         0,
         0,
         0
        ],
        [
         84.65000000000002,
         12,
         59,
         0,
         0,
         2,
         1
        ],
        [
         305.0199999999998,
         87,
         148,
         0,
         0,
         0,
         0
        ],
        [
         218.55,
         9,
         50,
         0,
         0,
         2,
         1
        ],
        [
         349.70000000000016,
         25,
         74,
         0,
         0,
         2,
         1
        ],
        [
         186.39,
         6,
         300,
         0,
         0,
         0,
         0
        ],
        [
         396.9199999999999,
         65,
         18,
         0,
         1,
         2,
         1
        ],
        [
         486.82000000000005,
         25,
         150,
         0,
         0,
         0,
         0
        ],
        [
         232.60000000000005,
         16,
         151,
         0,
         0,
         0,
         0
        ],
        [
         827.83,
         57,
         17,
         0,
         0,
         2,
         1
        ],
        [
         59.5,
         3,
         186,
         0,
         0,
         0,
         0
        ],
        [
         67.23000000000002,
         30,
         285,
         0,
         0,
         0,
         0
        ],
        [
         72,
         8,
         182,
         0,
         0,
         0,
         0
        ],
        [
         910,
         6,
         62,
         0,
         1,
         2,
         1
        ],
        [
         172.25,
         9,
         58,
         0,
         0,
         2,
         1
        ],
        [
         1488.3200000000004,
         53,
         24,
         1,
         1,
         1,
         1
        ],
        [
         2504.1299999999987,
         90,
         30,
         1,
         1,
         1,
         2
        ],
        [
         151.3,
         12,
         38,
         0,
         0,
         2,
         1
        ],
        [
         308.58,
         14,
         154,
         0,
         0,
         0,
         1
        ],
        [
         2265.119999999999,
         197,
         25,
         1,
         1,
         1,
         3
        ],
        [
         99.5,
         1,
         317,
         0,
         0,
         0,
         0
        ],
        [
         2308.0599999999986,
         134,
         4,
         1,
         1,
         1,
         2
        ],
        [
         711.8600000000001,
         28,
         7,
         0,
         0,
         2,
         1
        ],
        [
         330.78999999999996,
         20,
         302,
         0,
         0,
         0,
         0
        ],
        [
         806.4100000000004,
         48,
         266,
         0,
         0,
         0,
         0
        ],
        [
         296.87999999999994,
         51,
         270,
         0,
         0,
         0,
         0
        ],
        [
         180.48000000000002,
         8,
         31,
         0,
         0,
         2,
         1
        ],
        [
         252.06000000000003,
         13,
         218,
         0,
         0,
         0,
         0
        ],
        [
         228.83999999999997,
         10,
         246,
         0,
         0,
         0,
         0
        ],
        [
         1079.3399999999997,
         105,
         280,
         0,
         0,
         0,
         0
        ],
        [
         138.28,
         21,
         268,
         0,
         0,
         0,
         0
        ],
        [
         1445.0100000000002,
         102,
         31,
         1,
         1,
         1,
         1
        ],
        [
         306.55,
         12,
         245,
         0,
         0,
         0,
         0
        ],
        [
         1041.68,
         60,
         14,
         1,
         1,
         2,
         1
        ],
        [
         799.8999999999999,
         43,
         116,
         0,
         0,
         2,
         0
        ],
        [
         524.14,
         28,
         35,
         0,
         0,
         2,
         1
        ],
        [
         2375.4100000000008,
         85,
         131,
         1,
         1,
         1,
         2
        ],
        [
         199.85000000000002,
         6,
         216,
         0,
         0,
         0,
         0
        ],
        [
         1980.5600000000004,
         104,
         49,
         1,
         1,
         1,
         2
        ],
        [
         1079.6600000000003,
         42,
         38,
         0,
         1,
         2,
         1
        ],
        [
         333.4800000000001,
         20,
         28,
         0,
         0,
         2,
         1
        ],
        [
         1016.1399999999999,
         63,
         36,
         1,
         1,
         2,
         1
        ],
        [
         752.5999999999998,
         43,
         135,
         0,
         0,
         2,
         0
        ],
        [
         610.5899999999999,
         38,
         218,
         0,
         0,
         0,
         0
        ],
        [
         491.86,
         33,
         27,
         0,
         0,
         2,
         1
        ],
        [
         2885.2399999999975,
         196,
         24,
         1,
         1,
         1,
         3
        ],
        [
         731.8999999999999,
         191,
         4,
         1,
         1,
         1,
         3
        ],
        [
         339.59999999999997,
         30,
         199,
         0,
         0,
         0,
         0
        ],
        [
         216.9,
         3,
         17,
         0,
         0,
         2,
         1
        ],
        [
         350.75,
         23,
         240,
         0,
         0,
         0,
         0
        ],
        [
         668.43,
         34,
         71,
         0,
         0,
         2,
         1
        ],
        [
         1341.5999999999997,
         41,
         2,
         1,
         1,
         2,
         1
        ],
        [
         1156.36,
         72,
         94,
         1,
         1,
         2,
         1
        ],
        [
         300.03999999999996,
         25,
         161,
         0,
         0,
         0,
         0
        ],
        [
         948.2499999999998,
         28,
         95,
         0,
         0,
         2,
         1
        ],
        [
         1647.2599999999998,
         24,
         53,
         1,
         1,
         2,
         2
        ],
        [
         296.24999999999994,
         9,
         287,
         0,
         0,
         0,
         0
        ],
        [
         1186.2800000000002,
         76,
         123,
         1,
         1,
         1,
         1
        ],
        [
         741.26,
         35,
         287,
         0,
         0,
         0,
         0
        ],
        [
         282.6,
         12,
         151,
         0,
         0,
         0,
         1
        ],
        [
         659.41,
         25,
         32,
         0,
         0,
         2,
         1
        ],
        [
         286.78999999999996,
         57,
         53,
         0,
         0,
         2,
         1
        ],
        [
         1070.65,
         70,
         49,
         1,
         1,
         2,
         1
        ],
        [
         306.72,
         7,
         218,
         0,
         0,
         0,
         0
        ],
        [
         1714.9599999999998,
         15,
         62,
         1,
         1,
         2,
         2
        ],
        [
         1521.7600000000002,
         208,
         70,
         1,
         1,
         1,
         3
        ],
        [
         2796.5099999999993,
         135,
         1,
         1,
         1,
         1,
         2
        ],
        [
         2634.450000000001,
         119,
         63,
         1,
         1,
         1,
         2
        ],
        [
         1132.13,
         177,
         33,
         1,
         1,
         1,
         3
        ],
        [
         344.99999999999994,
         22,
         81,
         0,
         0,
         2,
         1
        ],
        [
         178.7,
         9,
         102,
         0,
         0,
         2,
         1
        ],
        [
         360.01,
         57,
         6,
         0,
         0,
         2,
         1
        ],
        [
         127.84000000000002,
         17,
         250,
         0,
         0,
         0,
         0
        ],
        [
         911.9999999999992,
         115,
         12,
         1,
         1,
         1,
         1
        ],
        [
         2462.7899999999995,
         31,
         9,
         1,
         1,
         1,
         2
        ],
        [
         309.04,
         31,
         75,
         0,
         0,
         2,
         1
        ],
        [
         348.79999999999995,
         45,
         3,
         0,
         0,
         2,
         1
        ],
        [
         1516,
         11,
         127,
         0,
         1,
         2,
         1
        ],
        [
         195.54999999999995,
         13,
         65,
         0,
         0,
         2,
         1
        ],
        [
         688.8600000000002,
         39,
         116,
         0,
         0,
         2,
         0
        ],
        [
         558.3199999999997,
         33,
         309,
         0,
         0,
         0,
         0
        ],
        [
         324.79999999999995,
         23,
         66,
         0,
         0,
         2,
         1
        ],
        [
         277.07000000000005,
         17,
         254,
         0,
         0,
         0,
         0
        ],
        [
         2635.7900000000004,
         137,
         30,
         1,
         1,
         1,
         2
        ],
        [
         924.5999999999999,
         13,
         51,
         0,
         1,
         2,
         1
        ],
        [
         256.38,
         10,
         63,
         0,
         0,
         2,
         1
        ],
        [
         1747.66,
         76,
         5,
         1,
         1,
         1,
         1
        ],
        [
         155.05,
         12,
         304,
         0,
         0,
         0,
         0
        ],
        [
         1499.01,
         35,
         28,
         1,
         1,
         2,
         1
        ],
        [
         814.5,
         13,
         183,
         0,
         0,
         0,
         0
        ],
        [
         538.9999999999999,
         36,
         41,
         0,
         0,
         2,
         1
        ],
        [
         1366.8599999999994,
         69,
         39,
         1,
         1,
         1,
         1
        ],
        [
         1579.1200000000001,
         57,
         91,
         1,
         1,
         1,
         1
        ],
        [
         571.6700000000001,
         28,
         23,
         0,
         0,
         2,
         1
        ],
        [
         382.9799999999999,
         24,
         28,
         0,
         0,
         2,
         1
        ],
        [
         1140.35,
         36,
         301,
         0,
         0,
         0,
         0
        ],
        [
         385.64,
         59,
         144,
         0,
         0,
         0,
         0
        ],
        [
         632.0000000000001,
         96,
         5,
         1,
         1,
         2,
         1
        ],
        [
         957.6600000000001,
         40,
         18,
         0,
         1,
         2,
         1
        ],
        [
         1698.9399999999998,
         46,
         32,
         1,
         1,
         1,
         2
        ],
        [
         189.5,
         10,
         175,
         0,
         0,
         0,
         0
        ],
        [
         412.0499999999998,
         93,
         57,
         0,
         1,
         2,
         1
        ],
        [
         209.49000000000004,
         15,
         21,
         0,
         0,
         2,
         1
        ],
        [
         2202.99,
         74,
         15,
         1,
         1,
         1,
         2
        ],
        [
         52.199999999999996,
         3,
         18,
         0,
         0,
         2,
         1
        ],
        [
         384.7999999999999,
         29,
         158,
         0,
         0,
         0,
         0
        ],
        [
         834.57,
         55,
         24,
         0,
         0,
         2,
         1
        ],
        [
         271.24000000000007,
         19,
         211,
         0,
         0,
         0,
         0
        ],
        [
         691.7299999999999,
         174,
         5,
         1,
         1,
         1,
         3
        ],
        [
         85,
         1,
         252,
         0,
         0,
         0,
         0
        ],
        [
         361.62,
         20,
         10,
         0,
         0,
         2,
         1
        ],
        [
         312.98,
         9,
         64,
         0,
         0,
         2,
         1
        ],
        [
         865.0600000000005,
         55,
         24,
         0,
         0,
         2,
         1
        ],
        [
         1255,
         5,
         91,
         0,
         1,
         2,
         1
        ],
        [
         1537.95,
         101,
         51,
         1,
         1,
         1,
         2
        ],
        [
         1595.4799999999996,
         93,
         128,
         1,
         1,
         1,
         2
        ],
        [
         2651.46,
         81,
         95,
         1,
         1,
         1,
         2
        ],
        [
         1090.14,
         23,
         56,
         0,
         1,
         2,
         1
        ],
        [
         388.5,
         14,
         168,
         0,
         0,
         0,
         0
        ],
        [
         216.16999999999996,
         11,
         56,
         0,
         0,
         2,
         1
        ],
        [
         201.16,
         28,
         325,
         0,
         0,
         0,
         0
        ],
        [
         1245.9000000000003,
         76,
         0,
         1,
         1,
         1,
         1
        ],
        [
         2209.360000000001,
         139,
         17,
         1,
         1,
         1,
         2
        ],
        [
         305.78000000000003,
         20,
         247,
         0,
         0,
         0,
         0
        ],
        [
         501.56,
         30,
         57,
         0,
         0,
         2,
         1
        ],
        [
         145.67,
         7,
         73,
         0,
         0,
         2,
         1
        ],
        [
         1015.2900000000002,
         61,
         30,
         1,
         1,
         2,
         1
        ],
        [
         2770.9400000000005,
         115,
         1,
         1,
         1,
         1,
         2
        ],
        [
         389.6,
         23,
         119,
         0,
         0,
         2,
         1
        ],
        [
         1786.7900000000004,
         104,
         53,
         1,
         1,
         1,
         2
        ],
        [
         122.69999999999999,
         7,
         63,
         0,
         0,
         2,
         1
        ],
        [
         117.24000000000001,
         3,
         85,
         0,
         0,
         2,
         1
        ],
        [
         1281.53,
         36,
         54,
         0,
         1,
         2,
         1
        ],
        [
         1191.1299999999999,
         65,
         2,
         1,
         1,
         2,
         1
        ],
        [
         2674.479999999998,
         142,
         10,
         1,
         1,
         1,
         2
        ],
        [
         787.6000000000001,
         59,
         6,
         0,
         0,
         2,
         1
        ],
        [
         506.8000000000001,
         28,
         188,
         0,
         0,
         0,
         0
        ],
        [
         243.56000000000003,
         16,
         70,
         0,
         0,
         2,
         1
        ],
        [
         349.54999999999995,
         19,
         203,
         0,
         0,
         0,
         0
        ],
        [
         605.63,
         40,
         119,
         0,
         0,
         2,
         0
        ],
        [
         416.9,
         15,
         92,
         0,
         0,
         2,
         1
        ],
        [
         1883.8099999999995,
         110,
         0,
         1,
         1,
         1,
         2
        ],
        [
         632.97,
         27,
         26,
         0,
         0,
         2,
         1
        ],
        [
         821.1,
         21,
         297,
         0,
         0,
         0,
         0
        ],
        [
         564.62,
         27,
         23,
         0,
         0,
         2,
         1
        ],
        [
         2593.0699999999993,
         118,
         27,
         1,
         1,
         1,
         2
        ],
        [
         311.15999999999997,
         17,
         49,
         0,
         0,
         2,
         1
        ],
        [
         155.93,
         12,
         325,
         0,
         0,
         0,
         0
        ],
        [
         388.52000000000004,
         19,
         15,
         0,
         0,
         2,
         1
        ],
        [
         740.9499999999997,
         43,
         182,
         0,
         0,
         0,
         0
        ],
        [
         2867.2,
         149,
         71,
         1,
         1,
         1,
         2
        ],
        [
         332.63999999999993,
         26,
         36,
         0,
         0,
         2,
         1
        ],
        [
         2369.5499999999984,
         122,
         79,
         1,
         1,
         1,
         2
        ],
        [
         2580.909999999999,
         148,
         56,
         1,
         1,
         1,
         2
        ],
        [
         626.4499999999999,
         33,
         11,
         0,
         0,
         2,
         1
        ],
        [
         272.04,
         18,
         49,
         0,
         0,
         2,
         1
        ],
        [
         1212.8400000000001,
         30,
         49,
         0,
         1,
         2,
         1
        ],
        [
         384.81,
         28,
         58,
         0,
         0,
         2,
         1
        ],
        [
         351.13000000000005,
         20,
         53,
         0,
         0,
         2,
         1
        ],
        [
         1838.8500000000001,
         117,
         1,
         1,
         1,
         1,
         2
        ],
        [
         678.2499999999999,
         41,
         92,
         0,
         0,
         2,
         1
        ],
        [
         223.85000000000002,
         11,
         22,
         0,
         0,
         2,
         1
        ],
        [
         348.99,
         21,
         74,
         0,
         0,
         2,
         1
        ],
        [
         464.56999999999994,
         27,
         10,
         0,
         0,
         2,
         1
        ],
        [
         842.6500000000001,
         9,
         168,
         0,
         0,
         0,
         0
        ],
        [
         337.3399999999999,
         17,
         57,
         0,
         0,
         2,
         1
        ],
        [
         1237.5300000000002,
         58,
         95,
         1,
         1,
         2,
         1
        ],
        [
         307.4,
         16,
         294,
         0,
         0,
         0,
         0
        ],
        [
         608.7899999999998,
         23,
         108,
         0,
         0,
         2,
         1
        ],
        [
         922.0999999999997,
         31,
         263,
         0,
         0,
         0,
         0
        ],
        [
         376.58,
         26,
         179,
         0,
         0,
         0,
         0
        ],
        [
         158.85,
         9,
         168,
         0,
         0,
         0,
         0
        ],
        [
         71.66,
         7,
         34,
         0,
         0,
         2,
         1
        ],
        [
         568.5499999999998,
         45,
         22,
         0,
         0,
         2,
         1
        ],
        [
         839.1400000000002,
         49,
         16,
         0,
         0,
         2,
         1
        ],
        [
         561.57,
         11,
         78,
         0,
         0,
         2,
         1
        ],
        [
         90.6,
         5,
         64,
         0,
         0,
         2,
         1
        ],
        [
         2427.3199999999974,
         160,
         2,
         1,
         1,
         1,
         3
        ],
        [
         745.0600000000001,
         35,
         10,
         0,
         0,
         2,
         1
        ],
        [
         674.4499999999998,
         39,
         175,
         0,
         0,
         0,
         0
        ],
        [
         439.92,
         25,
         1,
         0,
         0,
         2,
         1
        ],
        [
         322.96,
         33,
         153,
         0,
         0,
         0,
         0
        ],
        [
         1026.4200000000003,
         152,
         4,
         1,
         1,
         1,
         3
        ],
        [
         598.1999999999999,
         92,
         78,
         0,
         1,
         2,
         1
        ],
        [
         230.22,
         12,
         20,
         0,
         0,
         2,
         1
        ],
        [
         169.55,
         11,
         21,
         0,
         0,
         2,
         1
        ],
        [
         664.54,
         35,
         307,
         0,
         0,
         0,
         0
        ],
        [
         80.7,
         2,
         145,
         0,
         0,
         0,
         1
        ],
        [
         2758.26,
         149,
         18,
         1,
         1,
         1,
         2
        ],
        [
         190.25000000000009,
         15,
         70,
         0,
         0,
         2,
         1
        ],
        [
         264.7,
         11,
         286,
         0,
         0,
         0,
         0
        ],
        [
         413.59,
         28,
         48,
         0,
         0,
         2,
         1
        ],
        [
         357.9800000000001,
         10,
         206,
         0,
         0,
         0,
         0
        ],
        [
         196.79,
         15,
         14,
         0,
         0,
         2,
         1
        ],
        [
         869.8700000000001,
         54,
         72,
         0,
         1,
         2,
         1
        ],
        [
         200.14000000000001,
         11,
         59,
         0,
         0,
         2,
         1
        ],
        [
         1871.81,
         111,
         38,
         1,
         1,
         1,
         2
        ],
        [
         2603.43,
         107,
         29,
         1,
         1,
         1,
         2
        ],
        [
         920.5100000000001,
         16,
         26,
         0,
         0,
         2,
         1
        ],
        [
         320.46000000000004,
         13,
         16,
         0,
         0,
         2,
         1
        ],
        [
         1266.0799999999997,
         41,
         65,
         0,
         1,
         2,
         1
        ],
        [
         311.3,
         16,
         212,
         0,
         0,
         0,
         0
        ],
        [
         855.9699999999999,
         84,
         11,
         1,
         1,
         2,
         1
        ],
        [
         76.8,
         5,
         29,
         0,
         0,
         2,
         1
        ],
        [
         2313.140000000001,
         155,
         3,
         1,
         1,
         1,
         3
        ],
        [
         1393.6899999999996,
         86,
         14,
         1,
         1,
         1,
         1
        ],
        [
         635.6600000000001,
         15,
         210,
         0,
         0,
         0,
         0
        ],
        [
         2043.08,
         39,
         45,
         1,
         1,
         1,
         2
        ],
        [
         529.73,
         47,
         133,
         0,
         0,
         2,
         0
        ],
        [
         2874.7200000000007,
         84,
         9,
         1,
         1,
         1,
         2
        ],
        [
         962.1899999999999,
         30,
         115,
         0,
         0,
         2,
         0
        ],
        [
         695.6099999999999,
         42,
         197,
         0,
         0,
         0,
         0
        ],
        [
         328.8,
         11,
         277,
         0,
         0,
         0,
         0
        ],
        [
         473.02,
         34,
         109,
         0,
         0,
         2,
         1
        ],
        [
         505.18000000000006,
         39,
         76,
         0,
         0,
         2,
         1
        ],
        [
         917.34,
         20,
         52,
         0,
         1,
         2,
         1
        ],
        [
         1421.6100000000004,
         66,
         46,
         1,
         1,
         1,
         1
        ],
        [
         642.8000000000001,
         39,
         16,
         0,
         0,
         2,
         1
        ],
        [
         631.9000000000001,
         22,
         154,
         0,
         0,
         0,
         0
        ],
        [
         440,
         28,
         224,
         0,
         0,
         0,
         0
        ],
        [
         584.0699999999998,
         31,
         6,
         0,
         0,
         2,
         1
        ],
        [
         327.7,
         16,
         121,
         0,
         0,
         2,
         1
        ],
        [
         104.82000000000002,
         6,
         60,
         0,
         0,
         2,
         1
        ],
        [
         467.65999999999997,
         15,
         62,
         0,
         0,
         2,
         1
        ],
        [
         651.8200000000002,
         89,
         21,
         1,
         1,
         2,
         1
        ],
        [
         1428.0200000000002,
         66,
         28,
         1,
         1,
         1,
         1
        ],
        [
         626.6499999999999,
         38,
         284,
         0,
         0,
         0,
         0
        ],
        [
         147.20000000000005,
         28,
         175,
         0,
         0,
         0,
         0
        ],
        [
         1560.379999999999,
         92,
         77,
         1,
         1,
         1,
         2
        ],
        [
         152.2,
         6,
         32,
         0,
         0,
         2,
         1
        ],
        [
         141.41,
         21,
         265,
         0,
         0,
         0,
         0
        ],
        [
         652.8199999999993,
         209,
         26,
         1,
         1,
         1,
         3
        ],
        [
         1659.75,
         6,
         108,
         0,
         1,
         2,
         1
        ],
        [
         154.98999999999998,
         14,
         283,
         0,
         0,
         0,
         0
        ],
        [
         1308.61,
         32,
         8,
         1,
         1,
         2,
         1
        ]
       ],
       "datasetInfos": [],
       "dbfsResultPath": null,
       "isJsonSchema": true,
       "metadata": {},
       "overflow": true,
       "plotOptions": {
        "customPlotOptions": {
         "scatterPlot": [
          {
           "key": "loess",
           "value": false
          },
          {
           "key": "bandwidth",
           "value": "0.3"
          }
         ]
        },
        "displayType": "scatterPlot",
        "pivotAggregation": "sum",
        "pivotColumns": [],
        "xColumns": [
         "km_labels_3"
        ],
        "yColumns": [
         "Monto",
         "Frecuencia",
         "Recencia"
        ]
       },
       "removedWidgets": [],
       "schema": [
        {
         "metadata": "{}",
         "name": "Monto",
         "type": "\"double\""
        },
        {
         "metadata": "{}",
         "name": "Frecuencia",
         "type": "\"long\""
        },
        {
         "metadata": "{}",
         "name": "Recencia",
         "type": "\"long\""
        },
        {
         "metadata": "{}",
         "name": "Cluster_kmeans",
         "type": "\"integer\""
        },
        {
         "metadata": "{}",
         "name": "Cluster_hc",
         "type": "\"long\""
        },
        {
         "metadata": "{}",
         "name": "km_labels_3",
         "type": "\"integer\""
        },
        {
         "metadata": "{}",
         "name": "hc_labels_4",
         "type": "\"long\""
        }
       ],
       "type": "table"
      }
     },
     "output_type": "display_data"
    }
   ],
   "source": [
    "#Kmean\n",
    "kmeans = KMeans(n_clusters = 3, \n",
    "                init = 'k-means++', \n",
    "                max_iter = 300, \n",
    "                n_init = 10, \n",
    "                random_state = 0)\n",
    "kmeans.fit(rfm_escalado)\n",
    "df_limpio_final['km_labels_3'] = kmeans.labels_\n",
    "display(df_limpio_final)"
   ]
  },
  {
   "cell_type": "code",
   "execution_count": 0,
   "metadata": {
    "application/vnd.databricks.v1+cell": {
     "cellMetadata": {},
     "inputWidgets": {},
     "nuid": "b60002c4-1f9f-42b2-b3f5-d6a17a96e85e",
     "showTitle": false,
     "tableResultSettingsMap": {},
     "title": ""
    },
    "jupyter": {
     "source_hidden": true
    }
   },
   "outputs": [
    {
     "data": {
      "text/html": [
       "<style scoped>\n",
       "  .table-result-container {\n",
       "    max-height: 300px;\n",
       "    overflow: auto;\n",
       "  }\n",
       "  table, th, td {\n",
       "    border: 1px solid black;\n",
       "    border-collapse: collapse;\n",
       "  }\n",
       "  th, td {\n",
       "    padding: 5px;\n",
       "  }\n",
       "  th {\n",
       "    text-align: left;\n",
       "  }\n",
       "</style><div class='table-result-container'><table class='table-result'><thead style='background-color: white'><tr><th>Monto</th><th>Frecuencia</th><th>Recencia</th><th>Cluster_kmeans</th><th>Cluster_hc</th><th>km_labels_3</th><th>hc_labels_4</th></tr></thead><tbody><tr><td>1797.24</td><td>31</td><td>74</td><td>1</td><td>1</td><td>1</td><td>2</td></tr><tr><td>1757.55</td><td>73</td><td>18</td><td>1</td><td>1</td><td>1</td><td>1</td></tr><tr><td>334.40000000000003</td><td>17</td><td>309</td><td>0</td><td>0</td><td>0</td><td>0</td></tr><tr><td>2506.040000000001</td><td>85</td><td>35</td><td>1</td><td>1</td><td>1</td><td>2</td></tr><tr><td>89.0</td><td>4</td><td>203</td><td>0</td><td>0</td><td>0</td><td>0</td></tr><tr><td>1079.4</td><td>58</td><td>231</td><td>0</td><td>0</td><td>0</td><td>0</td></tr><tr><td>459.4</td><td>13</td><td>213</td><td>0</td><td>0</td><td>0</td><td>0</td></tr><tr><td>2811.4300000000007</td><td>59</td><td>22</td><td>1</td><td>1</td><td>1</td><td>2</td></tr><tr><td>1168.06</td><td>19</td><td>1</td><td>0</td><td>1</td><td>2</td><td>1</td></tr><tr><td>2662.0600000000004</td><td>129</td><td>51</td><td>1</td><td>1</td><td>1</td><td>2</td></tr><tr><td>189.89999999999998</td><td>10</td><td>286</td><td>0</td><td>0</td><td>0</td><td>0</td></tr><tr><td>552.0</td><td>23</td><td>109</td><td>0</td><td>0</td><td>2</td><td>1</td></tr><tr><td>1313.1000000000001</td><td>85</td><td>7</td><td>1</td><td>1</td><td>1</td><td>1</td></tr><tr><td>641.38</td><td>22</td><td>290</td><td>0</td><td>0</td><td>0</td><td>0</td></tr><tr><td>168.9</td><td>11</td><td>3</td><td>0</td><td>0</td><td>2</td><td>1</td></tr><tr><td>1887.9600000000003</td><td>63</td><td>44</td><td>1</td><td>1</td><td>1</td><td>1</td></tr><tr><td>1298.0400000000002</td><td>52</td><td>71</td><td>1</td><td>1</td><td>2</td><td>1</td></tr><tr><td>364.6</td><td>14</td><td>310</td><td>0</td><td>0</td><td>0</td><td>0</td></tr><tr><td>742.93</td><td>33</td><td>24</td><td>0</td><td>0</td><td>2</td><td>1</td></tr><tr><td>457.5000000000001</td><td>17</td><td>10</td><td>0</td><td>0</td><td>2</td><td>1</td></tr><tr><td>1628.1199999999997</td><td>77</td><td>314</td><td>0</td><td>0</td><td>0</td><td>0</td></tr><tr><td>852.2399999999997</td><td>40</td><td>81</td><td>0</td><td>0</td><td>2</td><td>1</td></tr><tr><td>2724.81</td><td>104</td><td>21</td><td>1</td><td>1</td><td>1</td><td>2</td></tr><tr><td>1845.3100000000006</td><td>87</td><td>4</td><td>1</td><td>1</td><td>1</td><td>2</td></tr><tr><td>1850.5599999999997</td><td>99</td><td>184</td><td>1</td><td>1</td><td>1</td><td>0</td></tr><tr><td>585.2700000000001</td><td>27</td><td>28</td><td>0</td><td>0</td><td>2</td><td>1</td></tr><tr><td>2780.6600000000003</td><td>100</td><td>15</td><td>1</td><td>1</td><td>1</td><td>2</td></tr><tr><td>549.8399999999999</td><td>32</td><td>79</td><td>0</td><td>0</td><td>2</td><td>1</td></tr><tr><td>460.88999999999993</td><td>100</td><td>21</td><td>1</td><td>1</td><td>2</td><td>1</td></tr><tr><td>1582.6000000000004</td><td>64</td><td>71</td><td>1</td><td>1</td><td>1</td><td>1</td></tr><tr><td>1272.48</td><td>27</td><td>63</td><td>0</td><td>1</td><td>2</td><td>1</td></tr><tr><td>2409.9000000000005</td><td>126</td><td>35</td><td>1</td><td>1</td><td>1</td><td>2</td></tr><tr><td>1635.6599999999999</td><td>85</td><td>45</td><td>1</td><td>1</td><td>1</td><td>1</td></tr><tr><td>1108.65</td><td>59</td><td>118</td><td>0</td><td>0</td><td>2</td><td>1</td></tr><tr><td>84.3</td><td>5</td><td>302</td><td>0</td><td>0</td><td>0</td><td>0</td></tr><tr><td>225.6</td><td>11</td><td>322</td><td>0</td><td>0</td><td>0</td><td>0</td></tr><tr><td>427.7</td><td>5</td><td>49</td><td>0</td><td>0</td><td>2</td><td>1</td></tr><tr><td>1710.3900000000006</td><td>54</td><td>148</td><td>1</td><td>1</td><td>1</td><td>1</td></tr><tr><td>1708.1199999999997</td><td>77</td><td>49</td><td>1</td><td>1</td><td>1</td><td>1</td></tr><tr><td>2888.5500000000006</td><td>105</td><td>32</td><td>1</td><td>1</td><td>1</td><td>2</td></tr><tr><td>693.3299999999999</td><td>26</td><td>308</td><td>0</td><td>0</td><td>0</td><td>0</td></tr><tr><td>1226.8799999999999</td><td>61</td><td>74</td><td>1</td><td>1</td><td>2</td><td>1</td></tr><tr><td>758.0999999999999</td><td>38</td><td>66</td><td>0</td><td>0</td><td>2</td><td>1</td></tr><tr><td>562.41</td><td>18</td><td>216</td><td>0</td><td>0</td><td>0</td><td>0</td></tr><tr><td>668.5799999999997</td><td>34</td><td>112</td><td>0</td><td>0</td><td>2</td><td>0</td></tr><tr><td>600.3900000000001</td><td>29</td><td>63</td><td>0</td><td>0</td><td>2</td><td>1</td></tr><tr><td>807.0400000000002</td><td>45</td><td>15</td><td>0</td><td>0</td><td>2</td><td>1</td></tr><tr><td>803.5599999999998</td><td>39</td><td>95</td><td>0</td><td>0</td><td>2</td><td>0</td></tr><tr><td>1859.3100000000002</td><td>125</td><td>0</td><td>1</td><td>1</td><td>1</td><td>2</td></tr><tr><td>1760.9599999999998</td><td>30</td><td>162</td><td>0</td><td>1</td><td>0</td><td>0</td></tr><tr><td>777.1999999999999</td><td>36</td><td>77</td><td>0</td><td>0</td><td>2</td><td>1</td></tr><tr><td>582.7299999999999</td><td>30</td><td>194</td><td>0</td><td>0</td><td>0</td><td>0</td></tr><tr><td>825.8000000000002</td><td>31</td><td>21</td><td>0</td><td>0</td><td>2</td><td>1</td></tr><tr><td>256.4</td><td>11</td><td>42</td><td>0</td><td>0</td><td>2</td><td>1</td></tr><tr><td>806.14</td><td>50</td><td>84</td><td>0</td><td>0</td><td>2</td><td>1</td></tr><tr><td>509.01000000000005</td><td>16</td><td>99</td><td>0</td><td>0</td><td>2</td><td>1</td></tr><tr><td>2906.8500000000004</td><td>98</td><td>13</td><td>1</td><td>1</td><td>1</td><td>2</td></tr><tr><td>172.06</td><td>12</td><td>2</td><td>0</td><td>0</td><td>2</td><td>1</td></tr><tr><td>133.4</td><td>4</td><td>21</td><td>0</td><td>0</td><td>2</td><td>1</td></tr><tr><td>1002.3099999999998</td><td>57</td><td>57</td><td>0</td><td>1</td><td>2</td><td>1</td></tr><tr><td>476.49</td><td>26</td><td>242</td><td>0</td><td>0</td><td>0</td><td>0</td></tr><tr><td>449.4500000000001</td><td>22</td><td>43</td><td>0</td><td>0</td><td>2</td><td>1</td></tr><tr><td>197.88</td><td>8</td><td>155</td><td>0</td><td>0</td><td>0</td><td>0</td></tr><tr><td>430.57000000000005</td><td>22</td><td>16</td><td>0</td><td>0</td><td>2</td><td>1</td></tr><tr><td>707.0899999999999</td><td>43</td><td>133</td><td>0</td><td>0</td><td>2</td><td>0</td></tr><tr><td>2466.859999999997</td><td>90</td><td>72</td><td>1</td><td>1</td><td>1</td><td>2</td></tr><tr><td>2363.2299999999996</td><td>62</td><td>65</td><td>1</td><td>1</td><td>1</td><td>2</td></tr><tr><td>947.4000000000001</td><td>38</td><td>70</td><td>0</td><td>1</td><td>2</td><td>1</td></tr><tr><td>826.8800000000001</td><td>35</td><td>93</td><td>0</td><td>0</td><td>2</td><td>0</td></tr><tr><td>1189.5900000000001</td><td>62</td><td>18</td><td>1</td><td>1</td><td>2</td><td>1</td></tr><tr><td>1344.7799999999997</td><td>83</td><td>52</td><td>1</td><td>1</td><td>1</td><td>1</td></tr><tr><td>1212.0499999999997</td><td>29</td><td>9</td><td>0</td><td>1</td><td>2</td><td>1</td></tr><tr><td>742.1900000000002</td><td>47</td><td>16</td><td>0</td><td>0</td><td>2</td><td>1</td></tr><tr><td>729.54</td><td>38</td><td>187</td><td>0</td><td>0</td><td>0</td><td>0</td></tr><tr><td>723.38</td><td>36</td><td>53</td><td>0</td><td>0</td><td>2</td><td>1</td></tr><tr><td>680.9900000000002</td><td>36</td><td>3</td><td>0</td><td>0</td><td>2</td><td>1</td></tr><tr><td>527.2</td><td>31</td><td>10</td><td>0</td><td>0</td><td>2</td><td>1</td></tr><tr><td>2484.980000000001</td><td>75</td><td>16</td><td>1</td><td>1</td><td>1</td><td>2</td></tr><tr><td>1298.6599999999999</td><td>55</td><td>9</td><td>1</td><td>1</td><td>2</td><td>1</td></tr><tr><td>460.4000000000001</td><td>26</td><td>38</td><td>0</td><td>0</td><td>2</td><td>1</td></tr><tr><td>263.21</td><td>20</td><td>62</td><td>0</td><td>0</td><td>2</td><td>1</td></tr><tr><td>433.74</td><td>22</td><td>165</td><td>0</td><td>0</td><td>0</td><td>0</td></tr><tr><td>1246.1000000000006</td><td>77</td><td>15</td><td>1</td><td>1</td><td>1</td><td>1</td></tr><tr><td>1043.1</td><td>14</td><td>81</td><td>0</td><td>1</td><td>2</td><td>1</td></tr><tr><td>403.7</td><td>23</td><td>20</td><td>0</td><td>0</td><td>2</td><td>1</td></tr><tr><td>482.04999999999995</td><td>9</td><td>17</td><td>0</td><td>0</td><td>2</td><td>1</td></tr><tr><td>73.50000000000003</td><td>23</td><td>232</td><td>0</td><td>0</td><td>0</td><td>0</td></tr><tr><td>1304.81</td><td>21</td><td>133</td><td>0</td><td>1</td><td>2</td><td>1</td></tr><tr><td>398.27000000000004</td><td>69</td><td>25</td><td>0</td><td>1</td><td>2</td><td>1</td></tr><tr><td>176.5</td><td>7</td><td>283</td><td>0</td><td>0</td><td>0</td><td>0</td></tr><tr><td>982.57</td><td>33</td><td>142</td><td>0</td><td>0</td><td>2</td><td>0</td></tr><tr><td>138.03000000000006</td><td>34</td><td>65</td><td>0</td><td>0</td><td>2</td><td>1</td></tr><tr><td>612.2900000000001</td><td>35</td><td>112</td><td>0</td><td>0</td><td>2</td><td>0</td></tr><tr><td>1017.6800000000002</td><td>51</td><td>266</td><td>0</td><td>0</td><td>0</td><td>0</td></tr><tr><td>1312.06</td><td>26</td><td>77</td><td>0</td><td>0</td><td>2</td><td>1</td></tr><tr><td>2056.8899999999994</td><td>124</td><td>0</td><td>1</td><td>1</td><td>1</td><td>2</td></tr><tr><td>340.84</td><td>18</td><td>63</td><td>0</td><td>0</td><td>2</td><td>1</td></tr><tr><td>2634.26</td><td>152</td><td>78</td><td>1</td><td>1</td><td>1</td><td>2</td></tr><tr><td>599.6800000000001</td><td>38</td><td>142</td><td>0</td><td>0</td><td>2</td><td>0</td></tr><tr><td>192.72000000000003</td><td>12</td><td>38</td><td>0</td><td>0</td><td>2</td><td>1</td></tr><tr><td>1789.7700000000007</td><td>106</td><td>18</td><td>1</td><td>1</td><td>1</td><td>1</td></tr><tr><td>1316.6600000000005</td><td>71</td><td>0</td><td>1</td><td>1</td><td>1</td><td>1</td></tr><tr><td>348.71000000000004</td><td>18</td><td>81</td><td>0</td><td>0</td><td>2</td><td>1</td></tr><tr><td>1933.4800000000007</td><td>92</td><td>8</td><td>1</td><td>1</td><td>1</td><td>2</td></tr><tr><td>1662.2799999999993</td><td>66</td><td>59</td><td>1</td><td>1</td><td>1</td><td>1</td></tr><tr><td>125.22</td><td>17</td><td>14</td><td>0</td><td>0</td><td>2</td><td>1</td></tr><tr><td>349.83</td><td>16</td><td>29</td><td>0</td><td>0</td><td>2</td><td>1</td></tr><tr><td>1089.18</td><td>63</td><td>130</td><td>0</td><td>0</td><td>2</td><td>1</td></tr><tr><td>716.3500000000001</td><td>34</td><td>91</td><td>0</td><td>0</td><td>2</td><td>0</td></tr><tr><td>363.95</td><td>21</td><td>28</td><td>0</td><td>0</td><td>2</td><td>1</td></tr><tr><td>981.1800000000002</td><td>52</td><td>29</td><td>0</td><td>1</td><td>2</td><td>1</td></tr><tr><td>372.7</td><td>19</td><td>35</td><td>0</td><td>0</td><td>2</td><td>1</td></tr><tr><td>1000.3899999999999</td><td>50</td><td>74</td><td>0</td><td>1</td><td>2</td><td>1</td></tr><tr><td>1161.5</td><td>69</td><td>46</td><td>1</td><td>1</td><td>2</td><td>1</td></tr><tr><td>207.8</td><td>8</td><td>197</td><td>0</td><td>0</td><td>0</td><td>0</td></tr><tr><td>95.19999999999999</td><td>5</td><td>165</td><td>0</td><td>0</td><td>0</td><td>0</td></tr><tr><td>964.8299999999994</td><td>57</td><td>78</td><td>0</td><td>1</td><td>2</td><td>1</td></tr><tr><td>437.81999999999994</td><td>20</td><td>38</td><td>0</td><td>0</td><td>2</td><td>1</td></tr><tr><td>603.7099999999997</td><td>121</td><td>49</td><td>1</td><td>1</td><td>1</td><td>1</td></tr><tr><td>269.96000000000004</td><td>11</td><td>7</td><td>0</td><td>0</td><td>2</td><td>1</td></tr><tr><td>561.7099999999999</td><td>21</td><td>310</td><td>0</td><td>0</td><td>0</td><td>0</td></tr><tr><td>2134.01</td><td>105</td><td>4</td><td>1</td><td>1</td><td>1</td><td>2</td></tr><tr><td>238.85</td><td>16</td><td>302</td><td>0</td><td>0</td><td>0</td><td>0</td></tr><tr><td>456.9000000000001</td><td>21</td><td>260</td><td>0</td><td>0</td><td>0</td><td>0</td></tr><tr><td>145.92</td><td>9</td><td>288</td><td>0</td><td>0</td><td>0</td><td>0</td></tr><tr><td>351.65000000000003</td><td>19</td><td>85</td><td>0</td><td>0</td><td>2</td><td>1</td></tr><tr><td>519.6099999999999</td><td>34</td><td>39</td><td>0</td><td>0</td><td>2</td><td>1</td></tr><tr><td>1020.4200000000003</td><td>60</td><td>8</td><td>1</td><td>1</td><td>2</td><td>1</td></tr><tr><td>160.54</td><td>28</td><td>226</td><td>0</td><td>0</td><td>0</td><td>0</td></tr><tr><td>218.45000000000002</td><td>11</td><td>315</td><td>0</td><td>0</td><td>0</td><td>0</td></tr><tr><td>1315.8299999999997</td><td>88</td><td>35</td><td>1</td><td>1</td><td>1</td><td>1</td></tr><tr><td>657.8000000000003</td><td>147</td><td>34</td><td>1</td><td>1</td><td>1</td><td>1</td></tr><tr><td>2794.5099999999993</td><td>114</td><td>20</td><td>1</td><td>1</td><td>1</td><td>2</td></tr><tr><td>440.41999999999996</td><td>29</td><td>77</td><td>0</td><td>0</td><td>2</td><td>1</td></tr><tr><td>415.7</td><td>24</td><td>246</td><td>0</td><td>0</td><td>0</td><td>0</td></tr><tr><td>197.70999999999998</td><td>15</td><td>39</td><td>0</td><td>0</td><td>2</td><td>1</td></tr><tr><td>511.3599999999999</td><td>22</td><td>238</td><td>0</td><td>0</td><td>0</td><td>0</td></tr><tr><td>2338.1499999999996</td><td>96</td><td>3</td><td>1</td><td>1</td><td>1</td><td>2</td></tr><tr><td>2040.099999999999</td><td>87</td><td>233</td><td>1</td><td>1</td><td>1</td><td>0</td></tr><tr><td>196.94</td><td>11</td><td>16</td><td>0</td><td>0</td><td>2</td><td>1</td></tr><tr><td>144.0</td><td>4</td><td>7</td><td>0</td><td>0</td><td>2</td><td>1</td></tr><tr><td>214.9</td><td>10</td><td>38</td><td>0</td><td>0</td><td>2</td><td>1</td></tr><tr><td>646.6800000000001</td><td>35</td><td>28</td><td>0</td><td>0</td><td>2</td><td>1</td></tr><tr><td>452.84999999999985</td><td>26</td><td>316</td><td>0</td><td>0</td><td>0</td><td>0</td></tr><tr><td>437.59999999999997</td><td>18</td><td>91</td><td>0</td><td>0</td><td>2</td><td>1</td></tr><tr><td>418.09999999999997</td><td>21</td><td>108</td><td>0</td><td>0</td><td>2</td><td>1</td></tr><tr><td>618.27</td><td>27</td><td>50</td><td>0</td><td>0</td><td>2</td><td>1</td></tr><tr><td>1032.5800000000006</td><td>62</td><td>28</td><td>1</td><td>1</td><td>2</td><td>1</td></tr><tr><td>2599.0400000000004</td><td>64</td><td>28</td><td>1</td><td>1</td><td>1</td><td>2</td></tr><tr><td>577.0600000000001</td><td>28</td><td>189</td><td>0</td><td>0</td><td>0</td><td>0</td></tr><tr><td>153.12000000000003</td><td>12</td><td>58</td><td>0</td><td>0</td><td>2</td><td>1</td></tr><tr><td>739.1999999999999</td><td>2</td><td>21</td><td>0</td><td>0</td><td>2</td><td>1</td></tr><tr><td>254.17999999999995</td><td>16</td><td>78</td><td>0</td><td>0</td><td>2</td><td>1</td></tr><tr><td>1579.51</td><td>101</td><td>59</td><td>1</td><td>1</td><td>1</td><td>2</td></tr><tr><td>1126.8500000000001</td><td>60</td><td>77</td><td>1</td><td>1</td><td>2</td><td>1</td></tr><tr><td>2099.540000000001</td><td>106</td><td>22</td><td>1</td><td>1</td><td>1</td><td>2</td></tr><tr><td>1193.32</td><td>65</td><td>51</td><td>1</td><td>1</td><td>2</td><td>1</td></tr><tr><td>704.0400000000001</td><td>19</td><td>73</td><td>0</td><td>0</td><td>2</td><td>1</td></tr><tr><td>315.59999999999997</td><td>20</td><td>277</td><td>0</td><td>0</td><td>0</td><td>0</td></tr><tr><td>2291.1900000000005</td><td>105</td><td>1</td><td>1</td><td>1</td><td>1</td><td>2</td></tr><tr><td>713.3</td><td>32</td><td>94</td><td>0</td><td>0</td><td>2</td><td>0</td></tr><tr><td>355.5300000000002</td><td>42</td><td>28</td><td>0</td><td>0</td><td>2</td><td>1</td></tr><tr><td>177.31</td><td>11</td><td>21</td><td>0</td><td>0</td><td>2</td><td>1</td></tr><tr><td>1339.4099999999999</td><td>92</td><td>14</td><td>1</td><td>1</td><td>1</td><td>1</td></tr><tr><td>180.09999999999997</td><td>11</td><td>231</td><td>0</td><td>0</td><td>0</td><td>0</td></tr><tr><td>305.1</td><td>18</td><td>275</td><td>0</td><td>0</td><td>0</td><td>0</td></tr><tr><td>641.1300000000001</td><td>38</td><td>105</td><td>0</td><td>0</td><td>2</td><td>0</td></tr><tr><td>2683.8199999999997</td><td>86</td><td>211</td><td>1</td><td>1</td><td>1</td><td>2</td></tr><tr><td>786.4599999999998</td><td>41</td><td>3</td><td>0</td><td>0</td><td>2</td><td>1</td></tr><tr><td>1270.8799999999999</td><td>64</td><td>9</td><td>1</td><td>1</td><td>1</td><td>1</td></tr><tr><td>640.5000000000002</td><td>31</td><td>56</td><td>0</td><td>0</td><td>2</td><td>1</td></tr><tr><td>2163.9799999999996</td><td>101</td><td>58</td><td>1</td><td>1</td><td>1</td><td>2</td></tr><tr><td>1689.18</td><td>101</td><td>89</td><td>1</td><td>1</td><td>1</td><td>2</td></tr><tr><td>671.69</td><td>39</td><td>32</td><td>0</td><td>0</td><td>2</td><td>1</td></tr><tr><td>486.1</td><td>22</td><td>238</td><td>0</td><td>0</td><td>0</td><td>0</td></tr><tr><td>1174.58</td><td>53</td><td>23</td><td>1</td><td>1</td><td>2</td><td>1</td></tr><tr><td>185.9</td><td>10</td><td>114</td><td>0</td><td>0</td><td>2</td><td>1</td></tr><tr><td>1013.26</td><td>47</td><td>24</td><td>0</td><td>1</td><td>2</td><td>1</td></tr><tr><td>477.9100000000001</td><td>31</td><td>129</td><td>0</td><td>0</td><td>2</td><td>0</td></tr><tr><td>1775.1800000000005</td><td>73</td><td>33</td><td>1</td><td>1</td><td>1</td><td>1</td></tr><tr><td>1346.9700000000003</td><td>45</td><td>4</td><td>1</td><td>1</td><td>2</td><td>1</td></tr><tr><td>318.05</td><td>21</td><td>154</td><td>0</td><td>0</td><td>0</td><td>1</td></tr><tr><td>623.5099999999999</td><td>31</td><td>106</td><td>0</td><td>0</td><td>2</td><td>0</td></tr><tr><td>314.44</td><td>20</td><td>2</td><td>0</td><td>0</td><td>2</td><td>1</td></tr><tr><td>2209.8500000000004</td><td>43</td><td>148</td><td>1</td><td>1</td><td>1</td><td>0</td></tr><tr><td>601.98</td><td>38</td><td>10</td><td>0</td><td>0</td><td>2</td><td>1</td></tr><tr><td>1643.18</td><td>47</td><td>10</td><td>1</td><td>1</td><td>1</td><td>1</td></tr><tr><td>686.0500000000001</td><td>36</td><td>18</td><td>0</td><td>0</td><td>2</td><td>1</td></tr><tr><td>91.68</td><td>5</td><td>29</td><td>0</td><td>0</td><td>2</td><td>1</td></tr><tr><td>245.10000000000002</td><td>13</td><td>10</td><td>0</td><td>0</td><td>2</td><td>1</td></tr><tr><td>63.0</td><td>3</td><td>324</td><td>0</td><td>0</td><td>0</td><td>0</td></tr><tr><td>620.13</td><td>33</td><td>57</td><td>0</td><td>0</td><td>2</td><td>1</td></tr><tr><td>2744.0300000000007</td><td>101</td><td>150</td><td>1</td><td>1</td><td>1</td><td>2</td></tr><tr><td>610.52</td><td>42</td><td>4</td><td>0</td><td>0</td><td>2</td><td>1</td></tr><tr><td>1970.6000000000006</td><td>83</td><td>38</td><td>1</td><td>1</td><td>1</td><td>2</td></tr><tr><td>1331.3900000000006</td><td>45</td><td>24</td><td>1</td><td>1</td><td>2</td><td>1</td></tr><tr><td>1113.0200000000002</td><td>48</td><td>58</td><td>0</td><td>1</td><td>2</td><td>1</td></tr><tr><td>862.81</td><td>52</td><td>0</td><td>0</td><td>0</td><td>2</td><td>1</td></tr><tr><td>2283.6299999999997</td><td>105</td><td>7</td><td>1</td><td>1</td><td>1</td><td>2</td></tr><tr><td>2863.0800000000004</td><td>157</td><td>27</td><td>1</td><td>1</td><td>1</td><td>3</td></tr><tr><td>1247.61</td><td>72</td><td>25</td><td>1</td><td>1</td><td>1</td><td>1</td></tr><tr><td>389.00999999999993</td><td>16</td><td>205</td><td>0</td><td>0</td><td>0</td><td>0</td></tr><tr><td>1035.8</td><td>32</td><td>27</td><td>0</td><td>1</td><td>2</td><td>1</td></tr><tr><td>855.9099999999997</td><td>39</td><td>126</td><td>0</td><td>0</td><td>2</td><td>0</td></tr><tr><td>869.6699999999998</td><td>37</td><td>69</td><td>0</td><td>1</td><td>2</td><td>1</td></tr><tr><td>582.1</td><td>27</td><td>6</td><td>0</td><td>0</td><td>2</td><td>1</td></tr><tr><td>957.5899999999999</td><td>41</td><td>28</td><td>0</td><td>1</td><td>2</td><td>1</td></tr><tr><td>797.7099999999999</td><td>53</td><td>79</td><td>0</td><td>0</td><td>2</td><td>1</td></tr><tr><td>219.0</td><td>12</td><td>19</td><td>0</td><td>0</td><td>2</td><td>1</td></tr><tr><td>283.54999999999995</td><td>21</td><td>70</td><td>0</td><td>0</td><td>2</td><td>1</td></tr><tr><td>2340.84</td><td>88</td><td>6</td><td>1</td><td>1</td><td>1</td><td>2</td></tr><tr><td>603.42</td><td>33</td><td>291</td><td>0</td><td>0</td><td>0</td><td>0</td></tr><tr><td>2712.9100000000008</td><td>157</td><td>29</td><td>1</td><td>1</td><td>1</td><td>3</td></tr><tr><td>1149.0200000000007</td><td>77</td><td>96</td><td>1</td><td>1</td><td>1</td><td>1</td></tr><tr><td>848.5499999999998</td><td>38</td><td>0</td><td>0</td><td>1</td><td>2</td><td>1</td></tr><tr><td>353.85999999999996</td><td>21</td><td>105</td><td>0</td><td>0</td><td>2</td><td>1</td></tr><tr><td>1053.4899999999996</td><td>69</td><td>3</td><td>1</td><td>1</td><td>2</td><td>1</td></tr><tr><td>1030.98</td><td>55</td><td>150</td><td>0</td><td>0</td><td>2</td><td>0</td></tr><tr><td>238.25000000000003</td><td>19</td><td>70</td><td>0</td><td>0</td><td>2</td><td>1</td></tr><tr><td>644.9499999999999</td><td>39</td><td>4</td><td>0</td><td>0</td><td>2</td><td>1</td></tr><tr><td>2656.130000000001</td><td>161</td><td>31</td><td>1</td><td>1</td><td>1</td><td>3</td></tr><tr><td>997.6299999999999</td><td>53</td><td>84</td><td>0</td><td>1</td><td>2</td><td>1</td></tr><tr><td>725.0699999999998</td><td>69</td><td>3</td><td>1</td><td>1</td><td>2</td><td>1</td></tr><tr><td>1031.4099999999999</td><td>53</td><td>4</td><td>1</td><td>1</td><td>2</td><td>1</td></tr><tr><td>2609.1000000000004</td><td>124</td><td>27</td><td>1</td><td>1</td><td>1</td><td>2</td></tr><tr><td>836.3299999999999</td><td>46</td><td>70</td><td>0</td><td>0</td><td>2</td><td>1</td></tr><tr><td>453.0100000000001</td><td>26</td><td>113</td><td>0</td><td>0</td><td>2</td><td>1</td></tr><tr><td>236.2600000000001</td><td>12</td><td>179</td><td>0</td><td>0</td><td>0</td><td>0</td></tr><tr><td>383.95</td><td>22</td><td>233</td><td>0</td><td>0</td><td>0</td><td>0</td></tr><tr><td>779.5699999999998</td><td>43</td><td>314</td><td>0</td><td>0</td><td>0</td><td>0</td></tr><tr><td>1013.0400000000001</td><td>38</td><td>77</td><td>0</td><td>1</td><td>2</td><td>1</td></tr><tr><td>427.5999999999999</td><td>27</td><td>63</td><td>0</td><td>0</td><td>2</td><td>1</td></tr><tr><td>546.4299999999997</td><td>134</td><td>133</td><td>1</td><td>1</td><td>1</td><td>0</td></tr><tr><td>275.88</td><td>15</td><td>128</td><td>0</td><td>0</td><td>2</td><td>1</td></tr><tr><td>112.08000000000001</td><td>4</td><td>86</td><td>0</td><td>0</td><td>2</td><td>1</td></tr><tr><td>2791.590000000001</td><td>97</td><td>116</td><td>1</td><td>1</td><td>1</td><td>2</td></tr><tr><td>1531.4400000000007</td><td>95</td><td>51</td><td>1</td><td>1</td><td>1</td><td>2</td></tr><tr><td>1898.5200000000004</td><td>69</td><td>7</td><td>1</td><td>1</td><td>1</td><td>1</td></tr><tr><td>494.08</td><td>18</td><td>137</td><td>0</td><td>0</td><td>0</td><td>1</td></tr><tr><td>1693.8800000000003</td><td>45</td><td>316</td><td>0</td><td>0</td><td>0</td><td>0</td></tr><tr><td>1143.6000000000001</td><td>32</td><td>238</td><td>0</td><td>0</td><td>0</td><td>0</td></tr><tr><td>1351.4499999999998</td><td>12</td><td>210</td><td>0</td><td>1</td><td>0</td><td>0</td></tr><tr><td>892.4700000000004</td><td>55</td><td>59</td><td>0</td><td>1</td><td>2</td><td>1</td></tr><tr><td>1386.0400000000004</td><td>66</td><td>16</td><td>1</td><td>1</td><td>1</td><td>1</td></tr><tr><td>822.2300000000001</td><td>50</td><td>19</td><td>0</td><td>0</td><td>2</td><td>1</td></tr><tr><td>826.7400000000001</td><td>25</td><td>63</td><td>0</td><td>0</td><td>2</td><td>1</td></tr><tr><td>2330.9200000000014</td><td>103</td><td>4</td><td>1</td><td>1</td><td>1</td><td>2</td></tr><tr><td>2225.91</td><td>84</td><td>1</td><td>1</td><td>1</td><td>1</td><td>2</td></tr><tr><td>574.42</td><td>59</td><td>8</td><td>0</td><td>0</td><td>2</td><td>1</td></tr><tr><td>463.65999999999997</td><td>20</td><td>9</td><td>0</td><td>0</td><td>2</td><td>1</td></tr><tr><td>91.85000000000001</td><td>4</td><td>64</td><td>0</td><td>0</td><td>2</td><td>1</td></tr><tr><td>324.9200000000001</td><td>21</td><td>191</td><td>0</td><td>0</td><td>0</td><td>0</td></tr><tr><td>400.54</td><td>25</td><td>256</td><td>0</td><td>0</td><td>0</td><td>0</td></tr><tr><td>860.4099999999999</td><td>45</td><td>52</td><td>0</td><td>1</td><td>2</td><td>1</td></tr><tr><td>430.4800000000001</td><td>14</td><td>18</td><td>0</td><td>0</td><td>2</td><td>1</td></tr><tr><td>427.5799999999999</td><td>25</td><td>186</td><td>0</td><td>0</td><td>0</td><td>0</td></tr><tr><td>483.65000000000015</td><td>28</td><td>36</td><td>0</td><td>0</td><td>2</td><td>1</td></tr><tr><td>489.31</td><td>25</td><td>177</td><td>0</td><td>0</td><td>0</td><td>0</td></tr><tr><td>514.85</td><td>31</td><td>260</td><td>0</td><td>0</td><td>0</td><td>0</td></tr><tr><td>229.63999999999993</td><td>15</td><td>44</td><td>0</td><td>0</td><td>2</td><td>1</td></tr><tr><td>125.92</td><td>2</td><td>101</td><td>0</td><td>0</td><td>2</td><td>1</td></tr><tr><td>1063.46</td><td>47</td><td>147</td><td>0</td><td>0</td><td>2</td><td>0</td></tr><tr><td>572.2</td><td>29</td><td>95</td><td>0</td><td>0</td><td>2</td><td>1</td></tr><tr><td>166.04</td><td>4</td><td>280</td><td>0</td><td>0</td><td>0</td><td>0</td></tr><tr><td>1542.08</td><td>14</td><td>261</td><td>0</td><td>0</td><td>0</td><td>0</td></tr><tr><td>942.3399999999999</td><td>59</td><td>2</td><td>1</td><td>1</td><td>2</td><td>1</td></tr><tr><td>92.72</td><td>6</td><td>213</td><td>0</td><td>0</td><td>0</td><td>0</td></tr><tr><td>948.8799999999999</td><td>46</td><td>70</td><td>0</td><td>1</td><td>2</td><td>1</td></tr><tr><td>1759.5</td><td>5</td><td>74</td><td>0</td><td>1</td><td>2</td><td>2</td></tr><tr><td>397.11999999999995</td><td>25</td><td>59</td><td>0</td><td>0</td><td>2</td><td>1</td></tr><tr><td>1474.7199999999993</td><td>91</td><td>2</td><td>1</td><td>1</td><td>1</td><td>1</td></tr><tr><td>430.15</td><td>25</td><td>5</td><td>0</td><td>0</td><td>2</td><td>1</td></tr><tr><td>1018.7100000000003</td><td>56</td><td>2</td><td>1</td><td>1</td><td>2</td><td>1</td></tr><tr><td>215.05</td><td>9</td><td>261</td><td>0</td><td>0</td><td>0</td><td>0</td></tr><tr><td>383.03000000000003</td><td>27</td><td>31</td><td>0</td><td>0</td><td>2</td><td>1</td></tr><tr><td>417.37999999999994</td><td>24</td><td>144</td><td>0</td><td>0</td><td>0</td><td>1</td></tr><tr><td>312.38</td><td>18</td><td>282</td><td>0</td><td>0</td><td>0</td><td>0</td></tr><tr><td>2612.8599999999988</td><td>175</td><td>58</td><td>1</td><td>1</td><td>1</td><td>3</td></tr><tr><td>134.1</td><td>12</td><td>172</td><td>0</td><td>0</td><td>0</td><td>0</td></tr><tr><td>683.1299999999994</td><td>123</td><td>33</td><td>1</td><td>1</td><td>1</td><td>1</td></tr><tr><td>2726.769999999999</td><td>113</td><td>143</td><td>1</td><td>1</td><td>1</td><td>2</td></tr><tr><td>1118.99</td><td>34</td><td>69</td><td>0</td><td>1</td><td>2</td><td>1</td></tr><tr><td>1702.26</td><td>103</td><td>65</td><td>1</td><td>1</td><td>1</td><td>2</td></tr><tr><td>325.9599999999999</td><td>52</td><td>28</td><td>0</td><td>0</td><td>2</td><td>1</td></tr><tr><td>354.09000000000003</td><td>27</td><td>266</td><td>0</td><td>0</td><td>0</td><td>0</td></tr><tr><td>871.5399999999998</td><td>91</td><td>21</td><td>1</td><td>1</td><td>2</td><td>1</td></tr><tr><td>1050.8899999999999</td><td>51</td><td>30</td><td>1</td><td>1</td><td>2</td><td>1</td></tr><tr><td>135.17999999999995</td><td>50</td><td>96</td><td>0</td><td>0</td><td>2</td><td>1</td></tr><tr><td>311.54999999999995</td><td>17</td><td>294</td><td>0</td><td>0</td><td>0</td><td>0</td></tr><tr><td>1957.1</td><td>78</td><td>134</td><td>1</td><td>1</td><td>1</td><td>2</td></tr><tr><td>1324.5000000000007</td><td>110</td><td>78</td><td>1</td><td>1</td><td>1</td><td>1</td></tr><tr><td>1106.4000000000003</td><td>46</td><td>210</td><td>0</td><td>0</td><td>0</td><td>0</td></tr><tr><td>521.2</td><td>5</td><td>51</td><td>0</td><td>0</td><td>2</td><td>1</td></tr><tr><td>147.12</td><td>3</td><td>137</td><td>0</td><td>0</td><td>0</td><td>1</td></tr><tr><td>1568.229999999999</td><td>95</td><td>25</td><td>1</td><td>1</td><td>1</td><td>1</td></tr><tr><td>559.1199999999999</td><td>26</td><td>282</td><td>0</td><td>0</td><td>0</td><td>0</td></tr><tr><td>1607.0600000000009</td><td>107</td><td>185</td><td>1</td><td>1</td><td>1</td><td>0</td></tr><tr><td>380.64000000000004</td><td>11</td><td>83</td><td>0</td><td>0</td><td>2</td><td>1</td></tr><tr><td>599.9699999999998</td><td>66</td><td>326</td><td>0</td><td>0</td><td>0</td><td>0</td></tr><tr><td>374.0</td><td>4</td><td>281</td><td>0</td><td>0</td><td>0</td><td>0</td></tr><tr><td>343.2300000000001</td><td>2</td><td>142</td><td>0</td><td>0</td><td>0</td><td>1</td></tr><tr><td>2218.0200000000004</td><td>85</td><td>57</td><td>1</td><td>1</td><td>1</td><td>2</td></tr><tr><td>1535.7700000000007</td><td>154</td><td>3</td><td>1</td><td>1</td><td>1</td><td>3</td></tr><tr><td>854.9899999999999</td><td>47</td><td>235</td><td>0</td><td>0</td><td>0</td><td>0</td></tr><tr><td>573.22</td><td>10</td><td>44</td><td>0</td><td>0</td><td>2</td><td>1</td></tr><tr><td>298.0</td><td>7</td><td>275</td><td>0</td><td>0</td><td>0</td><td>0</td></tr><tr><td>1463.0399999999995</td><td>13</td><td>8</td><td>0</td><td>1</td><td>2</td><td>1</td></tr><tr><td>703.4700000000001</td><td>42</td><td>24</td><td>0</td><td>0</td><td>2</td><td>1</td></tr><tr><td>309.05000000000007</td><td>7</td><td>87</td><td>0</td><td>0</td><td>2</td><td>1</td></tr><tr><td>1175.2199999999996</td><td>71</td><td>62</td><td>1</td><td>1</td><td>2</td><td>1</td></tr><tr><td>1378.4</td><td>82</td><td>67</td><td>1</td><td>1</td><td>1</td><td>1</td></tr><tr><td>354.12</td><td>5</td><td>213</td><td>0</td><td>0</td><td>0</td><td>0</td></tr><tr><td>380.46999999999997</td><td>82</td><td>23</td><td>0</td><td>1</td><td>2</td><td>1</td></tr><tr><td>331.0</td><td>3</td><td>185</td><td>0</td><td>0</td><td>0</td><td>0</td></tr><tr><td>188.14</td><td>34</td><td>30</td><td>0</td><td>0</td><td>2</td><td>1</td></tr><tr><td>372.79999999999995</td><td>22</td><td>41</td><td>0</td><td>0</td><td>2</td><td>1</td></tr><tr><td>216.5</td><td>4</td><td>204</td><td>0</td><td>0</td><td>0</td><td>0</td></tr><tr><td>138.68</td><td>10</td><td>264</td><td>0</td><td>0</td><td>0</td><td>0</td></tr><tr><td>509.57999999999976</td><td>72</td><td>17</td><td>0</td><td>1</td><td>2</td><td>1</td></tr><tr><td>2919.809999999999</td><td>63</td><td>11</td><td>1</td><td>1</td><td>1</td><td>2</td></tr><tr><td>750.0</td><td>2</td><td>175</td><td>0</td><td>0</td><td>0</td><td>0</td></tr><tr><td>2178.67</td><td>91</td><td>39</td><td>1</td><td>1</td><td>1</td><td>2</td></tr><tr><td>1662.3</td><td>24</td><td>2</td><td>1</td><td>1</td><td>2</td><td>2</td></tr><tr><td>2483.6299999999997</td><td>50</td><td>4</td><td>1</td><td>1</td><td>1</td><td>2</td></tr><tr><td>363.65</td><td>22</td><td>148</td><td>0</td><td>0</td><td>0</td><td>1</td></tr><tr><td>594.0</td><td>2</td><td>127</td><td>0</td><td>0</td><td>2</td><td>0</td></tr><tr><td>1335.1899999999998</td><td>50</td><td>7</td><td>1</td><td>1</td><td>2</td><td>1</td></tr><tr><td>164.23000000000002</td><td>28</td><td>16</td><td>0</td><td>0</td><td>2</td><td>1</td></tr><tr><td>405.38</td><td>28</td><td>160</td><td>0</td><td>0</td><td>0</td><td>0</td></tr><tr><td>176.97</td><td>29</td><td>63</td><td>0</td><td>0</td><td>2</td><td>1</td></tr><tr><td>933.7000000000003</td><td>30</td><td>87</td><td>0</td><td>0</td><td>2</td><td>1</td></tr><tr><td>694.0499999999998</td><td>45</td><td>4</td><td>0</td><td>0</td><td>2</td><td>1</td></tr><tr><td>2062.6999999999994</td><td>84</td><td>34</td><td>1</td><td>1</td><td>1</td><td>2</td></tr><tr><td>117.85000000000001</td><td>8</td><td>311</td><td>0</td><td>0</td><td>0</td><td>0</td></tr><tr><td>415.8</td><td>25</td><td>77</td><td>0</td><td>0</td><td>2</td><td>1</td></tr><tr><td>607.5299999999999</td><td>106</td><td>23</td><td>1</td><td>1</td><td>2</td><td>1</td></tr><tr><td>2160.6999999999994</td><td>129</td><td>1</td><td>1</td><td>1</td><td>1</td><td>2</td></tr><tr><td>1063.9000000000005</td><td>62</td><td>16</td><td>1</td><td>1</td><td>2</td><td>1</td></tr><tr><td>1504.2700000000004</td><td>120</td><td>14</td><td>1</td><td>1</td><td>1</td><td>1</td></tr><tr><td>114.14</td><td>9</td><td>25</td><td>0</td><td>0</td><td>2</td><td>1</td></tr><tr><td>913.5400000000001</td><td>99</td><td>54</td><td>1</td><td>1</td><td>1</td><td>1</td></tr><tr><td>683.9000000000001</td><td>75</td><td>130</td><td>0</td><td>0</td><td>2</td><td>0</td></tr><tr><td>604.51</td><td>30</td><td>35</td><td>0</td><td>0</td><td>2</td><td>1</td></tr><tr><td>462.95000000000005</td><td>23</td><td>287</td><td>0</td><td>0</td><td>0</td><td>0</td></tr><tr><td>1603.9900000000002</td><td>97</td><td>143</td><td>1</td><td>1</td><td>1</td><td>2</td></tr><tr><td>2064.95</td><td>116</td><td>15</td><td>1</td><td>1</td><td>1</td><td>2</td></tr><tr><td>1843.0</td><td>23</td><td>1</td><td>1</td><td>1</td><td>2</td><td>2</td></tr><tr><td>1064.0700000000004</td><td>63</td><td>8</td><td>1</td><td>1</td><td>2</td><td>1</td></tr><tr><td>1387.7900000000004</td><td>79</td><td>5</td><td>1</td><td>1</td><td>1</td><td>1</td></tr><tr><td>329.84999999999997</td><td>17</td><td>9</td><td>0</td><td>0</td><td>2</td><td>1</td></tr><tr><td>108.07</td><td>19</td><td>305</td><td>0</td><td>0</td><td>0</td><td>0</td></tr><tr><td>266.39000000000004</td><td>16</td><td>6</td><td>0</td><td>0</td><td>2</td><td>1</td></tr><tr><td>1856.6299999999997</td><td>95</td><td>7</td><td>1</td><td>1</td><td>1</td><td>2</td></tr><tr><td>771.9099999999996</td><td>109</td><td>88</td><td>1</td><td>1</td><td>1</td><td>1</td></tr><tr><td>160.18</td><td>10</td><td>9</td><td>0</td><td>0</td><td>2</td><td>1</td></tr><tr><td>135.95</td><td>5</td><td>111</td><td>0</td><td>0</td><td>2</td><td>1</td></tr><tr><td>452.23999999999995</td><td>151</td><td>6</td><td>1</td><td>1</td><td>1</td><td>1</td></tr><tr><td>144.8</td><td>8</td><td>197</td><td>0</td><td>0</td><td>0</td><td>0</td></tr><tr><td>738.6</td><td>22</td><td>211</td><td>0</td><td>0</td><td>0</td><td>0</td></tr><tr><td>39.24</td><td>9</td><td>155</td><td>0</td><td>0</td><td>0</td><td>0</td></tr><tr><td>372.21999999999997</td><td>20</td><td>29</td><td>0</td><td>0</td><td>2</td><td>1</td></tr><tr><td>390.53999999999996</td><td>28</td><td>242</td><td>0</td><td>0</td><td>0</td><td>0</td></tr><tr><td>97.5</td><td>4</td><td>18</td><td>0</td><td>0</td><td>2</td><td>1</td></tr><tr><td>1239.38</td><td>76</td><td>0</td><td>1</td><td>1</td><td>1</td><td>1</td></tr><tr><td>558.7</td><td>28</td><td>73</td><td>0</td><td>0</td><td>2</td><td>1</td></tr><tr><td>535.32</td><td>92</td><td>291</td><td>0</td><td>0</td><td>0</td><td>0</td></tr><tr><td>409.50000000000006</td><td>13</td><td>30</td><td>0</td><td>0</td><td>2</td><td>1</td></tr><tr><td>503.76</td><td>31</td><td>22</td><td>0</td><td>0</td><td>2</td><td>1</td></tr><tr><td>414.75999999999993</td><td>27</td><td>22</td><td>0</td><td>0</td><td>2</td><td>1</td></tr><tr><td>974.42</td><td>61</td><td>3</td><td>1</td><td>1</td><td>2</td><td>1</td></tr><tr><td>211.32</td><td>3</td><td>84</td><td>0</td><td>0</td><td>2</td><td>1</td></tr><tr><td>1226.89</td><td>59</td><td>21</td><td>1</td><td>1</td><td>2</td><td>1</td></tr><tr><td>455.8799999999999</td><td>28</td><td>195</td><td>0</td><td>0</td><td>0</td><td>0</td></tr><tr><td>534.8500000000001</td><td>31</td><td>106</td><td>0</td><td>0</td><td>2</td><td>1</td></tr><tr><td>120.94999999999999</td><td>7</td><td>317</td><td>0</td><td>0</td><td>0</td><td>0</td></tr><tr><td>149.05</td><td>6</td><td>105</td><td>0</td><td>0</td><td>2</td><td>1</td></tr><tr><td>513.7</td><td>26</td><td>173</td><td>0</td><td>0</td><td>0</td><td>0</td></tr><tr><td>81.57</td><td>4</td><td>55</td><td>0</td><td>0</td><td>2</td><td>1</td></tr><tr><td>229.47000000000003</td><td>14</td><td>322</td><td>0</td><td>0</td><td>0</td><td>0</td></tr><tr><td>1661.8400000000008</td><td>89</td><td>8</td><td>1</td><td>1</td><td>1</td><td>1</td></tr><tr><td>789.8899999999996</td><td>47</td><td>72</td><td>0</td><td>0</td><td>2</td><td>1</td></tr><tr><td>204.0</td><td>1</td><td>6</td><td>0</td><td>0</td><td>2</td><td>1</td></tr><tr><td>2616.38</td><td>131</td><td>3</td><td>1</td><td>1</td><td>1</td><td>2</td></tr><tr><td>689.9000000000001</td><td>40</td><td>63</td><td>0</td><td>0</td><td>2</td><td>1</td></tr><tr><td>975.3599999999998</td><td>40</td><td>0</td><td>0</td><td>1</td><td>2</td><td>1</td></tr><tr><td>661.32</td><td>45</td><td>22</td><td>0</td><td>0</td><td>2</td><td>1</td></tr><tr><td>1247.5</td><td>10</td><td>30</td><td>0</td><td>1</td><td>2</td><td>1</td></tr><tr><td>799.4800000000001</td><td>99</td><td>10</td><td>1</td><td>1</td><td>1</td><td>1</td></tr><tr><td>1010.1799999999997</td><td>71</td><td>51</td><td>1</td><td>1</td><td>2</td><td>1</td></tr><tr><td>642.77</td><td>37</td><td>54</td><td>0</td><td>0</td><td>2</td><td>1</td></tr><tr><td>921.8800000000002</td><td>27</td><td>73</td><td>0</td><td>0</td><td>2</td><td>1</td></tr><tr><td>881.07</td><td>48</td><td>137</td><td>0</td><td>0</td><td>2</td><td>0</td></tr><tr><td>908.46</td><td>28</td><td>79</td><td>0</td><td>0</td><td>2</td><td>1</td></tr><tr><td>676.9900000000001</td><td>43</td><td>8</td><td>0</td><td>0</td><td>2</td><td>1</td></tr><tr><td>516.4200000000001</td><td>13</td><td>272</td><td>0</td><td>0</td><td>0</td><td>0</td></tr><tr><td>560.4700000000001</td><td>33</td><td>290</td><td>0</td><td>0</td><td>0</td><td>0</td></tr><tr><td>305.28</td><td>18</td><td>98</td><td>0</td><td>0</td><td>2</td><td>1</td></tr><tr><td>629.31</td><td>35</td><td>30</td><td>0</td><td>0</td><td>2</td><td>1</td></tr><tr><td>1835.9099999999994</td><td>136</td><td>13</td><td>1</td><td>1</td><td>1</td><td>2</td></tr><tr><td>656.6800000000002</td><td>14</td><td>63</td><td>0</td><td>0</td><td>2</td><td>1</td></tr><tr><td>348.15000000000003</td><td>18</td><td>211</td><td>0</td><td>0</td><td>0</td><td>0</td></tr><tr><td>1214.41</td><td>76</td><td>77</td><td>1</td><td>1</td><td>1</td><td>1</td></tr><tr><td>271.4</td><td>8</td><td>24</td><td>0</td><td>0</td><td>2</td><td>1</td></tr><tr><td>183.4</td><td>8</td><td>249</td><td>0</td><td>0</td><td>0</td><td>0</td></tr><tr><td>307.53000000000003</td><td>15</td><td>253</td><td>0</td><td>0</td><td>0</td><td>0</td></tr><tr><td>248.61</td><td>10</td><td>71</td><td>0</td><td>0</td><td>2</td><td>1</td></tr><tr><td>346.98</td><td>11</td><td>190</td><td>0</td><td>0</td><td>0</td><td>0</td></tr><tr><td>1119.4900000000005</td><td>69</td><td>12</td><td>1</td><td>1</td><td>2</td><td>1</td></tr><tr><td>470.80000000000007</td><td>48</td><td>23</td><td>0</td><td>0</td><td>2</td><td>1</td></tr><tr><td>115.46000000000002</td><td>15</td><td>81</td><td>0</td><td>0</td><td>2</td><td>1</td></tr><tr><td>344.0</td><td>2</td><td>9</td><td>0</td><td>0</td><td>2</td><td>1</td></tr><tr><td>228.8</td><td>9</td><td>191</td><td>0</td><td>0</td><td>0</td><td>0</td></tr><tr><td>177.14999999999998</td><td>7</td><td>266</td><td>0</td><td>0</td><td>0</td><td>0</td></tr><tr><td>919.61</td><td>22</td><td>129</td><td>0</td><td>0</td><td>2</td><td>0</td></tr><tr><td>729.2700000000001</td><td>112</td><td>0</td><td>1</td><td>1</td><td>1</td><td>1</td></tr><tr><td>220.09999999999997</td><td>6</td><td>3</td><td>0</td><td>0</td><td>2</td><td>1</td></tr><tr><td>58.08</td><td>6</td><td>178</td><td>0</td><td>0</td><td>0</td><td>0</td></tr><tr><td>303.75</td><td>18</td><td>3</td><td>0</td><td>0</td><td>2</td><td>1</td></tr><tr><td>416.08000000000004</td><td>22</td><td>157</td><td>0</td><td>0</td><td>0</td><td>0</td></tr><tr><td>345.82</td><td>21</td><td>27</td><td>0</td><td>0</td><td>2</td><td>1</td></tr><tr><td>477.83</td><td>25</td><td>70</td><td>0</td><td>0</td><td>2</td><td>1</td></tr><tr><td>1927.3200000000002</td><td>24</td><td>20</td><td>1</td><td>1</td><td>1</td><td>2</td></tr><tr><td>74.4</td><td>6</td><td>70</td><td>0</td><td>0</td><td>2</td><td>1</td></tr><tr><td>207.35999999999999</td><td>1</td><td>98</td><td>0</td><td>0</td><td>2</td><td>1</td></tr><tr><td>101.18999999999998</td><td>8</td><td>233</td><td>0</td><td>0</td><td>0</td><td>0</td></tr><tr><td>243.94</td><td>8</td><td>39</td><td>0</td><td>0</td><td>2</td><td>1</td></tr><tr><td>1098.48</td><td>20</td><td>2</td><td>0</td><td>1</td><td>2</td><td>1</td></tr><tr><td>76.5</td><td>1</td><td>132</td><td>0</td><td>0</td><td>0</td><td>1</td></tr><tr><td>1531.6200000000003</td><td>58</td><td>43</td><td>1</td><td>1</td><td>1</td><td>1</td></tr><tr><td>786.5400000000001</td><td>47</td><td>59</td><td>0</td><td>0</td><td>2</td><td>1</td></tr><tr><td>1488.6700000000012</td><td>145</td><td>30</td><td>1</td><td>1</td><td>1</td><td>3</td></tr><tr><td>2294.7800000000007</td><td>120</td><td>11</td><td>1</td><td>1</td><td>1</td><td>2</td></tr><tr><td>501.14000000000004</td><td>30</td><td>137</td><td>0</td><td>0</td><td>2</td><td>0</td></tr><tr><td>984.9099999999996</td><td>76</td><td>21</td><td>1</td><td>1</td><td>2</td><td>1</td></tr><tr><td>1197.8099999999995</td><td>79</td><td>19</td><td>1</td><td>1</td><td>1</td><td>1</td></tr><tr><td>30.599999999999998</td><td>1</td><td>238</td><td>0</td><td>0</td><td>0</td><td>0</td></tr><tr><td>283.7299999999999</td><td>50</td><td>268</td><td>0</td><td>0</td><td>0</td><td>0</td></tr><tr><td>922.3900000000002</td><td>55</td><td>93</td><td>0</td><td>1</td><td>2</td><td>1</td></tr><tr><td>2099.6399999999994</td><td>140</td><td>4</td><td>1</td><td>1</td><td>1</td><td>2</td></tr><tr><td>259.16999999999996</td><td>15</td><td>77</td><td>0</td><td>0</td><td>2</td><td>1</td></tr><tr><td>64.0</td><td>2</td><td>93</td><td>0</td><td>0</td><td>2</td><td>1</td></tr><tr><td>1073.2999999999997</td><td>44</td><td>22</td><td>0</td><td>1</td><td>2</td><td>1</td></tr><tr><td>77.3</td><td>3</td><td>261</td><td>0</td><td>0</td><td>0</td><td>0</td></tr><tr><td>109.80000000000001</td><td>7</td><td>273</td><td>0</td><td>0</td><td>0</td><td>0</td></tr><tr><td>1793.58</td><td>98</td><td>85</td><td>1</td><td>1</td><td>1</td><td>2</td></tr><tr><td>2607.6099999999997</td><td>127</td><td>55</td><td>1</td><td>1</td><td>1</td><td>2</td></tr><tr><td>962.3900000000001</td><td>63</td><td>21</td><td>1</td><td>1</td><td>2</td><td>1</td></tr><tr><td>423.71999999999997</td><td>46</td><td>107</td><td>0</td><td>0</td><td>2</td><td>0</td></tr><tr><td>2388.7499999999995</td><td>135</td><td>84</td><td>1</td><td>1</td><td>1</td><td>2</td></tr><tr><td>307.0899999999999</td><td>23</td><td>18</td><td>0</td><td>0</td><td>2</td><td>1</td></tr><tr><td>618.52</td><td>6</td><td>39</td><td>0</td><td>0</td><td>2</td><td>1</td></tr><tr><td>228.91</td><td>17</td><td>25</td><td>0</td><td>0</td><td>2</td><td>1</td></tr><tr><td>712.8000000000001</td><td>4</td><td>9</td><td>0</td><td>0</td><td>2</td><td>1</td></tr><tr><td>1676.0599999999997</td><td>86</td><td>13</td><td>1</td><td>1</td><td>1</td><td>1</td></tr><tr><td>1257.8700000000003</td><td>74</td><td>295</td><td>0</td><td>0</td><td>0</td><td>0</td></tr><tr><td>486.22</td><td>15</td><td>5</td><td>0</td><td>0</td><td>2</td><td>1</td></tr><tr><td>971.76</td><td>85</td><td>32</td><td>1</td><td>1</td><td>1</td><td>1</td></tr><tr><td>1741.2199999999991</td><td>87</td><td>48</td><td>1</td><td>1</td><td>1</td><td>2</td></tr><tr><td>1201.0600000000004</td><td>79</td><td>94</td><td>1</td><td>1</td><td>1</td><td>1</td></tr><tr><td>1437.8500000000006</td><td>121</td><td>8</td><td>1</td><td>1</td><td>1</td><td>1</td></tr><tr><td>91.8</td><td>4</td><td>21</td><td>0</td><td>0</td><td>2</td><td>1</td></tr><tr><td>112.75</td><td>8</td><td>312</td><td>0</td><td>0</td><td>0</td><td>0</td></tr><tr><td>1688.2899999999995</td><td>79</td><td>121</td><td>1</td><td>1</td><td>1</td><td>2</td></tr><tr><td>1021.4799999999999</td><td>42</td><td>45</td><td>0</td><td>1</td><td>2</td><td>1</td></tr><tr><td>417.19999999999993</td><td>41</td><td>282</td><td>0</td><td>0</td><td>0</td><td>0</td></tr><tr><td>791.3300000000002</td><td>65</td><td>18</td><td>1</td><td>1</td><td>2</td><td>1</td></tr><tr><td>1319.19</td><td>131</td><td>35</td><td>1</td><td>1</td><td>1</td><td>3</td></tr><tr><td>712.88</td><td>13</td><td>63</td><td>0</td><td>0</td><td>2</td><td>1</td></tr><tr><td>116.01000000000002</td><td>32</td><td>26</td><td>0</td><td>0</td><td>2</td><td>1</td></tr><tr><td>468.4099999999999</td><td>46</td><td>21</td><td>0</td><td>0</td><td>2</td><td>1</td></tr><tr><td>353.65000000000003</td><td>43</td><td>3</td><td>0</td><td>0</td><td>2</td><td>1</td></tr><tr><td>492.8400000000001</td><td>72</td><td>45</td><td>0</td><td>0</td><td>2</td><td>1</td></tr><tr><td>282.45</td><td>17</td><td>64</td><td>0</td><td>0</td><td>2</td><td>1</td></tr><tr><td>121.17999999999999</td><td>11</td><td>44</td><td>0</td><td>0</td><td>2</td><td>1</td></tr><tr><td>1701.2900000000009</td><td>181</td><td>14</td><td>1</td><td>1</td><td>1</td><td>3</td></tr><tr><td>71.4</td><td>1</td><td>267</td><td>0</td><td>0</td><td>0</td><td>0</td></tr><tr><td>1575.8900000000003</td><td>79</td><td>39</td><td>1</td><td>1</td><td>1</td><td>1</td></tr><tr><td>114.60000000000001</td><td>2</td><td>10</td><td>0</td><td>0</td><td>2</td><td>1</td></tr><tr><td>260.68</td><td>29</td><td>18</td><td>0</td><td>0</td><td>2</td><td>1</td></tr><tr><td>911.9400000000002</td><td>63</td><td>94</td><td>0</td><td>1</td><td>2</td><td>1</td></tr><tr><td>117.88000000000001</td><td>29</td><td>60</td><td>0</td><td>0</td><td>2</td><td>1</td></tr><tr><td>60.7</td><td>3</td><td>135</td><td>0</td><td>0</td><td>0</td><td>1</td></tr><tr><td>1797.78</td><td>110</td><td>10</td><td>1</td><td>1</td><td>1</td><td>1</td></tr><tr><td>870.09</td><td>46</td><td>18</td><td>0</td><td>0</td><td>2</td><td>1</td></tr><tr><td>869.4599999999999</td><td>57</td><td>9</td><td>1</td><td>0</td><td>2</td><td>1</td></tr><tr><td>250.26000000000002</td><td>8</td><td>14</td><td>0</td><td>0</td><td>2</td><td>1</td></tr><tr><td>1223.8999999999999</td><td>149</td><td>58</td><td>1</td><td>1</td><td>1</td><td>3</td></tr><tr><td>353.47999999999996</td><td>22</td><td>93</td><td>0</td><td>0</td><td>2</td><td>1</td></tr><tr><td>1197.4199999999998</td><td>56</td><td>9</td><td>1</td><td>1</td><td>2</td><td>1</td></tr><tr><td>788.0799999999998</td><td>142</td><td>19</td><td>1</td><td>1</td><td>1</td><td>1</td></tr><tr><td>1520.5800000000004</td><td>90</td><td>56</td><td>1</td><td>1</td><td>1</td><td>2</td></tr><tr><td>333.74</td><td>5</td><td>267</td><td>0</td><td>0</td><td>0</td><td>0</td></tr><tr><td>533.98</td><td>4</td><td>121</td><td>0</td><td>0</td><td>2</td><td>0</td></tr><tr><td>62.64</td><td>5</td><td>126</td><td>0</td><td>0</td><td>0</td><td>1</td></tr><tr><td>819.29</td><td>21</td><td>77</td><td>0</td><td>0</td><td>2</td><td>1</td></tr><tr><td>847.4100000000001</td><td>66</td><td>239</td><td>0</td><td>0</td><td>0</td><td>0</td></tr><tr><td>163.20000000000002</td><td>5</td><td>199</td><td>0</td><td>0</td><td>0</td><td>0</td></tr><tr><td>2155.9499999999994</td><td>108</td><td>59</td><td>1</td><td>1</td><td>1</td><td>2</td></tr><tr><td>108.21000000000001</td><td>16</td><td>272</td><td>0</td><td>0</td><td>0</td><td>0</td></tr><tr><td>257.7</td><td>9</td><td>201</td><td>0</td><td>0</td><td>0</td><td>0</td></tr><tr><td>358.0</td><td>2</td><td>80</td><td>0</td><td>0</td><td>2</td><td>1</td></tr><tr><td>160.95</td><td>10</td><td>225</td><td>0</td><td>0</td><td>0</td><td>0</td></tr><tr><td>1357.6000000000015</td><td>207</td><td>12</td><td>1</td><td>1</td><td>1</td><td>3</td></tr><tr><td>605.1200000000001</td><td>43</td><td>73</td><td>0</td><td>0</td><td>2</td><td>1</td></tr><tr><td>1031.0699999999997</td><td>58</td><td>211</td><td>0</td><td>0</td><td>0</td><td>0</td></tr><tr><td>744.8500000000003</td><td>36</td><td>24</td><td>0</td><td>0</td><td>2</td><td>1</td></tr><tr><td>700.7300000000001</td><td>31</td><td>16</td><td>0</td><td>0</td><td>2</td><td>1</td></tr><tr><td>329.56</td><td>21</td><td>261</td><td>0</td><td>0</td><td>0</td><td>0</td></tr><tr><td>663.6500000000001</td><td>67</td><td>95</td><td>0</td><td>0</td><td>2</td><td>1</td></tr><tr><td>270.40000000000003</td><td>13</td><td>111</td><td>0</td><td>0</td><td>2</td><td>1</td></tr><tr><td>600.07</td><td>58</td><td>202</td><td>0</td><td>0</td><td>0</td><td>0</td></tr><tr><td>121.74000000000001</td><td>27</td><td>92</td><td>0</td><td>0</td><td>2</td><td>1</td></tr><tr><td>430.5</td><td>16</td><td>50</td><td>0</td><td>0</td><td>2</td><td>1</td></tr><tr><td>1987.3000000000009</td><td>141</td><td>17</td><td>1</td><td>1</td><td>1</td><td>2</td></tr><tr><td>501.12</td><td>25</td><td>17</td><td>0</td><td>0</td><td>2</td><td>1</td></tr><tr><td>465.6799999999999</td><td>26</td><td>124</td><td>0</td><td>0</td><td>2</td><td>1</td></tr><tr><td>711.41</td><td>23</td><td>91</td><td>0</td><td>0</td><td>2</td><td>1</td></tr><tr><td>1030.3999999999999</td><td>36</td><td>156</td><td>0</td><td>0</td><td>0</td><td>0</td></tr><tr><td>399.51</td><td>13</td><td>8</td><td>0</td><td>0</td><td>2</td><td>1</td></tr><tr><td>698.5799999999999</td><td>38</td><td>11</td><td>0</td><td>0</td><td>2</td><td>1</td></tr><tr><td>292.3199999999999</td><td>87</td><td>61</td><td>0</td><td>1</td><td>2</td><td>1</td></tr><tr><td>557.6200000000001</td><td>8</td><td>60</td><td>0</td><td>0</td><td>2</td><td>1</td></tr><tr><td>944.1</td><td>9</td><td>268</td><td>0</td><td>0</td><td>0</td><td>0</td></tr><tr><td>200.29000000000002</td><td>11</td><td>262</td><td>0</td><td>0</td><td>0</td><td>0</td></tr><tr><td>2107.6600000000008</td><td>91</td><td>52</td><td>1</td><td>1</td><td>1</td><td>2</td></tr><tr><td>217.3799999999999</td><td>96</td><td>36</td><td>0</td><td>1</td><td>2</td><td>1</td></tr><tr><td>276.56000000000006</td><td>15</td><td>30</td><td>0</td><td>0</td><td>2</td><td>1</td></tr><tr><td>138.97999999999996</td><td>16</td><td>112</td><td>0</td><td>0</td><td>2</td><td>1</td></tr><tr><td>590.93</td><td>30</td><td>63</td><td>0</td><td>0</td><td>2</td><td>1</td></tr><tr><td>258.4</td><td>8</td><td>15</td><td>0</td><td>0</td><td>2</td><td>1</td></tr><tr><td>542.73</td><td>46</td><td>40</td><td>0</td><td>0</td><td>2</td><td>1</td></tr><tr><td>137.75</td><td>9</td><td>77</td><td>0</td><td>0</td><td>2</td><td>1</td></tr><tr><td>814.8600000000001</td><td>85</td><td>121</td><td>0</td><td>0</td><td>2</td><td>0</td></tr><tr><td>1132.1399999999999</td><td>37</td><td>17</td><td>0</td><td>1</td><td>2</td><td>1</td></tr><tr><td>93.66</td><td>7</td><td>59</td><td>0</td><td>0</td><td>2</td><td>1</td></tr><tr><td>2709.1200000000003</td><td>187</td><td>22</td><td>1</td><td>1</td><td>1</td><td>3</td></tr><tr><td>361.10999999999996</td><td>42</td><td>155</td><td>0</td><td>0</td><td>0</td><td>0</td></tr><tr><td>578.9399999999999</td><td>31</td><td>38</td><td>0</td><td>0</td><td>2</td><td>1</td></tr><tr><td>873.7399999999998</td><td>54</td><td>189</td><td>0</td><td>0</td><td>0</td><td>0</td></tr><tr><td>87.4</td><td>5</td><td>136</td><td>0</td><td>0</td><td>0</td><td>1</td></tr><tr><td>2089.8500000000004</td><td>59</td><td>7</td><td>1</td><td>1</td><td>1</td><td>2</td></tr><tr><td>360.0</td><td>2</td><td>0</td><td>0</td><td>0</td><td>2</td><td>1</td></tr><tr><td>142.5</td><td>5</td><td>267</td><td>0</td><td>0</td><td>0</td><td>0</td></tr><tr><td>371.89000000000004</td><td>20</td><td>168</td><td>0</td><td>0</td><td>0</td><td>0</td></tr><tr><td>618.0899999999998</td><td>81</td><td>103</td><td>0</td><td>1</td><td>2</td><td>1</td></tr><tr><td>63.75</td><td>1</td><td>154</td><td>0</td><td>0</td><td>0</td><td>0</td></tr><tr><td>2000.8599999999992</td><td>81</td><td>3</td><td>1</td><td>1</td><td>1</td><td>2</td></tr><tr><td>15.0</td><td>1</td><td>119</td><td>0</td><td>0</td><td>2</td><td>1</td></tr><tr><td>1385.51</td><td>54</td><td>22</td><td>1</td><td>1</td><td>2</td><td>1</td></tr><tr><td>1456.7899999999993</td><td>107</td><td>6</td><td>1</td><td>1</td><td>1</td><td>1</td></tr><tr><td>1132.0300000000002</td><td>72</td><td>27</td><td>1</td><td>1</td><td>2</td><td>1</td></tr><tr><td>598.57</td><td>26</td><td>3</td><td>0</td><td>0</td><td>2</td><td>1</td></tr><tr><td>1555.3199999999993</td><td>78</td><td>21</td><td>1</td><td>1</td><td>1</td><td>1</td></tr><tr><td>775.9400000000002</td><td>62</td><td>1</td><td>1</td><td>0</td><td>2</td><td>1</td></tr><tr><td>2273.679999999999</td><td>124</td><td>65</td><td>1</td><td>1</td><td>1</td><td>2</td></tr><tr><td>640.76</td><td>20</td><td>0</td><td>0</td><td>0</td><td>2</td><td>1</td></tr><tr><td>1548.7000000000003</td><td>106</td><td>77</td><td>1</td><td>1</td><td>1</td><td>2</td></tr><tr><td>567.36</td><td>11</td><td>71</td><td>0</td><td>0</td><td>2</td><td>1</td></tr><tr><td>199.48</td><td>25</td><td>16</td><td>0</td><td>0</td><td>2</td><td>1</td></tr><tr><td>787.85</td><td>21</td><td>2</td><td>0</td><td>0</td><td>2</td><td>1</td></tr><tr><td>675.3</td><td>12</td><td>81</td><td>0</td><td>0</td><td>2</td><td>1</td></tr><tr><td>1308.48</td><td>17</td><td>315</td><td>0</td><td>0</td><td>0</td><td>0</td></tr><tr><td>789.0</td><td>17</td><td>31</td><td>0</td><td>0</td><td>2</td><td>1</td></tr><tr><td>1140.9299999999996</td><td>53</td><td>92</td><td>0</td><td>1</td><td>2</td><td>1</td></tr><tr><td>350.9</td><td>21</td><td>13</td><td>0</td><td>0</td><td>2</td><td>1</td></tr><tr><td>795.12</td><td>51</td><td>76</td><td>0</td><td>0</td><td>2</td><td>1</td></tr><tr><td>487.02</td><td>19</td><td>157</td><td>0</td><td>0</td><td>0</td><td>0</td></tr><tr><td>860.1200000000002</td><td>54</td><td>200</td><td>0</td><td>0</td><td>0</td><td>0</td></tr><tr><td>775.8499999999999</td><td>42</td><td>260</td><td>0</td><td>0</td><td>0</td><td>0</td></tr><tr><td>353.43</td><td>19</td><td>177</td><td>0</td><td>0</td><td>0</td><td>0</td></tr><tr><td>2543.720000000002</td><td>119</td><td>67</td><td>1</td><td>1</td><td>1</td><td>2</td></tr><tr><td>389.50000000000006</td><td>20</td><td>287</td><td>0</td><td>0</td><td>0</td><td>0</td></tr><tr><td>341.36</td><td>8</td><td>69</td><td>0</td><td>0</td><td>2</td><td>1</td></tr><tr><td>233.76</td><td>14</td><td>63</td><td>0</td><td>0</td><td>2</td><td>1</td></tr><tr><td>247.31999999999996</td><td>16</td><td>10</td><td>0</td><td>0</td><td>2</td><td>1</td></tr><tr><td>979.1199999999999</td><td>40</td><td>15</td><td>0</td><td>1</td><td>2</td><td>1</td></tr><tr><td>373.94</td><td>16</td><td>65</td><td>0</td><td>0</td><td>2</td><td>1</td></tr><tr><td>397.9800000000001</td><td>24</td><td>59</td><td>0</td><td>0</td><td>2</td><td>1</td></tr><tr><td>743.5300000000003</td><td>51</td><td>70</td><td>0</td><td>0</td><td>2</td><td>1</td></tr><tr><td>674.7</td><td>32</td><td>121</td><td>0</td><td>0</td><td>2</td><td>0</td></tr><tr><td>768.2400000000001</td><td>42</td><td>79</td><td>0</td><td>0</td><td>2</td><td>1</td></tr><tr><td>609.9500000000002</td><td>90</td><td>256</td><td>0</td><td>0</td><td>0</td><td>0</td></tr><tr><td>439.03000000000003</td><td>29</td><td>268</td><td>0</td><td>0</td><td>0</td><td>0</td></tr><tr><td>439.55999999999995</td><td>23</td><td>63</td><td>0</td><td>0</td><td>2</td><td>1</td></tr><tr><td>992.5000000000002</td><td>60</td><td>17</td><td>1</td><td>1</td><td>2</td><td>1</td></tr><tr><td>134.96</td><td>10</td><td>70</td><td>0</td><td>0</td><td>2</td><td>1</td></tr><tr><td>2225.3700000000013</td><td>128</td><td>33</td><td>1</td><td>1</td><td>1</td><td>2</td></tr><tr><td>56.160000000000004</td><td>1</td><td>49</td><td>0</td><td>0</td><td>2</td><td>1</td></tr><tr><td>623.4</td><td>29</td><td>256</td><td>0</td><td>0</td><td>0</td><td>0</td></tr><tr><td>378.64</td><td>23</td><td>89</td><td>0</td><td>0</td><td>2</td><td>1</td></tr><tr><td>778.6499999999997</td><td>37</td><td>88</td><td>0</td><td>0</td><td>2</td><td>0</td></tr><tr><td>1019.7600000000003</td><td>53</td><td>98</td><td>0</td><td>1</td><td>2</td><td>1</td></tr><tr><td>572.5599999999997</td><td>97</td><td>25</td><td>1</td><td>1</td><td>2</td><td>1</td></tr><tr><td>222.99</td><td>15</td><td>280</td><td>0</td><td>0</td><td>0</td><td>0</td></tr><tr><td>677.1000000000001</td><td>35</td><td>130</td><td>0</td><td>0</td><td>2</td><td>0</td></tr><tr><td>797.96</td><td>51</td><td>10</td><td>0</td><td>0</td><td>2</td><td>1</td></tr><tr><td>544.0799999999999</td><td>13</td><td>74</td><td>0</td><td>0</td><td>2</td><td>1</td></tr><tr><td>59.8</td><td>1</td><td>203</td><td>0</td><td>0</td><td>0</td><td>0</td></tr><tr><td>2520.0199999999995</td><td>155</td><td>1</td><td>1</td><td>1</td><td>1</td><td>3</td></tr><tr><td>307.72</td><td>21</td><td>184</td><td>0</td><td>0</td><td>0</td><td>0</td></tr><tr><td>1360.9899999999998</td><td>43</td><td>28</td><td>1</td><td>1</td><td>2</td><td>1</td></tr><tr><td>1544.1299999999997</td><td>38</td><td>72</td><td>1</td><td>1</td><td>2</td><td>2</td></tr><tr><td>457.3400000000001</td><td>26</td><td>191</td><td>0</td><td>0</td><td>0</td><td>0</td></tr><tr><td>621.2300000000002</td><td>39</td><td>126</td><td>0</td><td>0</td><td>2</td><td>0</td></tr><tr><td>75.0</td><td>3</td><td>17</td><td>0</td><td>0</td><td>2</td><td>1</td></tr><tr><td>252.48999999999998</td><td>11</td><td>0</td><td>0</td><td>0</td><td>2</td><td>1</td></tr><tr><td>572.4509999999999</td><td>27</td><td>73</td><td>0</td><td>0</td><td>2</td><td>1</td></tr><tr><td>1003.0600000000001</td><td>28</td><td>23</td><td>0</td><td>1</td><td>2</td><td>1</td></tr><tr><td>213.55000000000004</td><td>18</td><td>106</td><td>0</td><td>0</td><td>2</td><td>1</td></tr><tr><td>1390.5</td><td>24</td><td>133</td><td>0</td><td>1</td><td>2</td><td>1</td></tr><tr><td>712.5000000000001</td><td>19</td><td>43</td><td>0</td><td>0</td><td>2</td><td>1</td></tr><tr><td>640.83</td><td>28</td><td>4</td><td>0</td><td>0</td><td>2</td><td>1</td></tr><tr><td>221.05999999999995</td><td>16</td><td>63</td><td>0</td><td>0</td><td>2</td><td>1</td></tr><tr><td>159.85</td><td>8</td><td>149</td><td>0</td><td>0</td><td>0</td><td>0</td></tr><tr><td>1851.0799999999995</td><td>104</td><td>39</td><td>1</td><td>1</td><td>1</td><td>2</td></tr><tr><td>2626.3000000000006</td><td>127</td><td>63</td><td>1</td><td>1</td><td>1</td><td>2</td></tr><tr><td>1624.2099999999998</td><td>78</td><td>107</td><td>1</td><td>1</td><td>1</td><td>2</td></tr><tr><td>582.6</td><td>29</td><td>18</td><td>0</td><td>0</td><td>2</td><td>1</td></tr><tr><td>218.46999999999994</td><td>74</td><td>9</td><td>0</td><td>0</td><td>2</td><td>1</td></tr><tr><td>1006.8000000000001</td><td>67</td><td>10</td><td>1</td><td>1</td><td>2</td><td>1</td></tr><tr><td>679.45</td><td>49</td><td>18</td><td>0</td><td>0</td><td>2</td><td>1</td></tr><tr><td>1269.0999999999995</td><td>46</td><td>66</td><td>1</td><td>1</td><td>2</td><td>1</td></tr><tr><td>534.24</td><td>10</td><td>73</td><td>0</td><td>0</td><td>2</td><td>1</td></tr><tr><td>196.88999999999996</td><td>12</td><td>1</td><td>0</td><td>0</td><td>2</td><td>1</td></tr><tr><td>283.71</td><td>54</td><td>254</td><td>0</td><td>0</td><td>0</td><td>0</td></tr><tr><td>296.64000000000004</td><td>13</td><td>91</td><td>0</td><td>0</td><td>2</td><td>1</td></tr><tr><td>1129.14</td><td>59</td><td>22</td><td>1</td><td>1</td><td>2</td><td>1</td></tr><tr><td>291.88</td><td>19</td><td>23</td><td>0</td><td>0</td><td>2</td><td>1</td></tr><tr><td>2043.7200000000003</td><td>71</td><td>26</td><td>1</td><td>1</td><td>1</td><td>2</td></tr><tr><td>590.0</td><td>2</td><td>258</td><td>0</td><td>0</td><td>0</td><td>0</td></tr><tr><td>356.98</td><td>17</td><td>165</td><td>0</td><td>0</td><td>0</td><td>0</td></tr><tr><td>1058.34</td><td>46</td><td>24</td><td>0</td><td>1</td><td>2</td><td>1</td></tr><tr><td>1766.7199999999998</td><td>63</td><td>17</td><td>1</td><td>1</td><td>1</td><td>1</td></tr><tr><td>183.44</td><td>17</td><td>28</td><td>0</td><td>0</td><td>2</td><td>1</td></tr><tr><td>1445.0000000000002</td><td>27</td><td>38</td><td>1</td><td>1</td><td>2</td><td>1</td></tr><tr><td>151.5</td><td>9</td><td>252</td><td>0</td><td>0</td><td>0</td><td>0</td></tr><tr><td>674.6800000000002</td><td>41</td><td>57</td><td>0</td><td>0</td><td>2</td><td>1</td></tr><tr><td>307.90000000000003</td><td>17</td><td>183</td><td>0</td><td>0</td><td>0</td><td>0</td></tr><tr><td>1083.71</td><td>99</td><td>10</td><td>1</td><td>1</td><td>1</td><td>1</td></tr><tr><td>165.0</td><td>10</td><td>98</td><td>0</td><td>0</td><td>2</td><td>1</td></tr><tr><td>422.64</td><td>21</td><td>60</td><td>0</td><td>0</td><td>2</td><td>1</td></tr><tr><td>229.58999999999997</td><td>64</td><td>235</td><td>0</td><td>0</td><td>0</td><td>0</td></tr><tr><td>1431.7800000000009</td><td>86</td><td>190</td><td>1</td><td>1</td><td>1</td><td>0</td></tr><tr><td>1238.4699999999998</td><td>58</td><td>178</td><td>0</td><td>0</td><td>0</td><td>0</td></tr><tr><td>1454.579999999999</td><td>79</td><td>37</td><td>1</td><td>1</td><td>1</td><td>1</td></tr><tr><td>300.95</td><td>15</td><td>200</td><td>0</td><td>0</td><td>0</td><td>0</td></tr><tr><td>1804.5599999999993</td><td>109</td><td>45</td><td>1</td><td>1</td><td>1</td><td>2</td></tr><tr><td>184.64</td><td>11</td><td>231</td><td>0</td><td>0</td><td>0</td><td>0</td></tr><tr><td>140.34000000000003</td><td>10</td><td>65</td><td>0</td><td>0</td><td>2</td><td>1</td></tr><tr><td>313.79999999999995</td><td>8</td><td>240</td><td>0</td><td>0</td><td>0</td><td>0</td></tr><tr><td>454.24</td><td>23</td><td>232</td><td>0</td><td>0</td><td>0</td><td>0</td></tr><tr><td>1122.4099999999999</td><td>69</td><td>77</td><td>1</td><td>1</td><td>2</td><td>1</td></tr><tr><td>575.4000000000001</td><td>34</td><td>57</td><td>0</td><td>0</td><td>2</td><td>1</td></tr><tr><td>449.52</td><td>14</td><td>104</td><td>0</td><td>0</td><td>2</td><td>1</td></tr><tr><td>1215.82</td><td>86</td><td>51</td><td>1</td><td>1</td><td>1</td><td>1</td></tr><tr><td>1269.8400000000006</td><td>50</td><td>135</td><td>0</td><td>0</td><td>2</td><td>0</td></tr><tr><td>618.63</td><td>8</td><td>274</td><td>0</td><td>0</td><td>0</td><td>0</td></tr><tr><td>316.26</td><td>18</td><td>311</td><td>0</td><td>0</td><td>0</td><td>0</td></tr><tr><td>2044.8699999999997</td><td>48</td><td>7</td><td>1</td><td>1</td><td>1</td><td>2</td></tr><tr><td>653.3299999999999</td><td>35</td><td>10</td><td>0</td><td>0</td><td>2</td><td>1</td></tr><tr><td>348.04999999999995</td><td>19</td><td>282</td><td>0</td><td>0</td><td>0</td><td>0</td></tr><tr><td>1159.11</td><td>42</td><td>17</td><td>1</td><td>1</td><td>2</td><td>1</td></tr><tr><td>1166.7700000000002</td><td>65</td><td>22</td><td>1</td><td>1</td><td>2</td><td>1</td></tr><tr><td>1340.3199999999997</td><td>52</td><td>287</td><td>0</td><td>0</td><td>0</td><td>0</td></tr><tr><td>292.0</td><td>18</td><td>16</td><td>0</td><td>0</td><td>2</td><td>1</td></tr><tr><td>216.84999999999997</td><td>17</td><td>70</td><td>0</td><td>0</td><td>2</td><td>1</td></tr><tr><td>295.93</td><td>22</td><td>63</td><td>0</td><td>0</td><td>2</td><td>1</td></tr><tr><td>458.52000000000004</td><td>26</td><td>315</td><td>0</td><td>0</td><td>0</td><td>0</td></tr><tr><td>2479.159999999999</td><td>162</td><td>2</td><td>1</td><td>1</td><td>1</td><td>3</td></tr><tr><td>110.97</td><td>12</td><td>243</td><td>0</td><td>0</td><td>0</td><td>0</td></tr><tr><td>979.7200000000001</td><td>44</td><td>8</td><td>0</td><td>1</td><td>2</td><td>1</td></tr><tr><td>1791.5599999999984</td><td>115</td><td>0</td><td>1</td><td>1</td><td>1</td><td>2</td></tr><tr><td>251.20999999999998</td><td>15</td><td>260</td><td>0</td><td>0</td><td>0</td><td>0</td></tr><tr><td>205.09999999999997</td><td>10</td><td>126</td><td>0</td><td>0</td><td>2</td><td>1</td></tr><tr><td>152.20000000000002</td><td>4</td><td>73</td><td>0</td><td>0</td><td>2</td><td>1</td></tr><tr><td>891.1200000000002</td><td>59</td><td>72</td><td>0</td><td>1</td><td>2</td><td>1</td></tr><tr><td>1389.4100000000003</td><td>44</td><td>20</td><td>1</td><td>1</td><td>2</td><td>1</td></tr><tr><td>2128.42</td><td>141</td><td>59</td><td>1</td><td>1</td><td>1</td><td>2</td></tr><tr><td>659.4399999999998</td><td>38</td><td>85</td><td>0</td><td>0</td><td>2</td><td>1</td></tr><tr><td>122.75</td><td>8</td><td>77</td><td>0</td><td>0</td><td>2</td><td>1</td></tr><tr><td>125.80000000000001</td><td>5</td><td>29</td><td>0</td><td>0</td><td>2</td><td>1</td></tr><tr><td>680.1800000000001</td><td>27</td><td>40</td><td>0</td><td>0</td><td>2</td><td>1</td></tr><tr><td>628.78</td><td>6</td><td>14</td><td>0</td><td>0</td><td>2</td><td>1</td></tr><tr><td>2287.5100000000007</td><td>223</td><td>33</td><td>1</td><td>1</td><td>1</td><td>3</td></tr><tr><td>307.76</td><td>15</td><td>78</td><td>0</td><td>0</td><td>2</td><td>1</td></tr><tr><td>483.8000000000001</td><td>22</td><td>204</td><td>0</td><td>0</td><td>0</td><td>0</td></tr><tr><td>210.30999999999983</td><td>66</td><td>33</td><td>0</td><td>0</td><td>2</td><td>1</td></tr><tr><td>270.79000000000013</td><td>76</td><td>182</td><td>0</td><td>0</td><td>0</td><td>0</td></tr><tr><td>1280.85</td><td>25</td><td>42</td><td>0</td><td>1</td><td>2</td><td>1</td></tr><tr><td>631.3400000000001</td><td>37</td><td>85</td><td>0</td><td>0</td><td>2</td><td>1</td></tr><tr><td>291.4099999999999</td><td>87</td><td>39</td><td>0</td><td>1</td><td>2</td><td>1</td></tr><tr><td>626.9899999999999</td><td>98</td><td>11</td><td>1</td><td>1</td><td>2</td><td>1</td></tr><tr><td>682.41</td><td>124</td><td>95</td><td>1</td><td>1</td><td>1</td><td>1</td></tr><tr><td>918.1999999999998</td><td>51</td><td>25</td><td>0</td><td>1</td><td>2</td><td>1</td></tr><tr><td>91.80000000000001</td><td>4</td><td>318</td><td>0</td><td>0</td><td>0</td><td>0</td></tr><tr><td>584.0600000000001</td><td>34</td><td>27</td><td>0</td><td>0</td><td>2</td><td>1</td></tr><tr><td>605.0599999999998</td><td>175</td><td>5</td><td>1</td><td>1</td><td>1</td><td>3</td></tr><tr><td>174.37000000000003</td><td>33</td><td>6</td><td>0</td><td>0</td><td>2</td><td>1</td></tr><tr><td>141.86</td><td>14</td><td>215</td><td>0</td><td>0</td><td>0</td><td>0</td></tr><tr><td>1799.3299999999988</td><td>82</td><td>81</td><td>1</td><td>1</td><td>1</td><td>2</td></tr><tr><td>777.5300000000001</td><td>49</td><td>83</td><td>0</td><td>0</td><td>2</td><td>1</td></tr><tr><td>1749.0200000000004</td><td>83</td><td>143</td><td>1</td><td>1</td><td>1</td><td>2</td></tr><tr><td>240.22000000000006</td><td>38</td><td>18</td><td>0</td><td>0</td><td>2</td><td>1</td></tr><tr><td>874.7099999999997</td><td>176</td><td>40</td><td>1</td><td>1</td><td>1</td><td>3</td></tr><tr><td>192.85000000000005</td><td>44</td><td>172</td><td>0</td><td>0</td><td>0</td><td>0</td></tr><tr><td>373.74999999999994</td><td>85</td><td>16</td><td>0</td><td>1</td><td>2</td><td>1</td></tr><tr><td>239.49000000000004</td><td>27</td><td>242</td><td>0</td><td>0</td><td>0</td><td>0</td></tr><tr><td>1384.25</td><td>33</td><td>205</td><td>0</td><td>0</td><td>0</td><td>0</td></tr><tr><td>294.4</td><td>26</td><td>49</td><td>0</td><td>0</td><td>2</td><td>1</td></tr><tr><td>732.0699999999997</td><td>46</td><td>22</td><td>0</td><td>0</td><td>2</td><td>1</td></tr><tr><td>1687.5999999999988</td><td>83</td><td>24</td><td>1</td><td>1</td><td>1</td><td>1</td></tr><tr><td>467.03999999999996</td><td>23</td><td>14</td><td>0</td><td>0</td><td>2</td><td>1</td></tr><tr><td>117.99999999999999</td><td>10</td><td>308</td><td>0</td><td>0</td><td>0</td><td>0</td></tr><tr><td>781.0300000000002</td><td>53</td><td>155</td><td>0</td><td>0</td><td>0</td><td>0</td></tr><tr><td>142.40000000000003</td><td>24</td><td>306</td><td>0</td><td>0</td><td>0</td><td>0</td></tr><tr><td>712.4</td><td>8</td><td>63</td><td>0</td><td>0</td><td>2</td><td>1</td></tr><tr><td>2478.949999999998</td><td>174</td><td>15</td><td>1</td><td>1</td><td>1</td><td>3</td></tr><tr><td>379.65000000000003</td><td>21</td><td>14</td><td>0</td><td>0</td><td>2</td><td>1</td></tr><tr><td>1981.9199999999994</td><td>87</td><td>10</td><td>1</td><td>1</td><td>1</td><td>2</td></tr><tr><td>1117.1300000000003</td><td>58</td><td>64</td><td>1</td><td>1</td><td>2</td><td>1</td></tr><tr><td>247.95999999999995</td><td>16</td><td>35</td><td>0</td><td>0</td><td>2</td><td>1</td></tr><tr><td>2037.0800000000008</td><td>128</td><td>107</td><td>1</td><td>1</td><td>1</td><td>2</td></tr><tr><td>396.96999999999997</td><td>26</td><td>52</td><td>0</td><td>0</td><td>2</td><td>1</td></tr><tr><td>697.04</td><td>166</td><td>5</td><td>1</td><td>1</td><td>1</td><td>3</td></tr><tr><td>180.1700000000001</td><td>40</td><td>46</td><td>0</td><td>0</td><td>2</td><td>1</td></tr><tr><td>219.51999999999998</td><td>19</td><td>311</td><td>0</td><td>0</td><td>0</td><td>0</td></tr><tr><td>693.3200000000002</td><td>99</td><td>44</td><td>1</td><td>1</td><td>2</td><td>1</td></tr><tr><td>428.88999999999993</td><td>23</td><td>64</td><td>0</td><td>0</td><td>2</td><td>1</td></tr><tr><td>164.34</td><td>27</td><td>25</td><td>0</td><td>0</td><td>2</td><td>1</td></tr><tr><td>280.53999999999996</td><td>43</td><td>28</td><td>0</td><td>0</td><td>2</td><td>1</td></tr><tr><td>678.0099999999996</td><td>98</td><td>39</td><td>1</td><td>1</td><td>2</td><td>1</td></tr><tr><td>1131.8800000000006</td><td>226</td><td>11</td><td>1</td><td>1</td><td>1</td><td>3</td></tr><tr><td>1171.8000000000002</td><td>74</td><td>88</td><td>1</td><td>1</td><td>1</td><td>1</td></tr><tr><td>1610.460000000001</td><td>201</td><td>23</td><td>1</td><td>1</td><td>1</td><td>3</td></tr><tr><td>417.6900000000001</td><td>23</td><td>318</td><td>0</td><td>0</td><td>0</td><td>0</td></tr><tr><td>544.18</td><td>44</td><td>39</td><td>0</td><td>0</td><td>2</td><td>1</td></tr><tr><td>177.34000000000003</td><td>13</td><td>173</td><td>0</td><td>0</td><td>0</td><td>0</td></tr><tr><td>213.85</td><td>19</td><td>116</td><td>0</td><td>0</td><td>2</td><td>1</td></tr><tr><td>747.7800000000003</td><td>81</td><td>30</td><td>1</td><td>1</td><td>2</td><td>1</td></tr><tr><td>257.22999999999996</td><td>19</td><td>252</td><td>0</td><td>0</td><td>0</td><td>0</td></tr><tr><td>1638.4700000000003</td><td>92</td><td>58</td><td>1</td><td>1</td><td>1</td><td>1</td></tr><tr><td>2031.7800000000002</td><td>71</td><td>4</td><td>1</td><td>1</td><td>1</td><td>2</td></tr><tr><td>2121.27</td><td>146</td><td>24</td><td>1</td><td>1</td><td>1</td><td>2</td></tr><tr><td>1575.1600000000003</td><td>188</td><td>32</td><td>1</td><td>1</td><td>1</td><td>3</td></tr><tr><td>1071.0300000000002</td><td>62</td><td>67</td><td>1</td><td>1</td><td>2</td><td>1</td></tr><tr><td>949.1199999999999</td><td>63</td><td>36</td><td>1</td><td>1</td><td>2</td><td>1</td></tr><tr><td>810.4999999999998</td><td>101</td><td>51</td><td>1</td><td>1</td><td>1</td><td>1</td></tr><tr><td>122.64000000000001</td><td>8</td><td>15</td><td>0</td><td>0</td><td>2</td><td>1</td></tr><tr><td>1033.3400000000001</td><td>40</td><td>73</td><td>0</td><td>1</td><td>2</td><td>1</td></tr><tr><td>354.7999999999999</td><td>66</td><td>215</td><td>0</td><td>0</td><td>0</td><td>0</td></tr><tr><td>519.44</td><td>28</td><td>30</td><td>0</td><td>0</td><td>2</td><td>1</td></tr><tr><td>2624.260000000001</td><td>146</td><td>15</td><td>1</td><td>1</td><td>1</td><td>2</td></tr><tr><td>252.1</td><td>5</td><td>119</td><td>0</td><td>0</td><td>2</td><td>1</td></tr><tr><td>1678.1200000000001</td><td>79</td><td>9</td><td>1</td><td>1</td><td>1</td><td>1</td></tr><tr><td>346.6000000000001</td><td>23</td><td>256</td><td>0</td><td>0</td><td>0</td><td>0</td></tr><tr><td>1836.34</td><td>96</td><td>16</td><td>1</td><td>1</td><td>1</td><td>2</td></tr><tr><td>94.2</td><td>6</td><td>34</td><td>0</td><td>0</td><td>2</td><td>1</td></tr><tr><td>1095.08</td><td>63</td><td>45</td><td>1</td><td>1</td><td>2</td><td>1</td></tr><tr><td>2707.329999999999</td><td>166</td><td>42</td><td>1</td><td>1</td><td>1</td><td>3</td></tr><tr><td>932.9700000000004</td><td>56</td><td>113</td><td>0</td><td>0</td><td>2</td><td>1</td></tr><tr><td>379.65000000000003</td><td>49</td><td>164</td><td>0</td><td>0</td><td>0</td><td>0</td></tr><tr><td>382.13999999999993</td><td>16</td><td>10</td><td>0</td><td>0</td><td>2</td><td>1</td></tr><tr><td>2639.1700000000037</td><td>108</td><td>9</td><td>1</td><td>1</td><td>1</td><td>2</td></tr><tr><td>1573.2000000000007</td><td>104</td><td>205</td><td>1</td><td>1</td><td>1</td><td>0</td></tr><tr><td>897.7600000000001</td><td>53</td><td>85</td><td>0</td><td>1</td><td>2</td><td>1</td></tr><tr><td>189.47</td><td>13</td><td>178</td><td>0</td><td>0</td><td>0</td><td>0</td></tr><tr><td>84.65000000000002</td><td>12</td><td>59</td><td>0</td><td>0</td><td>2</td><td>1</td></tr><tr><td>305.0199999999998</td><td>87</td><td>148</td><td>0</td><td>0</td><td>0</td><td>0</td></tr><tr><td>218.55</td><td>9</td><td>50</td><td>0</td><td>0</td><td>2</td><td>1</td></tr><tr><td>349.70000000000016</td><td>25</td><td>74</td><td>0</td><td>0</td><td>2</td><td>1</td></tr><tr><td>186.39</td><td>6</td><td>300</td><td>0</td><td>0</td><td>0</td><td>0</td></tr><tr><td>396.9199999999999</td><td>65</td><td>18</td><td>0</td><td>1</td><td>2</td><td>1</td></tr><tr><td>486.82000000000005</td><td>25</td><td>150</td><td>0</td><td>0</td><td>0</td><td>0</td></tr><tr><td>232.60000000000005</td><td>16</td><td>151</td><td>0</td><td>0</td><td>0</td><td>0</td></tr><tr><td>827.83</td><td>57</td><td>17</td><td>0</td><td>0</td><td>2</td><td>1</td></tr><tr><td>59.5</td><td>3</td><td>186</td><td>0</td><td>0</td><td>0</td><td>0</td></tr><tr><td>67.23000000000002</td><td>30</td><td>285</td><td>0</td><td>0</td><td>0</td><td>0</td></tr><tr><td>72.0</td><td>8</td><td>182</td><td>0</td><td>0</td><td>0</td><td>0</td></tr><tr><td>910.0</td><td>6</td><td>62</td><td>0</td><td>1</td><td>2</td><td>1</td></tr><tr><td>172.25</td><td>9</td><td>58</td><td>0</td><td>0</td><td>2</td><td>1</td></tr><tr><td>1488.3200000000004</td><td>53</td><td>24</td><td>1</td><td>1</td><td>1</td><td>1</td></tr><tr><td>2504.1299999999987</td><td>90</td><td>30</td><td>1</td><td>1</td><td>1</td><td>2</td></tr><tr><td>151.3</td><td>12</td><td>38</td><td>0</td><td>0</td><td>2</td><td>1</td></tr><tr><td>308.58</td><td>14</td><td>154</td><td>0</td><td>0</td><td>0</td><td>1</td></tr><tr><td>2265.119999999999</td><td>197</td><td>25</td><td>1</td><td>1</td><td>1</td><td>3</td></tr><tr><td>99.5</td><td>1</td><td>317</td><td>0</td><td>0</td><td>0</td><td>0</td></tr><tr><td>2308.0599999999986</td><td>134</td><td>4</td><td>1</td><td>1</td><td>1</td><td>2</td></tr><tr><td>711.8600000000001</td><td>28</td><td>7</td><td>0</td><td>0</td><td>2</td><td>1</td></tr><tr><td>330.78999999999996</td><td>20</td><td>302</td><td>0</td><td>0</td><td>0</td><td>0</td></tr><tr><td>806.4100000000004</td><td>48</td><td>266</td><td>0</td><td>0</td><td>0</td><td>0</td></tr><tr><td>296.87999999999994</td><td>51</td><td>270</td><td>0</td><td>0</td><td>0</td><td>0</td></tr><tr><td>180.48000000000002</td><td>8</td><td>31</td><td>0</td><td>0</td><td>2</td><td>1</td></tr><tr><td>252.06000000000003</td><td>13</td><td>218</td><td>0</td><td>0</td><td>0</td><td>0</td></tr><tr><td>228.83999999999997</td><td>10</td><td>246</td><td>0</td><td>0</td><td>0</td><td>0</td></tr><tr><td>1079.3399999999997</td><td>105</td><td>280</td><td>0</td><td>0</td><td>0</td><td>0</td></tr><tr><td>138.28</td><td>21</td><td>268</td><td>0</td><td>0</td><td>0</td><td>0</td></tr><tr><td>1445.0100000000002</td><td>102</td><td>31</td><td>1</td><td>1</td><td>1</td><td>1</td></tr><tr><td>306.55</td><td>12</td><td>245</td><td>0</td><td>0</td><td>0</td><td>0</td></tr><tr><td>1041.68</td><td>60</td><td>14</td><td>1</td><td>1</td><td>2</td><td>1</td></tr><tr><td>799.8999999999999</td><td>43</td><td>116</td><td>0</td><td>0</td><td>2</td><td>0</td></tr><tr><td>524.14</td><td>28</td><td>35</td><td>0</td><td>0</td><td>2</td><td>1</td></tr><tr><td>2375.4100000000008</td><td>85</td><td>131</td><td>1</td><td>1</td><td>1</td><td>2</td></tr><tr><td>199.85000000000002</td><td>6</td><td>216</td><td>0</td><td>0</td><td>0</td><td>0</td></tr><tr><td>1980.5600000000004</td><td>104</td><td>49</td><td>1</td><td>1</td><td>1</td><td>2</td></tr><tr><td>1079.6600000000003</td><td>42</td><td>38</td><td>0</td><td>1</td><td>2</td><td>1</td></tr><tr><td>333.4800000000001</td><td>20</td><td>28</td><td>0</td><td>0</td><td>2</td><td>1</td></tr><tr><td>1016.1399999999999</td><td>63</td><td>36</td><td>1</td><td>1</td><td>2</td><td>1</td></tr><tr><td>752.5999999999998</td><td>43</td><td>135</td><td>0</td><td>0</td><td>2</td><td>0</td></tr><tr><td>610.5899999999999</td><td>38</td><td>218</td><td>0</td><td>0</td><td>0</td><td>0</td></tr><tr><td>491.86</td><td>33</td><td>27</td><td>0</td><td>0</td><td>2</td><td>1</td></tr><tr><td>2885.2399999999975</td><td>196</td><td>24</td><td>1</td><td>1</td><td>1</td><td>3</td></tr><tr><td>731.8999999999999</td><td>191</td><td>4</td><td>1</td><td>1</td><td>1</td><td>3</td></tr><tr><td>339.59999999999997</td><td>30</td><td>199</td><td>0</td><td>0</td><td>0</td><td>0</td></tr><tr><td>216.9</td><td>3</td><td>17</td><td>0</td><td>0</td><td>2</td><td>1</td></tr><tr><td>350.75</td><td>23</td><td>240</td><td>0</td><td>0</td><td>0</td><td>0</td></tr><tr><td>668.43</td><td>34</td><td>71</td><td>0</td><td>0</td><td>2</td><td>1</td></tr><tr><td>1341.5999999999997</td><td>41</td><td>2</td><td>1</td><td>1</td><td>2</td><td>1</td></tr><tr><td>1156.36</td><td>72</td><td>94</td><td>1</td><td>1</td><td>2</td><td>1</td></tr><tr><td>300.03999999999996</td><td>25</td><td>161</td><td>0</td><td>0</td><td>0</td><td>0</td></tr><tr><td>948.2499999999998</td><td>28</td><td>95</td><td>0</td><td>0</td><td>2</td><td>1</td></tr><tr><td>1647.2599999999998</td><td>24</td><td>53</td><td>1</td><td>1</td><td>2</td><td>2</td></tr><tr><td>296.24999999999994</td><td>9</td><td>287</td><td>0</td><td>0</td><td>0</td><td>0</td></tr><tr><td>1186.2800000000002</td><td>76</td><td>123</td><td>1</td><td>1</td><td>1</td><td>1</td></tr><tr><td>741.26</td><td>35</td><td>287</td><td>0</td><td>0</td><td>0</td><td>0</td></tr><tr><td>282.6</td><td>12</td><td>151</td><td>0</td><td>0</td><td>0</td><td>1</td></tr><tr><td>659.41</td><td>25</td><td>32</td><td>0</td><td>0</td><td>2</td><td>1</td></tr><tr><td>286.78999999999996</td><td>57</td><td>53</td><td>0</td><td>0</td><td>2</td><td>1</td></tr><tr><td>1070.65</td><td>70</td><td>49</td><td>1</td><td>1</td><td>2</td><td>1</td></tr><tr><td>306.72</td><td>7</td><td>218</td><td>0</td><td>0</td><td>0</td><td>0</td></tr><tr><td>1714.9599999999998</td><td>15</td><td>62</td><td>1</td><td>1</td><td>2</td><td>2</td></tr><tr><td>1521.7600000000002</td><td>208</td><td>70</td><td>1</td><td>1</td><td>1</td><td>3</td></tr><tr><td>2796.5099999999993</td><td>135</td><td>1</td><td>1</td><td>1</td><td>1</td><td>2</td></tr><tr><td>2634.450000000001</td><td>119</td><td>63</td><td>1</td><td>1</td><td>1</td><td>2</td></tr><tr><td>1132.13</td><td>177</td><td>33</td><td>1</td><td>1</td><td>1</td><td>3</td></tr><tr><td>344.99999999999994</td><td>22</td><td>81</td><td>0</td><td>0</td><td>2</td><td>1</td></tr><tr><td>178.7</td><td>9</td><td>102</td><td>0</td><td>0</td><td>2</td><td>1</td></tr><tr><td>360.01</td><td>57</td><td>6</td><td>0</td><td>0</td><td>2</td><td>1</td></tr><tr><td>127.84000000000002</td><td>17</td><td>250</td><td>0</td><td>0</td><td>0</td><td>0</td></tr><tr><td>911.9999999999992</td><td>115</td><td>12</td><td>1</td><td>1</td><td>1</td><td>1</td></tr><tr><td>2462.7899999999995</td><td>31</td><td>9</td><td>1</td><td>1</td><td>1</td><td>2</td></tr><tr><td>309.04</td><td>31</td><td>75</td><td>0</td><td>0</td><td>2</td><td>1</td></tr><tr><td>348.79999999999995</td><td>45</td><td>3</td><td>0</td><td>0</td><td>2</td><td>1</td></tr><tr><td>1516.0</td><td>11</td><td>127</td><td>0</td><td>1</td><td>2</td><td>1</td></tr><tr><td>195.54999999999995</td><td>13</td><td>65</td><td>0</td><td>0</td><td>2</td><td>1</td></tr><tr><td>688.8600000000002</td><td>39</td><td>116</td><td>0</td><td>0</td><td>2</td><td>0</td></tr><tr><td>558.3199999999997</td><td>33</td><td>309</td><td>0</td><td>0</td><td>0</td><td>0</td></tr><tr><td>324.79999999999995</td><td>23</td><td>66</td><td>0</td><td>0</td><td>2</td><td>1</td></tr><tr><td>277.07000000000005</td><td>17</td><td>254</td><td>0</td><td>0</td><td>0</td><td>0</td></tr><tr><td>2635.7900000000004</td><td>137</td><td>30</td><td>1</td><td>1</td><td>1</td><td>2</td></tr><tr><td>924.5999999999999</td><td>13</td><td>51</td><td>0</td><td>1</td><td>2</td><td>1</td></tr><tr><td>256.38</td><td>10</td><td>63</td><td>0</td><td>0</td><td>2</td><td>1</td></tr><tr><td>1747.66</td><td>76</td><td>5</td><td>1</td><td>1</td><td>1</td><td>1</td></tr><tr><td>155.05</td><td>12</td><td>304</td><td>0</td><td>0</td><td>0</td><td>0</td></tr><tr><td>1499.01</td><td>35</td><td>28</td><td>1</td><td>1</td><td>2</td><td>1</td></tr><tr><td>814.5</td><td>13</td><td>183</td><td>0</td><td>0</td><td>0</td><td>0</td></tr><tr><td>538.9999999999999</td><td>36</td><td>41</td><td>0</td><td>0</td><td>2</td><td>1</td></tr><tr><td>1366.8599999999994</td><td>69</td><td>39</td><td>1</td><td>1</td><td>1</td><td>1</td></tr><tr><td>1579.1200000000001</td><td>57</td><td>91</td><td>1</td><td>1</td><td>1</td><td>1</td></tr><tr><td>571.6700000000001</td><td>28</td><td>23</td><td>0</td><td>0</td><td>2</td><td>1</td></tr><tr><td>382.9799999999999</td><td>24</td><td>28</td><td>0</td><td>0</td><td>2</td><td>1</td></tr><tr><td>1140.35</td><td>36</td><td>301</td><td>0</td><td>0</td><td>0</td><td>0</td></tr><tr><td>385.64</td><td>59</td><td>144</td><td>0</td><td>0</td><td>0</td><td>0</td></tr><tr><td>632.0000000000001</td><td>96</td><td>5</td><td>1</td><td>1</td><td>2</td><td>1</td></tr><tr><td>957.6600000000001</td><td>40</td><td>18</td><td>0</td><td>1</td><td>2</td><td>1</td></tr><tr><td>1698.9399999999998</td><td>46</td><td>32</td><td>1</td><td>1</td><td>1</td><td>2</td></tr><tr><td>189.5</td><td>10</td><td>175</td><td>0</td><td>0</td><td>0</td><td>0</td></tr><tr><td>412.0499999999998</td><td>93</td><td>57</td><td>0</td><td>1</td><td>2</td><td>1</td></tr><tr><td>209.49000000000004</td><td>15</td><td>21</td><td>0</td><td>0</td><td>2</td><td>1</td></tr><tr><td>2202.99</td><td>74</td><td>15</td><td>1</td><td>1</td><td>1</td><td>2</td></tr><tr><td>52.199999999999996</td><td>3</td><td>18</td><td>0</td><td>0</td><td>2</td><td>1</td></tr><tr><td>384.7999999999999</td><td>29</td><td>158</td><td>0</td><td>0</td><td>0</td><td>0</td></tr><tr><td>834.57</td><td>55</td><td>24</td><td>0</td><td>0</td><td>2</td><td>1</td></tr><tr><td>271.24000000000007</td><td>19</td><td>211</td><td>0</td><td>0</td><td>0</td><td>0</td></tr><tr><td>691.7299999999999</td><td>174</td><td>5</td><td>1</td><td>1</td><td>1</td><td>3</td></tr><tr><td>85.0</td><td>1</td><td>252</td><td>0</td><td>0</td><td>0</td><td>0</td></tr><tr><td>361.62</td><td>20</td><td>10</td><td>0</td><td>0</td><td>2</td><td>1</td></tr><tr><td>312.98</td><td>9</td><td>64</td><td>0</td><td>0</td><td>2</td><td>1</td></tr><tr><td>865.0600000000005</td><td>55</td><td>24</td><td>0</td><td>0</td><td>2</td><td>1</td></tr><tr><td>1255.0</td><td>5</td><td>91</td><td>0</td><td>1</td><td>2</td><td>1</td></tr><tr><td>1537.95</td><td>101</td><td>51</td><td>1</td><td>1</td><td>1</td><td>2</td></tr><tr><td>1595.4799999999996</td><td>93</td><td>128</td><td>1</td><td>1</td><td>1</td><td>2</td></tr><tr><td>2651.46</td><td>81</td><td>95</td><td>1</td><td>1</td><td>1</td><td>2</td></tr><tr><td>1090.14</td><td>23</td><td>56</td><td>0</td><td>1</td><td>2</td><td>1</td></tr><tr><td>388.5</td><td>14</td><td>168</td><td>0</td><td>0</td><td>0</td><td>0</td></tr><tr><td>216.16999999999996</td><td>11</td><td>56</td><td>0</td><td>0</td><td>2</td><td>1</td></tr><tr><td>201.16</td><td>28</td><td>325</td><td>0</td><td>0</td><td>0</td><td>0</td></tr><tr><td>1245.9000000000003</td><td>76</td><td>0</td><td>1</td><td>1</td><td>1</td><td>1</td></tr><tr><td>2209.360000000001</td><td>139</td><td>17</td><td>1</td><td>1</td><td>1</td><td>2</td></tr><tr><td>305.78000000000003</td><td>20</td><td>247</td><td>0</td><td>0</td><td>0</td><td>0</td></tr><tr><td>501.56</td><td>30</td><td>57</td><td>0</td><td>0</td><td>2</td><td>1</td></tr><tr><td>145.67</td><td>7</td><td>73</td><td>0</td><td>0</td><td>2</td><td>1</td></tr><tr><td>1015.2900000000002</td><td>61</td><td>30</td><td>1</td><td>1</td><td>2</td><td>1</td></tr><tr><td>2770.9400000000005</td><td>115</td><td>1</td><td>1</td><td>1</td><td>1</td><td>2</td></tr><tr><td>389.6</td><td>23</td><td>119</td><td>0</td><td>0</td><td>2</td><td>1</td></tr><tr><td>1786.7900000000004</td><td>104</td><td>53</td><td>1</td><td>1</td><td>1</td><td>2</td></tr><tr><td>122.69999999999999</td><td>7</td><td>63</td><td>0</td><td>0</td><td>2</td><td>1</td></tr><tr><td>117.24000000000001</td><td>3</td><td>85</td><td>0</td><td>0</td><td>2</td><td>1</td></tr><tr><td>1281.53</td><td>36</td><td>54</td><td>0</td><td>1</td><td>2</td><td>1</td></tr><tr><td>1191.1299999999999</td><td>65</td><td>2</td><td>1</td><td>1</td><td>2</td><td>1</td></tr><tr><td>2674.479999999998</td><td>142</td><td>10</td><td>1</td><td>1</td><td>1</td><td>2</td></tr><tr><td>787.6000000000001</td><td>59</td><td>6</td><td>0</td><td>0</td><td>2</td><td>1</td></tr><tr><td>506.8000000000001</td><td>28</td><td>188</td><td>0</td><td>0</td><td>0</td><td>0</td></tr><tr><td>243.56000000000003</td><td>16</td><td>70</td><td>0</td><td>0</td><td>2</td><td>1</td></tr><tr><td>349.54999999999995</td><td>19</td><td>203</td><td>0</td><td>0</td><td>0</td><td>0</td></tr><tr><td>605.63</td><td>40</td><td>119</td><td>0</td><td>0</td><td>2</td><td>0</td></tr><tr><td>416.9</td><td>15</td><td>92</td><td>0</td><td>0</td><td>2</td><td>1</td></tr><tr><td>1883.8099999999995</td><td>110</td><td>0</td><td>1</td><td>1</td><td>1</td><td>2</td></tr><tr><td>632.97</td><td>27</td><td>26</td><td>0</td><td>0</td><td>2</td><td>1</td></tr><tr><td>821.1</td><td>21</td><td>297</td><td>0</td><td>0</td><td>0</td><td>0</td></tr><tr><td>564.62</td><td>27</td><td>23</td><td>0</td><td>0</td><td>2</td><td>1</td></tr><tr><td>2593.0699999999993</td><td>118</td><td>27</td><td>1</td><td>1</td><td>1</td><td>2</td></tr><tr><td>311.15999999999997</td><td>17</td><td>49</td><td>0</td><td>0</td><td>2</td><td>1</td></tr><tr><td>155.93</td><td>12</td><td>325</td><td>0</td><td>0</td><td>0</td><td>0</td></tr><tr><td>388.52000000000004</td><td>19</td><td>15</td><td>0</td><td>0</td><td>2</td><td>1</td></tr><tr><td>740.9499999999997</td><td>43</td><td>182</td><td>0</td><td>0</td><td>0</td><td>0</td></tr><tr><td>2867.2</td><td>149</td><td>71</td><td>1</td><td>1</td><td>1</td><td>2</td></tr><tr><td>332.63999999999993</td><td>26</td><td>36</td><td>0</td><td>0</td><td>2</td><td>1</td></tr><tr><td>2369.5499999999984</td><td>122</td><td>79</td><td>1</td><td>1</td><td>1</td><td>2</td></tr><tr><td>2580.909999999999</td><td>148</td><td>56</td><td>1</td><td>1</td><td>1</td><td>2</td></tr><tr><td>626.4499999999999</td><td>33</td><td>11</td><td>0</td><td>0</td><td>2</td><td>1</td></tr><tr><td>272.04</td><td>18</td><td>49</td><td>0</td><td>0</td><td>2</td><td>1</td></tr><tr><td>1212.8400000000001</td><td>30</td><td>49</td><td>0</td><td>1</td><td>2</td><td>1</td></tr><tr><td>384.81</td><td>28</td><td>58</td><td>0</td><td>0</td><td>2</td><td>1</td></tr><tr><td>351.13000000000005</td><td>20</td><td>53</td><td>0</td><td>0</td><td>2</td><td>1</td></tr><tr><td>1838.8500000000001</td><td>117</td><td>1</td><td>1</td><td>1</td><td>1</td><td>2</td></tr><tr><td>678.2499999999999</td><td>41</td><td>92</td><td>0</td><td>0</td><td>2</td><td>1</td></tr><tr><td>223.85000000000002</td><td>11</td><td>22</td><td>0</td><td>0</td><td>2</td><td>1</td></tr><tr><td>348.99</td><td>21</td><td>74</td><td>0</td><td>0</td><td>2</td><td>1</td></tr><tr><td>464.56999999999994</td><td>27</td><td>10</td><td>0</td><td>0</td><td>2</td><td>1</td></tr><tr><td>842.6500000000001</td><td>9</td><td>168</td><td>0</td><td>0</td><td>0</td><td>0</td></tr><tr><td>337.3399999999999</td><td>17</td><td>57</td><td>0</td><td>0</td><td>2</td><td>1</td></tr><tr><td>1237.5300000000002</td><td>58</td><td>95</td><td>1</td><td>1</td><td>2</td><td>1</td></tr><tr><td>307.4</td><td>16</td><td>294</td><td>0</td><td>0</td><td>0</td><td>0</td></tr><tr><td>608.7899999999998</td><td>23</td><td>108</td><td>0</td><td>0</td><td>2</td><td>1</td></tr><tr><td>922.0999999999997</td><td>31</td><td>263</td><td>0</td><td>0</td><td>0</td><td>0</td></tr><tr><td>376.58</td><td>26</td><td>179</td><td>0</td><td>0</td><td>0</td><td>0</td></tr><tr><td>158.85</td><td>9</td><td>168</td><td>0</td><td>0</td><td>0</td><td>0</td></tr><tr><td>71.66</td><td>7</td><td>34</td><td>0</td><td>0</td><td>2</td><td>1</td></tr><tr><td>568.5499999999998</td><td>45</td><td>22</td><td>0</td><td>0</td><td>2</td><td>1</td></tr><tr><td>839.1400000000002</td><td>49</td><td>16</td><td>0</td><td>0</td><td>2</td><td>1</td></tr><tr><td>561.57</td><td>11</td><td>78</td><td>0</td><td>0</td><td>2</td><td>1</td></tr><tr><td>90.6</td><td>5</td><td>64</td><td>0</td><td>0</td><td>2</td><td>1</td></tr><tr><td>2427.3199999999974</td><td>160</td><td>2</td><td>1</td><td>1</td><td>1</td><td>3</td></tr><tr><td>745.0600000000001</td><td>35</td><td>10</td><td>0</td><td>0</td><td>2</td><td>1</td></tr><tr><td>674.4499999999998</td><td>39</td><td>175</td><td>0</td><td>0</td><td>0</td><td>0</td></tr><tr><td>439.92</td><td>25</td><td>1</td><td>0</td><td>0</td><td>2</td><td>1</td></tr><tr><td>322.96</td><td>33</td><td>153</td><td>0</td><td>0</td><td>0</td><td>0</td></tr><tr><td>1026.4200000000003</td><td>152</td><td>4</td><td>1</td><td>1</td><td>1</td><td>3</td></tr><tr><td>598.1999999999999</td><td>92</td><td>78</td><td>0</td><td>1</td><td>2</td><td>1</td></tr><tr><td>230.22</td><td>12</td><td>20</td><td>0</td><td>0</td><td>2</td><td>1</td></tr><tr><td>169.55</td><td>11</td><td>21</td><td>0</td><td>0</td><td>2</td><td>1</td></tr><tr><td>664.54</td><td>35</td><td>307</td><td>0</td><td>0</td><td>0</td><td>0</td></tr><tr><td>80.7</td><td>2</td><td>145</td><td>0</td><td>0</td><td>0</td><td>1</td></tr><tr><td>2758.26</td><td>149</td><td>18</td><td>1</td><td>1</td><td>1</td><td>2</td></tr><tr><td>190.25000000000009</td><td>15</td><td>70</td><td>0</td><td>0</td><td>2</td><td>1</td></tr><tr><td>264.7</td><td>11</td><td>286</td><td>0</td><td>0</td><td>0</td><td>0</td></tr><tr><td>413.59</td><td>28</td><td>48</td><td>0</td><td>0</td><td>2</td><td>1</td></tr><tr><td>357.9800000000001</td><td>10</td><td>206</td><td>0</td><td>0</td><td>0</td><td>0</td></tr><tr><td>196.79</td><td>15</td><td>14</td><td>0</td><td>0</td><td>2</td><td>1</td></tr><tr><td>869.8700000000001</td><td>54</td><td>72</td><td>0</td><td>1</td><td>2</td><td>1</td></tr><tr><td>200.14000000000001</td><td>11</td><td>59</td><td>0</td><td>0</td><td>2</td><td>1</td></tr><tr><td>1871.81</td><td>111</td><td>38</td><td>1</td><td>1</td><td>1</td><td>2</td></tr><tr><td>2603.43</td><td>107</td><td>29</td><td>1</td><td>1</td><td>1</td><td>2</td></tr><tr><td>920.5100000000001</td><td>16</td><td>26</td><td>0</td><td>0</td><td>2</td><td>1</td></tr><tr><td>320.46000000000004</td><td>13</td><td>16</td><td>0</td><td>0</td><td>2</td><td>1</td></tr><tr><td>1266.0799999999997</td><td>41</td><td>65</td><td>0</td><td>1</td><td>2</td><td>1</td></tr><tr><td>311.3</td><td>16</td><td>212</td><td>0</td><td>0</td><td>0</td><td>0</td></tr><tr><td>855.9699999999999</td><td>84</td><td>11</td><td>1</td><td>1</td><td>2</td><td>1</td></tr><tr><td>76.8</td><td>5</td><td>29</td><td>0</td><td>0</td><td>2</td><td>1</td></tr><tr><td>2313.140000000001</td><td>155</td><td>3</td><td>1</td><td>1</td><td>1</td><td>3</td></tr><tr><td>1393.6899999999996</td><td>86</td><td>14</td><td>1</td><td>1</td><td>1</td><td>1</td></tr><tr><td>635.6600000000001</td><td>15</td><td>210</td><td>0</td><td>0</td><td>0</td><td>0</td></tr><tr><td>2043.08</td><td>39</td><td>45</td><td>1</td><td>1</td><td>1</td><td>2</td></tr><tr><td>529.73</td><td>47</td><td>133</td><td>0</td><td>0</td><td>2</td><td>0</td></tr><tr><td>2874.7200000000007</td><td>84</td><td>9</td><td>1</td><td>1</td><td>1</td><td>2</td></tr><tr><td>962.1899999999999</td><td>30</td><td>115</td><td>0</td><td>0</td><td>2</td><td>0</td></tr><tr><td>695.6099999999999</td><td>42</td><td>197</td><td>0</td><td>0</td><td>0</td><td>0</td></tr><tr><td>328.8</td><td>11</td><td>277</td><td>0</td><td>0</td><td>0</td><td>0</td></tr><tr><td>473.02</td><td>34</td><td>109</td><td>0</td><td>0</td><td>2</td><td>1</td></tr><tr><td>505.18000000000006</td><td>39</td><td>76</td><td>0</td><td>0</td><td>2</td><td>1</td></tr><tr><td>917.34</td><td>20</td><td>52</td><td>0</td><td>1</td><td>2</td><td>1</td></tr><tr><td>1421.6100000000004</td><td>66</td><td>46</td><td>1</td><td>1</td><td>1</td><td>1</td></tr><tr><td>642.8000000000001</td><td>39</td><td>16</td><td>0</td><td>0</td><td>2</td><td>1</td></tr><tr><td>631.9000000000001</td><td>22</td><td>154</td><td>0</td><td>0</td><td>0</td><td>0</td></tr><tr><td>440.0</td><td>28</td><td>224</td><td>0</td><td>0</td><td>0</td><td>0</td></tr><tr><td>584.0699999999998</td><td>31</td><td>6</td><td>0</td><td>0</td><td>2</td><td>1</td></tr><tr><td>327.7</td><td>16</td><td>121</td><td>0</td><td>0</td><td>2</td><td>1</td></tr><tr><td>104.82000000000002</td><td>6</td><td>60</td><td>0</td><td>0</td><td>2</td><td>1</td></tr><tr><td>467.65999999999997</td><td>15</td><td>62</td><td>0</td><td>0</td><td>2</td><td>1</td></tr><tr><td>651.8200000000002</td><td>89</td><td>21</td><td>1</td><td>1</td><td>2</td><td>1</td></tr><tr><td>1428.0200000000002</td><td>66</td><td>28</td><td>1</td><td>1</td><td>1</td><td>1</td></tr><tr><td>626.6499999999999</td><td>38</td><td>284</td><td>0</td><td>0</td><td>0</td><td>0</td></tr><tr><td>147.20000000000005</td><td>28</td><td>175</td><td>0</td><td>0</td><td>0</td><td>0</td></tr><tr><td>1560.379999999999</td><td>92</td><td>77</td><td>1</td><td>1</td><td>1</td><td>2</td></tr><tr><td>152.2</td><td>6</td><td>32</td><td>0</td><td>0</td><td>2</td><td>1</td></tr><tr><td>141.41</td><td>21</td><td>265</td><td>0</td><td>0</td><td>0</td><td>0</td></tr><tr><td>652.8199999999993</td><td>209</td><td>26</td><td>1</td><td>1</td><td>1</td><td>3</td></tr><tr><td>1659.75</td><td>6</td><td>108</td><td>0</td><td>1</td><td>2</td><td>1</td></tr><tr><td>154.98999999999998</td><td>14</td><td>283</td><td>0</td><td>0</td><td>0</td><td>0</td></tr><tr><td>1308.61</td><td>32</td><td>8</td><td>1</td><td>1</td><td>2</td><td>1</td></tr></tbody></table>Showing the first 1000 rows.</div>"
      ]
     },
     "metadata": {
      "application/vnd.databricks.v1+output": {
       "addedWidgets": {},
       "aggData": [],
       "aggError": "",
       "aggOverflow": false,
       "aggSchema": [],
       "aggSeriesLimitReached": false,
       "aggType": "",
       "arguments": {},
       "columnCustomDisplayInfos": {},
       "data": [
        [
         1797.24,
         31,
         74,
         1,
         1,
         1,
         2
        ],
        [
         1757.55,
         73,
         18,
         1,
         1,
         1,
         1
        ],
        [
         334.40000000000003,
         17,
         309,
         0,
         0,
         0,
         0
        ],
        [
         2506.040000000001,
         85,
         35,
         1,
         1,
         1,
         2
        ],
        [
         89,
         4,
         203,
         0,
         0,
         0,
         0
        ],
        [
         1079.4,
         58,
         231,
         0,
         0,
         0,
         0
        ],
        [
         459.4,
         13,
         213,
         0,
         0,
         0,
         0
        ],
        [
         2811.4300000000007,
         59,
         22,
         1,
         1,
         1,
         2
        ],
        [
         1168.06,
         19,
         1,
         0,
         1,
         2,
         1
        ],
        [
         2662.0600000000004,
         129,
         51,
         1,
         1,
         1,
         2
        ],
        [
         189.89999999999998,
         10,
         286,
         0,
         0,
         0,
         0
        ],
        [
         552,
         23,
         109,
         0,
         0,
         2,
         1
        ],
        [
         1313.1000000000001,
         85,
         7,
         1,
         1,
         1,
         1
        ],
        [
         641.38,
         22,
         290,
         0,
         0,
         0,
         0
        ],
        [
         168.9,
         11,
         3,
         0,
         0,
         2,
         1
        ],
        [
         1887.9600000000003,
         63,
         44,
         1,
         1,
         1,
         1
        ],
        [
         1298.0400000000002,
         52,
         71,
         1,
         1,
         2,
         1
        ],
        [
         364.6,
         14,
         310,
         0,
         0,
         0,
         0
        ],
        [
         742.93,
         33,
         24,
         0,
         0,
         2,
         1
        ],
        [
         457.5000000000001,
         17,
         10,
         0,
         0,
         2,
         1
        ],
        [
         1628.1199999999997,
         77,
         314,
         0,
         0,
         0,
         0
        ],
        [
         852.2399999999997,
         40,
         81,
         0,
         0,
         2,
         1
        ],
        [
         2724.81,
         104,
         21,
         1,
         1,
         1,
         2
        ],
        [
         1845.3100000000006,
         87,
         4,
         1,
         1,
         1,
         2
        ],
        [
         1850.5599999999997,
         99,
         184,
         1,
         1,
         1,
         0
        ],
        [
         585.2700000000001,
         27,
         28,
         0,
         0,
         2,
         1
        ],
        [
         2780.6600000000003,
         100,
         15,
         1,
         1,
         1,
         2
        ],
        [
         549.8399999999999,
         32,
         79,
         0,
         0,
         2,
         1
        ],
        [
         460.88999999999993,
         100,
         21,
         1,
         1,
         2,
         1
        ],
        [
         1582.6000000000004,
         64,
         71,
         1,
         1,
         1,
         1
        ],
        [
         1272.48,
         27,
         63,
         0,
         1,
         2,
         1
        ],
        [
         2409.9000000000005,
         126,
         35,
         1,
         1,
         1,
         2
        ],
        [
         1635.6599999999999,
         85,
         45,
         1,
         1,
         1,
         1
        ],
        [
         1108.65,
         59,
         118,
         0,
         0,
         2,
         1
        ],
        [
         84.3,
         5,
         302,
         0,
         0,
         0,
         0
        ],
        [
         225.6,
         11,
         322,
         0,
         0,
         0,
         0
        ],
        [
         427.7,
         5,
         49,
         0,
         0,
         2,
         1
        ],
        [
         1710.3900000000006,
         54,
         148,
         1,
         1,
         1,
         1
        ],
        [
         1708.1199999999997,
         77,
         49,
         1,
         1,
         1,
         1
        ],
        [
         2888.5500000000006,
         105,
         32,
         1,
         1,
         1,
         2
        ],
        [
         693.3299999999999,
         26,
         308,
         0,
         0,
         0,
         0
        ],
        [
         1226.8799999999999,
         61,
         74,
         1,
         1,
         2,
         1
        ],
        [
         758.0999999999999,
         38,
         66,
         0,
         0,
         2,
         1
        ],
        [
         562.41,
         18,
         216,
         0,
         0,
         0,
         0
        ],
        [
         668.5799999999997,
         34,
         112,
         0,
         0,
         2,
         0
        ],
        [
         600.3900000000001,
         29,
         63,
         0,
         0,
         2,
         1
        ],
        [
         807.0400000000002,
         45,
         15,
         0,
         0,
         2,
         1
        ],
        [
         803.5599999999998,
         39,
         95,
         0,
         0,
         2,
         0
        ],
        [
         1859.3100000000002,
         125,
         0,
         1,
         1,
         1,
         2
        ],
        [
         1760.9599999999998,
         30,
         162,
         0,
         1,
         0,
         0
        ],
        [
         777.1999999999999,
         36,
         77,
         0,
         0,
         2,
         1
        ],
        [
         582.7299999999999,
         30,
         194,
         0,
         0,
         0,
         0
        ],
        [
         825.8000000000002,
         31,
         21,
         0,
         0,
         2,
         1
        ],
        [
         256.4,
         11,
         42,
         0,
         0,
         2,
         1
        ],
        [
         806.14,
         50,
         84,
         0,
         0,
         2,
         1
        ],
        [
         509.01000000000005,
         16,
         99,
         0,
         0,
         2,
         1
        ],
        [
         2906.8500000000004,
         98,
         13,
         1,
         1,
         1,
         2
        ],
        [
         172.06,
         12,
         2,
         0,
         0,
         2,
         1
        ],
        [
         133.4,
         4,
         21,
         0,
         0,
         2,
         1
        ],
        [
         1002.3099999999998,
         57,
         57,
         0,
         1,
         2,
         1
        ],
        [
         476.49,
         26,
         242,
         0,
         0,
         0,
         0
        ],
        [
         449.4500000000001,
         22,
         43,
         0,
         0,
         2,
         1
        ],
        [
         197.88,
         8,
         155,
         0,
         0,
         0,
         0
        ],
        [
         430.57000000000005,
         22,
         16,
         0,
         0,
         2,
         1
        ],
        [
         707.0899999999999,
         43,
         133,
         0,
         0,
         2,
         0
        ],
        [
         2466.859999999997,
         90,
         72,
         1,
         1,
         1,
         2
        ],
        [
         2363.2299999999996,
         62,
         65,
         1,
         1,
         1,
         2
        ],
        [
         947.4000000000001,
         38,
         70,
         0,
         1,
         2,
         1
        ],
        [
         826.8800000000001,
         35,
         93,
         0,
         0,
         2,
         0
        ],
        [
         1189.5900000000001,
         62,
         18,
         1,
         1,
         2,
         1
        ],
        [
         1344.7799999999997,
         83,
         52,
         1,
         1,
         1,
         1
        ],
        [
         1212.0499999999997,
         29,
         9,
         0,
         1,
         2,
         1
        ],
        [
         742.1900000000002,
         47,
         16,
         0,
         0,
         2,
         1
        ],
        [
         729.54,
         38,
         187,
         0,
         0,
         0,
         0
        ],
        [
         723.38,
         36,
         53,
         0,
         0,
         2,
         1
        ],
        [
         680.9900000000002,
         36,
         3,
         0,
         0,
         2,
         1
        ],
        [
         527.2,
         31,
         10,
         0,
         0,
         2,
         1
        ],
        [
         2484.980000000001,
         75,
         16,
         1,
         1,
         1,
         2
        ],
        [
         1298.6599999999999,
         55,
         9,
         1,
         1,
         2,
         1
        ],
        [
         460.4000000000001,
         26,
         38,
         0,
         0,
         2,
         1
        ],
        [
         263.21,
         20,
         62,
         0,
         0,
         2,
         1
        ],
        [
         433.74,
         22,
         165,
         0,
         0,
         0,
         0
        ],
        [
         1246.1000000000006,
         77,
         15,
         1,
         1,
         1,
         1
        ],
        [
         1043.1,
         14,
         81,
         0,
         1,
         2,
         1
        ],
        [
         403.7,
         23,
         20,
         0,
         0,
         2,
         1
        ],
        [
         482.04999999999995,
         9,
         17,
         0,
         0,
         2,
         1
        ],
        [
         73.50000000000003,
         23,
         232,
         0,
         0,
         0,
         0
        ],
        [
         1304.81,
         21,
         133,
         0,
         1,
         2,
         1
        ],
        [
         398.27000000000004,
         69,
         25,
         0,
         1,
         2,
         1
        ],
        [
         176.5,
         7,
         283,
         0,
         0,
         0,
         0
        ],
        [
         982.57,
         33,
         142,
         0,
         0,
         2,
         0
        ],
        [
         138.03000000000006,
         34,
         65,
         0,
         0,
         2,
         1
        ],
        [
         612.2900000000001,
         35,
         112,
         0,
         0,
         2,
         0
        ],
        [
         1017.6800000000002,
         51,
         266,
         0,
         0,
         0,
         0
        ],
        [
         1312.06,
         26,
         77,
         0,
         0,
         2,
         1
        ],
        [
         2056.8899999999994,
         124,
         0,
         1,
         1,
         1,
         2
        ],
        [
         340.84,
         18,
         63,
         0,
         0,
         2,
         1
        ],
        [
         2634.26,
         152,
         78,
         1,
         1,
         1,
         2
        ],
        [
         599.6800000000001,
         38,
         142,
         0,
         0,
         2,
         0
        ],
        [
         192.72000000000003,
         12,
         38,
         0,
         0,
         2,
         1
        ],
        [
         1789.7700000000007,
         106,
         18,
         1,
         1,
         1,
         1
        ],
        [
         1316.6600000000005,
         71,
         0,
         1,
         1,
         1,
         1
        ],
        [
         348.71000000000004,
         18,
         81,
         0,
         0,
         2,
         1
        ],
        [
         1933.4800000000007,
         92,
         8,
         1,
         1,
         1,
         2
        ],
        [
         1662.2799999999993,
         66,
         59,
         1,
         1,
         1,
         1
        ],
        [
         125.22,
         17,
         14,
         0,
         0,
         2,
         1
        ],
        [
         349.83,
         16,
         29,
         0,
         0,
         2,
         1
        ],
        [
         1089.18,
         63,
         130,
         0,
         0,
         2,
         1
        ],
        [
         716.3500000000001,
         34,
         91,
         0,
         0,
         2,
         0
        ],
        [
         363.95,
         21,
         28,
         0,
         0,
         2,
         1
        ],
        [
         981.1800000000002,
         52,
         29,
         0,
         1,
         2,
         1
        ],
        [
         372.7,
         19,
         35,
         0,
         0,
         2,
         1
        ],
        [
         1000.3899999999999,
         50,
         74,
         0,
         1,
         2,
         1
        ],
        [
         1161.5,
         69,
         46,
         1,
         1,
         2,
         1
        ],
        [
         207.8,
         8,
         197,
         0,
         0,
         0,
         0
        ],
        [
         95.19999999999999,
         5,
         165,
         0,
         0,
         0,
         0
        ],
        [
         964.8299999999994,
         57,
         78,
         0,
         1,
         2,
         1
        ],
        [
         437.81999999999994,
         20,
         38,
         0,
         0,
         2,
         1
        ],
        [
         603.7099999999997,
         121,
         49,
         1,
         1,
         1,
         1
        ],
        [
         269.96000000000004,
         11,
         7,
         0,
         0,
         2,
         1
        ],
        [
         561.7099999999999,
         21,
         310,
         0,
         0,
         0,
         0
        ],
        [
         2134.01,
         105,
         4,
         1,
         1,
         1,
         2
        ],
        [
         238.85,
         16,
         302,
         0,
         0,
         0,
         0
        ],
        [
         456.9000000000001,
         21,
         260,
         0,
         0,
         0,
         0
        ],
        [
         145.92,
         9,
         288,
         0,
         0,
         0,
         0
        ],
        [
         351.65000000000003,
         19,
         85,
         0,
         0,
         2,
         1
        ],
        [
         519.6099999999999,
         34,
         39,
         0,
         0,
         2,
         1
        ],
        [
         1020.4200000000003,
         60,
         8,
         1,
         1,
         2,
         1
        ],
        [
         160.54,
         28,
         226,
         0,
         0,
         0,
         0
        ],
        [
         218.45000000000002,
         11,
         315,
         0,
         0,
         0,
         0
        ],
        [
         1315.8299999999997,
         88,
         35,
         1,
         1,
         1,
         1
        ],
        [
         657.8000000000003,
         147,
         34,
         1,
         1,
         1,
         1
        ],
        [
         2794.5099999999993,
         114,
         20,
         1,
         1,
         1,
         2
        ],
        [
         440.41999999999996,
         29,
         77,
         0,
         0,
         2,
         1
        ],
        [
         415.7,
         24,
         246,
         0,
         0,
         0,
         0
        ],
        [
         197.70999999999998,
         15,
         39,
         0,
         0,
         2,
         1
        ],
        [
         511.3599999999999,
         22,
         238,
         0,
         0,
         0,
         0
        ],
        [
         2338.1499999999996,
         96,
         3,
         1,
         1,
         1,
         2
        ],
        [
         2040.099999999999,
         87,
         233,
         1,
         1,
         1,
         0
        ],
        [
         196.94,
         11,
         16,
         0,
         0,
         2,
         1
        ],
        [
         144,
         4,
         7,
         0,
         0,
         2,
         1
        ],
        [
         214.9,
         10,
         38,
         0,
         0,
         2,
         1
        ],
        [
         646.6800000000001,
         35,
         28,
         0,
         0,
         2,
         1
        ],
        [
         452.84999999999985,
         26,
         316,
         0,
         0,
         0,
         0
        ],
        [
         437.59999999999997,
         18,
         91,
         0,
         0,
         2,
         1
        ],
        [
         418.09999999999997,
         21,
         108,
         0,
         0,
         2,
         1
        ],
        [
         618.27,
         27,
         50,
         0,
         0,
         2,
         1
        ],
        [
         1032.5800000000006,
         62,
         28,
         1,
         1,
         2,
         1
        ],
        [
         2599.0400000000004,
         64,
         28,
         1,
         1,
         1,
         2
        ],
        [
         577.0600000000001,
         28,
         189,
         0,
         0,
         0,
         0
        ],
        [
         153.12000000000003,
         12,
         58,
         0,
         0,
         2,
         1
        ],
        [
         739.1999999999999,
         2,
         21,
         0,
         0,
         2,
         1
        ],
        [
         254.17999999999995,
         16,
         78,
         0,
         0,
         2,
         1
        ],
        [
         1579.51,
         101,
         59,
         1,
         1,
         1,
         2
        ],
        [
         1126.8500000000001,
         60,
         77,
         1,
         1,
         2,
         1
        ],
        [
         2099.540000000001,
         106,
         22,
         1,
         1,
         1,
         2
        ],
        [
         1193.32,
         65,
         51,
         1,
         1,
         2,
         1
        ],
        [
         704.0400000000001,
         19,
         73,
         0,
         0,
         2,
         1
        ],
        [
         315.59999999999997,
         20,
         277,
         0,
         0,
         0,
         0
        ],
        [
         2291.1900000000005,
         105,
         1,
         1,
         1,
         1,
         2
        ],
        [
         713.3,
         32,
         94,
         0,
         0,
         2,
         0
        ],
        [
         355.5300000000002,
         42,
         28,
         0,
         0,
         2,
         1
        ],
        [
         177.31,
         11,
         21,
         0,
         0,
         2,
         1
        ],
        [
         1339.4099999999999,
         92,
         14,
         1,
         1,
         1,
         1
        ],
        [
         180.09999999999997,
         11,
         231,
         0,
         0,
         0,
         0
        ],
        [
         305.1,
         18,
         275,
         0,
         0,
         0,
         0
        ],
        [
         641.1300000000001,
         38,
         105,
         0,
         0,
         2,
         0
        ],
        [
         2683.8199999999997,
         86,
         211,
         1,
         1,
         1,
         2
        ],
        [
         786.4599999999998,
         41,
         3,
         0,
         0,
         2,
         1
        ],
        [
         1270.8799999999999,
         64,
         9,
         1,
         1,
         1,
         1
        ],
        [
         640.5000000000002,
         31,
         56,
         0,
         0,
         2,
         1
        ],
        [
         2163.9799999999996,
         101,
         58,
         1,
         1,
         1,
         2
        ],
        [
         1689.18,
         101,
         89,
         1,
         1,
         1,
         2
        ],
        [
         671.69,
         39,
         32,
         0,
         0,
         2,
         1
        ],
        [
         486.1,
         22,
         238,
         0,
         0,
         0,
         0
        ],
        [
         1174.58,
         53,
         23,
         1,
         1,
         2,
         1
        ],
        [
         185.9,
         10,
         114,
         0,
         0,
         2,
         1
        ],
        [
         1013.26,
         47,
         24,
         0,
         1,
         2,
         1
        ],
        [
         477.9100000000001,
         31,
         129,
         0,
         0,
         2,
         0
        ],
        [
         1775.1800000000005,
         73,
         33,
         1,
         1,
         1,
         1
        ],
        [
         1346.9700000000003,
         45,
         4,
         1,
         1,
         2,
         1
        ],
        [
         318.05,
         21,
         154,
         0,
         0,
         0,
         1
        ],
        [
         623.5099999999999,
         31,
         106,
         0,
         0,
         2,
         0
        ],
        [
         314.44,
         20,
         2,
         0,
         0,
         2,
         1
        ],
        [
         2209.8500000000004,
         43,
         148,
         1,
         1,
         1,
         0
        ],
        [
         601.98,
         38,
         10,
         0,
         0,
         2,
         1
        ],
        [
         1643.18,
         47,
         10,
         1,
         1,
         1,
         1
        ],
        [
         686.0500000000001,
         36,
         18,
         0,
         0,
         2,
         1
        ],
        [
         91.68,
         5,
         29,
         0,
         0,
         2,
         1
        ],
        [
         245.10000000000002,
         13,
         10,
         0,
         0,
         2,
         1
        ],
        [
         63,
         3,
         324,
         0,
         0,
         0,
         0
        ],
        [
         620.13,
         33,
         57,
         0,
         0,
         2,
         1
        ],
        [
         2744.0300000000007,
         101,
         150,
         1,
         1,
         1,
         2
        ],
        [
         610.52,
         42,
         4,
         0,
         0,
         2,
         1
        ],
        [
         1970.6000000000006,
         83,
         38,
         1,
         1,
         1,
         2
        ],
        [
         1331.3900000000006,
         45,
         24,
         1,
         1,
         2,
         1
        ],
        [
         1113.0200000000002,
         48,
         58,
         0,
         1,
         2,
         1
        ],
        [
         862.81,
         52,
         0,
         0,
         0,
         2,
         1
        ],
        [
         2283.6299999999997,
         105,
         7,
         1,
         1,
         1,
         2
        ],
        [
         2863.0800000000004,
         157,
         27,
         1,
         1,
         1,
         3
        ],
        [
         1247.61,
         72,
         25,
         1,
         1,
         1,
         1
        ],
        [
         389.00999999999993,
         16,
         205,
         0,
         0,
         0,
         0
        ],
        [
         1035.8,
         32,
         27,
         0,
         1,
         2,
         1
        ],
        [
         855.9099999999997,
         39,
         126,
         0,
         0,
         2,
         0
        ],
        [
         869.6699999999998,
         37,
         69,
         0,
         1,
         2,
         1
        ],
        [
         582.1,
         27,
         6,
         0,
         0,
         2,
         1
        ],
        [
         957.5899999999999,
         41,
         28,
         0,
         1,
         2,
         1
        ],
        [
         797.7099999999999,
         53,
         79,
         0,
         0,
         2,
         1
        ],
        [
         219,
         12,
         19,
         0,
         0,
         2,
         1
        ],
        [
         283.54999999999995,
         21,
         70,
         0,
         0,
         2,
         1
        ],
        [
         2340.84,
         88,
         6,
         1,
         1,
         1,
         2
        ],
        [
         603.42,
         33,
         291,
         0,
         0,
         0,
         0
        ],
        [
         2712.9100000000008,
         157,
         29,
         1,
         1,
         1,
         3
        ],
        [
         1149.0200000000007,
         77,
         96,
         1,
         1,
         1,
         1
        ],
        [
         848.5499999999998,
         38,
         0,
         0,
         1,
         2,
         1
        ],
        [
         353.85999999999996,
         21,
         105,
         0,
         0,
         2,
         1
        ],
        [
         1053.4899999999996,
         69,
         3,
         1,
         1,
         2,
         1
        ],
        [
         1030.98,
         55,
         150,
         0,
         0,
         2,
         0
        ],
        [
         238.25000000000003,
         19,
         70,
         0,
         0,
         2,
         1
        ],
        [
         644.9499999999999,
         39,
         4,
         0,
         0,
         2,
         1
        ],
        [
         2656.130000000001,
         161,
         31,
         1,
         1,
         1,
         3
        ],
        [
         997.6299999999999,
         53,
         84,
         0,
         1,
         2,
         1
        ],
        [
         725.0699999999998,
         69,
         3,
         1,
         1,
         2,
         1
        ],
        [
         1031.4099999999999,
         53,
         4,
         1,
         1,
         2,
         1
        ],
        [
         2609.1000000000004,
         124,
         27,
         1,
         1,
         1,
         2
        ],
        [
         836.3299999999999,
         46,
         70,
         0,
         0,
         2,
         1
        ],
        [
         453.0100000000001,
         26,
         113,
         0,
         0,
         2,
         1
        ],
        [
         236.2600000000001,
         12,
         179,
         0,
         0,
         0,
         0
        ],
        [
         383.95,
         22,
         233,
         0,
         0,
         0,
         0
        ],
        [
         779.5699999999998,
         43,
         314,
         0,
         0,
         0,
         0
        ],
        [
         1013.0400000000001,
         38,
         77,
         0,
         1,
         2,
         1
        ],
        [
         427.5999999999999,
         27,
         63,
         0,
         0,
         2,
         1
        ],
        [
         546.4299999999997,
         134,
         133,
         1,
         1,
         1,
         0
        ],
        [
         275.88,
         15,
         128,
         0,
         0,
         2,
         1
        ],
        [
         112.08000000000001,
         4,
         86,
         0,
         0,
         2,
         1
        ],
        [
         2791.590000000001,
         97,
         116,
         1,
         1,
         1,
         2
        ],
        [
         1531.4400000000007,
         95,
         51,
         1,
         1,
         1,
         2
        ],
        [
         1898.5200000000004,
         69,
         7,
         1,
         1,
         1,
         1
        ],
        [
         494.08,
         18,
         137,
         0,
         0,
         0,
         1
        ],
        [
         1693.8800000000003,
         45,
         316,
         0,
         0,
         0,
         0
        ],
        [
         1143.6000000000001,
         32,
         238,
         0,
         0,
         0,
         0
        ],
        [
         1351.4499999999998,
         12,
         210,
         0,
         1,
         0,
         0
        ],
        [
         892.4700000000004,
         55,
         59,
         0,
         1,
         2,
         1
        ],
        [
         1386.0400000000004,
         66,
         16,
         1,
         1,
         1,
         1
        ],
        [
         822.2300000000001,
         50,
         19,
         0,
         0,
         2,
         1
        ],
        [
         826.7400000000001,
         25,
         63,
         0,
         0,
         2,
         1
        ],
        [
         2330.9200000000014,
         103,
         4,
         1,
         1,
         1,
         2
        ],
        [
         2225.91,
         84,
         1,
         1,
         1,
         1,
         2
        ],
        [
         574.42,
         59,
         8,
         0,
         0,
         2,
         1
        ],
        [
         463.65999999999997,
         20,
         9,
         0,
         0,
         2,
         1
        ],
        [
         91.85000000000001,
         4,
         64,
         0,
         0,
         2,
         1
        ],
        [
         324.9200000000001,
         21,
         191,
         0,
         0,
         0,
         0
        ],
        [
         400.54,
         25,
         256,
         0,
         0,
         0,
         0
        ],
        [
         860.4099999999999,
         45,
         52,
         0,
         1,
         2,
         1
        ],
        [
         430.4800000000001,
         14,
         18,
         0,
         0,
         2,
         1
        ],
        [
         427.5799999999999,
         25,
         186,
         0,
         0,
         0,
         0
        ],
        [
         483.65000000000015,
         28,
         36,
         0,
         0,
         2,
         1
        ],
        [
         489.31,
         25,
         177,
         0,
         0,
         0,
         0
        ],
        [
         514.85,
         31,
         260,
         0,
         0,
         0,
         0
        ],
        [
         229.63999999999993,
         15,
         44,
         0,
         0,
         2,
         1
        ],
        [
         125.92,
         2,
         101,
         0,
         0,
         2,
         1
        ],
        [
         1063.46,
         47,
         147,
         0,
         0,
         2,
         0
        ],
        [
         572.2,
         29,
         95,
         0,
         0,
         2,
         1
        ],
        [
         166.04,
         4,
         280,
         0,
         0,
         0,
         0
        ],
        [
         1542.08,
         14,
         261,
         0,
         0,
         0,
         0
        ],
        [
         942.3399999999999,
         59,
         2,
         1,
         1,
         2,
         1
        ],
        [
         92.72,
         6,
         213,
         0,
         0,
         0,
         0
        ],
        [
         948.8799999999999,
         46,
         70,
         0,
         1,
         2,
         1
        ],
        [
         1759.5,
         5,
         74,
         0,
         1,
         2,
         2
        ],
        [
         397.11999999999995,
         25,
         59,
         0,
         0,
         2,
         1
        ],
        [
         1474.7199999999993,
         91,
         2,
         1,
         1,
         1,
         1
        ],
        [
         430.15,
         25,
         5,
         0,
         0,
         2,
         1
        ],
        [
         1018.7100000000003,
         56,
         2,
         1,
         1,
         2,
         1
        ],
        [
         215.05,
         9,
         261,
         0,
         0,
         0,
         0
        ],
        [
         383.03000000000003,
         27,
         31,
         0,
         0,
         2,
         1
        ],
        [
         417.37999999999994,
         24,
         144,
         0,
         0,
         0,
         1
        ],
        [
         312.38,
         18,
         282,
         0,
         0,
         0,
         0
        ],
        [
         2612.8599999999988,
         175,
         58,
         1,
         1,
         1,
         3
        ],
        [
         134.1,
         12,
         172,
         0,
         0,
         0,
         0
        ],
        [
         683.1299999999994,
         123,
         33,
         1,
         1,
         1,
         1
        ],
        [
         2726.769999999999,
         113,
         143,
         1,
         1,
         1,
         2
        ],
        [
         1118.99,
         34,
         69,
         0,
         1,
         2,
         1
        ],
        [
         1702.26,
         103,
         65,
         1,
         1,
         1,
         2
        ],
        [
         325.9599999999999,
         52,
         28,
         0,
         0,
         2,
         1
        ],
        [
         354.09000000000003,
         27,
         266,
         0,
         0,
         0,
         0
        ],
        [
         871.5399999999998,
         91,
         21,
         1,
         1,
         2,
         1
        ],
        [
         1050.8899999999999,
         51,
         30,
         1,
         1,
         2,
         1
        ],
        [
         135.17999999999995,
         50,
         96,
         0,
         0,
         2,
         1
        ],
        [
         311.54999999999995,
         17,
         294,
         0,
         0,
         0,
         0
        ],
        [
         1957.1,
         78,
         134,
         1,
         1,
         1,
         2
        ],
        [
         1324.5000000000007,
         110,
         78,
         1,
         1,
         1,
         1
        ],
        [
         1106.4000000000003,
         46,
         210,
         0,
         0,
         0,
         0
        ],
        [
         521.2,
         5,
         51,
         0,
         0,
         2,
         1
        ],
        [
         147.12,
         3,
         137,
         0,
         0,
         0,
         1
        ],
        [
         1568.229999999999,
         95,
         25,
         1,
         1,
         1,
         1
        ],
        [
         559.1199999999999,
         26,
         282,
         0,
         0,
         0,
         0
        ],
        [
         1607.0600000000009,
         107,
         185,
         1,
         1,
         1,
         0
        ],
        [
         380.64000000000004,
         11,
         83,
         0,
         0,
         2,
         1
        ],
        [
         599.9699999999998,
         66,
         326,
         0,
         0,
         0,
         0
        ],
        [
         374,
         4,
         281,
         0,
         0,
         0,
         0
        ],
        [
         343.2300000000001,
         2,
         142,
         0,
         0,
         0,
         1
        ],
        [
         2218.0200000000004,
         85,
         57,
         1,
         1,
         1,
         2
        ],
        [
         1535.7700000000007,
         154,
         3,
         1,
         1,
         1,
         3
        ],
        [
         854.9899999999999,
         47,
         235,
         0,
         0,
         0,
         0
        ],
        [
         573.22,
         10,
         44,
         0,
         0,
         2,
         1
        ],
        [
         298,
         7,
         275,
         0,
         0,
         0,
         0
        ],
        [
         1463.0399999999995,
         13,
         8,
         0,
         1,
         2,
         1
        ],
        [
         703.4700000000001,
         42,
         24,
         0,
         0,
         2,
         1
        ],
        [
         309.05000000000007,
         7,
         87,
         0,
         0,
         2,
         1
        ],
        [
         1175.2199999999996,
         71,
         62,
         1,
         1,
         2,
         1
        ],
        [
         1378.4,
         82,
         67,
         1,
         1,
         1,
         1
        ],
        [
         354.12,
         5,
         213,
         0,
         0,
         0,
         0
        ],
        [
         380.46999999999997,
         82,
         23,
         0,
         1,
         2,
         1
        ],
        [
         331,
         3,
         185,
         0,
         0,
         0,
         0
        ],
        [
         188.14,
         34,
         30,
         0,
         0,
         2,
         1
        ],
        [
         372.79999999999995,
         22,
         41,
         0,
         0,
         2,
         1
        ],
        [
         216.5,
         4,
         204,
         0,
         0,
         0,
         0
        ],
        [
         138.68,
         10,
         264,
         0,
         0,
         0,
         0
        ],
        [
         509.57999999999976,
         72,
         17,
         0,
         1,
         2,
         1
        ],
        [
         2919.809999999999,
         63,
         11,
         1,
         1,
         1,
         2
        ],
        [
         750,
         2,
         175,
         0,
         0,
         0,
         0
        ],
        [
         2178.67,
         91,
         39,
         1,
         1,
         1,
         2
        ],
        [
         1662.3,
         24,
         2,
         1,
         1,
         2,
         2
        ],
        [
         2483.6299999999997,
         50,
         4,
         1,
         1,
         1,
         2
        ],
        [
         363.65,
         22,
         148,
         0,
         0,
         0,
         1
        ],
        [
         594,
         2,
         127,
         0,
         0,
         2,
         0
        ],
        [
         1335.1899999999998,
         50,
         7,
         1,
         1,
         2,
         1
        ],
        [
         164.23000000000002,
         28,
         16,
         0,
         0,
         2,
         1
        ],
        [
         405.38,
         28,
         160,
         0,
         0,
         0,
         0
        ],
        [
         176.97,
         29,
         63,
         0,
         0,
         2,
         1
        ],
        [
         933.7000000000003,
         30,
         87,
         0,
         0,
         2,
         1
        ],
        [
         694.0499999999998,
         45,
         4,
         0,
         0,
         2,
         1
        ],
        [
         2062.6999999999994,
         84,
         34,
         1,
         1,
         1,
         2
        ],
        [
         117.85000000000001,
         8,
         311,
         0,
         0,
         0,
         0
        ],
        [
         415.8,
         25,
         77,
         0,
         0,
         2,
         1
        ],
        [
         607.5299999999999,
         106,
         23,
         1,
         1,
         2,
         1
        ],
        [
         2160.6999999999994,
         129,
         1,
         1,
         1,
         1,
         2
        ],
        [
         1063.9000000000005,
         62,
         16,
         1,
         1,
         2,
         1
        ],
        [
         1504.2700000000004,
         120,
         14,
         1,
         1,
         1,
         1
        ],
        [
         114.14,
         9,
         25,
         0,
         0,
         2,
         1
        ],
        [
         913.5400000000001,
         99,
         54,
         1,
         1,
         1,
         1
        ],
        [
         683.9000000000001,
         75,
         130,
         0,
         0,
         2,
         0
        ],
        [
         604.51,
         30,
         35,
         0,
         0,
         2,
         1
        ],
        [
         462.95000000000005,
         23,
         287,
         0,
         0,
         0,
         0
        ],
        [
         1603.9900000000002,
         97,
         143,
         1,
         1,
         1,
         2
        ],
        [
         2064.95,
         116,
         15,
         1,
         1,
         1,
         2
        ],
        [
         1843,
         23,
         1,
         1,
         1,
         2,
         2
        ],
        [
         1064.0700000000004,
         63,
         8,
         1,
         1,
         2,
         1
        ],
        [
         1387.7900000000004,
         79,
         5,
         1,
         1,
         1,
         1
        ],
        [
         329.84999999999997,
         17,
         9,
         0,
         0,
         2,
         1
        ],
        [
         108.07,
         19,
         305,
         0,
         0,
         0,
         0
        ],
        [
         266.39000000000004,
         16,
         6,
         0,
         0,
         2,
         1
        ],
        [
         1856.6299999999997,
         95,
         7,
         1,
         1,
         1,
         2
        ],
        [
         771.9099999999996,
         109,
         88,
         1,
         1,
         1,
         1
        ],
        [
         160.18,
         10,
         9,
         0,
         0,
         2,
         1
        ],
        [
         135.95,
         5,
         111,
         0,
         0,
         2,
         1
        ],
        [
         452.23999999999995,
         151,
         6,
         1,
         1,
         1,
         1
        ],
        [
         144.8,
         8,
         197,
         0,
         0,
         0,
         0
        ],
        [
         738.6,
         22,
         211,
         0,
         0,
         0,
         0
        ],
        [
         39.24,
         9,
         155,
         0,
         0,
         0,
         0
        ],
        [
         372.21999999999997,
         20,
         29,
         0,
         0,
         2,
         1
        ],
        [
         390.53999999999996,
         28,
         242,
         0,
         0,
         0,
         0
        ],
        [
         97.5,
         4,
         18,
         0,
         0,
         2,
         1
        ],
        [
         1239.38,
         76,
         0,
         1,
         1,
         1,
         1
        ],
        [
         558.7,
         28,
         73,
         0,
         0,
         2,
         1
        ],
        [
         535.32,
         92,
         291,
         0,
         0,
         0,
         0
        ],
        [
         409.50000000000006,
         13,
         30,
         0,
         0,
         2,
         1
        ],
        [
         503.76,
         31,
         22,
         0,
         0,
         2,
         1
        ],
        [
         414.75999999999993,
         27,
         22,
         0,
         0,
         2,
         1
        ],
        [
         974.42,
         61,
         3,
         1,
         1,
         2,
         1
        ],
        [
         211.32,
         3,
         84,
         0,
         0,
         2,
         1
        ],
        [
         1226.89,
         59,
         21,
         1,
         1,
         2,
         1
        ],
        [
         455.8799999999999,
         28,
         195,
         0,
         0,
         0,
         0
        ],
        [
         534.8500000000001,
         31,
         106,
         0,
         0,
         2,
         1
        ],
        [
         120.94999999999999,
         7,
         317,
         0,
         0,
         0,
         0
        ],
        [
         149.05,
         6,
         105,
         0,
         0,
         2,
         1
        ],
        [
         513.7,
         26,
         173,
         0,
         0,
         0,
         0
        ],
        [
         81.57,
         4,
         55,
         0,
         0,
         2,
         1
        ],
        [
         229.47000000000003,
         14,
         322,
         0,
         0,
         0,
         0
        ],
        [
         1661.8400000000008,
         89,
         8,
         1,
         1,
         1,
         1
        ],
        [
         789.8899999999996,
         47,
         72,
         0,
         0,
         2,
         1
        ],
        [
         204,
         1,
         6,
         0,
         0,
         2,
         1
        ],
        [
         2616.38,
         131,
         3,
         1,
         1,
         1,
         2
        ],
        [
         689.9000000000001,
         40,
         63,
         0,
         0,
         2,
         1
        ],
        [
         975.3599999999998,
         40,
         0,
         0,
         1,
         2,
         1
        ],
        [
         661.32,
         45,
         22,
         0,
         0,
         2,
         1
        ],
        [
         1247.5,
         10,
         30,
         0,
         1,
         2,
         1
        ],
        [
         799.4800000000001,
         99,
         10,
         1,
         1,
         1,
         1
        ],
        [
         1010.1799999999997,
         71,
         51,
         1,
         1,
         2,
         1
        ],
        [
         642.77,
         37,
         54,
         0,
         0,
         2,
         1
        ],
        [
         921.8800000000002,
         27,
         73,
         0,
         0,
         2,
         1
        ],
        [
         881.07,
         48,
         137,
         0,
         0,
         2,
         0
        ],
        [
         908.46,
         28,
         79,
         0,
         0,
         2,
         1
        ],
        [
         676.9900000000001,
         43,
         8,
         0,
         0,
         2,
         1
        ],
        [
         516.4200000000001,
         13,
         272,
         0,
         0,
         0,
         0
        ],
        [
         560.4700000000001,
         33,
         290,
         0,
         0,
         0,
         0
        ],
        [
         305.28,
         18,
         98,
         0,
         0,
         2,
         1
        ],
        [
         629.31,
         35,
         30,
         0,
         0,
         2,
         1
        ],
        [
         1835.9099999999994,
         136,
         13,
         1,
         1,
         1,
         2
        ],
        [
         656.6800000000002,
         14,
         63,
         0,
         0,
         2,
         1
        ],
        [
         348.15000000000003,
         18,
         211,
         0,
         0,
         0,
         0
        ],
        [
         1214.41,
         76,
         77,
         1,
         1,
         1,
         1
        ],
        [
         271.4,
         8,
         24,
         0,
         0,
         2,
         1
        ],
        [
         183.4,
         8,
         249,
         0,
         0,
         0,
         0
        ],
        [
         307.53000000000003,
         15,
         253,
         0,
         0,
         0,
         0
        ],
        [
         248.61,
         10,
         71,
         0,
         0,
         2,
         1
        ],
        [
         346.98,
         11,
         190,
         0,
         0,
         0,
         0
        ],
        [
         1119.4900000000005,
         69,
         12,
         1,
         1,
         2,
         1
        ],
        [
         470.80000000000007,
         48,
         23,
         0,
         0,
         2,
         1
        ],
        [
         115.46000000000002,
         15,
         81,
         0,
         0,
         2,
         1
        ],
        [
         344,
         2,
         9,
         0,
         0,
         2,
         1
        ],
        [
         228.8,
         9,
         191,
         0,
         0,
         0,
         0
        ],
        [
         177.14999999999998,
         7,
         266,
         0,
         0,
         0,
         0
        ],
        [
         919.61,
         22,
         129,
         0,
         0,
         2,
         0
        ],
        [
         729.2700000000001,
         112,
         0,
         1,
         1,
         1,
         1
        ],
        [
         220.09999999999997,
         6,
         3,
         0,
         0,
         2,
         1
        ],
        [
         58.08,
         6,
         178,
         0,
         0,
         0,
         0
        ],
        [
         303.75,
         18,
         3,
         0,
         0,
         2,
         1
        ],
        [
         416.08000000000004,
         22,
         157,
         0,
         0,
         0,
         0
        ],
        [
         345.82,
         21,
         27,
         0,
         0,
         2,
         1
        ],
        [
         477.83,
         25,
         70,
         0,
         0,
         2,
         1
        ],
        [
         1927.3200000000002,
         24,
         20,
         1,
         1,
         1,
         2
        ],
        [
         74.4,
         6,
         70,
         0,
         0,
         2,
         1
        ],
        [
         207.35999999999999,
         1,
         98,
         0,
         0,
         2,
         1
        ],
        [
         101.18999999999998,
         8,
         233,
         0,
         0,
         0,
         0
        ],
        [
         243.94,
         8,
         39,
         0,
         0,
         2,
         1
        ],
        [
         1098.48,
         20,
         2,
         0,
         1,
         2,
         1
        ],
        [
         76.5,
         1,
         132,
         0,
         0,
         0,
         1
        ],
        [
         1531.6200000000003,
         58,
         43,
         1,
         1,
         1,
         1
        ],
        [
         786.5400000000001,
         47,
         59,
         0,
         0,
         2,
         1
        ],
        [
         1488.6700000000012,
         145,
         30,
         1,
         1,
         1,
         3
        ],
        [
         2294.7800000000007,
         120,
         11,
         1,
         1,
         1,
         2
        ],
        [
         501.14000000000004,
         30,
         137,
         0,
         0,
         2,
         0
        ],
        [
         984.9099999999996,
         76,
         21,
         1,
         1,
         2,
         1
        ],
        [
         1197.8099999999995,
         79,
         19,
         1,
         1,
         1,
         1
        ],
        [
         30.599999999999998,
         1,
         238,
         0,
         0,
         0,
         0
        ],
        [
         283.7299999999999,
         50,
         268,
         0,
         0,
         0,
         0
        ],
        [
         922.3900000000002,
         55,
         93,
         0,
         1,
         2,
         1
        ],
        [
         2099.6399999999994,
         140,
         4,
         1,
         1,
         1,
         2
        ],
        [
         259.16999999999996,
         15,
         77,
         0,
         0,
         2,
         1
        ],
        [
         64,
         2,
         93,
         0,
         0,
         2,
         1
        ],
        [
         1073.2999999999997,
         44,
         22,
         0,
         1,
         2,
         1
        ],
        [
         77.3,
         3,
         261,
         0,
         0,
         0,
         0
        ],
        [
         109.80000000000001,
         7,
         273,
         0,
         0,
         0,
         0
        ],
        [
         1793.58,
         98,
         85,
         1,
         1,
         1,
         2
        ],
        [
         2607.6099999999997,
         127,
         55,
         1,
         1,
         1,
         2
        ],
        [
         962.3900000000001,
         63,
         21,
         1,
         1,
         2,
         1
        ],
        [
         423.71999999999997,
         46,
         107,
         0,
         0,
         2,
         0
        ],
        [
         2388.7499999999995,
         135,
         84,
         1,
         1,
         1,
         2
        ],
        [
         307.0899999999999,
         23,
         18,
         0,
         0,
         2,
         1
        ],
        [
         618.52,
         6,
         39,
         0,
         0,
         2,
         1
        ],
        [
         228.91,
         17,
         25,
         0,
         0,
         2,
         1
        ],
        [
         712.8000000000001,
         4,
         9,
         0,
         0,
         2,
         1
        ],
        [
         1676.0599999999997,
         86,
         13,
         1,
         1,
         1,
         1
        ],
        [
         1257.8700000000003,
         74,
         295,
         0,
         0,
         0,
         0
        ],
        [
         486.22,
         15,
         5,
         0,
         0,
         2,
         1
        ],
        [
         971.76,
         85,
         32,
         1,
         1,
         1,
         1
        ],
        [
         1741.2199999999991,
         87,
         48,
         1,
         1,
         1,
         2
        ],
        [
         1201.0600000000004,
         79,
         94,
         1,
         1,
         1,
         1
        ],
        [
         1437.8500000000006,
         121,
         8,
         1,
         1,
         1,
         1
        ],
        [
         91.8,
         4,
         21,
         0,
         0,
         2,
         1
        ],
        [
         112.75,
         8,
         312,
         0,
         0,
         0,
         0
        ],
        [
         1688.2899999999995,
         79,
         121,
         1,
         1,
         1,
         2
        ],
        [
         1021.4799999999999,
         42,
         45,
         0,
         1,
         2,
         1
        ],
        [
         417.19999999999993,
         41,
         282,
         0,
         0,
         0,
         0
        ],
        [
         791.3300000000002,
         65,
         18,
         1,
         1,
         2,
         1
        ],
        [
         1319.19,
         131,
         35,
         1,
         1,
         1,
         3
        ],
        [
         712.88,
         13,
         63,
         0,
         0,
         2,
         1
        ],
        [
         116.01000000000002,
         32,
         26,
         0,
         0,
         2,
         1
        ],
        [
         468.4099999999999,
         46,
         21,
         0,
         0,
         2,
         1
        ],
        [
         353.65000000000003,
         43,
         3,
         0,
         0,
         2,
         1
        ],
        [
         492.8400000000001,
         72,
         45,
         0,
         0,
         2,
         1
        ],
        [
         282.45,
         17,
         64,
         0,
         0,
         2,
         1
        ],
        [
         121.17999999999999,
         11,
         44,
         0,
         0,
         2,
         1
        ],
        [
         1701.2900000000009,
         181,
         14,
         1,
         1,
         1,
         3
        ],
        [
         71.4,
         1,
         267,
         0,
         0,
         0,
         0
        ],
        [
         1575.8900000000003,
         79,
         39,
         1,
         1,
         1,
         1
        ],
        [
         114.60000000000001,
         2,
         10,
         0,
         0,
         2,
         1
        ],
        [
         260.68,
         29,
         18,
         0,
         0,
         2,
         1
        ],
        [
         911.9400000000002,
         63,
         94,
         0,
         1,
         2,
         1
        ],
        [
         117.88000000000001,
         29,
         60,
         0,
         0,
         2,
         1
        ],
        [
         60.7,
         3,
         135,
         0,
         0,
         0,
         1
        ],
        [
         1797.78,
         110,
         10,
         1,
         1,
         1,
         1
        ],
        [
         870.09,
         46,
         18,
         0,
         0,
         2,
         1
        ],
        [
         869.4599999999999,
         57,
         9,
         1,
         0,
         2,
         1
        ],
        [
         250.26000000000002,
         8,
         14,
         0,
         0,
         2,
         1
        ],
        [
         1223.8999999999999,
         149,
         58,
         1,
         1,
         1,
         3
        ],
        [
         353.47999999999996,
         22,
         93,
         0,
         0,
         2,
         1
        ],
        [
         1197.4199999999998,
         56,
         9,
         1,
         1,
         2,
         1
        ],
        [
         788.0799999999998,
         142,
         19,
         1,
         1,
         1,
         1
        ],
        [
         1520.5800000000004,
         90,
         56,
         1,
         1,
         1,
         2
        ],
        [
         333.74,
         5,
         267,
         0,
         0,
         0,
         0
        ],
        [
         533.98,
         4,
         121,
         0,
         0,
         2,
         0
        ],
        [
         62.64,
         5,
         126,
         0,
         0,
         0,
         1
        ],
        [
         819.29,
         21,
         77,
         0,
         0,
         2,
         1
        ],
        [
         847.4100000000001,
         66,
         239,
         0,
         0,
         0,
         0
        ],
        [
         163.20000000000002,
         5,
         199,
         0,
         0,
         0,
         0
        ],
        [
         2155.9499999999994,
         108,
         59,
         1,
         1,
         1,
         2
        ],
        [
         108.21000000000001,
         16,
         272,
         0,
         0,
         0,
         0
        ],
        [
         257.7,
         9,
         201,
         0,
         0,
         0,
         0
        ],
        [
         358,
         2,
         80,
         0,
         0,
         2,
         1
        ],
        [
         160.95,
         10,
         225,
         0,
         0,
         0,
         0
        ],
        [
         1357.6000000000015,
         207,
         12,
         1,
         1,
         1,
         3
        ],
        [
         605.1200000000001,
         43,
         73,
         0,
         0,
         2,
         1
        ],
        [
         1031.0699999999997,
         58,
         211,
         0,
         0,
         0,
         0
        ],
        [
         744.8500000000003,
         36,
         24,
         0,
         0,
         2,
         1
        ],
        [
         700.7300000000001,
         31,
         16,
         0,
         0,
         2,
         1
        ],
        [
         329.56,
         21,
         261,
         0,
         0,
         0,
         0
        ],
        [
         663.6500000000001,
         67,
         95,
         0,
         0,
         2,
         1
        ],
        [
         270.40000000000003,
         13,
         111,
         0,
         0,
         2,
         1
        ],
        [
         600.07,
         58,
         202,
         0,
         0,
         0,
         0
        ],
        [
         121.74000000000001,
         27,
         92,
         0,
         0,
         2,
         1
        ],
        [
         430.5,
         16,
         50,
         0,
         0,
         2,
         1
        ],
        [
         1987.3000000000009,
         141,
         17,
         1,
         1,
         1,
         2
        ],
        [
         501.12,
         25,
         17,
         0,
         0,
         2,
         1
        ],
        [
         465.6799999999999,
         26,
         124,
         0,
         0,
         2,
         1
        ],
        [
         711.41,
         23,
         91,
         0,
         0,
         2,
         1
        ],
        [
         1030.3999999999999,
         36,
         156,
         0,
         0,
         0,
         0
        ],
        [
         399.51,
         13,
         8,
         0,
         0,
         2,
         1
        ],
        [
         698.5799999999999,
         38,
         11,
         0,
         0,
         2,
         1
        ],
        [
         292.3199999999999,
         87,
         61,
         0,
         1,
         2,
         1
        ],
        [
         557.6200000000001,
         8,
         60,
         0,
         0,
         2,
         1
        ],
        [
         944.1,
         9,
         268,
         0,
         0,
         0,
         0
        ],
        [
         200.29000000000002,
         11,
         262,
         0,
         0,
         0,
         0
        ],
        [
         2107.6600000000008,
         91,
         52,
         1,
         1,
         1,
         2
        ],
        [
         217.3799999999999,
         96,
         36,
         0,
         1,
         2,
         1
        ],
        [
         276.56000000000006,
         15,
         30,
         0,
         0,
         2,
         1
        ],
        [
         138.97999999999996,
         16,
         112,
         0,
         0,
         2,
         1
        ],
        [
         590.93,
         30,
         63,
         0,
         0,
         2,
         1
        ],
        [
         258.4,
         8,
         15,
         0,
         0,
         2,
         1
        ],
        [
         542.73,
         46,
         40,
         0,
         0,
         2,
         1
        ],
        [
         137.75,
         9,
         77,
         0,
         0,
         2,
         1
        ],
        [
         814.8600000000001,
         85,
         121,
         0,
         0,
         2,
         0
        ],
        [
         1132.1399999999999,
         37,
         17,
         0,
         1,
         2,
         1
        ],
        [
         93.66,
         7,
         59,
         0,
         0,
         2,
         1
        ],
        [
         2709.1200000000003,
         187,
         22,
         1,
         1,
         1,
         3
        ],
        [
         361.10999999999996,
         42,
         155,
         0,
         0,
         0,
         0
        ],
        [
         578.9399999999999,
         31,
         38,
         0,
         0,
         2,
         1
        ],
        [
         873.7399999999998,
         54,
         189,
         0,
         0,
         0,
         0
        ],
        [
         87.4,
         5,
         136,
         0,
         0,
         0,
         1
        ],
        [
         2089.8500000000004,
         59,
         7,
         1,
         1,
         1,
         2
        ],
        [
         360,
         2,
         0,
         0,
         0,
         2,
         1
        ],
        [
         142.5,
         5,
         267,
         0,
         0,
         0,
         0
        ],
        [
         371.89000000000004,
         20,
         168,
         0,
         0,
         0,
         0
        ],
        [
         618.0899999999998,
         81,
         103,
         0,
         1,
         2,
         1
        ],
        [
         63.75,
         1,
         154,
         0,
         0,
         0,
         0
        ],
        [
         2000.8599999999992,
         81,
         3,
         1,
         1,
         1,
         2
        ],
        [
         15,
         1,
         119,
         0,
         0,
         2,
         1
        ],
        [
         1385.51,
         54,
         22,
         1,
         1,
         2,
         1
        ],
        [
         1456.7899999999993,
         107,
         6,
         1,
         1,
         1,
         1
        ],
        [
         1132.0300000000002,
         72,
         27,
         1,
         1,
         2,
         1
        ],
        [
         598.57,
         26,
         3,
         0,
         0,
         2,
         1
        ],
        [
         1555.3199999999993,
         78,
         21,
         1,
         1,
         1,
         1
        ],
        [
         775.9400000000002,
         62,
         1,
         1,
         0,
         2,
         1
        ],
        [
         2273.679999999999,
         124,
         65,
         1,
         1,
         1,
         2
        ],
        [
         640.76,
         20,
         0,
         0,
         0,
         2,
         1
        ],
        [
         1548.7000000000003,
         106,
         77,
         1,
         1,
         1,
         2
        ],
        [
         567.36,
         11,
         71,
         0,
         0,
         2,
         1
        ],
        [
         199.48,
         25,
         16,
         0,
         0,
         2,
         1
        ],
        [
         787.85,
         21,
         2,
         0,
         0,
         2,
         1
        ],
        [
         675.3,
         12,
         81,
         0,
         0,
         2,
         1
        ],
        [
         1308.48,
         17,
         315,
         0,
         0,
         0,
         0
        ],
        [
         789,
         17,
         31,
         0,
         0,
         2,
         1
        ],
        [
         1140.9299999999996,
         53,
         92,
         0,
         1,
         2,
         1
        ],
        [
         350.9,
         21,
         13,
         0,
         0,
         2,
         1
        ],
        [
         795.12,
         51,
         76,
         0,
         0,
         2,
         1
        ],
        [
         487.02,
         19,
         157,
         0,
         0,
         0,
         0
        ],
        [
         860.1200000000002,
         54,
         200,
         0,
         0,
         0,
         0
        ],
        [
         775.8499999999999,
         42,
         260,
         0,
         0,
         0,
         0
        ],
        [
         353.43,
         19,
         177,
         0,
         0,
         0,
         0
        ],
        [
         2543.720000000002,
         119,
         67,
         1,
         1,
         1,
         2
        ],
        [
         389.50000000000006,
         20,
         287,
         0,
         0,
         0,
         0
        ],
        [
         341.36,
         8,
         69,
         0,
         0,
         2,
         1
        ],
        [
         233.76,
         14,
         63,
         0,
         0,
         2,
         1
        ],
        [
         247.31999999999996,
         16,
         10,
         0,
         0,
         2,
         1
        ],
        [
         979.1199999999999,
         40,
         15,
         0,
         1,
         2,
         1
        ],
        [
         373.94,
         16,
         65,
         0,
         0,
         2,
         1
        ],
        [
         397.9800000000001,
         24,
         59,
         0,
         0,
         2,
         1
        ],
        [
         743.5300000000003,
         51,
         70,
         0,
         0,
         2,
         1
        ],
        [
         674.7,
         32,
         121,
         0,
         0,
         2,
         0
        ],
        [
         768.2400000000001,
         42,
         79,
         0,
         0,
         2,
         1
        ],
        [
         609.9500000000002,
         90,
         256,
         0,
         0,
         0,
         0
        ],
        [
         439.03000000000003,
         29,
         268,
         0,
         0,
         0,
         0
        ],
        [
         439.55999999999995,
         23,
         63,
         0,
         0,
         2,
         1
        ],
        [
         992.5000000000002,
         60,
         17,
         1,
         1,
         2,
         1
        ],
        [
         134.96,
         10,
         70,
         0,
         0,
         2,
         1
        ],
        [
         2225.3700000000013,
         128,
         33,
         1,
         1,
         1,
         2
        ],
        [
         56.160000000000004,
         1,
         49,
         0,
         0,
         2,
         1
        ],
        [
         623.4,
         29,
         256,
         0,
         0,
         0,
         0
        ],
        [
         378.64,
         23,
         89,
         0,
         0,
         2,
         1
        ],
        [
         778.6499999999997,
         37,
         88,
         0,
         0,
         2,
         0
        ],
        [
         1019.7600000000003,
         53,
         98,
         0,
         1,
         2,
         1
        ],
        [
         572.5599999999997,
         97,
         25,
         1,
         1,
         2,
         1
        ],
        [
         222.99,
         15,
         280,
         0,
         0,
         0,
         0
        ],
        [
         677.1000000000001,
         35,
         130,
         0,
         0,
         2,
         0
        ],
        [
         797.96,
         51,
         10,
         0,
         0,
         2,
         1
        ],
        [
         544.0799999999999,
         13,
         74,
         0,
         0,
         2,
         1
        ],
        [
         59.8,
         1,
         203,
         0,
         0,
         0,
         0
        ],
        [
         2520.0199999999995,
         155,
         1,
         1,
         1,
         1,
         3
        ],
        [
         307.72,
         21,
         184,
         0,
         0,
         0,
         0
        ],
        [
         1360.9899999999998,
         43,
         28,
         1,
         1,
         2,
         1
        ],
        [
         1544.1299999999997,
         38,
         72,
         1,
         1,
         2,
         2
        ],
        [
         457.3400000000001,
         26,
         191,
         0,
         0,
         0,
         0
        ],
        [
         621.2300000000002,
         39,
         126,
         0,
         0,
         2,
         0
        ],
        [
         75,
         3,
         17,
         0,
         0,
         2,
         1
        ],
        [
         252.48999999999998,
         11,
         0,
         0,
         0,
         2,
         1
        ],
        [
         572.4509999999999,
         27,
         73,
         0,
         0,
         2,
         1
        ],
        [
         1003.0600000000001,
         28,
         23,
         0,
         1,
         2,
         1
        ],
        [
         213.55000000000004,
         18,
         106,
         0,
         0,
         2,
         1
        ],
        [
         1390.5,
         24,
         133,
         0,
         1,
         2,
         1
        ],
        [
         712.5000000000001,
         19,
         43,
         0,
         0,
         2,
         1
        ],
        [
         640.83,
         28,
         4,
         0,
         0,
         2,
         1
        ],
        [
         221.05999999999995,
         16,
         63,
         0,
         0,
         2,
         1
        ],
        [
         159.85,
         8,
         149,
         0,
         0,
         0,
         0
        ],
        [
         1851.0799999999995,
         104,
         39,
         1,
         1,
         1,
         2
        ],
        [
         2626.3000000000006,
         127,
         63,
         1,
         1,
         1,
         2
        ],
        [
         1624.2099999999998,
         78,
         107,
         1,
         1,
         1,
         2
        ],
        [
         582.6,
         29,
         18,
         0,
         0,
         2,
         1
        ],
        [
         218.46999999999994,
         74,
         9,
         0,
         0,
         2,
         1
        ],
        [
         1006.8000000000001,
         67,
         10,
         1,
         1,
         2,
         1
        ],
        [
         679.45,
         49,
         18,
         0,
         0,
         2,
         1
        ],
        [
         1269.0999999999995,
         46,
         66,
         1,
         1,
         2,
         1
        ],
        [
         534.24,
         10,
         73,
         0,
         0,
         2,
         1
        ],
        [
         196.88999999999996,
         12,
         1,
         0,
         0,
         2,
         1
        ],
        [
         283.71,
         54,
         254,
         0,
         0,
         0,
         0
        ],
        [
         296.64000000000004,
         13,
         91,
         0,
         0,
         2,
         1
        ],
        [
         1129.14,
         59,
         22,
         1,
         1,
         2,
         1
        ],
        [
         291.88,
         19,
         23,
         0,
         0,
         2,
         1
        ],
        [
         2043.7200000000003,
         71,
         26,
         1,
         1,
         1,
         2
        ],
        [
         590,
         2,
         258,
         0,
         0,
         0,
         0
        ],
        [
         356.98,
         17,
         165,
         0,
         0,
         0,
         0
        ],
        [
         1058.34,
         46,
         24,
         0,
         1,
         2,
         1
        ],
        [
         1766.7199999999998,
         63,
         17,
         1,
         1,
         1,
         1
        ],
        [
         183.44,
         17,
         28,
         0,
         0,
         2,
         1
        ],
        [
         1445.0000000000002,
         27,
         38,
         1,
         1,
         2,
         1
        ],
        [
         151.5,
         9,
         252,
         0,
         0,
         0,
         0
        ],
        [
         674.6800000000002,
         41,
         57,
         0,
         0,
         2,
         1
        ],
        [
         307.90000000000003,
         17,
         183,
         0,
         0,
         0,
         0
        ],
        [
         1083.71,
         99,
         10,
         1,
         1,
         1,
         1
        ],
        [
         165,
         10,
         98,
         0,
         0,
         2,
         1
        ],
        [
         422.64,
         21,
         60,
         0,
         0,
         2,
         1
        ],
        [
         229.58999999999997,
         64,
         235,
         0,
         0,
         0,
         0
        ],
        [
         1431.7800000000009,
         86,
         190,
         1,
         1,
         1,
         0
        ],
        [
         1238.4699999999998,
         58,
         178,
         0,
         0,
         0,
         0
        ],
        [
         1454.579999999999,
         79,
         37,
         1,
         1,
         1,
         1
        ],
        [
         300.95,
         15,
         200,
         0,
         0,
         0,
         0
        ],
        [
         1804.5599999999993,
         109,
         45,
         1,
         1,
         1,
         2
        ],
        [
         184.64,
         11,
         231,
         0,
         0,
         0,
         0
        ],
        [
         140.34000000000003,
         10,
         65,
         0,
         0,
         2,
         1
        ],
        [
         313.79999999999995,
         8,
         240,
         0,
         0,
         0,
         0
        ],
        [
         454.24,
         23,
         232,
         0,
         0,
         0,
         0
        ],
        [
         1122.4099999999999,
         69,
         77,
         1,
         1,
         2,
         1
        ],
        [
         575.4000000000001,
         34,
         57,
         0,
         0,
         2,
         1
        ],
        [
         449.52,
         14,
         104,
         0,
         0,
         2,
         1
        ],
        [
         1215.82,
         86,
         51,
         1,
         1,
         1,
         1
        ],
        [
         1269.8400000000006,
         50,
         135,
         0,
         0,
         2,
         0
        ],
        [
         618.63,
         8,
         274,
         0,
         0,
         0,
         0
        ],
        [
         316.26,
         18,
         311,
         0,
         0,
         0,
         0
        ],
        [
         2044.8699999999997,
         48,
         7,
         1,
         1,
         1,
         2
        ],
        [
         653.3299999999999,
         35,
         10,
         0,
         0,
         2,
         1
        ],
        [
         348.04999999999995,
         19,
         282,
         0,
         0,
         0,
         0
        ],
        [
         1159.11,
         42,
         17,
         1,
         1,
         2,
         1
        ],
        [
         1166.7700000000002,
         65,
         22,
         1,
         1,
         2,
         1
        ],
        [
         1340.3199999999997,
         52,
         287,
         0,
         0,
         0,
         0
        ],
        [
         292,
         18,
         16,
         0,
         0,
         2,
         1
        ],
        [
         216.84999999999997,
         17,
         70,
         0,
         0,
         2,
         1
        ],
        [
         295.93,
         22,
         63,
         0,
         0,
         2,
         1
        ],
        [
         458.52000000000004,
         26,
         315,
         0,
         0,
         0,
         0
        ],
        [
         2479.159999999999,
         162,
         2,
         1,
         1,
         1,
         3
        ],
        [
         110.97,
         12,
         243,
         0,
         0,
         0,
         0
        ],
        [
         979.7200000000001,
         44,
         8,
         0,
         1,
         2,
         1
        ],
        [
         1791.5599999999984,
         115,
         0,
         1,
         1,
         1,
         2
        ],
        [
         251.20999999999998,
         15,
         260,
         0,
         0,
         0,
         0
        ],
        [
         205.09999999999997,
         10,
         126,
         0,
         0,
         2,
         1
        ],
        [
         152.20000000000002,
         4,
         73,
         0,
         0,
         2,
         1
        ],
        [
         891.1200000000002,
         59,
         72,
         0,
         1,
         2,
         1
        ],
        [
         1389.4100000000003,
         44,
         20,
         1,
         1,
         2,
         1
        ],
        [
         2128.42,
         141,
         59,
         1,
         1,
         1,
         2
        ],
        [
         659.4399999999998,
         38,
         85,
         0,
         0,
         2,
         1
        ],
        [
         122.75,
         8,
         77,
         0,
         0,
         2,
         1
        ],
        [
         125.80000000000001,
         5,
         29,
         0,
         0,
         2,
         1
        ],
        [
         680.1800000000001,
         27,
         40,
         0,
         0,
         2,
         1
        ],
        [
         628.78,
         6,
         14,
         0,
         0,
         2,
         1
        ],
        [
         2287.5100000000007,
         223,
         33,
         1,
         1,
         1,
         3
        ],
        [
         307.76,
         15,
         78,
         0,
         0,
         2,
         1
        ],
        [
         483.8000000000001,
         22,
         204,
         0,
         0,
         0,
         0
        ],
        [
         210.30999999999983,
         66,
         33,
         0,
         0,
         2,
         1
        ],
        [
         270.79000000000013,
         76,
         182,
         0,
         0,
         0,
         0
        ],
        [
         1280.85,
         25,
         42,
         0,
         1,
         2,
         1
        ],
        [
         631.3400000000001,
         37,
         85,
         0,
         0,
         2,
         1
        ],
        [
         291.4099999999999,
         87,
         39,
         0,
         1,
         2,
         1
        ],
        [
         626.9899999999999,
         98,
         11,
         1,
         1,
         2,
         1
        ],
        [
         682.41,
         124,
         95,
         1,
         1,
         1,
         1
        ],
        [
         918.1999999999998,
         51,
         25,
         0,
         1,
         2,
         1
        ],
        [
         91.80000000000001,
         4,
         318,
         0,
         0,
         0,
         0
        ],
        [
         584.0600000000001,
         34,
         27,
         0,
         0,
         2,
         1
        ],
        [
         605.0599999999998,
         175,
         5,
         1,
         1,
         1,
         3
        ],
        [
         174.37000000000003,
         33,
         6,
         0,
         0,
         2,
         1
        ],
        [
         141.86,
         14,
         215,
         0,
         0,
         0,
         0
        ],
        [
         1799.3299999999988,
         82,
         81,
         1,
         1,
         1,
         2
        ],
        [
         777.5300000000001,
         49,
         83,
         0,
         0,
         2,
         1
        ],
        [
         1749.0200000000004,
         83,
         143,
         1,
         1,
         1,
         2
        ],
        [
         240.22000000000006,
         38,
         18,
         0,
         0,
         2,
         1
        ],
        [
         874.7099999999997,
         176,
         40,
         1,
         1,
         1,
         3
        ],
        [
         192.85000000000005,
         44,
         172,
         0,
         0,
         0,
         0
        ],
        [
         373.74999999999994,
         85,
         16,
         0,
         1,
         2,
         1
        ],
        [
         239.49000000000004,
         27,
         242,
         0,
         0,
         0,
         0
        ],
        [
         1384.25,
         33,
         205,
         0,
         0,
         0,
         0
        ],
        [
         294.4,
         26,
         49,
         0,
         0,
         2,
         1
        ],
        [
         732.0699999999997,
         46,
         22,
         0,
         0,
         2,
         1
        ],
        [
         1687.5999999999988,
         83,
         24,
         1,
         1,
         1,
         1
        ],
        [
         467.03999999999996,
         23,
         14,
         0,
         0,
         2,
         1
        ],
        [
         117.99999999999999,
         10,
         308,
         0,
         0,
         0,
         0
        ],
        [
         781.0300000000002,
         53,
         155,
         0,
         0,
         0,
         0
        ],
        [
         142.40000000000003,
         24,
         306,
         0,
         0,
         0,
         0
        ],
        [
         712.4,
         8,
         63,
         0,
         0,
         2,
         1
        ],
        [
         2478.949999999998,
         174,
         15,
         1,
         1,
         1,
         3
        ],
        [
         379.65000000000003,
         21,
         14,
         0,
         0,
         2,
         1
        ],
        [
         1981.9199999999994,
         87,
         10,
         1,
         1,
         1,
         2
        ],
        [
         1117.1300000000003,
         58,
         64,
         1,
         1,
         2,
         1
        ],
        [
         247.95999999999995,
         16,
         35,
         0,
         0,
         2,
         1
        ],
        [
         2037.0800000000008,
         128,
         107,
         1,
         1,
         1,
         2
        ],
        [
         396.96999999999997,
         26,
         52,
         0,
         0,
         2,
         1
        ],
        [
         697.04,
         166,
         5,
         1,
         1,
         1,
         3
        ],
        [
         180.1700000000001,
         40,
         46,
         0,
         0,
         2,
         1
        ],
        [
         219.51999999999998,
         19,
         311,
         0,
         0,
         0,
         0
        ],
        [
         693.3200000000002,
         99,
         44,
         1,
         1,
         2,
         1
        ],
        [
         428.88999999999993,
         23,
         64,
         0,
         0,
         2,
         1
        ],
        [
         164.34,
         27,
         25,
         0,
         0,
         2,
         1
        ],
        [
         280.53999999999996,
         43,
         28,
         0,
         0,
         2,
         1
        ],
        [
         678.0099999999996,
         98,
         39,
         1,
         1,
         2,
         1
        ],
        [
         1131.8800000000006,
         226,
         11,
         1,
         1,
         1,
         3
        ],
        [
         1171.8000000000002,
         74,
         88,
         1,
         1,
         1,
         1
        ],
        [
         1610.460000000001,
         201,
         23,
         1,
         1,
         1,
         3
        ],
        [
         417.6900000000001,
         23,
         318,
         0,
         0,
         0,
         0
        ],
        [
         544.18,
         44,
         39,
         0,
         0,
         2,
         1
        ],
        [
         177.34000000000003,
         13,
         173,
         0,
         0,
         0,
         0
        ],
        [
         213.85,
         19,
         116,
         0,
         0,
         2,
         1
        ],
        [
         747.7800000000003,
         81,
         30,
         1,
         1,
         2,
         1
        ],
        [
         257.22999999999996,
         19,
         252,
         0,
         0,
         0,
         0
        ],
        [
         1638.4700000000003,
         92,
         58,
         1,
         1,
         1,
         1
        ],
        [
         2031.7800000000002,
         71,
         4,
         1,
         1,
         1,
         2
        ],
        [
         2121.27,
         146,
         24,
         1,
         1,
         1,
         2
        ],
        [
         1575.1600000000003,
         188,
         32,
         1,
         1,
         1,
         3
        ],
        [
         1071.0300000000002,
         62,
         67,
         1,
         1,
         2,
         1
        ],
        [
         949.1199999999999,
         63,
         36,
         1,
         1,
         2,
         1
        ],
        [
         810.4999999999998,
         101,
         51,
         1,
         1,
         1,
         1
        ],
        [
         122.64000000000001,
         8,
         15,
         0,
         0,
         2,
         1
        ],
        [
         1033.3400000000001,
         40,
         73,
         0,
         1,
         2,
         1
        ],
        [
         354.7999999999999,
         66,
         215,
         0,
         0,
         0,
         0
        ],
        [
         519.44,
         28,
         30,
         0,
         0,
         2,
         1
        ],
        [
         2624.260000000001,
         146,
         15,
         1,
         1,
         1,
         2
        ],
        [
         252.1,
         5,
         119,
         0,
         0,
         2,
         1
        ],
        [
         1678.1200000000001,
         79,
         9,
         1,
         1,
         1,
         1
        ],
        [
         346.6000000000001,
         23,
         256,
         0,
         0,
         0,
         0
        ],
        [
         1836.34,
         96,
         16,
         1,
         1,
         1,
         2
        ],
        [
         94.2,
         6,
         34,
         0,
         0,
         2,
         1
        ],
        [
         1095.08,
         63,
         45,
         1,
         1,
         2,
         1
        ],
        [
         2707.329999999999,
         166,
         42,
         1,
         1,
         1,
         3
        ],
        [
         932.9700000000004,
         56,
         113,
         0,
         0,
         2,
         1
        ],
        [
         379.65000000000003,
         49,
         164,
         0,
         0,
         0,
         0
        ],
        [
         382.13999999999993,
         16,
         10,
         0,
         0,
         2,
         1
        ],
        [
         2639.1700000000037,
         108,
         9,
         1,
         1,
         1,
         2
        ],
        [
         1573.2000000000007,
         104,
         205,
         1,
         1,
         1,
         0
        ],
        [
         897.7600000000001,
         53,
         85,
         0,
         1,
         2,
         1
        ],
        [
         189.47,
         13,
         178,
         0,
         0,
         0,
         0
        ],
        [
         84.65000000000002,
         12,
         59,
         0,
         0,
         2,
         1
        ],
        [
         305.0199999999998,
         87,
         148,
         0,
         0,
         0,
         0
        ],
        [
         218.55,
         9,
         50,
         0,
         0,
         2,
         1
        ],
        [
         349.70000000000016,
         25,
         74,
         0,
         0,
         2,
         1
        ],
        [
         186.39,
         6,
         300,
         0,
         0,
         0,
         0
        ],
        [
         396.9199999999999,
         65,
         18,
         0,
         1,
         2,
         1
        ],
        [
         486.82000000000005,
         25,
         150,
         0,
         0,
         0,
         0
        ],
        [
         232.60000000000005,
         16,
         151,
         0,
         0,
         0,
         0
        ],
        [
         827.83,
         57,
         17,
         0,
         0,
         2,
         1
        ],
        [
         59.5,
         3,
         186,
         0,
         0,
         0,
         0
        ],
        [
         67.23000000000002,
         30,
         285,
         0,
         0,
         0,
         0
        ],
        [
         72,
         8,
         182,
         0,
         0,
         0,
         0
        ],
        [
         910,
         6,
         62,
         0,
         1,
         2,
         1
        ],
        [
         172.25,
         9,
         58,
         0,
         0,
         2,
         1
        ],
        [
         1488.3200000000004,
         53,
         24,
         1,
         1,
         1,
         1
        ],
        [
         2504.1299999999987,
         90,
         30,
         1,
         1,
         1,
         2
        ],
        [
         151.3,
         12,
         38,
         0,
         0,
         2,
         1
        ],
        [
         308.58,
         14,
         154,
         0,
         0,
         0,
         1
        ],
        [
         2265.119999999999,
         197,
         25,
         1,
         1,
         1,
         3
        ],
        [
         99.5,
         1,
         317,
         0,
         0,
         0,
         0
        ],
        [
         2308.0599999999986,
         134,
         4,
         1,
         1,
         1,
         2
        ],
        [
         711.8600000000001,
         28,
         7,
         0,
         0,
         2,
         1
        ],
        [
         330.78999999999996,
         20,
         302,
         0,
         0,
         0,
         0
        ],
        [
         806.4100000000004,
         48,
         266,
         0,
         0,
         0,
         0
        ],
        [
         296.87999999999994,
         51,
         270,
         0,
         0,
         0,
         0
        ],
        [
         180.48000000000002,
         8,
         31,
         0,
         0,
         2,
         1
        ],
        [
         252.06000000000003,
         13,
         218,
         0,
         0,
         0,
         0
        ],
        [
         228.83999999999997,
         10,
         246,
         0,
         0,
         0,
         0
        ],
        [
         1079.3399999999997,
         105,
         280,
         0,
         0,
         0,
         0
        ],
        [
         138.28,
         21,
         268,
         0,
         0,
         0,
         0
        ],
        [
         1445.0100000000002,
         102,
         31,
         1,
         1,
         1,
         1
        ],
        [
         306.55,
         12,
         245,
         0,
         0,
         0,
         0
        ],
        [
         1041.68,
         60,
         14,
         1,
         1,
         2,
         1
        ],
        [
         799.8999999999999,
         43,
         116,
         0,
         0,
         2,
         0
        ],
        [
         524.14,
         28,
         35,
         0,
         0,
         2,
         1
        ],
        [
         2375.4100000000008,
         85,
         131,
         1,
         1,
         1,
         2
        ],
        [
         199.85000000000002,
         6,
         216,
         0,
         0,
         0,
         0
        ],
        [
         1980.5600000000004,
         104,
         49,
         1,
         1,
         1,
         2
        ],
        [
         1079.6600000000003,
         42,
         38,
         0,
         1,
         2,
         1
        ],
        [
         333.4800000000001,
         20,
         28,
         0,
         0,
         2,
         1
        ],
        [
         1016.1399999999999,
         63,
         36,
         1,
         1,
         2,
         1
        ],
        [
         752.5999999999998,
         43,
         135,
         0,
         0,
         2,
         0
        ],
        [
         610.5899999999999,
         38,
         218,
         0,
         0,
         0,
         0
        ],
        [
         491.86,
         33,
         27,
         0,
         0,
         2,
         1
        ],
        [
         2885.2399999999975,
         196,
         24,
         1,
         1,
         1,
         3
        ],
        [
         731.8999999999999,
         191,
         4,
         1,
         1,
         1,
         3
        ],
        [
         339.59999999999997,
         30,
         199,
         0,
         0,
         0,
         0
        ],
        [
         216.9,
         3,
         17,
         0,
         0,
         2,
         1
        ],
        [
         350.75,
         23,
         240,
         0,
         0,
         0,
         0
        ],
        [
         668.43,
         34,
         71,
         0,
         0,
         2,
         1
        ],
        [
         1341.5999999999997,
         41,
         2,
         1,
         1,
         2,
         1
        ],
        [
         1156.36,
         72,
         94,
         1,
         1,
         2,
         1
        ],
        [
         300.03999999999996,
         25,
         161,
         0,
         0,
         0,
         0
        ],
        [
         948.2499999999998,
         28,
         95,
         0,
         0,
         2,
         1
        ],
        [
         1647.2599999999998,
         24,
         53,
         1,
         1,
         2,
         2
        ],
        [
         296.24999999999994,
         9,
         287,
         0,
         0,
         0,
         0
        ],
        [
         1186.2800000000002,
         76,
         123,
         1,
         1,
         1,
         1
        ],
        [
         741.26,
         35,
         287,
         0,
         0,
         0,
         0
        ],
        [
         282.6,
         12,
         151,
         0,
         0,
         0,
         1
        ],
        [
         659.41,
         25,
         32,
         0,
         0,
         2,
         1
        ],
        [
         286.78999999999996,
         57,
         53,
         0,
         0,
         2,
         1
        ],
        [
         1070.65,
         70,
         49,
         1,
         1,
         2,
         1
        ],
        [
         306.72,
         7,
         218,
         0,
         0,
         0,
         0
        ],
        [
         1714.9599999999998,
         15,
         62,
         1,
         1,
         2,
         2
        ],
        [
         1521.7600000000002,
         208,
         70,
         1,
         1,
         1,
         3
        ],
        [
         2796.5099999999993,
         135,
         1,
         1,
         1,
         1,
         2
        ],
        [
         2634.450000000001,
         119,
         63,
         1,
         1,
         1,
         2
        ],
        [
         1132.13,
         177,
         33,
         1,
         1,
         1,
         3
        ],
        [
         344.99999999999994,
         22,
         81,
         0,
         0,
         2,
         1
        ],
        [
         178.7,
         9,
         102,
         0,
         0,
         2,
         1
        ],
        [
         360.01,
         57,
         6,
         0,
         0,
         2,
         1
        ],
        [
         127.84000000000002,
         17,
         250,
         0,
         0,
         0,
         0
        ],
        [
         911.9999999999992,
         115,
         12,
         1,
         1,
         1,
         1
        ],
        [
         2462.7899999999995,
         31,
         9,
         1,
         1,
         1,
         2
        ],
        [
         309.04,
         31,
         75,
         0,
         0,
         2,
         1
        ],
        [
         348.79999999999995,
         45,
         3,
         0,
         0,
         2,
         1
        ],
        [
         1516,
         11,
         127,
         0,
         1,
         2,
         1
        ],
        [
         195.54999999999995,
         13,
         65,
         0,
         0,
         2,
         1
        ],
        [
         688.8600000000002,
         39,
         116,
         0,
         0,
         2,
         0
        ],
        [
         558.3199999999997,
         33,
         309,
         0,
         0,
         0,
         0
        ],
        [
         324.79999999999995,
         23,
         66,
         0,
         0,
         2,
         1
        ],
        [
         277.07000000000005,
         17,
         254,
         0,
         0,
         0,
         0
        ],
        [
         2635.7900000000004,
         137,
         30,
         1,
         1,
         1,
         2
        ],
        [
         924.5999999999999,
         13,
         51,
         0,
         1,
         2,
         1
        ],
        [
         256.38,
         10,
         63,
         0,
         0,
         2,
         1
        ],
        [
         1747.66,
         76,
         5,
         1,
         1,
         1,
         1
        ],
        [
         155.05,
         12,
         304,
         0,
         0,
         0,
         0
        ],
        [
         1499.01,
         35,
         28,
         1,
         1,
         2,
         1
        ],
        [
         814.5,
         13,
         183,
         0,
         0,
         0,
         0
        ],
        [
         538.9999999999999,
         36,
         41,
         0,
         0,
         2,
         1
        ],
        [
         1366.8599999999994,
         69,
         39,
         1,
         1,
         1,
         1
        ],
        [
         1579.1200000000001,
         57,
         91,
         1,
         1,
         1,
         1
        ],
        [
         571.6700000000001,
         28,
         23,
         0,
         0,
         2,
         1
        ],
        [
         382.9799999999999,
         24,
         28,
         0,
         0,
         2,
         1
        ],
        [
         1140.35,
         36,
         301,
         0,
         0,
         0,
         0
        ],
        [
         385.64,
         59,
         144,
         0,
         0,
         0,
         0
        ],
        [
         632.0000000000001,
         96,
         5,
         1,
         1,
         2,
         1
        ],
        [
         957.6600000000001,
         40,
         18,
         0,
         1,
         2,
         1
        ],
        [
         1698.9399999999998,
         46,
         32,
         1,
         1,
         1,
         2
        ],
        [
         189.5,
         10,
         175,
         0,
         0,
         0,
         0
        ],
        [
         412.0499999999998,
         93,
         57,
         0,
         1,
         2,
         1
        ],
        [
         209.49000000000004,
         15,
         21,
         0,
         0,
         2,
         1
        ],
        [
         2202.99,
         74,
         15,
         1,
         1,
         1,
         2
        ],
        [
         52.199999999999996,
         3,
         18,
         0,
         0,
         2,
         1
        ],
        [
         384.7999999999999,
         29,
         158,
         0,
         0,
         0,
         0
        ],
        [
         834.57,
         55,
         24,
         0,
         0,
         2,
         1
        ],
        [
         271.24000000000007,
         19,
         211,
         0,
         0,
         0,
         0
        ],
        [
         691.7299999999999,
         174,
         5,
         1,
         1,
         1,
         3
        ],
        [
         85,
         1,
         252,
         0,
         0,
         0,
         0
        ],
        [
         361.62,
         20,
         10,
         0,
         0,
         2,
         1
        ],
        [
         312.98,
         9,
         64,
         0,
         0,
         2,
         1
        ],
        [
         865.0600000000005,
         55,
         24,
         0,
         0,
         2,
         1
        ],
        [
         1255,
         5,
         91,
         0,
         1,
         2,
         1
        ],
        [
         1537.95,
         101,
         51,
         1,
         1,
         1,
         2
        ],
        [
         1595.4799999999996,
         93,
         128,
         1,
         1,
         1,
         2
        ],
        [
         2651.46,
         81,
         95,
         1,
         1,
         1,
         2
        ],
        [
         1090.14,
         23,
         56,
         0,
         1,
         2,
         1
        ],
        [
         388.5,
         14,
         168,
         0,
         0,
         0,
         0
        ],
        [
         216.16999999999996,
         11,
         56,
         0,
         0,
         2,
         1
        ],
        [
         201.16,
         28,
         325,
         0,
         0,
         0,
         0
        ],
        [
         1245.9000000000003,
         76,
         0,
         1,
         1,
         1,
         1
        ],
        [
         2209.360000000001,
         139,
         17,
         1,
         1,
         1,
         2
        ],
        [
         305.78000000000003,
         20,
         247,
         0,
         0,
         0,
         0
        ],
        [
         501.56,
         30,
         57,
         0,
         0,
         2,
         1
        ],
        [
         145.67,
         7,
         73,
         0,
         0,
         2,
         1
        ],
        [
         1015.2900000000002,
         61,
         30,
         1,
         1,
         2,
         1
        ],
        [
         2770.9400000000005,
         115,
         1,
         1,
         1,
         1,
         2
        ],
        [
         389.6,
         23,
         119,
         0,
         0,
         2,
         1
        ],
        [
         1786.7900000000004,
         104,
         53,
         1,
         1,
         1,
         2
        ],
        [
         122.69999999999999,
         7,
         63,
         0,
         0,
         2,
         1
        ],
        [
         117.24000000000001,
         3,
         85,
         0,
         0,
         2,
         1
        ],
        [
         1281.53,
         36,
         54,
         0,
         1,
         2,
         1
        ],
        [
         1191.1299999999999,
         65,
         2,
         1,
         1,
         2,
         1
        ],
        [
         2674.479999999998,
         142,
         10,
         1,
         1,
         1,
         2
        ],
        [
         787.6000000000001,
         59,
         6,
         0,
         0,
         2,
         1
        ],
        [
         506.8000000000001,
         28,
         188,
         0,
         0,
         0,
         0
        ],
        [
         243.56000000000003,
         16,
         70,
         0,
         0,
         2,
         1
        ],
        [
         349.54999999999995,
         19,
         203,
         0,
         0,
         0,
         0
        ],
        [
         605.63,
         40,
         119,
         0,
         0,
         2,
         0
        ],
        [
         416.9,
         15,
         92,
         0,
         0,
         2,
         1
        ],
        [
         1883.8099999999995,
         110,
         0,
         1,
         1,
         1,
         2
        ],
        [
         632.97,
         27,
         26,
         0,
         0,
         2,
         1
        ],
        [
         821.1,
         21,
         297,
         0,
         0,
         0,
         0
        ],
        [
         564.62,
         27,
         23,
         0,
         0,
         2,
         1
        ],
        [
         2593.0699999999993,
         118,
         27,
         1,
         1,
         1,
         2
        ],
        [
         311.15999999999997,
         17,
         49,
         0,
         0,
         2,
         1
        ],
        [
         155.93,
         12,
         325,
         0,
         0,
         0,
         0
        ],
        [
         388.52000000000004,
         19,
         15,
         0,
         0,
         2,
         1
        ],
        [
         740.9499999999997,
         43,
         182,
         0,
         0,
         0,
         0
        ],
        [
         2867.2,
         149,
         71,
         1,
         1,
         1,
         2
        ],
        [
         332.63999999999993,
         26,
         36,
         0,
         0,
         2,
         1
        ],
        [
         2369.5499999999984,
         122,
         79,
         1,
         1,
         1,
         2
        ],
        [
         2580.909999999999,
         148,
         56,
         1,
         1,
         1,
         2
        ],
        [
         626.4499999999999,
         33,
         11,
         0,
         0,
         2,
         1
        ],
        [
         272.04,
         18,
         49,
         0,
         0,
         2,
         1
        ],
        [
         1212.8400000000001,
         30,
         49,
         0,
         1,
         2,
         1
        ],
        [
         384.81,
         28,
         58,
         0,
         0,
         2,
         1
        ],
        [
         351.13000000000005,
         20,
         53,
         0,
         0,
         2,
         1
        ],
        [
         1838.8500000000001,
         117,
         1,
         1,
         1,
         1,
         2
        ],
        [
         678.2499999999999,
         41,
         92,
         0,
         0,
         2,
         1
        ],
        [
         223.85000000000002,
         11,
         22,
         0,
         0,
         2,
         1
        ],
        [
         348.99,
         21,
         74,
         0,
         0,
         2,
         1
        ],
        [
         464.56999999999994,
         27,
         10,
         0,
         0,
         2,
         1
        ],
        [
         842.6500000000001,
         9,
         168,
         0,
         0,
         0,
         0
        ],
        [
         337.3399999999999,
         17,
         57,
         0,
         0,
         2,
         1
        ],
        [
         1237.5300000000002,
         58,
         95,
         1,
         1,
         2,
         1
        ],
        [
         307.4,
         16,
         294,
         0,
         0,
         0,
         0
        ],
        [
         608.7899999999998,
         23,
         108,
         0,
         0,
         2,
         1
        ],
        [
         922.0999999999997,
         31,
         263,
         0,
         0,
         0,
         0
        ],
        [
         376.58,
         26,
         179,
         0,
         0,
         0,
         0
        ],
        [
         158.85,
         9,
         168,
         0,
         0,
         0,
         0
        ],
        [
         71.66,
         7,
         34,
         0,
         0,
         2,
         1
        ],
        [
         568.5499999999998,
         45,
         22,
         0,
         0,
         2,
         1
        ],
        [
         839.1400000000002,
         49,
         16,
         0,
         0,
         2,
         1
        ],
        [
         561.57,
         11,
         78,
         0,
         0,
         2,
         1
        ],
        [
         90.6,
         5,
         64,
         0,
         0,
         2,
         1
        ],
        [
         2427.3199999999974,
         160,
         2,
         1,
         1,
         1,
         3
        ],
        [
         745.0600000000001,
         35,
         10,
         0,
         0,
         2,
         1
        ],
        [
         674.4499999999998,
         39,
         175,
         0,
         0,
         0,
         0
        ],
        [
         439.92,
         25,
         1,
         0,
         0,
         2,
         1
        ],
        [
         322.96,
         33,
         153,
         0,
         0,
         0,
         0
        ],
        [
         1026.4200000000003,
         152,
         4,
         1,
         1,
         1,
         3
        ],
        [
         598.1999999999999,
         92,
         78,
         0,
         1,
         2,
         1
        ],
        [
         230.22,
         12,
         20,
         0,
         0,
         2,
         1
        ],
        [
         169.55,
         11,
         21,
         0,
         0,
         2,
         1
        ],
        [
         664.54,
         35,
         307,
         0,
         0,
         0,
         0
        ],
        [
         80.7,
         2,
         145,
         0,
         0,
         0,
         1
        ],
        [
         2758.26,
         149,
         18,
         1,
         1,
         1,
         2
        ],
        [
         190.25000000000009,
         15,
         70,
         0,
         0,
         2,
         1
        ],
        [
         264.7,
         11,
         286,
         0,
         0,
         0,
         0
        ],
        [
         413.59,
         28,
         48,
         0,
         0,
         2,
         1
        ],
        [
         357.9800000000001,
         10,
         206,
         0,
         0,
         0,
         0
        ],
        [
         196.79,
         15,
         14,
         0,
         0,
         2,
         1
        ],
        [
         869.8700000000001,
         54,
         72,
         0,
         1,
         2,
         1
        ],
        [
         200.14000000000001,
         11,
         59,
         0,
         0,
         2,
         1
        ],
        [
         1871.81,
         111,
         38,
         1,
         1,
         1,
         2
        ],
        [
         2603.43,
         107,
         29,
         1,
         1,
         1,
         2
        ],
        [
         920.5100000000001,
         16,
         26,
         0,
         0,
         2,
         1
        ],
        [
         320.46000000000004,
         13,
         16,
         0,
         0,
         2,
         1
        ],
        [
         1266.0799999999997,
         41,
         65,
         0,
         1,
         2,
         1
        ],
        [
         311.3,
         16,
         212,
         0,
         0,
         0,
         0
        ],
        [
         855.9699999999999,
         84,
         11,
         1,
         1,
         2,
         1
        ],
        [
         76.8,
         5,
         29,
         0,
         0,
         2,
         1
        ],
        [
         2313.140000000001,
         155,
         3,
         1,
         1,
         1,
         3
        ],
        [
         1393.6899999999996,
         86,
         14,
         1,
         1,
         1,
         1
        ],
        [
         635.6600000000001,
         15,
         210,
         0,
         0,
         0,
         0
        ],
        [
         2043.08,
         39,
         45,
         1,
         1,
         1,
         2
        ],
        [
         529.73,
         47,
         133,
         0,
         0,
         2,
         0
        ],
        [
         2874.7200000000007,
         84,
         9,
         1,
         1,
         1,
         2
        ],
        [
         962.1899999999999,
         30,
         115,
         0,
         0,
         2,
         0
        ],
        [
         695.6099999999999,
         42,
         197,
         0,
         0,
         0,
         0
        ],
        [
         328.8,
         11,
         277,
         0,
         0,
         0,
         0
        ],
        [
         473.02,
         34,
         109,
         0,
         0,
         2,
         1
        ],
        [
         505.18000000000006,
         39,
         76,
         0,
         0,
         2,
         1
        ],
        [
         917.34,
         20,
         52,
         0,
         1,
         2,
         1
        ],
        [
         1421.6100000000004,
         66,
         46,
         1,
         1,
         1,
         1
        ],
        [
         642.8000000000001,
         39,
         16,
         0,
         0,
         2,
         1
        ],
        [
         631.9000000000001,
         22,
         154,
         0,
         0,
         0,
         0
        ],
        [
         440,
         28,
         224,
         0,
         0,
         0,
         0
        ],
        [
         584.0699999999998,
         31,
         6,
         0,
         0,
         2,
         1
        ],
        [
         327.7,
         16,
         121,
         0,
         0,
         2,
         1
        ],
        [
         104.82000000000002,
         6,
         60,
         0,
         0,
         2,
         1
        ],
        [
         467.65999999999997,
         15,
         62,
         0,
         0,
         2,
         1
        ],
        [
         651.8200000000002,
         89,
         21,
         1,
         1,
         2,
         1
        ],
        [
         1428.0200000000002,
         66,
         28,
         1,
         1,
         1,
         1
        ],
        [
         626.6499999999999,
         38,
         284,
         0,
         0,
         0,
         0
        ],
        [
         147.20000000000005,
         28,
         175,
         0,
         0,
         0,
         0
        ],
        [
         1560.379999999999,
         92,
         77,
         1,
         1,
         1,
         2
        ],
        [
         152.2,
         6,
         32,
         0,
         0,
         2,
         1
        ],
        [
         141.41,
         21,
         265,
         0,
         0,
         0,
         0
        ],
        [
         652.8199999999993,
         209,
         26,
         1,
         1,
         1,
         3
        ],
        [
         1659.75,
         6,
         108,
         0,
         1,
         2,
         1
        ],
        [
         154.98999999999998,
         14,
         283,
         0,
         0,
         0,
         0
        ],
        [
         1308.61,
         32,
         8,
         1,
         1,
         2,
         1
        ]
       ],
       "datasetInfos": [],
       "dbfsResultPath": null,
       "isJsonSchema": true,
       "metadata": {},
       "overflow": true,
       "plotOptions": {
        "customPlotOptions": {
         "scatterPlot": [
          {
           "key": "loess",
           "value": false
          },
          {
           "key": "bandwidth",
           "value": "0.3"
          }
         ]
        },
        "displayType": "scatterPlot",
        "pivotAggregation": "sum",
        "pivotColumns": [],
        "xColumns": [
         "hc_labels_4"
        ],
        "yColumns": [
         "Monto",
         "Frecuencia",
         "Recencia"
        ]
       },
       "removedWidgets": [],
       "schema": [
        {
         "metadata": "{}",
         "name": "Monto",
         "type": "\"double\""
        },
        {
         "metadata": "{}",
         "name": "Frecuencia",
         "type": "\"long\""
        },
        {
         "metadata": "{}",
         "name": "Recencia",
         "type": "\"long\""
        },
        {
         "metadata": "{}",
         "name": "Cluster_kmeans",
         "type": "\"integer\""
        },
        {
         "metadata": "{}",
         "name": "Cluster_hc",
         "type": "\"long\""
        },
        {
         "metadata": "{}",
         "name": "km_labels_3",
         "type": "\"integer\""
        },
        {
         "metadata": "{}",
         "name": "hc_labels_4",
         "type": "\"long\""
        }
       ],
       "type": "table"
      }
     },
     "output_type": "display_data"
    }
   ],
   "source": [
    "#HC\n",
    "hc = AgglomerativeClustering(linkage    = \"complete\", \n",
    "                             affinity   = \"euclidean\",\n",
    "                             n_clusters = 4)\n",
    "hc.fit(rfm_escalado)\n",
    "df_limpio_final['hc_labels_4'] = hc.labels_\n",
    "display(df_limpio_final)"
   ]
  }
 ],
 "metadata": {
  "application/vnd.databricks.v1+notebook": {
   "computePreferences": null,
   "dashboards": [
    {
     "elements": [
      {
       "dashboardResultIndex": null,
       "elementNUID": "132b9ec5-cffe-4b1f-b101-24f4bd6a9fd3",
       "elementType": "command",
       "guid": "adc3fddb-59c1-47be-9975-87227e059427",
       "options": null,
       "position": {
        "height": 12,
        "width": 12,
        "x": 0,
        "y": 0,
        "z": null
       },
       "resultIndex": null
      },
      {
       "dashboardResultIndex": null,
       "elementNUID": "ce4f1785-31e9-42d5-aa18-fd57003ba769",
       "elementType": "command",
       "guid": "fdd2160c-853e-47ba-a329-4f42a45f7fca",
       "options": {
        "autoScaleImg": false,
        "scale": 0,
        "showRunButton": false,
        "showTitle": true,
        "title": "Boxplot",
        "titleAlign": "center"
       },
       "position": {
        "height": 6,
        "width": 12,
        "x": 0,
        "y": 12,
        "z": null
       },
       "resultIndex": null
      }
     ],
     "globalVars": {},
     "guid": "",
     "layoutOption": {
      "grid": true,
      "stack": true
     },
     "nuid": "54ab836a-42db-4139-92c9-4da37fc3d663",
     "origId": 3652322343603439,
     "title": "Segmentación",
     "version": "DashboardViewV1",
     "width": 1024
    }
   ],
   "environmentMetadata": null,
   "inputWidgetPreferences": null,
   "language": "python",
   "notebookMetadata": {
    "pythonIndentUnit": 2
   },
   "notebookName": "02 Clustering",
   "widgets": {}
  },
  "kernelspec": {
   "display_name": "Python 3",
   "language": "python",
   "name": "python3"
  },
  "language_info": {
   "name": "python"
  },
  "name": "02 Aprendizaje No Supervisado",
  "notebookId": 4250371161179606
 },
 "nbformat": 4,
 "nbformat_minor": 0
}
