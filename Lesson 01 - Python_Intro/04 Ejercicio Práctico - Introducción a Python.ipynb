{
 "cells": [
  {
   "cell_type": "markdown",
   "metadata": {
    "application/vnd.databricks.v1+cell": {
     "cellMetadata": {},
     "inputWidgets": {},
     "isMarkdownSandbox": true,
     "nuid": "f8d8c5f9-97b2-4187-a1ff-c3b3bb2ddbf5",
     "showTitle": false,
     "tableResultSettingsMap": {},
     "title": ""
    }
   },
   "source": [
    "\n",
    "<h2><img src=\"https://files.training.databricks.com/images/105/logo_spark_tiny.png\"> Antes de empezar</h2>\n",
    "\n",
    "Antes de comenzar este curso, deberá crear un clúster y adjuntarlo a este Notebook.\n",
    "\n",
    "Por favor, configure su clúster para usar la versión de Databricks Runtime **7+** que incluye:\n",
    "- Python Version 3.x"
   ]
  },
  {
   "cell_type": "markdown",
   "metadata": {
    "application/vnd.databricks.v1+cell": {
     "cellMetadata": {},
     "inputWidgets": {},
     "nuid": "3a8e5618-71c9-4740-b34e-291a3bf6a625",
     "showTitle": false,
     "tableResultSettingsMap": {},
     "title": ""
    }
   },
   "source": [
    "##### Importante antes de comenzar vamos a necesitar instalar siguiente versión de la librería xlrd en nuestro cluster activo, proceda a instalarla:\n",
    "\n",
    "`xlrd==1.2.0`"
   ]
  },
  {
   "cell_type": "code",
   "execution_count": 0,
   "metadata": {
    "application/vnd.databricks.v1+cell": {
     "cellMetadata": {},
     "inputWidgets": {},
     "nuid": "852ac745-49a6-482c-9732-42e6c0fd1c62",
     "showTitle": false,
     "tableResultSettingsMap": {},
     "title": ""
    }
   },
   "outputs": [],
   "source": [
    "# Ejecutar esta línea de código\n",
    "! pip install xlrd==1.2.0"
   ]
  },
  {
   "cell_type": "markdown",
   "metadata": {
    "application/vnd.databricks.v1+cell": {
     "cellMetadata": {},
     "inputWidgets": {},
     "nuid": "05c7a50d-6a97-4c21-b39b-5c31e52d718a",
     "showTitle": false,
     "tableResultSettingsMap": {},
     "title": ""
    }
   },
   "source": [
    "Para confirmar que el clúster se actualice con la nueva librería, hacer clic en el desplegable donde se vincula (attached) nuestro notebook y el clúster. Dar clic en la opción **`Detach and Re-attach`** y confirmar el proceso"
   ]
  },
  {
   "cell_type": "markdown",
   "metadata": {
    "application/vnd.databricks.v1+cell": {
     "cellMetadata": {},
     "inputWidgets": {},
     "nuid": "0e08f7e1-cf12-4e86-a324-7242a0cfe587",
     "showTitle": false,
     "tableResultSettingsMap": {},
     "title": ""
    }
   },
   "source": [
    "#### 1. Importa los módulos NumPy y Pandas para trabajar durante el notebook. Y verifica las versiones de los mismos."
   ]
  },
  {
   "cell_type": "code",
   "execution_count": 0,
   "metadata": {
    "application/vnd.databricks.v1+cell": {
     "cellMetadata": {},
     "inputWidgets": {},
     "nuid": "cc86aa29-9797-4be8-be93-418cc4d878b3",
     "showTitle": false,
     "tableResultSettingsMap": {},
     "title": ""
    }
   },
   "outputs": [],
   "source": [
    "# Coloca tu código aquí\n"
   ]
  },
  {
   "cell_type": "markdown",
   "metadata": {
    "application/vnd.databricks.v1+cell": {
     "cellMetadata": {},
     "inputWidgets": {},
     "nuid": "11659ae7-9b60-4393-8027-dbc46d6d8540",
     "showTitle": false,
     "tableResultSettingsMap": {},
     "title": ""
    }
   },
   "source": [
    "A continuación, se va a leer un dataset correspondiente a las ventas realizadas por una empresa para el año 2018 (archivo Excel)\n",
    "\n",
    "**Diccionario de datos**\n",
    "\n",
    "`account number`: Cuenta bancaria del cliente (**tipo de dato: alfanumérico**) <br>\n",
    "`name`: Nombre del cliente (**tipo de dato: alfanumérico**) <br>\n",
    "`sku`: Codigo identificador del producto propio de la empresa (**tipo de dato: alfanumérico**) <br>\n",
    "`quantity`: Cantidad del producto (**tipo de dato: numérico**) <br>\n",
    "`unit price`: Precio Unitario del producto (**tipo de dato: numérico**)<br>\n",
    "`ext price`: Ventas totales, cantidad multiplicada por el precio (**tipo de dato: numérico**)<br>\n",
    "`date`: Fecha de compra (**tipo de dato: fecha**)\n",
    "<br>"
   ]
  },
  {
   "cell_type": "code",
   "execution_count": 0,
   "metadata": {
    "application/vnd.databricks.v1+cell": {
     "cellMetadata": {},
     "inputWidgets": {},
     "nuid": "191de723-e46a-44c3-a108-d3f5314bc4b2",
     "showTitle": false,
     "tableResultSettingsMap": {},
     "title": ""
    }
   },
   "outputs": [],
   "source": [
    "# Lectura archivo excel\n",
    "url = 'https://github.com/chris1610/pbpython/raw/master/data/2018_Sales_Total_Tabs.xlsx'\n",
    "df = pd.read_excel(url, sheet_name='Sheet1')"
   ]
  },
  {
   "cell_type": "markdown",
   "metadata": {
    "application/vnd.databricks.v1+cell": {
     "cellMetadata": {},
     "inputWidgets": {},
     "nuid": "4f8d3386-874f-4e94-b557-9b3ad67eaa6b",
     "showTitle": false,
     "tableResultSettingsMap": {},
     "title": ""
    }
   },
   "source": [
    "#### 2. Desplegar las 5 primeras filas de nuestro dataframe"
   ]
  },
  {
   "cell_type": "code",
   "execution_count": 0,
   "metadata": {
    "application/vnd.databricks.v1+cell": {
     "cellMetadata": {},
     "inputWidgets": {},
     "nuid": "7aadca24-47d5-4d2d-821e-615ab5673a39",
     "showTitle": false,
     "tableResultSettingsMap": {},
     "title": ""
    }
   },
   "outputs": [],
   "source": [
    "# Coloca tu código aquí\n"
   ]
  },
  {
   "cell_type": "markdown",
   "metadata": {
    "application/vnd.databricks.v1+cell": {
     "cellMetadata": {},
     "inputWidgets": {},
     "nuid": "8fe48888-56a2-48de-b61b-6c455327a1d0",
     "showTitle": false,
     "tableResultSettingsMap": {},
     "title": ""
    }
   },
   "source": [
    "#### 3. Realizar un conteo del número de filas y columnas"
   ]
  },
  {
   "cell_type": "code",
   "execution_count": 0,
   "metadata": {
    "application/vnd.databricks.v1+cell": {
     "cellMetadata": {},
     "inputWidgets": {},
     "nuid": "eef0bc46-1b08-4c99-b689-46a79395f71c",
     "showTitle": false,
     "tableResultSettingsMap": {},
     "title": ""
    }
   },
   "outputs": [],
   "source": [
    "# Coloca tu código aquí\n"
   ]
  },
  {
   "cell_type": "markdown",
   "metadata": {
    "application/vnd.databricks.v1+cell": {
     "cellMetadata": {},
     "inputWidgets": {},
     "nuid": "7691112f-458c-41f4-85bf-3e7f0bfb9182",
     "showTitle": false,
     "tableResultSettingsMap": {},
     "title": ""
    }
   },
   "source": [
    "#### 4. Imprimir el tipo de datos de las columnas del dataframe "
   ]
  },
  {
   "cell_type": "code",
   "execution_count": 0,
   "metadata": {
    "application/vnd.databricks.v1+cell": {
     "cellMetadata": {},
     "inputWidgets": {},
     "nuid": "c61ad4b4-149a-4db0-80b9-69249269a668",
     "showTitle": false,
     "tableResultSettingsMap": {},
     "title": ""
    }
   },
   "outputs": [],
   "source": [
    "# Coloca tu código aquí\n"
   ]
  },
  {
   "cell_type": "markdown",
   "metadata": {
    "application/vnd.databricks.v1+cell": {
     "cellMetadata": {},
     "inputWidgets": {},
     "nuid": "10fc9f93-79c0-405a-a801-0c7554b2cf94",
     "showTitle": false,
     "tableResultSettingsMap": {},
     "title": ""
    }
   },
   "source": [
    "#### 5. Transformar la columna **account number** a tipo cadena de caracteres (object). Y confirmar la transformación en el tipo de dato."
   ]
  },
  {
   "cell_type": "code",
   "execution_count": 0,
   "metadata": {
    "application/vnd.databricks.v1+cell": {
     "cellMetadata": {},
     "inputWidgets": {},
     "nuid": "4a43d741-5288-469a-9396-c34b6f730bc3",
     "showTitle": false,
     "tableResultSettingsMap": {},
     "title": ""
    }
   },
   "outputs": [],
   "source": [
    "# Coloca tu código aquí (Pista: usar el método astype)\n"
   ]
  },
  {
   "cell_type": "markdown",
   "metadata": {
    "application/vnd.databricks.v1+cell": {
     "cellMetadata": {},
     "inputWidgets": {},
     "nuid": "9da91d0b-a3b1-4703-988e-6c8646c97f01",
     "showTitle": false,
     "tableResultSettingsMap": {},
     "title": ""
    }
   },
   "source": [
    "#### 6. Crear un nuevo DataFrame llamado `df_seleccion`, seleccionando unicamente las columnas: `sku`, `quantity`, `unit price`, `ext price`, `date`"
   ]
  },
  {
   "cell_type": "code",
   "execution_count": 0,
   "metadata": {
    "application/vnd.databricks.v1+cell": {
     "cellMetadata": {},
     "inputWidgets": {},
     "nuid": "698b355f-ca6b-4b54-ac5d-120894ec4f0a",
     "showTitle": false,
     "tableResultSettingsMap": {},
     "title": ""
    }
   },
   "outputs": [],
   "source": [
    "# Coloca tu código aquí\n"
   ]
  },
  {
   "cell_type": "markdown",
   "metadata": {
    "application/vnd.databricks.v1+cell": {
     "cellMetadata": {},
     "inputWidgets": {},
     "nuid": "edfb5a6c-d7cb-4ceb-9c8e-3ce0c5573b29",
     "showTitle": false,
     "tableResultSettingsMap": {},
     "title": ""
    }
   },
   "source": [
    "#### 7. Renombrar las columnas del dataframe `df_seleccion` según lo que se indica a continuación: \n",
    "`sku`: codigo\n",
    "`quantity`: cantidad\n",
    "`unit price`: precio_unitario\n",
    "`ext price`: venta_total\n",
    "`date`: fecha\n",
    "\n",
    "Por último, imprima el nombre de las columnas para verificar el cambio realizado"
   ]
  },
  {
   "cell_type": "code",
   "execution_count": 0,
   "metadata": {
    "application/vnd.databricks.v1+cell": {
     "cellMetadata": {},
     "inputWidgets": {},
     "nuid": "6a906512-0efe-48ab-add7-f33c56b64784",
     "showTitle": false,
     "tableResultSettingsMap": {},
     "title": ""
    }
   },
   "outputs": [],
   "source": [
    "# Coloca tu código aquí\n"
   ]
  },
  {
   "cell_type": "markdown",
   "metadata": {
    "application/vnd.databricks.v1+cell": {
     "cellMetadata": {},
     "inputWidgets": {},
     "nuid": "e5ac7795-4c70-42a4-a389-f822dd336269",
     "showTitle": false,
     "tableResultSettingsMap": {},
     "title": ""
    }
   },
   "source": [
    "#### 8. Crear un nuevo DataFrame llamado `df_filtrado`, donde conservemos aquellos clientes que generaron una venta total mayor a 55 dólares a partir del dataframe `df_seleccion`"
   ]
  },
  {
   "cell_type": "code",
   "execution_count": 0,
   "metadata": {
    "application/vnd.databricks.v1+cell": {
     "cellMetadata": {},
     "inputWidgets": {},
     "nuid": "af1af8f7-5344-45ee-ab45-751a9f7fc4f7",
     "showTitle": false,
     "tableResultSettingsMap": {},
     "title": ""
    }
   },
   "outputs": [],
   "source": [
    "# Coloca tu código aquí\n"
   ]
  },
  {
   "cell_type": "markdown",
   "metadata": {
    "application/vnd.databricks.v1+cell": {
     "cellMetadata": {},
     "inputWidgets": {},
     "nuid": "a6ee73d0-a297-4a06-9360-d49ac9f0e10c",
     "showTitle": false,
     "tableResultSettingsMap": {},
     "title": ""
    }
   },
   "source": [
    "#### 9. Del dataframe`df_filtrado` identificar los códigos de los productos con una mayor frecuencia de venta (`cantidad`)\n",
    "\n",
    "Para ello, en el dataframe`df_filtrado` aplicar un agrupamiento por código de producto `codigo`, empleando como método de agregación la sumatoria (`sum`) y finalmente ordenar el dataframe de forma descendente de acuerdo a la columna `cantidad`"
   ]
  },
  {
   "cell_type": "code",
   "execution_count": 0,
   "metadata": {
    "application/vnd.databricks.v1+cell": {
     "cellMetadata": {},
     "inputWidgets": {},
     "nuid": "ca3c41e9-8b71-4e0e-bebf-950f56348107",
     "showTitle": false,
     "tableResultSettingsMap": {},
     "title": ""
    }
   },
   "outputs": [],
   "source": [
    "# Coloca tu código aquí\n"
   ]
  },
  {
   "cell_type": "markdown",
   "metadata": {
    "application/vnd.databricks.v1+cell": {
     "cellMetadata": {},
     "inputWidgets": {},
     "nuid": "5bed98d1-3e71-4e6a-ade9-8f8307c4915a",
     "showTitle": false,
     "tableResultSettingsMap": {},
     "title": ""
    }
   },
   "source": [
    "#### 10. Realiza las siguientes visualizaciones del DataFrame `df_filtrado`\n",
    "\n",
    "En cada uno de los bloques a continuación, realizar cada una de las visualizaciones:\n",
    "\n",
    "<br>\n",
    "1. Visualizar en un gráfico de barras el promedio de las ventas totales por producto\n",
    "2. Visualizar en un gráfico de líneas la suma de produtos vendidos según la fecha\n",
    "3. Visualizar en un histograma la distribución de precio unitario"
   ]
  },
  {
   "cell_type": "code",
   "execution_count": 0,
   "metadata": {
    "application/vnd.databricks.v1+cell": {
     "cellMetadata": {},
     "inputWidgets": {},
     "nuid": "45015006-26b7-40f6-813b-8cd2d00c6ca4",
     "showTitle": false,
     "tableResultSettingsMap": {},
     "title": ""
    }
   },
   "outputs": [],
   "source": [
    "# Realizar el primer gráfico (pista: clic en el ícono de gráficos y ajustar la visualización con Plot Options)\n",
    "display(df_filtrado)"
   ]
  },
  {
   "cell_type": "code",
   "execution_count": 0,
   "metadata": {
    "application/vnd.databricks.v1+cell": {
     "cellMetadata": {},
     "inputWidgets": {},
     "nuid": "78852118-b22a-42b4-b9fe-9ae6c7142251",
     "showTitle": false,
     "tableResultSettingsMap": {},
     "title": ""
    }
   },
   "outputs": [],
   "source": [
    "# Realizar el segundo gráfico (pista: clic en el ícono de gráficos y ajustar la visualización con Plot Options)\n",
    "display(df_filtrado)"
   ]
  },
  {
   "cell_type": "code",
   "execution_count": 0,
   "metadata": {
    "application/vnd.databricks.v1+cell": {
     "cellMetadata": {},
     "inputWidgets": {},
     "nuid": "ad38c67c-d8cd-4056-b265-e31cef63b75b",
     "showTitle": false,
     "tableResultSettingsMap": {},
     "title": ""
    }
   },
   "outputs": [],
   "source": [
    "# Realizar el tercer gráfico (pista: clic en el ícono de gráficos y ajustar la visualización con Plot Options)\n",
    "display(df_filtrado)"
   ]
  }
 ],
 "metadata": {
  "application/vnd.databricks.v1+notebook": {
   "computePreferences": null,
   "dashboards": [],
   "environmentMetadata": null,
   "inputWidgetPreferences": null,
   "language": "python",
   "notebookMetadata": {
    "pythonIndentUnit": 2
   },
   "notebookName": "04 Ejercicio Práctico - Introducción a Python",
   "widgets": {}
  },
  "language_info": {
   "name": "python"
  }
 },
 "nbformat": 4,
 "nbformat_minor": 0
}
