{
 "cells": [
  {
   "cell_type": "markdown",
   "metadata": {
    "application/vnd.databricks.v1+cell": {
     "cellMetadata": {},
     "inputWidgets": {},
     "isMarkdownSandbox": true,
     "nuid": "6a0efa71-a64b-42fe-888b-d32da8627e76",
     "showTitle": false,
     "tableResultSettingsMap": {},
     "title": ""
    }
   },
   "source": [
    "# <center>  Estructuras de control y funciones </center>\n",
    "\n",
    "## Descripción\n",
    "En esta sección de aborda el uso de las estructuras de control: condicionales e iterativas. Además, la sintaxis y creación de funciones.\n",
    "\n",
    "## Contenido\n",
    "\n",
    "* Estructuras de control condicionales e iterativas\n",
    "* Funciones y parámetros\n",
    "\n",
    "## Audiencia\n",
    "\n",
    "* Audiencia primaria: TODOS\n",
    "* Audiencias adicionales: TODOS\n",
    "\n",
    "## Requisitos previos\n",
    "\n",
    "* Python crash course\n",
    "* Conocimientos básicos de programación\n",
    "* Navegador web: Chrome\n",
    "* Se puede utilizar la versión CE de Databricks, experimentará pequeños delays.\n",
    "\n",
    "<img alt=\"Caution\" title=\"Caution\" style=\"vertical-align: text-bottom; position: relative; height:1.3em; top:0.0em\" src=\"https://storage.googleapis.com/datasets-academy/public-img/notebooks/icons/danger.png\"/> **Disclaimer:** Este material ha sido preparado por el equipo de **handytec Academy&reg**. Parte del contenido ha sido adaptado a partir de material público liberado por Databricks y también de contenido exclusivo para esta lección. Se prohibe la publicación o reproducción de este material sin previa autorización de **handytec Academy&reg** - 2020 Todos los derechos reservados."
   ]
  },
  {
   "cell_type": "markdown",
   "metadata": {
    "application/vnd.databricks.v1+cell": {
     "cellMetadata": {},
     "inputWidgets": {},
     "nuid": "2ee85baa-230b-4fa0-aa7a-bdbde6fe078a",
     "showTitle": false,
     "tableResultSettingsMap": {},
     "title": ""
    },
    "colab_type": "text",
    "id": "duaXZOV4AHlK"
   },
   "source": [
    "## 1. Estructuras de control condicionales\n",
    "\n",
    "Evaluan condiciones (expresiones booleanas) y ejecutan instrucciones dependiendo de esta evaluación."
   ]
  },
  {
   "cell_type": "markdown",
   "metadata": {
    "application/vnd.databricks.v1+cell": {
     "cellMetadata": {},
     "inputWidgets": {},
     "nuid": "7342e5f0-ebee-4e4f-804a-be5d7e799b85",
     "showTitle": false,
     "tableResultSettingsMap": {},
     "title": ""
    },
    "colab_type": "text",
    "id": "at_DvorGmOr7"
   },
   "source": [
    "### 1.1  Estructura if - else.\n",
    "A continuación, se presenta la estructura clásica de código para la estructura en mención. Note las siguientes particularidades:\n",
    "* **Dos puntos `:`** después de la expresión booleana para dar inicio al bloque de instrucciones\n",
    "* **Indentación (``tab``)** para mostrar la estrutura jerárquica de las órdenes a ejecutar\n",
    "* Todas las instrucciones en ``bloqueInstrucciones1`` y ``bloqueInstrucciones1`` se ejecutan secuencialmente.\n",
    "\n",
    "```python\n",
    "if expresionBooleana1:\n",
    "  bloqueInstrucciones1\n",
    "else:\n",
    "  bloqueInstrucciones2\n",
    "```\n"
   ]
  },
  {
   "cell_type": "code",
   "execution_count": 0,
   "metadata": {
    "application/vnd.databricks.v1+cell": {
     "cellMetadata": {},
     "inputWidgets": {},
     "nuid": "5b4b3cd7-ff85-4b41-9bb7-bccc32f42767",
     "showTitle": false,
     "tableResultSettingsMap": {},
     "title": ""
    },
    "colab": {},
    "colab_type": "code",
    "id": "d0F846zOp4Tl",
    "outputId": "921d2caa-6617-454a-8aea-bdf003cb2062"
   },
   "outputs": [
    {
     "data": {
      "text/html": [
       "<style scoped>\n",
       "  .ansiout {\n",
       "    display: block;\n",
       "    unicode-bidi: embed;\n",
       "    white-space: pre-wrap;\n",
       "    word-wrap: break-word;\n",
       "    word-break: break-all;\n",
       "    font-family: \"Menlo\", \"Monaco\", \"Consolas\", \"Ubuntu Mono\", \"Source Code Pro\", monospace;\n",
       "    font-size: 13px;\n",
       "    color: #555;\n",
       "    margin-left: 4px;\n",
       "    line-height: 19px;\n",
       "  }\n",
       "</style>"
      ]
     },
     "metadata": {
      "application/vnd.databricks.v1+output": {
       "arguments": {},
       "data": "",
       "errorSummary": "",
       "errorTraceType": null,
       "metadata": {},
       "type": "ipynbError"
      }
     },
     "output_type": "display_data"
    }
   ],
   "source": [
    "# Número par o impar \n",
    "# Definición: Un número es par cuando el residuo de su division entre 2 (módulo), es igual a cero \n",
    "\n",
    "numero = 19\n",
    "\n",
    "if numero % 2 == 0:\n",
    "  print(numero, 'es PAR')\n",
    "else:\n",
    "  print(numero, 'es IMPAR')"
   ]
  },
  {
   "cell_type": "markdown",
   "metadata": {
    "application/vnd.databricks.v1+cell": {
     "cellMetadata": {},
     "inputWidgets": {},
     "nuid": "6b2141c9-999b-465e-8bf0-6b18050fa483",
     "showTitle": false,
     "tableResultSettingsMap": {},
     "title": ""
    },
    "colab_type": "text",
    "id": "kI5I5YmAre12"
   },
   "source": [
    "### 1.2  Estructura if - elif - else\n",
    "¿Qué hacer si tenemos más condiciones a evaluar?\n",
    "* **`elif`:** abreviación de la expresión `else if`, comunmente usada en otros lenguajes de programación\n",
    "* El operador **`elif`** puede emplearse para evaluar expresiones booleanas adicionales entre los operadores `if` y `else`\n",
    "* El código evalua secuencialmente las expresiones booleanas. Si ninguna es verdadera (`True`), se ejecuta el `bloqueDefault`\n",
    "\n",
    "\n",
    "\n",
    "\n",
    "```python\n",
    "if   expresionBooleana1:\n",
    "     bloqueInstrucciones1\n",
    "elif expresionBooleana2:\n",
    "     bloqueInstrucciones2\n",
    "elif expresionBooleana3:\n",
    "     bloqueInstrucciones3\n",
    "...\n",
    "else:\n",
    "     bloqueDefault\n",
    "```"
   ]
  },
  {
   "cell_type": "code",
   "execution_count": 0,
   "metadata": {
    "application/vnd.databricks.v1+cell": {
     "cellMetadata": {},
     "inputWidgets": {},
     "nuid": "0fe7a0c6-1cdd-46c7-a522-9f4d06c85421",
     "showTitle": false,
     "tableResultSettingsMap": {},
     "title": ""
    },
    "colab": {
     "base_uri": "https://localhost:8080/",
     "height": 52
    },
    "colab_type": "code",
    "id": "g5pqCZyXreXm",
    "outputId": "0ac105aa-a346-4800-feff-1f0199a3e658"
   },
   "outputs": [
    {
     "data": {
      "text/html": [
       "<style scoped>\n",
       "  .ansiout {\n",
       "    display: block;\n",
       "    unicode-bidi: embed;\n",
       "    white-space: pre-wrap;\n",
       "    word-wrap: break-word;\n",
       "    word-break: break-all;\n",
       "    font-family: \"Menlo\", \"Monaco\", \"Consolas\", \"Ubuntu Mono\", \"Source Code Pro\", monospace;\n",
       "    font-size: 13px;\n",
       "    color: #555;\n",
       "    margin-left: 4px;\n",
       "    line-height: 19px;\n",
       "  }\n",
       "</style>"
      ]
     },
     "metadata": {
      "application/vnd.databricks.v1+output": {
       "arguments": {},
       "data": "",
       "errorSummary": "",
       "errorTraceType": null,
       "metadata": {},
       "type": "ipynbError"
      }
     },
     "output_type": "display_data"
    }
   ],
   "source": [
    "# Determinar el segmento del cliente de acuerdo a la edad del usuario:\n",
    "# 0 - 10 años es el segmento 1, \n",
    "# 11 - 60 años es el segmento 2\n",
    "# mayor a 60 años es el segmento 3\n",
    "\n",
    "edad = 8\n",
    "\n",
    "if edad >= 0 and edad <= 10:\n",
    "  segmento = 1\n",
    "elif edad >= 11 and edad <= 60:\n",
    "  segmento = 2\n",
    "else:\n",
    "  segmento = 3\n",
    "    \n",
    "print('Edad:', edad, 'Segmento:', segmento)"
   ]
  },
  {
   "cell_type": "markdown",
   "metadata": {
    "application/vnd.databricks.v1+cell": {
     "cellMetadata": {},
     "inputWidgets": {},
     "nuid": "70933047-8c8b-49d9-9435-4f7b4205c6c8",
     "showTitle": false,
     "tableResultSettingsMap": {},
     "title": ""
    }
   },
   "source": [
    "### 1.3 Manejo de listas con estructuras condicionales\n",
    "En el siguiente ejemplo, utilizamos el operador **`in`** para crear una expresión booleana en base a los elementos de la lista `amigos`"
   ]
  },
  {
   "cell_type": "code",
   "execution_count": 0,
   "metadata": {
    "application/vnd.databricks.v1+cell": {
     "cellMetadata": {},
     "inputWidgets": {},
     "nuid": "d91973ac-1ae9-43ac-9e78-0e8b987ad754",
     "showTitle": false,
     "tableResultSettingsMap": {},
     "title": ""
    },
    "colab": {},
    "colab_type": "code",
    "id": "OOvuGc0e65xL",
    "outputId": "6821d488-45c6-498b-8315-d57c471f5741"
   },
   "outputs": [
    {
     "data": {
      "text/html": [
       "<style scoped>\n",
       "  .ansiout {\n",
       "    display: block;\n",
       "    unicode-bidi: embed;\n",
       "    white-space: pre-wrap;\n",
       "    word-wrap: break-word;\n",
       "    word-break: break-all;\n",
       "    font-family: \"Menlo\", \"Monaco\", \"Consolas\", \"Ubuntu Mono\", \"Source Code Pro\", monospace;\n",
       "    font-size: 13px;\n",
       "    color: #555;\n",
       "    margin-left: 4px;\n",
       "    line-height: 19px;\n",
       "  }\n",
       "</style>"
      ]
     },
     "metadata": {
      "application/vnd.databricks.v1+output": {
       "arguments": {},
       "data": "",
       "errorSummary": "",
       "errorTraceType": null,
       "metadata": {},
       "type": "ipynbError"
      }
     },
     "output_type": "display_data"
    }
   ],
   "source": [
    "# PERTENENCIA\n",
    "amigos = ['Kan', 'Ely','Pedro', 'Ali', 'Manuela']\n",
    "\n",
    "if 'Ely' in amigos:\n",
    "  print(\"Ely si vendra a la reunion!\")\n",
    "else:\n",
    "  print('No vendrá')"
   ]
  },
  {
   "cell_type": "markdown",
   "metadata": {
    "application/vnd.databricks.v1+cell": {
     "cellMetadata": {},
     "inputWidgets": {},
     "nuid": "2648c8ee-f92c-4c3b-bea5-3d39e7e90d89",
     "showTitle": false,
     "tableResultSettingsMap": {},
     "title": ""
    }
   },
   "source": [
    "> **Ejercicio 1:** Realizar las siguientes ejecuciones de código en base al siguiente enunciado:\n",
    "\n",
    "Categorizar el nivel de ingresos de acuerdo al monto y guardar el resultado de cada evaluación en una nueva variable llamada `nivel`, en base a las siguientes condiciones:\n",
    "- bajo: si los ingresos son menores o iguales a 11 mil anuales\n",
    "- alto: si los ingresos son mayores a 11 mil anuales\n",
    "\n",
    "Finalmente, imprimir las variables `ingresos` y `nivel`"
   ]
  },
  {
   "cell_type": "code",
   "execution_count": 0,
   "metadata": {
    "application/vnd.databricks.v1+cell": {
     "cellMetadata": {},
     "inputWidgets": {},
     "nuid": "e9aa6f41-2bb6-4e02-898b-84ca519219d7",
     "showTitle": false,
     "tableResultSettingsMap": {},
     "title": ""
    }
   },
   "outputs": [
    {
     "data": {
      "text/html": [
       "<style scoped>\n",
       "  .ansiout {\n",
       "    display: block;\n",
       "    unicode-bidi: embed;\n",
       "    white-space: pre-wrap;\n",
       "    word-wrap: break-word;\n",
       "    word-break: break-all;\n",
       "    font-family: \"Menlo\", \"Monaco\", \"Consolas\", \"Ubuntu Mono\", \"Source Code Pro\", monospace;\n",
       "    font-size: 13px;\n",
       "    color: #555;\n",
       "    margin-left: 4px;\n",
       "    line-height: 19px;\n",
       "  }\n",
       "</style>"
      ]
     },
     "metadata": {
      "application/vnd.databricks.v1+output": {
       "arguments": {},
       "data": "",
       "errorSummary": "",
       "errorTraceType": null,
       "metadata": {},
       "type": "ipynbError"
      }
     },
     "output_type": "display_data"
    }
   ],
   "source": [
    "ingresos = 10000\n",
    "\n",
    "#Su código aquí"
   ]
  },
  {
   "cell_type": "code",
   "execution_count": 0,
   "metadata": {
    "application/vnd.databricks.v1+cell": {
     "cellMetadata": {},
     "inputWidgets": {},
     "nuid": "f9874269-ce6d-4dae-91ed-722171f0f59d",
     "showTitle": false,
     "tableResultSettingsMap": {},
     "title": ""
    },
    "jupyter": {
     "source_hidden": true
    }
   },
   "outputs": [
    {
     "data": {
      "text/html": [
       "<style scoped>\n",
       "  .ansiout {\n",
       "    display: block;\n",
       "    unicode-bidi: embed;\n",
       "    white-space: pre-wrap;\n",
       "    word-wrap: break-word;\n",
       "    word-break: break-all;\n",
       "    font-family: \"Menlo\", \"Monaco\", \"Consolas\", \"Ubuntu Mono\", \"Source Code Pro\", monospace;\n",
       "    font-size: 13px;\n",
       "    color: #555;\n",
       "    margin-left: 4px;\n",
       "    line-height: 19px;\n",
       "  }\n",
       "</style>\n",
       "<div class=\"ansiout\">Resultado:\n",
       "10000 bajo\n",
       "</div>"
      ]
     },
     "metadata": {
      "application/vnd.databricks.v1+output": {
       "addedWidgets": {},
       "arguments": {},
       "data": "<div class=\"ansiout\">Resultado:\n10000 bajo\n</div>",
       "datasetInfos": [],
       "metadata": {},
       "removedWidgets": [],
       "type": "html"
      }
     },
     "output_type": "display_data"
    }
   ],
   "source": [
    "ingresos = 10000\n",
    "\n",
    "print('Resultado:')\n",
    "if ingresos <=11000:\n",
    "  nivel = 'bajo'\n",
    "else:\n",
    "  nivel = 'alto'\n",
    "  \n",
    "print(ingresos, nivel)"
   ]
  },
  {
   "cell_type": "markdown",
   "metadata": {
    "application/vnd.databricks.v1+cell": {
     "cellMetadata": {},
     "inputWidgets": {},
     "nuid": "733e2c78-865e-4fc4-ba69-210256f71902",
     "showTitle": false,
     "tableResultSettingsMap": {},
     "title": ""
    },
    "colab_type": "text",
    "id": "xNkLRxBtASgf"
   },
   "source": [
    "## 2. Estructuras de control iterativas\n",
    "\n",
    "* Las estructuras iterativas ejecutan una misma porción de código de manera repetida (bucles).\n",
    "* La iteración es el concepto asociado a cada repetición de las instrucciones de un bucle.\n",
    "\n",
    "### 2.1 Operador `while`   \n",
    "Repite un bloque de instrucciones hasta cumplir una condición especificada por el usuario.\n",
    "* **Requiere inicialización:** Creamos un objeto que controlará la condición de parada del bucle. En este caso es `contador`\n",
    "* El objeto inicializado actualiza su valor en cada iteración\n"
   ]
  },
  {
   "cell_type": "code",
   "execution_count": 0,
   "metadata": {
    "application/vnd.databricks.v1+cell": {
     "cellMetadata": {},
     "inputWidgets": {},
     "nuid": "932f503a-c737-49b8-95f2-69eacc5f3ec0",
     "showTitle": false,
     "tableResultSettingsMap": {},
     "title": ""
    },
    "colab": {},
    "colab_type": "code",
    "id": "VyTiTauguP6J",
    "outputId": "9c4f84b6-e452-4042-9a8e-0ec45d384bbd"
   },
   "outputs": [
    {
     "data": {
      "text/html": [
       "<style scoped>\n",
       "  .ansiout {\n",
       "    display: block;\n",
       "    unicode-bidi: embed;\n",
       "    white-space: pre-wrap;\n",
       "    word-wrap: break-word;\n",
       "    word-break: break-all;\n",
       "    font-family: \"Menlo\", \"Monaco\", \"Consolas\", \"Ubuntu Mono\", \"Source Code Pro\", monospace;\n",
       "    font-size: 13px;\n",
       "    color: #555;\n",
       "    margin-left: 4px;\n",
       "    line-height: 19px;\n",
       "  }\n",
       "</style>"
      ]
     },
     "metadata": {
      "application/vnd.databricks.v1+output": {
       "arguments": {},
       "data": "",
       "errorSummary": "",
       "errorTraceType": null,
       "metadata": {},
       "type": "ipynbError"
      }
     },
     "output_type": "display_data"
    }
   ],
   "source": [
    "# WHILE\n",
    "# Determina que la repetición finaliza cuando el contador llega a ser menor igual a 3\n",
    "# En cada iteración el contador es impreso y se procede a sumarle una unidad\n",
    "\n",
    "contador = 0\n",
    "\n",
    "while contador <= 3:\n",
    "  print(contador)\n",
    "  contador += 1        # contador = contador + 1"
   ]
  },
  {
   "cell_type": "markdown",
   "metadata": {
    "application/vnd.databricks.v1+cell": {
     "cellMetadata": {},
     "inputWidgets": {},
     "nuid": "3faf1d6a-ba74-4568-9835-e214e74f0e9a",
     "showTitle": false,
     "tableResultSettingsMap": {},
     "title": ""
    },
    "colab_type": "text",
    "id": "Ee87SIuozno3"
   },
   "source": [
    "### 2.2 Operador `for`   \n",
    "El operador `for` se diferencia del operador `while` en que el usuario debe especificar explicitamente el número de iteraciones. Para ello, se emplea generalmente la función **`range()`**\n",
    "\n",
    "#### Función range(x):\n",
    "\n",
    "*   **```range (x)```**:\n",
    "    secuencia de valores **enteros** desde 0 hasta x (**excluyente**) con incremento/step de 1.\n",
    "*   **```range (inicio, fin, step)```**: \n",
    "    secuencia de valores **enteros** desde inicio hasta fin (**excluyente**) con incremento del valor de **step**."
   ]
  },
  {
   "cell_type": "code",
   "execution_count": 0,
   "metadata": {
    "application/vnd.databricks.v1+cell": {
     "cellMetadata": {},
     "inputWidgets": {},
     "nuid": "38a695b8-f394-41d1-9630-905f925d8e2c",
     "showTitle": false,
     "tableResultSettingsMap": {},
     "title": ""
    }
   },
   "outputs": [
    {
     "data": {
      "text/html": [
       "<style scoped>\n",
       "  .ansiout {\n",
       "    display: block;\n",
       "    unicode-bidi: embed;\n",
       "    white-space: pre-wrap;\n",
       "    word-wrap: break-word;\n",
       "    word-break: break-all;\n",
       "    font-family: \"Menlo\", \"Monaco\", \"Consolas\", \"Ubuntu Mono\", \"Source Code Pro\", monospace;\n",
       "    font-size: 13px;\n",
       "    color: #555;\n",
       "    margin-left: 4px;\n",
       "    line-height: 19px;\n",
       "  }\n",
       "</style>"
      ]
     },
     "metadata": {
      "application/vnd.databricks.v1+output": {
       "arguments": {},
       "data": "",
       "errorSummary": "",
       "errorTraceType": null,
       "metadata": {},
       "type": "ipynbError"
      }
     },
     "output_type": "display_data"
    }
   ],
   "source": [
    "#Podemos observar el resultado de la función range con la ayuda de una lista\n",
    "list(range(10))"
   ]
  },
  {
   "cell_type": "code",
   "execution_count": 0,
   "metadata": {
    "application/vnd.databricks.v1+cell": {
     "cellMetadata": {},
     "inputWidgets": {},
     "nuid": "788048ef-1159-400a-9624-fd1c14161600",
     "showTitle": false,
     "tableResultSettingsMap": {},
     "title": ""
    }
   },
   "outputs": [
    {
     "data": {
      "text/html": [
       "<style scoped>\n",
       "  .ansiout {\n",
       "    display: block;\n",
       "    unicode-bidi: embed;\n",
       "    white-space: pre-wrap;\n",
       "    word-wrap: break-word;\n",
       "    word-break: break-all;\n",
       "    font-family: \"Menlo\", \"Monaco\", \"Consolas\", \"Ubuntu Mono\", \"Source Code Pro\", monospace;\n",
       "    font-size: 13px;\n",
       "    color: #555;\n",
       "    margin-left: 4px;\n",
       "    line-height: 19px;\n",
       "  }\n",
       "</style>"
      ]
     },
     "metadata": {
      "application/vnd.databricks.v1+output": {
       "arguments": {},
       "data": "",
       "errorSummary": "",
       "errorTraceType": null,
       "metadata": {},
       "type": "ipynbError"
      }
     },
     "output_type": "display_data"
    }
   ],
   "source": [
    "list(range(1,10,2))"
   ]
  },
  {
   "cell_type": "markdown",
   "metadata": {
    "application/vnd.databricks.v1+cell": {
     "cellMetadata": {},
     "inputWidgets": {},
     "nuid": "ee51935d-6201-4953-8a69-140a2d2b6a6e",
     "showTitle": false,
     "tableResultSettingsMap": {},
     "title": ""
    }
   },
   "source": [
    "#### ``for``\n",
    "* El operador `for` crea un objeto **iterador** que sirve de guía dentro del bloque de código. En este caso el iterador se denomina `numero`\n",
    "* El iterador toma los valores de la función `range()`\n"
   ]
  },
  {
   "cell_type": "code",
   "execution_count": 0,
   "metadata": {
    "application/vnd.databricks.v1+cell": {
     "cellMetadata": {},
     "inputWidgets": {},
     "nuid": "1e152419-00cc-4211-9e83-5b67f0a5916d",
     "showTitle": false,
     "tableResultSettingsMap": {},
     "title": ""
    },
    "colab": {},
    "colab_type": "code",
    "id": "a_d_Oz8n1ylu",
    "outputId": "075af69d-cfd0-4cf4-dbf9-966197f80ece"
   },
   "outputs": [
    {
     "data": {
      "text/html": [
       "<style scoped>\n",
       "  .ansiout {\n",
       "    display: block;\n",
       "    unicode-bidi: embed;\n",
       "    white-space: pre-wrap;\n",
       "    word-wrap: break-word;\n",
       "    word-break: break-all;\n",
       "    font-family: \"Menlo\", \"Monaco\", \"Consolas\", \"Ubuntu Mono\", \"Source Code Pro\", monospace;\n",
       "    font-size: 13px;\n",
       "    color: #555;\n",
       "    margin-left: 4px;\n",
       "    line-height: 19px;\n",
       "  }\n",
       "</style>"
      ]
     },
     "metadata": {
      "application/vnd.databricks.v1+output": {
       "arguments": {},
       "data": "",
       "errorSummary": "",
       "errorTraceType": null,
       "metadata": {},
       "type": "ipynbError"
      }
     },
     "output_type": "display_data"
    }
   ],
   "source": [
    "for i in range(1,17,5):\n",
    "  print('Python #', i)"
   ]
  },
  {
   "cell_type": "markdown",
   "metadata": {
    "application/vnd.databricks.v1+cell": {
     "cellMetadata": {},
     "inputWidgets": {},
     "nuid": "0666012c-647a-4f7e-8a14-70f358abc067",
     "showTitle": false,
     "tableResultSettingsMap": {},
     "title": ""
    }
   },
   "source": [
    "#### Manejo de listas con estructuras de control iterativas\n",
    "Podemos iterar utilizando cada elemento de una lista"
   ]
  },
  {
   "cell_type": "code",
   "execution_count": 0,
   "metadata": {
    "application/vnd.databricks.v1+cell": {
     "cellMetadata": {},
     "inputWidgets": {},
     "nuid": "b2d34a8e-88fd-492a-b0fc-ec7deca2fecc",
     "showTitle": false,
     "tableResultSettingsMap": {},
     "title": ""
    },
    "colab": {},
    "colab_type": "code",
    "id": "2McueTJqCW-3",
    "outputId": "6188a6a3-a660-4571-912a-86e3a56a453e"
   },
   "outputs": [
    {
     "data": {
      "text/html": [
       "<style scoped>\n",
       "  .ansiout {\n",
       "    display: block;\n",
       "    unicode-bidi: embed;\n",
       "    white-space: pre-wrap;\n",
       "    word-wrap: break-word;\n",
       "    word-break: break-all;\n",
       "    font-family: \"Menlo\", \"Monaco\", \"Consolas\", \"Ubuntu Mono\", \"Source Code Pro\", monospace;\n",
       "    font-size: 13px;\n",
       "    color: #555;\n",
       "    margin-left: 4px;\n",
       "    line-height: 19px;\n",
       "  }\n",
       "</style>"
      ]
     },
     "metadata": {
      "application/vnd.databricks.v1+output": {
       "arguments": {},
       "data": "",
       "errorSummary": "",
       "errorTraceType": null,
       "metadata": {},
       "type": "ipynbError"
      }
     },
     "output_type": "display_data"
    }
   ],
   "source": [
    "#Cuadrado de elementos de una lista (numérica)\n",
    "L = [2, 3, 4, 5]\n",
    "\n",
    "for i in L:\n",
    "  print(i*i)"
   ]
  },
  {
   "cell_type": "markdown",
   "metadata": {
    "application/vnd.databricks.v1+cell": {
     "cellMetadata": {},
     "inputWidgets": {},
     "nuid": "2ec20f5c-a0e0-4645-a3c9-ddf0e4650a6b",
     "showTitle": false,
     "tableResultSettingsMap": {},
     "title": ""
    }
   },
   "source": [
    "#### Iterar con listas por comprensión\n",
    "De forma alternativa, se emplean las **listas por comprensión** para realizar operaciones sobre los elementos de una lista\n",
    "* Mejora la legibilidad de nuestro código\n",
    "* Las órdenes de la lista por comprensión deben estar entre corchetes `[  ]`\n",
    "\n",
    "**Pasos**\n",
    "1. Especificamos la operación a realizar sobre los elementos de la lista referenciados por medio del iterador ``i``\n",
    "2. Referenciar el iterador a la lista: `i in L`"
   ]
  },
  {
   "cell_type": "code",
   "execution_count": 0,
   "metadata": {
    "application/vnd.databricks.v1+cell": {
     "cellMetadata": {},
     "inputWidgets": {},
     "nuid": "e9f2cca1-e70e-4f59-af35-d16e51625237",
     "showTitle": false,
     "tableResultSettingsMap": {},
     "title": ""
    }
   },
   "outputs": [
    {
     "data": {
      "text/html": [
       "<style scoped>\n",
       "  .ansiout {\n",
       "    display: block;\n",
       "    unicode-bidi: embed;\n",
       "    white-space: pre-wrap;\n",
       "    word-wrap: break-word;\n",
       "    word-break: break-all;\n",
       "    font-family: \"Menlo\", \"Monaco\", \"Consolas\", \"Ubuntu Mono\", \"Source Code Pro\", monospace;\n",
       "    font-size: 13px;\n",
       "    color: #555;\n",
       "    margin-left: 4px;\n",
       "    line-height: 19px;\n",
       "  }\n",
       "</style>"
      ]
     },
     "metadata": {
      "application/vnd.databricks.v1+output": {
       "arguments": {},
       "data": "",
       "errorSummary": "",
       "errorTraceType": null,
       "metadata": {},
       "type": "ipynbError"
      }
     },
     "output_type": "display_data"
    }
   ],
   "source": [
    "print(L)"
   ]
  },
  {
   "cell_type": "code",
   "execution_count": 0,
   "metadata": {
    "application/vnd.databricks.v1+cell": {
     "cellMetadata": {},
     "inputWidgets": {},
     "nuid": "66998bb0-f82e-4345-9d67-638aff1d64b9",
     "showTitle": false,
     "tableResultSettingsMap": {},
     "title": ""
    }
   },
   "outputs": [
    {
     "data": {
      "text/html": [
       "<style scoped>\n",
       "  .ansiout {\n",
       "    display: block;\n",
       "    unicode-bidi: embed;\n",
       "    white-space: pre-wrap;\n",
       "    word-wrap: break-word;\n",
       "    word-break: break-all;\n",
       "    font-family: \"Menlo\", \"Monaco\", \"Consolas\", \"Ubuntu Mono\", \"Source Code Pro\", monospace;\n",
       "    font-size: 13px;\n",
       "    color: #555;\n",
       "    margin-left: 4px;\n",
       "    line-height: 19px;\n",
       "  }\n",
       "</style>"
      ]
     },
     "metadata": {
      "application/vnd.databricks.v1+output": {
       "arguments": {},
       "data": "",
       "errorSummary": "",
       "errorTraceType": null,
       "metadata": {},
       "type": "ipynbError"
      }
     },
     "output_type": "display_data"
    }
   ],
   "source": [
    "#Cuadrado de los elementos de una lista con Listas por comprensión\n",
    "[i*i for i in L]"
   ]
  },
  {
   "cell_type": "markdown",
   "metadata": {
    "application/vnd.databricks.v1+cell": {
     "cellMetadata": {},
     "inputWidgets": {},
     "nuid": "9b164048-bce1-497f-859b-543ba2a9b94e",
     "showTitle": false,
     "tableResultSettingsMap": {},
     "title": ""
    }
   },
   "source": [
    "Adicionalmente, se puede añadir condiciones para que la operación se realice solo sobre algunos elementos de la lista\n",
    "* Utilizamos el operador ``if`` para especificar a qué elementos de la lista `L` se aplicara la operación"
   ]
  },
  {
   "cell_type": "code",
   "execution_count": 0,
   "metadata": {
    "application/vnd.databricks.v1+cell": {
     "cellMetadata": {},
     "inputWidgets": {},
     "nuid": "813108b3-73ce-46a1-8409-a986fb5d39c1",
     "showTitle": false,
     "tableResultSettingsMap": {},
     "title": ""
    }
   },
   "outputs": [
    {
     "data": {
      "text/html": [
       "<style scoped>\n",
       "  .ansiout {\n",
       "    display: block;\n",
       "    unicode-bidi: embed;\n",
       "    white-space: pre-wrap;\n",
       "    word-wrap: break-word;\n",
       "    word-break: break-all;\n",
       "    font-family: \"Menlo\", \"Monaco\", \"Consolas\", \"Ubuntu Mono\", \"Source Code Pro\", monospace;\n",
       "    font-size: 13px;\n",
       "    color: #555;\n",
       "    margin-left: 4px;\n",
       "    line-height: 19px;\n",
       "  }\n",
       "</style>"
      ]
     },
     "metadata": {
      "application/vnd.databricks.v1+output": {
       "arguments": {},
       "data": "",
       "errorSummary": "",
       "errorTraceType": null,
       "metadata": {},
       "type": "ipynbError"
      }
     },
     "output_type": "display_data"
    }
   ],
   "source": [
    "[i*i for i in L if i>3]"
   ]
  },
  {
   "cell_type": "markdown",
   "metadata": {
    "application/vnd.databricks.v1+cell": {
     "cellMetadata": {},
     "inputWidgets": {},
     "nuid": "dd3d275b-4534-4205-8a99-1a5b3c581b73",
     "showTitle": false,
     "tableResultSettingsMap": {},
     "title": ""
    }
   },
   "source": [
    "Si es necesario evaluar más condiciones:\n",
    "* Cambiamos la posición del operador `if`\n",
    "* Añadimos el operador `else` acompañado de la acción a realizar\n"
   ]
  },
  {
   "cell_type": "code",
   "execution_count": 0,
   "metadata": {
    "application/vnd.databricks.v1+cell": {
     "cellMetadata": {},
     "inputWidgets": {},
     "nuid": "0a619d26-1e10-4c08-b0c4-b6e34cfb84bd",
     "showTitle": false,
     "tableResultSettingsMap": {},
     "title": ""
    }
   },
   "outputs": [
    {
     "data": {
      "text/html": [
       "<style scoped>\n",
       "  .ansiout {\n",
       "    display: block;\n",
       "    unicode-bidi: embed;\n",
       "    white-space: pre-wrap;\n",
       "    word-wrap: break-word;\n",
       "    word-break: break-all;\n",
       "    font-family: \"Menlo\", \"Monaco\", \"Consolas\", \"Ubuntu Mono\", \"Source Code Pro\", monospace;\n",
       "    font-size: 13px;\n",
       "    color: #555;\n",
       "    margin-left: 4px;\n",
       "    line-height: 19px;\n",
       "  }\n",
       "</style>"
      ]
     },
     "metadata": {
      "application/vnd.databricks.v1+output": {
       "arguments": {},
       "data": "",
       "errorSummary": "",
       "errorTraceType": null,
       "metadata": {},
       "type": "ipynbError"
      }
     },
     "output_type": "display_data"
    }
   ],
   "source": [
    "print(L)\n",
    "print([i*i if i>3 else 0 for i in L])"
   ]
  },
  {
   "cell_type": "markdown",
   "metadata": {
    "application/vnd.databricks.v1+cell": {
     "cellMetadata": {},
     "inputWidgets": {},
     "nuid": "5d679c6b-61fe-4e51-85de-dfe8c2cce39d",
     "showTitle": false,
     "tableResultSettingsMap": {},
     "title": ""
    }
   },
   "source": [
    ">**Ejercicio 2:** \n",
    "\n",
    "Crear una lista por comprensión llamada `enteros` en un rango de valores del 0 al 99, si los elementos en el listado son divisibles para 5. Finalmente imprimir el listado."
   ]
  },
  {
   "cell_type": "code",
   "execution_count": 0,
   "metadata": {
    "application/vnd.databricks.v1+cell": {
     "cellMetadata": {},
     "inputWidgets": {},
     "nuid": "310eb75c-fe58-43f2-8518-ce14cae4dd6a",
     "showTitle": false,
     "tableResultSettingsMap": {},
     "title": ""
    }
   },
   "outputs": [
    {
     "data": {
      "text/html": [
       "<style scoped>\n",
       "  .ansiout {\n",
       "    display: block;\n",
       "    unicode-bidi: embed;\n",
       "    white-space: pre-wrap;\n",
       "    word-wrap: break-word;\n",
       "    word-break: break-all;\n",
       "    font-family: \"Menlo\", \"Monaco\", \"Consolas\", \"Ubuntu Mono\", \"Source Code Pro\", monospace;\n",
       "    font-size: 13px;\n",
       "    color: #555;\n",
       "    margin-left: 4px;\n",
       "    line-height: 19px;\n",
       "  }\n",
       "</style>"
      ]
     },
     "metadata": {
      "application/vnd.databricks.v1+output": {
       "arguments": {},
       "data": "",
       "errorSummary": "",
       "errorTraceType": null,
       "metadata": {},
       "type": "ipynbError"
      }
     },
     "output_type": "display_data"
    }
   ],
   "source": [
    "#Su código aquí"
   ]
  },
  {
   "cell_type": "code",
   "execution_count": 0,
   "metadata": {
    "application/vnd.databricks.v1+cell": {
     "cellMetadata": {},
     "inputWidgets": {},
     "nuid": "8ae26177-6671-4f96-8bb5-b6d76ad14ab5",
     "showTitle": false,
     "tableResultSettingsMap": {},
     "title": ""
    },
    "jupyter": {
     "source_hidden": true
    }
   },
   "outputs": [
    {
     "data": {
      "text/html": [
       "<style scoped>\n",
       "  .ansiout {\n",
       "    display: block;\n",
       "    unicode-bidi: embed;\n",
       "    white-space: pre-wrap;\n",
       "    word-wrap: break-word;\n",
       "    word-break: break-all;\n",
       "    font-family: \"Menlo\", \"Monaco\", \"Consolas\", \"Ubuntu Mono\", \"Source Code Pro\", monospace;\n",
       "    font-size: 13px;\n",
       "    color: #555;\n",
       "    margin-left: 4px;\n",
       "    line-height: 19px;\n",
       "  }\n",
       "</style>\n",
       "<div class=\"ansiout\">Resultado:\n",
       "[0, 5, 10, 15, 20, 25, 30, 35, 40, 45, 50, 55, 60, 65, 70, 75, 80, 85, 90, 95]\n",
       "</div>"
      ]
     },
     "metadata": {
      "application/vnd.databricks.v1+output": {
       "addedWidgets": {},
       "arguments": {},
       "data": "<div class=\"ansiout\">Resultado:\n[0, 5, 10, 15, 20, 25, 30, 35, 40, 45, 50, 55, 60, 65, 70, 75, 80, 85, 90, 95]\n</div>",
       "datasetInfos": [],
       "metadata": {},
       "removedWidgets": [],
       "type": "html"
      }
     },
     "output_type": "display_data"
    }
   ],
   "source": [
    "print('Resultado:')\n",
    "enteros = [valor for valor in range(0, 100) if valor % 5 == 0]\n",
    "print(enteros)"
   ]
  },
  {
   "cell_type": "markdown",
   "metadata": {
    "application/vnd.databricks.v1+cell": {
     "cellMetadata": {},
     "inputWidgets": {},
     "nuid": "600545fd-1dc9-4f7b-abbb-19d4e2213aab",
     "showTitle": false,
     "tableResultSettingsMap": {},
     "title": ""
    },
    "colab_type": "text",
    "collapsed": true,
    "id": "3pT4pwNhla-_"
   },
   "source": [
    "## 3. Funciones y parámetros\n",
    "\n",
    "Una *función* es un bloque de código reutilizable que realiza una tarea específica. Las funciones están siempre presentes en Python, ya sea por sí mismas o en objetos.\n",
    "\n",
    "Hemos visto funciones y métodos Python incorporados. Por ejemplo, `len` y` print` son funciones nativas de Python. \n",
    "\n",
    "### 3.1 Métodos\n",
    "\n",
    "Una función que pertenece a un objeto se llama *método*. Un ejemplo de esto es `append` en una lista **existente**. En otras palabras, un *método* es una función en una **instancia** de un tipo de objeto (también llamado **clase**, aquí el tipo de lista)."
   ]
  },
  {
   "cell_type": "code",
   "execution_count": 0,
   "metadata": {
    "application/vnd.databricks.v1+cell": {
     "cellMetadata": {},
     "inputWidgets": {},
     "nuid": "b95c76d1-b4f1-4f10-b7d1-86325205b37b",
     "showTitle": false,
     "tableResultSettingsMap": {},
     "title": ""
    }
   },
   "outputs": [
    {
     "data": {
      "text/html": [
       "<style scoped>\n",
       "  .ansiout {\n",
       "    display: block;\n",
       "    unicode-bidi: embed;\n",
       "    white-space: pre-wrap;\n",
       "    word-wrap: break-word;\n",
       "    word-break: break-all;\n",
       "    font-family: \"Menlo\", \"Monaco\", \"Consolas\", \"Ubuntu Mono\", \"Source Code Pro\", monospace;\n",
       "    font-size: 13px;\n",
       "    color: #555;\n",
       "    margin-left: 4px;\n",
       "    line-height: 19px;\n",
       "  }\n",
       "</style>"
      ]
     },
     "metadata": {
      "application/vnd.databricks.v1+output": {
       "arguments": {},
       "data": "",
       "errorSummary": "",
       "errorTraceType": null,
       "metadata": {},
       "type": "ipynbError"
      }
     },
     "output_type": "display_data"
    }
   ],
   "source": [
    "numeros_flotantes = [2.45, 0.4, 0.345]\n",
    "numeros_flotantes.append(56.7) \n",
    "numeros_flotantes"
   ]
  },
  {
   "cell_type": "markdown",
   "metadata": {
    "application/vnd.databricks.v1+cell": {
     "cellMetadata": {},
     "inputWidgets": {},
     "nuid": "6905a0e2-e68a-4cdd-a946-b9b0826e5482",
     "showTitle": false,
     "tableResultSettingsMap": {},
     "title": ""
    }
   },
   "source": [
    "### 3.2 Funciones definidas por el usuario\n",
    "\n",
    "Ahora aprenderemos a escribir nuestras propias funciones (funciones definidas por el usuario). \n",
    "\n",
    "A continuación se muestra la sintaxis para definir una función básica con un parámetro de entrada y uno salida. \n",
    "\n",
    "**Importante:** También se puede definir funciones sin parámetros de entrada o salida, o múltiples parámetros de entrada o salida.\n",
    "\n",
    "```python \n",
    "def nombre_de_la_funcion(parametros):\n",
    "    ''' Opcional: Descripción de la función '''\n",
    "    Bloque de órdenes\n",
    "    return(output)\n",
    "```\n",
    "\n",
    "Cuando se llama a la función, los valores que se evalúan se denominan argumentos."
   ]
  },
  {
   "cell_type": "code",
   "execution_count": 0,
   "metadata": {
    "application/vnd.databricks.v1+cell": {
     "cellMetadata": {},
     "inputWidgets": {},
     "nuid": "063b183e-2987-464f-8adc-da8322e87edb",
     "showTitle": false,
     "tableResultSettingsMap": {},
     "title": ""
    }
   },
   "outputs": [
    {
     "data": {
      "text/html": [
       "<style scoped>\n",
       "  .ansiout {\n",
       "    display: block;\n",
       "    unicode-bidi: embed;\n",
       "    white-space: pre-wrap;\n",
       "    word-wrap: break-word;\n",
       "    word-break: break-all;\n",
       "    font-family: \"Menlo\", \"Monaco\", \"Consolas\", \"Ubuntu Mono\", \"Source Code Pro\", monospace;\n",
       "    font-size: 13px;\n",
       "    color: #555;\n",
       "    margin-left: 4px;\n",
       "    line-height: 19px;\n",
       "  }\n",
       "</style>"
      ]
     },
     "metadata": {
      "application/vnd.databricks.v1+output": {
       "arguments": {},
       "data": "",
       "errorSummary": "",
       "errorTraceType": null,
       "metadata": {},
       "type": "ipynbError"
      }
     },
     "output_type": "display_data"
    }
   ],
   "source": [
    "# Función sin parámetros de entrada y uno de salida\n",
    "def bienvenida():\n",
    "  print(\"Hola, Bienvenidos al curso de Python!\")\n",
    "\n",
    "# Evaluamos la función\n",
    "bienvenida()"
   ]
  },
  {
   "cell_type": "code",
   "execution_count": 0,
   "metadata": {
    "application/vnd.databricks.v1+cell": {
     "cellMetadata": {},
     "inputWidgets": {},
     "nuid": "6e2ecf13-bd61-44eb-9b4f-e13455619591",
     "showTitle": false,
     "tableResultSettingsMap": {},
     "title": ""
    }
   },
   "outputs": [
    {
     "data": {
      "text/html": [
       "<style scoped>\n",
       "  .ansiout {\n",
       "    display: block;\n",
       "    unicode-bidi: embed;\n",
       "    white-space: pre-wrap;\n",
       "    word-wrap: break-word;\n",
       "    word-break: break-all;\n",
       "    font-family: \"Menlo\", \"Monaco\", \"Consolas\", \"Ubuntu Mono\", \"Source Code Pro\", monospace;\n",
       "    font-size: 13px;\n",
       "    color: #555;\n",
       "    margin-left: 4px;\n",
       "    line-height: 19px;\n",
       "  }\n",
       "</style>"
      ]
     },
     "metadata": {
      "application/vnd.databricks.v1+output": {
       "arguments": {},
       "data": "",
       "errorSummary": "",
       "errorTraceType": null,
       "metadata": {},
       "type": "ipynbError"
      }
     },
     "output_type": "display_data"
    }
   ],
   "source": [
    "# Función con un parámetro de entrada y uno de salida\n",
    "def elevado_al_cuadrado(x):\n",
    "  x_cuadrado = x*x\n",
    "  return(x_cuadrado)\n",
    "\n",
    "# Evaluamos la función\n",
    "print(elevado_al_cuadrado(7))"
   ]
  },
  {
   "cell_type": "code",
   "execution_count": 0,
   "metadata": {
    "application/vnd.databricks.v1+cell": {
     "cellMetadata": {},
     "inputWidgets": {},
     "nuid": "95f6eb82-c88b-456b-84e2-dc4d76349fe3",
     "showTitle": false,
     "tableResultSettingsMap": {},
     "title": ""
    }
   },
   "outputs": [
    {
     "data": {
      "text/html": [
       "<style scoped>\n",
       "  .ansiout {\n",
       "    display: block;\n",
       "    unicode-bidi: embed;\n",
       "    white-space: pre-wrap;\n",
       "    word-wrap: break-word;\n",
       "    word-break: break-all;\n",
       "    font-family: \"Menlo\", \"Monaco\", \"Consolas\", \"Ubuntu Mono\", \"Source Code Pro\", monospace;\n",
       "    font-size: 13px;\n",
       "    color: #555;\n",
       "    margin-left: 4px;\n",
       "    line-height: 19px;\n",
       "  }\n",
       "</style>"
      ]
     },
     "metadata": {
      "application/vnd.databricks.v1+output": {
       "arguments": {},
       "data": "",
       "errorSummary": "",
       "errorTraceType": null,
       "metadata": {},
       "type": "ipynbError"
      }
     },
     "output_type": "display_data"
    }
   ],
   "source": [
    "# Función con un parámetro de entrada y dos de salida\n",
    "def elevado_al_cubo(x):\n",
    "  x_cubo = x*x*x\n",
    "  return(x, x_cubo)\n",
    "\n",
    "# Evaluamos la función\n",
    "print(elevado_al_cubo(5))"
   ]
  },
  {
   "cell_type": "markdown",
   "metadata": {
    "application/vnd.databricks.v1+cell": {
     "cellMetadata": {},
     "inputWidgets": {},
     "nuid": "98e88ce5-bb0c-4b87-9a62-fe6315a1d683",
     "showTitle": false,
     "tableResultSettingsMap": {},
     "title": ""
    }
   },
   "source": [
    "### 3.3 Funciones Lambda\n",
    "\n",
    "A menudo definimos una función matemática con una función rápida de una línea llamada **lambda**. No se necesita una declaración de devolución."
   ]
  },
  {
   "cell_type": "code",
   "execution_count": 0,
   "metadata": {
    "application/vnd.databricks.v1+cell": {
     "cellMetadata": {},
     "inputWidgets": {},
     "nuid": "d5da9675-b874-47ef-a7a8-e66eea97e6bd",
     "showTitle": false,
     "tableResultSettingsMap": {},
     "title": ""
    }
   },
   "outputs": [
    {
     "data": {
      "text/html": [
       "<style scoped>\n",
       "  .ansiout {\n",
       "    display: block;\n",
       "    unicode-bidi: embed;\n",
       "    white-space: pre-wrap;\n",
       "    word-wrap: break-word;\n",
       "    word-break: break-all;\n",
       "    font-family: \"Menlo\", \"Monaco\", \"Consolas\", \"Ubuntu Mono\", \"Source Code Pro\", monospace;\n",
       "    font-size: 13px;\n",
       "    color: #555;\n",
       "    margin-left: 4px;\n",
       "    line-height: 19px;\n",
       "  }\n",
       "</style>"
      ]
     },
     "metadata": {
      "application/vnd.databricks.v1+output": {
       "arguments": {},
       "data": "",
       "errorSummary": "",
       "errorTraceType": null,
       "metadata": {},
       "type": "ipynbError"
      }
     },
     "output_type": "display_data"
    }
   ],
   "source": [
    "elevado_al_cuadrado = lambda x: x*x\n",
    "print(elevado_al_cuadrado(3))"
   ]
  },
  {
   "cell_type": "markdown",
   "metadata": {
    "application/vnd.databricks.v1+cell": {
     "cellMetadata": {},
     "inputWidgets": {},
     "nuid": "95918245-8827-4422-bd5b-ab7c7992b372",
     "showTitle": false,
     "tableResultSettingsMap": {},
     "title": ""
    }
   },
   "source": [
    "> **Ejercicio 3**: \n",
    "\n",
    "1. Crear una función lambda llamada `impuesto` que tome como parámetro un valor numérico y aplique las siguientes acciones:\n",
    " - Multiplicar el parámetro (valor) por el 12%\n",
    " - Devolver el valor original más el impuesto\n",
    "2. Finalmente, evalue la función con el número 100"
   ]
  },
  {
   "cell_type": "code",
   "execution_count": 0,
   "metadata": {
    "application/vnd.databricks.v1+cell": {
     "cellMetadata": {},
     "inputWidgets": {},
     "nuid": "5b82dff0-42eb-41f9-8f71-f48ffc864606",
     "showTitle": false,
     "tableResultSettingsMap": {},
     "title": ""
    }
   },
   "outputs": [
    {
     "data": {
      "text/html": [
       "<style scoped>\n",
       "  .ansiout {\n",
       "    display: block;\n",
       "    unicode-bidi: embed;\n",
       "    white-space: pre-wrap;\n",
       "    word-wrap: break-word;\n",
       "    word-break: break-all;\n",
       "    font-family: \"Menlo\", \"Monaco\", \"Consolas\", \"Ubuntu Mono\", \"Source Code Pro\", monospace;\n",
       "    font-size: 13px;\n",
       "    color: #555;\n",
       "    margin-left: 4px;\n",
       "    line-height: 19px;\n",
       "  }\n",
       "</style>"
      ]
     },
     "metadata": {
      "application/vnd.databricks.v1+output": {
       "arguments": {},
       "data": "",
       "errorSummary": "",
       "errorTraceType": null,
       "metadata": {},
       "type": "ipynbError"
      }
     },
     "output_type": "display_data"
    }
   ],
   "source": [
    "# Su código aquí\n"
   ]
  },
  {
   "cell_type": "code",
   "execution_count": 0,
   "metadata": {
    "application/vnd.databricks.v1+cell": {
     "cellMetadata": {},
     "inputWidgets": {},
     "nuid": "3b6386da-8d96-4d64-ba30-9cb9219b15e7",
     "showTitle": false,
     "tableResultSettingsMap": {},
     "title": ""
    },
    "jupyter": {
     "source_hidden": true
    }
   },
   "outputs": [
    {
     "data": {
      "text/html": [
       "<style scoped>\n",
       "  .ansiout {\n",
       "    display: block;\n",
       "    unicode-bidi: embed;\n",
       "    white-space: pre-wrap;\n",
       "    word-wrap: break-word;\n",
       "    word-break: break-all;\n",
       "    font-family: \"Menlo\", \"Monaco\", \"Consolas\", \"Ubuntu Mono\", \"Source Code Pro\", monospace;\n",
       "    font-size: 13px;\n",
       "    color: #555;\n",
       "    margin-left: 4px;\n",
       "    line-height: 19px;\n",
       "  }\n",
       "</style>\n",
       "<div class=\"ansiout\">Resultado:\n",
       "112\n",
       "</div>"
      ]
     },
     "metadata": {
      "application/vnd.databricks.v1+output": {
       "addedWidgets": {},
       "arguments": {},
       "data": "<div class=\"ansiout\">Resultado:\n112\n</div>",
       "datasetInfos": [],
       "metadata": {},
       "removedWidgets": [],
       "type": "html"
      }
     },
     "output_type": "display_data"
    }
   ],
   "source": [
    "print('Resultado:')\n",
    "impuesto = lambda valor: int(valor * (1+0.12))\n",
    "\n",
    "print(impuesto(100))"
   ]
  }
 ],
 "metadata": {
  "application/vnd.databricks.v1+notebook": {
   "computePreferences": null,
   "dashboards": [],
   "environmentMetadata": null,
   "inputWidgetPreferences": null,
   "language": "python",
   "notebookMetadata": {
    "pythonIndentUnit": 2
   },
   "notebookName": "02 Python - Estructuras de control y funciones",
   "widgets": {}
  },
  "colab": {
   "collapsed_sections": [],
   "name": "IntroPython_1.ipynb",
   "provenance": [],
   "version": "0.3.2"
  },
  "kernelspec": {
   "display_name": "Python 3",
   "language": "python",
   "name": "python3"
  },
  "language_info": {
   "name": "python"
  },
  "name": "02 Estructuras de control y funciones",
  "notebookId": 1635544535932862
 },
 "nbformat": 4,
 "nbformat_minor": 0
}
